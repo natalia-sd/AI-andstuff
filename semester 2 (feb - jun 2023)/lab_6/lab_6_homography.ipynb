{
 "cells": [
  {
   "cell_type": "markdown",
   "id": "481c6af6",
   "metadata": {},
   "source": [
    "# LAB 6: Homography\n",
    "### AI and Machine Learning // Suchkova Natalia М8О - 114М - 22\n",
    "01.06.23 @ MAI IT-Center"
   ]
  },
  {
   "cell_type": "markdown",
   "id": "5ec1cfb1",
   "metadata": {},
   "source": [
    "### The Task\n",
    "1. Изучить и использовать код по гомографиям\n",
    "2. Сделать панараму больше чем на 2-х снимках\n",
    "3. Взять код который занимается триангуляцией на основе афинной гомографии, \n",
    "4. Придумать и реализовать метод автоматического триангулирования (по ключивым точкам лица с помощью нейросети, взять шар и по окружности триангулировать) и приминить для своей фотографии."
   ]
  },
  {
   "cell_type": "code",
   "execution_count": null,
   "id": "40308656",
   "metadata": {},
   "outputs": [],
   "source": []
  },
  {
   "cell_type": "code",
   "execution_count": null,
   "id": "0f465c48",
   "metadata": {},
   "outputs": [],
   "source": []
  },
  {
   "cell_type": "code",
   "execution_count": null,
   "id": "7e26a800",
   "metadata": {},
   "outputs": [],
   "source": []
  }
 ],
 "metadata": {
  "kernelspec": {
   "display_name": "Python 3 (ipykernel)",
   "language": "python",
   "name": "python3"
  },
  "language_info": {
   "codemirror_mode": {
    "name": "ipython",
    "version": 3
   },
   "file_extension": ".py",
   "mimetype": "text/x-python",
   "name": "python",
   "nbconvert_exporter": "python",
   "pygments_lexer": "ipython3",
   "version": "3.7.4"
  }
 },
 "nbformat": 4,
 "nbformat_minor": 5
}
