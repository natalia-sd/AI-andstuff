{
 "cells": [
  {
   "cell_type": "code",
   "execution_count": 1,
   "id": "0860e7ff",
   "metadata": {},
   "outputs": [
    {
     "name": "stdout",
     "output_type": "stream",
     "text": [
      "Collecting optuna\n",
      "  Downloading optuna-3.0.3-py3-none-any.whl (348 kB)\n",
      "Collecting sqlalchemy>=1.3.0\n",
      "  Downloading SQLAlchemy-1.4.42-cp37-cp37m-win_amd64.whl (1.6 MB)\n",
      "Requirement already satisfied: packaging>=20.0 in c:\\programdata\\anaconda3\\lib\\site-packages (from optuna) (21.3)\n",
      "Requirement already satisfied: importlib-metadata<5.0.0 in c:\\programdata\\anaconda3\\lib\\site-packages (from optuna) (4.8.1)\n",
      "Collecting alembic>=1.5.0\n",
      "  Downloading alembic-1.8.1-py3-none-any.whl (209 kB)\n",
      "Note: you may need to restart the kernel to use updated packages.Collecting cliff\n",
      "  Downloading cliff-3.10.1-py3-none-any.whl (81 kB)\n",
      "\n",
      "Requirement already satisfied: numpy in c:\\programdata\\anaconda3\\lib\\site-packages (from optuna) (1.21.4)\n",
      "Requirement already satisfied: tqdm in c:\\programdata\\anaconda3\\lib\\site-packages (from optuna) (4.62.3)\n",
      "Collecting cmaes>=0.8.2\n",
      "  Downloading cmaes-0.8.2-py3-none-any.whl (15 kB)\n",
      "Collecting colorlog"
     ]
    },
    {
     "name": "stderr",
     "output_type": "stream",
     "text": [
      "WARNING: Ignoring invalid distribution -ytz (c:\\programdata\\anaconda3\\lib\\site-packages)\n",
      "WARNING: Ignoring invalid distribution -umpy (c:\\programdata\\anaconda3\\lib\\site-packages)\n",
      "WARNING: Ignoring invalid distribution -lotly (c:\\programdata\\anaconda3\\lib\\site-packages)\n",
      "WARNING: Ignoring invalid distribution - (c:\\programdata\\anaconda3\\lib\\site-packages)\n",
      "WARNING: Ignoring invalid distribution -eautifulsoup4 (c:\\programdata\\anaconda3\\lib\\site-packages)\n",
      "WARNING: Ignoring invalid distribution -eaborn (c:\\programdata\\anaconda3\\lib\\site-packages)\n",
      "WARNING: Ignoring invalid distribution -ytz (c:\\programdata\\anaconda3\\lib\\site-packages)\n",
      "WARNING: Ignoring invalid distribution -umpy (c:\\programdata\\anaconda3\\lib\\site-packages)\n",
      "WARNING: Ignoring invalid distribution -lotly (c:\\programdata\\anaconda3\\lib\\site-packages)\n",
      "WARNING: Ignoring invalid distribution - (c:\\programdata\\anaconda3\\lib\\site-packages)\n",
      "WARNING: Ignoring invalid distribution -eautifulsoup4 (c:\\programdata\\anaconda3\\lib\\site-packages)\n",
      "WARNING: Ignoring invalid distribution -eaborn (c:\\programdata\\anaconda3\\lib\\site-packages)\n",
      "WARNING: Ignoring invalid distribution -ytz (c:\\programdata\\anaconda3\\lib\\site-packages)\n",
      "WARNING: Ignoring invalid distribution -umpy (c:\\programdata\\anaconda3\\lib\\site-packages)\n",
      "WARNING: Ignoring invalid distribution -lotly (c:\\programdata\\anaconda3\\lib\\site-packages)\n",
      "WARNING: Ignoring invalid distribution - (c:\\programdata\\anaconda3\\lib\\site-packages)\n",
      "WARNING: Ignoring invalid distribution -eautifulsoup4 (c:\\programdata\\anaconda3\\lib\\site-packages)\n",
      "WARNING: Ignoring invalid distribution -eaborn (c:\\programdata\\anaconda3\\lib\\site-packages)\n",
      "WARNING: Ignoring invalid distribution -ytz (c:\\programdata\\anaconda3\\lib\\site-packages)\n",
      "WARNING: Ignoring invalid distribution -umpy (c:\\programdata\\anaconda3\\lib\\site-packages)\n",
      "WARNING: Ignoring invalid distribution -lotly (c:\\programdata\\anaconda3\\lib\\site-packages)\n",
      "WARNING: Ignoring invalid distribution - (c:\\programdata\\anaconda3\\lib\\site-packages)\n",
      "WARNING: Ignoring invalid distribution -eautifulsoup4 (c:\\programdata\\anaconda3\\lib\\site-packages)\n",
      "WARNING: Ignoring invalid distribution -eaborn (c:\\programdata\\anaconda3\\lib\\site-packages)\n",
      "WARNING: Ignoring invalid distribution -ytz (c:\\programdata\\anaconda3\\lib\\site-packages)\n",
      "WARNING: Ignoring invalid distribution -umpy (c:\\programdata\\anaconda3\\lib\\site-packages)\n",
      "WARNING: Ignoring invalid distribution -lotly (c:\\programdata\\anaconda3\\lib\\site-packages)\n",
      "WARNING: Ignoring invalid distribution - (c:\\programdata\\anaconda3\\lib\\site-packages)\n",
      "WARNING: Ignoring invalid distribution -eautifulsoup4 (c:\\programdata\\anaconda3\\lib\\site-packages)\n",
      "WARNING: Ignoring invalid distribution -eaborn (c:\\programdata\\anaconda3\\lib\\site-packages)\n",
      "WARNING: Ignoring invalid distribution -ytz (c:\\programdata\\anaconda3\\lib\\site-packages)\n",
      "WARNING: Ignoring invalid distribution -umpy (c:\\programdata\\anaconda3\\lib\\site-packages)\n",
      "WARNING: Ignoring invalid distribution -lotly (c:\\programdata\\anaconda3\\lib\\site-packages)\n",
      "WARNING: Ignoring invalid distribution - (c:\\programdata\\anaconda3\\lib\\site-packages)\n",
      "WARNING: Ignoring invalid distribution -eautifulsoup4 (c:\\programdata\\anaconda3\\lib\\site-packages)\n",
      "WARNING: Ignoring invalid distribution -eaborn (c:\\programdata\\anaconda3\\lib\\site-packages)\n",
      "WARNING: Ignoring invalid distribution -ytz (c:\\programdata\\anaconda3\\lib\\site-packages)\n",
      "WARNING: Ignoring invalid distribution -umpy (c:\\programdata\\anaconda3\\lib\\site-packages)\n",
      "WARNING: Ignoring invalid distribution -lotly (c:\\programdata\\anaconda3\\lib\\site-packages)\n",
      "WARNING: Ignoring invalid distribution - (c:\\programdata\\anaconda3\\lib\\site-packages)\n",
      "WARNING: Ignoring invalid distribution -eautifulsoup4 (c:\\programdata\\anaconda3\\lib\\site-packages)\n",
      "WARNING: Ignoring invalid distribution -eaborn (c:\\programdata\\anaconda3\\lib\\site-packages)\n",
      "WARNING: Ignoring invalid distribution -ytz (c:\\programdata\\anaconda3\\lib\\site-packages)\n",
      "WARNING: Ignoring invalid distribution -umpy (c:\\programdata\\anaconda3\\lib\\site-packages)\n",
      "WARNING: Ignoring invalid distribution -lotly (c:\\programdata\\anaconda3\\lib\\site-packages)\n",
      "WARNING: Ignoring invalid distribution - (c:\\programdata\\anaconda3\\lib\\site-packages)\n",
      "WARNING: Ignoring invalid distribution -eautifulsoup4 (c:\\programdata\\anaconda3\\lib\\site-packages)\n",
      "WARNING: Ignoring invalid distribution -eaborn (c:\\programdata\\anaconda3\\lib\\site-packages)\n",
      "WARNING: Ignoring invalid distribution -ytz (c:\\programdata\\anaconda3\\lib\\site-packages)\n",
      "WARNING: Ignoring invalid distribution -umpy (c:\\programdata\\anaconda3\\lib\\site-packages)\n",
      "WARNING: Ignoring invalid distribution -lotly (c:\\programdata\\anaconda3\\lib\\site-packages)\n",
      "WARNING: Ignoring invalid distribution - (c:\\programdata\\anaconda3\\lib\\site-packages)\n",
      "WARNING: Ignoring invalid distribution -eautifulsoup4 (c:\\programdata\\anaconda3\\lib\\site-packages)\n",
      "WARNING: Ignoring invalid distribution -eaborn (c:\\programdata\\anaconda3\\lib\\site-packages)\n",
      "WARNING: Ignoring invalid distribution -ytz (c:\\programdata\\anaconda3\\lib\\site-packages)\n",
      "WARNING: Ignoring invalid distribution -umpy (c:\\programdata\\anaconda3\\lib\\site-packages)\n",
      "WARNING: Ignoring invalid distribution -lotly (c:\\programdata\\anaconda3\\lib\\site-packages)\n",
      "WARNING: Ignoring invalid distribution - (c:\\programdata\\anaconda3\\lib\\site-packages)\n",
      "WARNING: Ignoring invalid distribution -eautifulsoup4 (c:\\programdata\\anaconda3\\lib\\site-packages)\n",
      "WARNING: Ignoring invalid distribution -eaborn (c:\\programdata\\anaconda3\\lib\\site-packages)\n",
      "WARNING: Ignoring invalid distribution -ytz (c:\\programdata\\anaconda3\\lib\\site-packages)\n",
      "WARNING: Ignoring invalid distribution -umpy (c:\\programdata\\anaconda3\\lib\\site-packages)\n",
      "WARNING: Ignoring invalid distribution -lotly (c:\\programdata\\anaconda3\\lib\\site-packages)\n",
      "WARNING: Ignoring invalid distribution - (c:\\programdata\\anaconda3\\lib\\site-packages)\n",
      "WARNING: Ignoring invalid distribution -eautifulsoup4 (c:\\programdata\\anaconda3\\lib\\site-packages)\n",
      "WARNING: Ignoring invalid distribution -eaborn (c:\\programdata\\anaconda3\\lib\\site-packages)\n",
      "WARNING: Ignoring invalid distribution -ytz (c:\\programdata\\anaconda3\\lib\\site-packages)\n",
      "WARNING: Ignoring invalid distribution -umpy (c:\\programdata\\anaconda3\\lib\\site-packages)\n",
      "WARNING: Ignoring invalid distribution -lotly (c:\\programdata\\anaconda3\\lib\\site-packages)\n",
      "WARNING: Ignoring invalid distribution - (c:\\programdata\\anaconda3\\lib\\site-packages)\n",
      "WARNING: Ignoring invalid distribution -eautifulsoup4 (c:\\programdata\\anaconda3\\lib\\site-packages)\n",
      "WARNING: Ignoring invalid distribution -eaborn (c:\\programdata\\anaconda3\\lib\\site-packages)\n",
      "WARNING: Ignoring invalid distribution -ytz (c:\\programdata\\anaconda3\\lib\\site-packages)\n",
      "WARNING: Ignoring invalid distribution -umpy (c:\\programdata\\anaconda3\\lib\\site-packages)\n",
      "WARNING: Ignoring invalid distribution -lotly (c:\\programdata\\anaconda3\\lib\\site-packages)\n",
      "WARNING: Ignoring invalid distribution - (c:\\programdata\\anaconda3\\lib\\site-packages)\n",
      "WARNING: Ignoring invalid distribution -eautifulsoup4 (c:\\programdata\\anaconda3\\lib\\site-packages)\n",
      "WARNING: Ignoring invalid distribution -eaborn (c:\\programdata\\anaconda3\\lib\\site-packages)\n",
      "WARNING: Ignoring invalid distribution -ytz (c:\\programdata\\anaconda3\\lib\\site-packages)\n",
      "WARNING: Ignoring invalid distribution -umpy (c:\\programdata\\anaconda3\\lib\\site-packages)\n",
      "WARNING: Ignoring invalid distribution -lotly (c:\\programdata\\anaconda3\\lib\\site-packages)\n",
      "WARNING: Ignoring invalid distribution - (c:\\programdata\\anaconda3\\lib\\site-packages)\n",
      "WARNING: Ignoring invalid distribution -eautifulsoup4 (c:\\programdata\\anaconda3\\lib\\site-packages)\n",
      "WARNING: Ignoring invalid distribution -eaborn (c:\\programdata\\anaconda3\\lib\\site-packages)\n",
      "WARNING: Ignoring invalid distribution -ytz (c:\\programdata\\anaconda3\\lib\\site-packages)\n",
      "WARNING: Ignoring invalid distribution -umpy (c:\\programdata\\anaconda3\\lib\\site-packages)\n",
      "WARNING: Ignoring invalid distribution -lotly (c:\\programdata\\anaconda3\\lib\\site-packages)\n",
      "WARNING: Ignoring invalid distribution - (c:\\programdata\\anaconda3\\lib\\site-packages)\n",
      "WARNING: Ignoring invalid distribution -eautifulsoup4 (c:\\programdata\\anaconda3\\lib\\site-packages)\n",
      "WARNING: Ignoring invalid distribution -eaborn (c:\\programdata\\anaconda3\\lib\\site-packages)\n",
      "WARNING: Ignoring invalid distribution -ytz (c:\\programdata\\anaconda3\\lib\\site-packages)"
     ]
    },
    {
     "name": "stdout",
     "output_type": "stream",
     "text": [
      "\n",
      "  Downloading colorlog-6.7.0-py2.py3-none-any.whl (11 kB)\n",
      "Requirement already satisfied: scipy<1.9.0,>=1.7.0 in c:\\programdata\\anaconda3\\lib\\site-packages (from optuna) (1.7.1)\n",
      "Requirement already satisfied: PyYAML in c:\\programdata\\anaconda3\\lib\\site-packages (from optuna) (6.0)\n",
      "Collecting Mako\n",
      "  Downloading Mako-1.2.3-py3-none-any.whl (78 kB)\n",
      "Collecting importlib-resources\n",
      "  Downloading importlib_resources-5.10.0-py3-none-any.whl (34 kB)\n",
      "Requirement already satisfied: typing-extensions>=3.6.4 in c:\\programdata\\anaconda3\\lib\\site-packages (from importlib-metadata<5.0.0->optuna) (3.10.0.2)\n",
      "Requirement already satisfied: zipp>=0.5 in c:\\programdata\\anaconda3\\lib\\site-packages (from importlib-metadata<5.0.0->optuna) (3.6.0)\n",
      "Requirement already satisfied: pyparsing!=3.0.5,>=2.0.2 in c:\\programdata\\anaconda3\\lib\\site-packages (from packaging>=20.0->optuna) (3.0.4)\n",
      "Collecting greenlet!=0.4.17\n",
      "  Downloading greenlet-1.1.3.post0-cp37-cp37m-win_amd64.whl (101 kB)\n",
      "Collecting stevedore>=2.0.1\n",
      "  Downloading stevedore-3.5.2-py3-none-any.whl (50 kB)\n",
      "Collecting cmd2>=1.0.0\n",
      "  Downloading cmd2-2.4.2-py3-none-any.whl (147 kB)\n",
      "Collecting pbr!=2.1.0,>=2.0.0\n",
      "  Downloading pbr-5.11.0-py2.py3-none-any.whl (112 kB)\n",
      "Collecting autopage>=0.4.0\n",
      "  Downloading autopage-0.5.1-py3-none-any.whl (29 kB)\n",
      "Collecting PrettyTable>=0.7.2\n",
      "  Downloading prettytable-3.5.0-py3-none-any.whl (26 kB)\n",
      "Collecting pyperclip>=1.6\n",
      "  Downloading pyperclip-1.8.2.tar.gz (20 kB)\n",
      "Requirement already satisfied: attrs>=16.3.0 in c:\\programdata\\anaconda3\\lib\\site-packages (from cmd2>=1.0.0->cliff->optuna) (21.2.0)\n",
      "Collecting pyreadline3\n",
      "  Downloading pyreadline3-3.4.1-py3-none-any.whl (95 kB)\n",
      "Requirement already satisfied: wcwidth>=0.1.7 in c:\\programdata\\anaconda3\\lib\\site-packages (from cmd2>=1.0.0->cliff->optuna) (0.2.5)\n",
      "Requirement already satisfied: colorama in c:\\programdata\\anaconda3\\lib\\site-packages (from colorlog->optuna) (0.4.4)\n",
      "Requirement already satisfied: MarkupSafe>=0.9.2 in c:\\programdata\\anaconda3\\lib\\site-packages (from Mako->alembic>=1.5.0->optuna) (2.0.1)\n",
      "Building wheels for collected packages: pyperclip\n",
      "  Building wheel for pyperclip (setup.py): started\n",
      "  Building wheel for pyperclip (setup.py): finished with status 'done'\n",
      "  Created wheel for pyperclip: filename=pyperclip-1.8.2-py3-none-any.whl size=11136 sha256=b82702fe04db0b54a993b0ca2e41c7c75a1dc9f1d75dca6a2a11fea3e9bd5bf7\n",
      "  Stored in directory: c:\\users\\user\\appdata\\local\\pip\\cache\\wheels\\9f\\18\\84\\8f69f8b08169c7bae2dde6bd7daf0c19fca8c8e500ee620a28\n",
      "Successfully built pyperclip\n",
      "Installing collected packages: pyreadline3, pyperclip, pbr, greenlet, stevedore, sqlalchemy, PrettyTable, Mako, importlib-resources, cmd2, autopage, colorlog, cmaes, cliff, alembic, optuna\n",
      "Successfully installed Mako-1.2.3 PrettyTable-3.5.0 alembic-1.8.1 autopage-0.5.1 cliff-3.10.1 cmaes-0.8.2 cmd2-2.4.2 colorlog-6.7.0 greenlet-1.1.3.post0 importlib-resources-5.10.0 optuna-3.0.3 pbr-5.11.0 pyperclip-1.8.2 pyreadline3-3.4.1 sqlalchemy-1.4.42 stevedore-3.5.2\n"
     ]
    },
    {
     "name": "stderr",
     "output_type": "stream",
     "text": [
      "\n",
      "WARNING: Ignoring invalid distribution -umpy (c:\\programdata\\anaconda3\\lib\\site-packages)\n",
      "WARNING: Ignoring invalid distribution -lotly (c:\\programdata\\anaconda3\\lib\\site-packages)\n",
      "WARNING: Ignoring invalid distribution - (c:\\programdata\\anaconda3\\lib\\site-packages)\n",
      "WARNING: Ignoring invalid distribution -eautifulsoup4 (c:\\programdata\\anaconda3\\lib\\site-packages)\n",
      "WARNING: Ignoring invalid distribution -eaborn (c:\\programdata\\anaconda3\\lib\\site-packages)\n",
      "WARNING: Ignoring invalid distribution -ytz (c:\\programdata\\anaconda3\\lib\\site-packages)\n",
      "WARNING: Ignoring invalid distribution -umpy (c:\\programdata\\anaconda3\\lib\\site-packages)\n",
      "WARNING: Ignoring invalid distribution -lotly (c:\\programdata\\anaconda3\\lib\\site-packages)\n",
      "WARNING: Ignoring invalid distribution - (c:\\programdata\\anaconda3\\lib\\site-packages)\n",
      "WARNING: Ignoring invalid distribution -eautifulsoup4 (c:\\programdata\\anaconda3\\lib\\site-packages)\n",
      "WARNING: Ignoring invalid distribution -eaborn (c:\\programdata\\anaconda3\\lib\\site-packages)\n",
      "WARNING: Ignoring invalid distribution -ytz (c:\\programdata\\anaconda3\\lib\\site-packages)\n",
      "WARNING: Ignoring invalid distribution -umpy (c:\\programdata\\anaconda3\\lib\\site-packages)\n",
      "WARNING: Ignoring invalid distribution -lotly (c:\\programdata\\anaconda3\\lib\\site-packages)\n",
      "WARNING: Ignoring invalid distribution - (c:\\programdata\\anaconda3\\lib\\site-packages)\n",
      "WARNING: Ignoring invalid distribution -eautifulsoup4 (c:\\programdata\\anaconda3\\lib\\site-packages)\n",
      "WARNING: Ignoring invalid distribution -eaborn (c:\\programdata\\anaconda3\\lib\\site-packages)\n",
      "WARNING: Ignoring invalid distribution -ytz (c:\\programdata\\anaconda3\\lib\\site-packages)\n",
      "WARNING: Ignoring invalid distribution -umpy (c:\\programdata\\anaconda3\\lib\\site-packages)\n",
      "WARNING: Ignoring invalid distribution -lotly (c:\\programdata\\anaconda3\\lib\\site-packages)\n",
      "WARNING: Ignoring invalid distribution - (c:\\programdata\\anaconda3\\lib\\site-packages)\n",
      "WARNING: Ignoring invalid distribution -eautifulsoup4 (c:\\programdata\\anaconda3\\lib\\site-packages)\n",
      "WARNING: Ignoring invalid distribution -eaborn (c:\\programdata\\anaconda3\\lib\\site-packages)\n",
      "WARNING: Ignoring invalid distribution -ytz (c:\\programdata\\anaconda3\\lib\\site-packages)\n",
      "WARNING: Ignoring invalid distribution -umpy (c:\\programdata\\anaconda3\\lib\\site-packages)\n",
      "WARNING: Ignoring invalid distribution -lotly (c:\\programdata\\anaconda3\\lib\\site-packages)\n",
      "WARNING: Ignoring invalid distribution - (c:\\programdata\\anaconda3\\lib\\site-packages)\n",
      "WARNING: Ignoring invalid distribution -eautifulsoup4 (c:\\programdata\\anaconda3\\lib\\site-packages)\n",
      "WARNING: Ignoring invalid distribution -eaborn (c:\\programdata\\anaconda3\\lib\\site-packages)\n",
      "WARNING: Ignoring invalid distribution -ytz (c:\\programdata\\anaconda3\\lib\\site-packages)\n",
      "WARNING: Ignoring invalid distribution -umpy (c:\\programdata\\anaconda3\\lib\\site-packages)\n",
      "WARNING: Ignoring invalid distribution -lotly (c:\\programdata\\anaconda3\\lib\\site-packages)\n",
      "WARNING: Ignoring invalid distribution - (c:\\programdata\\anaconda3\\lib\\site-packages)\n",
      "WARNING: Ignoring invalid distribution -eautifulsoup4 (c:\\programdata\\anaconda3\\lib\\site-packages)\n",
      "WARNING: Ignoring invalid distribution -eaborn (c:\\programdata\\anaconda3\\lib\\site-packages)\n",
      "WARNING: Ignoring invalid distribution -ytz (c:\\programdata\\anaconda3\\lib\\site-packages)\n",
      "WARNING: Ignoring invalid distribution -umpy (c:\\programdata\\anaconda3\\lib\\site-packages)\n",
      "WARNING: Ignoring invalid distribution -lotly (c:\\programdata\\anaconda3\\lib\\site-packages)\n",
      "WARNING: Ignoring invalid distribution - (c:\\programdata\\anaconda3\\lib\\site-packages)\n",
      "WARNING: Ignoring invalid distribution -eautifulsoup4 (c:\\programdata\\anaconda3\\lib\\site-packages)\n",
      "WARNING: Ignoring invalid distribution -eaborn (c:\\programdata\\anaconda3\\lib\\site-packages)\n"
     ]
    }
   ],
   "source": [
    "pip install optuna "
   ]
  },
  {
   "cell_type": "code",
   "execution_count": 34,
   "id": "290798c7",
   "metadata": {},
   "outputs": [],
   "source": [
    "import optuna\n",
    "import numpy as np\n",
    "import sklearn.ensemble\n",
    "import sklearn.svm"
   ]
  },
  {
   "cell_type": "code",
   "execution_count": 27,
   "id": "12359fca",
   "metadata": {},
   "outputs": [],
   "source": [
    "def f(x, y):\n",
    "    return -np.cos(x) * np.cos(y) * np.exp(-(x - np.pi)**2 -(y - np.pi)**2)\n",
    "def objective(trial):\n",
    "    x = trial.suggest_float('x', -10, 10)\n",
    "    y = trial.suggest_float('y', -10, 10)\n",
    "    return  f(x, y)\n",
    "# -np.cos(x) * np.cos(y) * np.exp(-(x - np.pi)**2 -(y - np.pi)**2)\n",
    "#  (x - 2) ** 2 "
   ]
  },
  {
   "cell_type": "code",
   "execution_count": 28,
   "id": "136cefad",
   "metadata": {},
   "outputs": [
    {
     "name": "stderr",
     "output_type": "stream",
     "text": [
      "\u001b[32m[I 2022-10-29 13:39:09,856]\u001b[0m A new study created in memory with name: no-name-c0efec95-d892-4901-a8ec-de1594d2fe62\u001b[0m\n",
      "\u001b[32m[I 2022-10-29 13:39:09,860]\u001b[0m Trial 0 finished with value: 1.0276780722059274e-57 and parameters: {'x': -2.0343360943965383, 'y': -7.023137644620803}. Best is trial 0 with value: 1.0276780722059274e-57.\u001b[0m\n",
      "\u001b[32m[I 2022-10-29 13:39:09,862]\u001b[0m Trial 1 finished with value: -8.431519405831964e-34 and parameters: {'x': -5.0532202961755734, 'y': 0.340517815828985}. Best is trial 1 with value: -8.431519405831964e-34.\u001b[0m\n",
      "\u001b[32m[I 2022-10-29 13:39:09,864]\u001b[0m Trial 2 finished with value: 4.197912305845478e-118 and parameters: {'x': -9.868710527798811, 'y': -6.893419318724323}. Best is trial 1 with value: -8.431519405831964e-34.\u001b[0m\n",
      "\u001b[32m[I 2022-10-29 13:39:09,866]\u001b[0m Trial 3 finished with value: -3.430450304178271e-35 and parameters: {'x': 9.21434138707987, 'y': -3.3722662552167515}. Best is trial 1 with value: -8.431519405831964e-34.\u001b[0m\n",
      "\u001b[32m[I 2022-10-29 13:39:09,869]\u001b[0m Trial 4 finished with value: 1.7314092054330656e-60 and parameters: {'x': 6.1735029346137935, 'y': -8.133091112520127}. Best is trial 1 with value: -8.431519405831964e-34.\u001b[0m\n",
      "\u001b[32m[I 2022-10-29 13:39:09,871]\u001b[0m Trial 5 finished with value: 9.141774981383898e-74 and parameters: {'x': -7.833290647147207, 'y': -3.4762009457201444}. Best is trial 1 with value: -8.431519405831964e-34.\u001b[0m\n",
      "\u001b[32m[I 2022-10-29 13:39:09,872]\u001b[0m Trial 6 finished with value: 3.21632434420362e-36 and parameters: {'x': 3.9321850731284496, 'y': -5.838706750640954}. Best is trial 1 with value: -8.431519405831964e-34.\u001b[0m\n",
      "\u001b[32m[I 2022-10-29 13:39:09,873]\u001b[0m Trial 7 finished with value: -5.3742462128510074e-70 and parameters: {'x': -8.317757619124446, 'y': -2.008054330351328}. Best is trial 1 with value: -8.431519405831964e-34.\u001b[0m\n",
      "\u001b[32m[I 2022-10-29 13:39:09,875]\u001b[0m Trial 8 finished with value: -8.265446280042006e-40 and parameters: {'x': 5.896644948429133, 'y': -5.928135082180637}. Best is trial 1 with value: -8.431519405831964e-34.\u001b[0m\n",
      "\u001b[32m[I 2022-10-29 13:39:09,876]\u001b[0m Trial 9 finished with value: 0.0003408276134385751 and parameters: {'x': 0.6669825904922977, 'y': 2.1405753671202277}. Best is trial 1 with value: -8.431519405831964e-34.\u001b[0m\n",
      "\u001b[32m[I 2022-10-29 13:39:09,888]\u001b[0m Trial 10 finished with value: -3.114599528785022e-30 and parameters: {'x': -3.3337806087308772, 'y': 8.099012665087107}. Best is trial 10 with value: -3.114599528785022e-30.\u001b[0m\n",
      "\u001b[32m[I 2022-10-29 13:39:09,894]\u001b[0m Trial 11 finished with value: -7.448562902790502e-37 and parameters: {'x': -3.6004062018147174, 'y': 9.274501850818758}. Best is trial 10 with value: -3.114599528785022e-30.\u001b[0m\n",
      "\u001b[32m[I 2022-10-29 13:39:09,909]\u001b[0m Trial 12 finished with value: -3.9081755703356096e-29 and parameters: {'x': -4.684402819138157, 'y': 3.7611687187372773}. Best is trial 12 with value: -3.9081755703356096e-29.\u001b[0m\n",
      "\u001b[32m[I 2022-10-29 13:39:09,921]\u001b[0m Trial 13 finished with value: -1.6691116445598804e-10 and parameters: {'x': -0.6044396063651822, 'y': 6.013704527918153}. Best is trial 13 with value: -1.6691116445598804e-10.\u001b[0m\n",
      "\u001b[32m[I 2022-10-29 13:39:09,928]\u001b[0m Trial 14 finished with value: -3.0263793273169365e-06 and parameters: {'x': 0.5053861379097029, 'y': 5.420920819330092}. Best is trial 14 with value: -3.0263793273169365e-06.\u001b[0m\n",
      "\u001b[32m[I 2022-10-29 13:39:09,941]\u001b[0m Trial 15 finished with value: -4.572789341708803e-06 and parameters: {'x': 0.9415337501087391, 'y': 5.743892668884103}. Best is trial 15 with value: -4.572789341708803e-06.\u001b[0m\n",
      "\u001b[32m[I 2022-10-29 13:39:09,952]\u001b[0m Trial 16 finished with value: 0.0005243863421154216 and parameters: {'x': 2.0246680710173512, 'y': 5.377286643804773}. Best is trial 15 with value: -4.572789341708803e-06.\u001b[0m\n",
      "\u001b[32m[I 2022-10-29 13:39:09,962]\u001b[0m Trial 17 finished with value: 2.363759826808904e-08 and parameters: {'x': 1.8533887925666261, 'y': 6.935537785964943}. Best is trial 15 with value: -4.572789341708803e-06.\u001b[0m\n",
      "\u001b[32m[I 2022-10-29 13:39:09,993]\u001b[0m Trial 18 finished with value: -0.2676138694245184 and parameters: {'x': 4.0423802171426075, 'y': 3.283770827616745}. Best is trial 18 with value: -0.2676138694245184.\u001b[0m\n",
      "\u001b[32m[I 2022-10-29 13:39:10,009]\u001b[0m Trial 19 finished with value: -3.3443799582451416e-15 and parameters: {'x': 8.631403147832673, 'y': 1.8699450814941934}. Best is trial 18 with value: -0.2676138694245184.\u001b[0m\n",
      "\u001b[32m[I 2022-10-29 13:39:10,023]\u001b[0m Trial 20 finished with value: -0.14779934126947863 and parameters: {'x': 4.2055174720537485, 'y': 3.336786839551369}. Best is trial 18 with value: -0.2676138694245184.\u001b[0m\n",
      "\u001b[32m[I 2022-10-29 13:39:10,040]\u001b[0m Trial 21 finished with value: -0.08534083073860183 and parameters: {'x': 4.304886258209971, 'y': 3.489018085140723}. Best is trial 18 with value: -0.2676138694245184.\u001b[0m\n",
      "\u001b[32m[I 2022-10-29 13:39:10,057]\u001b[0m Trial 22 finished with value: 0.003060074346684864 and parameters: {'x': 4.815604861675527, 'y': 2.4614486572403385}. Best is trial 18 with value: -0.2676138694245184.\u001b[0m\n",
      "\u001b[32m[I 2022-10-29 13:39:10,071]\u001b[0m Trial 23 finished with value: 4.682222578920373e-06 and parameters: {'x': 3.9475144863955274, 'y': -0.20990109716303262}. Best is trial 18 with value: -0.2676138694245184.\u001b[0m\n",
      "\u001b[32m[I 2022-10-29 13:39:10,084]\u001b[0m Trial 24 finished with value: 3.723169911271134e-09 and parameters: {'x': 7.419075014997002, 'y': 3.5458680242617304}. Best is trial 18 with value: -0.2676138694245184.\u001b[0m\n",
      "\u001b[32m[I 2022-10-29 13:39:10,092]\u001b[0m Trial 25 finished with value: 1.736063604217241e-06 and parameters: {'x': 3.612436368100405, 'y': -0.43988125331336436}. Best is trial 18 with value: -0.2676138694245184.\u001b[0m\n",
      "\u001b[32m[I 2022-10-29 13:39:10,107]\u001b[0m Trial 26 finished with value: 7.748454746801701e-08 and parameters: {'x': 7.029366536155337, 'y': 3.9215695686554226}. Best is trial 18 with value: -0.2676138694245184.\u001b[0m\n",
      "\u001b[32m[I 2022-10-29 13:39:10,121]\u001b[0m Trial 27 finished with value: 0.0033786876565789284 and parameters: {'x': 2.599825504217847, 'y': 0.9854751320991694}. Best is trial 18 with value: -0.2676138694245184.\u001b[0m\n",
      "\u001b[32m[I 2022-10-29 13:39:10,130]\u001b[0m Trial 28 finished with value: 7.406090538704911e-14 and parameters: {'x': 5.04081100972205, 'y': -1.7025156198448064}. Best is trial 18 with value: -0.2676138694245184.\u001b[0m\n",
      "\u001b[32m[I 2022-10-29 13:39:10,139]\u001b[0m Trial 29 finished with value: -2.550701618577054e-18 and parameters: {'x': 7.705178064743264, 'y': 7.2838572874294165}. Best is trial 18 with value: -0.2676138694245184.\u001b[0m\n",
      "\u001b[32m[I 2022-10-29 13:39:10,151]\u001b[0m Trial 30 finished with value: 1.555865404645925e-28 and parameters: {'x': -1.0099041560071544, 'y': 9.92633774454806}. Best is trial 18 with value: -0.2676138694245184.\u001b[0m\n",
      "\u001b[32m[I 2022-10-29 13:39:10,164]\u001b[0m Trial 31 finished with value: -0.003930919954558016 and parameters: {'x': 1.8289204642904942, 'y': 4.340627610833245}. Best is trial 18 with value: -0.2676138694245184.\u001b[0m\n",
      "\u001b[32m[I 2022-10-29 13:39:10,174]\u001b[0m Trial 32 finished with value: -0.04335549515384601 and parameters: {'x': 2.2390592346886047, 'y': 4.203091109294634}. Best is trial 18 with value: -0.2676138694245184.\u001b[0m\n",
      "\u001b[32m[I 2022-10-29 13:39:10,185]\u001b[0m Trial 33 finished with value: -0.8873075918645541 and parameters: {'x': 3.1707169989946147, 'y': 2.8613945143356765}. Best is trial 33 with value: -0.8873075918645541.\u001b[0m\n",
      "\u001b[32m[I 2022-10-29 13:39:10,194]\u001b[0m Trial 34 finished with value: -4.311026082966937e-05 and parameters: {'x': 5.209086066971079, 'y': 1.0653759493809551}. Best is trial 33 with value: -0.8873075918645541.\u001b[0m\n",
      "\u001b[32m[I 2022-10-29 13:39:10,208]\u001b[0m Trial 35 finished with value: -0.3799836280959053 and parameters: {'x': 3.1665518745283237, 'y': 2.354924245271311}. Best is trial 33 with value: -0.8873075918645541.\u001b[0m\n",
      "\u001b[32m[I 2022-10-29 13:39:10,219]\u001b[0m Trial 36 finished with value: -0.5305059993866241 and parameters: {'x': 2.927127021170529, 'y': 2.5348478664217664}. Best is trial 33 with value: -0.8873075918645541.\u001b[0m\n",
      "\u001b[32m[I 2022-10-29 13:39:10,233]\u001b[0m Trial 37 finished with value: 2.7696923310361926e-09 and parameters: {'x': 3.036293000393677, 'y': -1.1841996631025773}. Best is trial 33 with value: -0.8873075918645541.\u001b[0m\n",
      "\u001b[32m[I 2022-10-29 13:39:10,246]\u001b[0m Trial 38 finished with value: -9.26738125596142e-08 and parameters: {'x': 6.266020757072948, 'y': 0.6509720283585094}. Best is trial 33 with value: -0.8873075918645541.\u001b[0m\n"
     ]
    },
    {
     "name": "stderr",
     "output_type": "stream",
     "text": [
      "\u001b[32m[I 2022-10-29 13:39:10,258]\u001b[0m Trial 39 finished with value: 1.8682924519890037e-28 and parameters: {'x': -0.6538254953549916, 'y': -3.853609728598869}. Best is trial 33 with value: -0.8873075918645541.\u001b[0m\n",
      "\u001b[32m[I 2022-10-29 13:39:10,271]\u001b[0m Trial 40 finished with value: -2.5855351424015037e-14 and parameters: {'x': -2.358118293800666, 'y': 2.4705097947266594}. Best is trial 33 with value: -0.8873075918645541.\u001b[0m\n",
      "\u001b[32m[I 2022-10-29 13:39:10,280]\u001b[0m Trial 41 finished with value: -0.8222393943625161 and parameters: {'x': 3.116347658890897, 'y': 2.7825812326485306}. Best is trial 33 with value: -0.8873075918645541.\u001b[0m\n",
      "\u001b[32m[I 2022-10-29 13:39:10,294]\u001b[0m Trial 42 finished with value: -0.003849154189317664 and parameters: {'x': 3.479418334440238, 'y': 1.6174820643936696}. Best is trial 33 with value: -0.8873075918645541.\u001b[0m\n",
      "\u001b[32m[I 2022-10-29 13:39:10,306]\u001b[0m Trial 43 finished with value: 0.0032154244782116558 and parameters: {'x': 1.1257769977433636, 'y': 2.4088889589734515}. Best is trial 33 with value: -0.8873075918645541.\u001b[0m\n",
      "\u001b[32m[I 2022-10-29 13:39:10,317]\u001b[0m Trial 44 finished with value: -1.6520320169541068e-07 and parameters: {'x': 6.410216940954484, 'y': 4.845188483134024}. Best is trial 33 with value: -0.8873075918645541.\u001b[0m\n",
      "\u001b[32m[I 2022-10-29 13:39:10,325]\u001b[0m Trial 45 finished with value: -4.16232052380827e-21 and parameters: {'x': 9.96751196061571, 'y': 2.7964514798833418}. Best is trial 33 with value: -0.8873075918645541.\u001b[0m\n",
      "\u001b[32m[I 2022-10-29 13:39:10,340]\u001b[0m Trial 46 finished with value: -1.7869047491689826e-07 and parameters: {'x': 5.569699220151736, 'y': 0.08235870970909742}. Best is trial 33 with value: -0.8873075918645541.\u001b[0m\n",
      "\u001b[32m[I 2022-10-29 13:39:10,352]\u001b[0m Trial 47 finished with value: -3.529166075103004e-16 and parameters: {'x': 2.739178163141212, 'y': -2.7976633040838834}. Best is trial 33 with value: -0.8873075918645541.\u001b[0m\n",
      "\u001b[32m[I 2022-10-29 13:39:10,361]\u001b[0m Trial 48 finished with value: -7.2928896310579145e-06 and parameters: {'x': 0.5873923831452732, 'y': 1.474520919806685}. Best is trial 33 with value: -0.8873075918645541.\u001b[0m\n",
      "\u001b[32m[I 2022-10-29 13:39:10,372]\u001b[0m Trial 49 finished with value: 1.4207081221250971e-09 and parameters: {'x': 1.5755515839986187, 'y': 6.675981390238538}. Best is trial 33 with value: -0.8873075918645541.\u001b[0m\n",
      "\u001b[32m[I 2022-10-29 13:39:10,380]\u001b[0m Trial 50 finished with value: -1.4511549819826238e-50 and parameters: {'x': -7.228312618760989, 'y': 4.727830119950424}. Best is trial 33 with value: -0.8873075918645541.\u001b[0m\n",
      "\u001b[32m[I 2022-10-29 13:39:10,395]\u001b[0m Trial 51 finished with value: -0.0885554290728683 and parameters: {'x': 4.319343536679984, 'y': 3.368300788653088}. Best is trial 33 with value: -0.8873075918645541.\u001b[0m\n",
      "\u001b[32m[I 2022-10-29 13:39:10,408]\u001b[0m Trial 52 finished with value: -0.0027128202841424955 and parameters: {'x': 3.3014638686669597, 'y': 1.6010552162980627}. Best is trial 33 with value: -0.8873075918645541.\u001b[0m\n",
      "\u001b[32m[I 2022-10-29 13:39:10,419]\u001b[0m Trial 53 finished with value: -7.355071470202852e-62 and parameters: {'x': 4.272841247581267, 'y': -8.616856702620627}. Best is trial 33 with value: -0.8873075918645541.\u001b[0m\n",
      "\u001b[32m[I 2022-10-29 13:39:10,425]\u001b[0m Trial 54 finished with value: -0.7217717724528643 and parameters: {'x': 2.73500944565882, 'y': 2.917264717040677}. Best is trial 33 with value: -0.8873075918645541.\u001b[0m\n",
      "\u001b[32m[I 2022-10-29 13:39:10,439]\u001b[0m Trial 55 finished with value: 9.210683478964384e-06 and parameters: {'x': -0.25131169560843425, 'y': 2.956604023378701}. Best is trial 33 with value: -0.8873075918645541.\u001b[0m\n",
      "\u001b[32m[I 2022-10-29 13:39:10,452]\u001b[0m Trial 56 finished with value: -1.186651657204681e-13 and parameters: {'x': -1.342568729647791, 'y': 5.99215356608443}. Best is trial 33 with value: -0.8873075918645541.\u001b[0m\n",
      "\u001b[32m[I 2022-10-29 13:39:10,460]\u001b[0m Trial 57 finished with value: 0.00643508093089511 and parameters: {'x': 2.7239726743502235, 'y': 5.080735030920065}. Best is trial 33 with value: -0.8873075918645541.\u001b[0m\n",
      "\u001b[32m[I 2022-10-29 13:39:10,471]\u001b[0m Trial 58 finished with value: -3.846296503132269e-06 and parameters: {'x': 1.1144370221476216, 'y': 0.41169210696830927}. Best is trial 33 with value: -0.8873075918645541.\u001b[0m\n",
      "\u001b[32m[I 2022-10-29 13:39:10,477]\u001b[0m Trial 59 finished with value: 5.490975818495394e-05 and parameters: {'x': 4.714539474524843, 'y': 2.2723021981118237}. Best is trial 33 with value: -0.8873075918645541.\u001b[0m\n",
      "\u001b[32m[I 2022-10-29 13:39:10,490]\u001b[0m Trial 60 finished with value: -8.302621836043738e-10 and parameters: {'x': 5.888968518629255, 'y': -0.48586005376454944}. Best is trial 33 with value: -0.8873075918645541.\u001b[0m\n",
      "\u001b[32m[I 2022-10-29 13:39:10,498]\u001b[0m Trial 61 finished with value: -0.5572054243050786 and parameters: {'x': 3.754904947520987, 'y': 3.2121324117954253}. Best is trial 33 with value: -0.8873075918645541.\u001b[0m\n",
      "\u001b[32m[I 2022-10-29 13:39:10,506]\u001b[0m Trial 62 finished with value: -0.8939417505098033 and parameters: {'x': 3.29974056341012, 'y': 2.9189739663264342}. Best is trial 62 with value: -0.8939417505098033.\u001b[0m\n",
      "\u001b[32m[I 2022-10-29 13:39:10,513]\u001b[0m Trial 63 finished with value: -0.16985621730738637 and parameters: {'x': 2.426722449558388, 'y': 3.9337770540934787}. Best is trial 62 with value: -0.8939417505098033.\u001b[0m\n",
      "\u001b[32m[I 2022-10-29 13:39:10,521]\u001b[0m Trial 64 finished with value: 6.512388053753935e-06 and parameters: {'x': 0.019785629017973427, 'y': 1.9964350488345288}. Best is trial 62 with value: -0.8939417505098033.\u001b[0m\n",
      "\u001b[32m[I 2022-10-29 13:39:10,528]\u001b[0m Trial 65 finished with value: -0.8885223144824599 and parameters: {'x': 3.35722930069355, 'y': 2.9623765554444166}. Best is trial 62 with value: -0.8939417505098033.\u001b[0m\n",
      "\u001b[32m[I 2022-10-29 13:39:10,540]\u001b[0m Trial 66 finished with value: 0.0001405626704137901 and parameters: {'x': 1.5457689620816175, 'y': 4.376587814925857}. Best is trial 62 with value: -0.8939417505098033.\u001b[0m\n",
      "\u001b[32m[I 2022-10-29 13:39:10,549]\u001b[0m Trial 67 finished with value: -0.8573632106887111 and parameters: {'x': 3.458805649087571, 'y': 3.17892201690773}. Best is trial 62 with value: -0.8939417505098033.\u001b[0m\n",
      "\u001b[32m[I 2022-10-29 13:39:10,557]\u001b[0m Trial 68 finished with value: -0.6225682088189073 and parameters: {'x': 3.6981555983944663, 'y': 3.122742901829108}. Best is trial 62 with value: -0.8939417505098033.\u001b[0m\n",
      "\u001b[32m[I 2022-10-29 13:39:10,567]\u001b[0m Trial 69 finished with value: -1.2992548003966823e-07 and parameters: {'x': 5.152660728028792, 'y': 6.449925013329849}. Best is trial 62 with value: -0.8939417505098033.\u001b[0m\n",
      "\u001b[32m[I 2022-10-29 13:39:10,574]\u001b[0m Trial 70 finished with value: 0.0015561451447951066 and parameters: {'x': 2.1506907942674225, 'y': 1.1386672975709262}. Best is trial 62 with value: -0.8939417505098033.\u001b[0m\n",
      "\u001b[32m[I 2022-10-29 13:39:10,584]\u001b[0m Trial 71 finished with value: -0.5784917765362452 and parameters: {'x': 3.708228998593301, 'y': 3.335140622913942}. Best is trial 62 with value: -0.8939417505098033.\u001b[0m\n",
      "\u001b[32m[I 2022-10-29 13:39:10,593]\u001b[0m Trial 72 finished with value: 0.003337891475080923 and parameters: {'x': 3.670075894080911, 'y': 5.309787418889815}. Best is trial 62 with value: -0.8939417505098033.\u001b[0m\n",
      "\u001b[32m[I 2022-10-29 13:39:10,602]\u001b[0m Trial 73 finished with value: -0.004558121580261474 and parameters: {'x': 4.6325206051286045, 'y': 3.7862230311768688}. Best is trial 62 with value: -0.8939417505098033.\u001b[0m\n",
      "\u001b[32m[I 2022-10-29 13:39:10,609]\u001b[0m Trial 74 finished with value: 8.761418782222371e-09 and parameters: {'x': 6.860460906727014, 'y': 4.618335293595744}. Best is trial 62 with value: -0.8939417505098033.\u001b[0m\n",
      "\u001b[32m[I 2022-10-29 13:39:10,618]\u001b[0m Trial 75 finished with value: 2.9309629936465736e-14 and parameters: {'x': 5.4069088327555725, 'y': 7.914952693366406}. Best is trial 62 with value: -0.8939417505098033.\u001b[0m\n",
      "\u001b[32m[I 2022-10-29 13:39:10,625]\u001b[0m Trial 76 finished with value: -0.9000577182498739 and parameters: {'x': 3.3054599453324784, 'y': 2.933746883649025}. Best is trial 76 with value: -0.9000577182498739.\u001b[0m\n",
      "\u001b[32m[I 2022-10-29 13:39:10,638]\u001b[0m Trial 77 finished with value: 7.398615115085548e-06 and parameters: {'x': 1.605291754466096, 'y': 0.7358833989008051}. Best is trial 76 with value: -0.9000577182498739.\u001b[0m\n",
      "\u001b[32m[I 2022-10-29 13:39:10,649]\u001b[0m Trial 78 finished with value: -0.8635627989468274 and parameters: {'x': 3.139615344836813, 'y': 2.8297448095073565}. Best is trial 76 with value: -0.9000577182498739.\u001b[0m\n"
     ]
    },
    {
     "name": "stderr",
     "output_type": "stream",
     "text": [
      "\u001b[32m[I 2022-10-29 13:39:10,656]\u001b[0m Trial 79 finished with value: -0.024506031919164183 and parameters: {'x': 2.251006884588927, 'y': 1.9422211564765506}. Best is trial 76 with value: -0.9000577182498739.\u001b[0m\n",
      "\u001b[32m[I 2022-10-29 13:39:10,665]\u001b[0m Trial 80 finished with value: 0.0011443948596118855 and parameters: {'x': 3.0179898353664854, 'y': 5.7053350349094245}. Best is trial 76 with value: -0.9000577182498739.\u001b[0m\n",
      "\u001b[32m[I 2022-10-29 13:39:10,672]\u001b[0m Trial 81 finished with value: -0.07213033837402381 and parameters: {'x': 4.3679386903348085, 'y': 2.979032501418828}. Best is trial 76 with value: -0.9000577182498739.\u001b[0m\n",
      "\u001b[32m[I 2022-10-29 13:39:10,679]\u001b[0m Trial 82 finished with value: -0.30016030162705865 and parameters: {'x': 3.2662270683655565, 'y': 4.00625350344865}. Best is trial 76 with value: -0.9000577182498739.\u001b[0m\n",
      "\u001b[32m[I 2022-10-29 13:39:10,692]\u001b[0m Trial 83 finished with value: 0.00013787368184684526 and parameters: {'x': 0.19086508303763905, 'y': 2.811906937620257}. Best is trial 76 with value: -0.9000577182498739.\u001b[0m\n",
      "\u001b[32m[I 2022-10-29 13:39:10,703]\u001b[0m Trial 84 finished with value: -6.951712730020085e-05 and parameters: {'x': 1.1887809021197184, 'y': 1.2088145059837567}. Best is trial 76 with value: -0.9000577182498739.\u001b[0m\n",
      "\u001b[32m[I 2022-10-29 13:39:10,710]\u001b[0m Trial 85 finished with value: -2.2910699547399726e-73 and parameters: {'x': 2.720433327316869, 'y': -9.778430311748487}. Best is trial 76 with value: -0.9000577182498739.\u001b[0m\n",
      "\u001b[32m[I 2022-10-29 13:39:10,719]\u001b[0m Trial 86 finished with value: -0.025141232107308037 and parameters: {'x': 4.0322969187394495, 'y': 1.9474725054823312}. Best is trial 76 with value: -0.9000577182498739.\u001b[0m\n",
      "\u001b[32m[I 2022-10-29 13:39:10,726]\u001b[0m Trial 87 finished with value: -0.018129005647000967 and parameters: {'x': 1.7557185943626603, 'y': 3.651502206296975}. Best is trial 76 with value: -0.9000577182498739.\u001b[0m\n",
      "\u001b[32m[I 2022-10-29 13:39:10,737]\u001b[0m Trial 88 finished with value: 3.6304700373385864e-05 and parameters: {'x': 4.7190157003471604, 'y': 4.391953235640724}. Best is trial 76 with value: -0.9000577182498739.\u001b[0m\n",
      "\u001b[32m[I 2022-10-29 13:39:10,745]\u001b[0m Trial 89 finished with value: 0.0010329303887082612 and parameters: {'x': 5.6542640949252245, 'y': 2.6621683369485907}. Best is trial 76 with value: -0.9000577182498739.\u001b[0m\n",
      "\u001b[32m[I 2022-10-29 13:39:10,755]\u001b[0m Trial 90 finished with value: -0.006567835280154684 and parameters: {'x': 3.109550835658132, 'y': 1.6345795948498034}. Best is trial 76 with value: -0.9000577182498739.\u001b[0m\n",
      "\u001b[32m[I 2022-10-29 13:39:10,761]\u001b[0m Trial 91 finished with value: -0.5811669483293247 and parameters: {'x': 3.704130143660102, 'y': 3.339566757460829}. Best is trial 76 with value: -0.9000577182498739.\u001b[0m\n",
      "\u001b[32m[I 2022-10-29 13:39:10,772]\u001b[0m Trial 92 finished with value: -0.35443410617264015 and parameters: {'x': 2.328151695879726, 'y': 3.132328844696091}. Best is trial 76 with value: -0.9000577182498739.\u001b[0m\n",
      "\u001b[32m[I 2022-10-29 13:39:10,779]\u001b[0m Trial 93 finished with value: 0.006424159616139662 and parameters: {'x': 3.6042975291275408, 'y': 4.940762167126913}. Best is trial 76 with value: -0.9000577182498739.\u001b[0m\n",
      "\u001b[32m[I 2022-10-29 13:39:10,791]\u001b[0m Trial 94 finished with value: -0.1642509130390472 and parameters: {'x': 4.013615637728045, 'y': 3.7689218540567775}. Best is trial 76 with value: -0.9000577182498739.\u001b[0m\n",
      "\u001b[32m[I 2022-10-29 13:39:10,801]\u001b[0m Trial 95 finished with value: 0.0030862763662026097 and parameters: {'x': 4.877570156529565, 'y': 2.3567843700985946}. Best is trial 76 with value: -0.9000577182498739.\u001b[0m\n",
      "\u001b[32m[I 2022-10-29 13:39:10,808]\u001b[0m Trial 96 finished with value: -0.5316015293459521 and parameters: {'x': 2.6060488197130542, 'y': 2.783081822619716}. Best is trial 76 with value: -0.9000577182498739.\u001b[0m\n",
      "\u001b[32m[I 2022-10-29 13:39:10,819]\u001b[0m Trial 97 finished with value: -0.11734433950285489 and parameters: {'x': 3.2251578395752305, 'y': 4.272390219824915}. Best is trial 76 with value: -0.9000577182498739.\u001b[0m\n",
      "\u001b[32m[I 2022-10-29 13:39:10,825]\u001b[0m Trial 98 finished with value: -0.017732142184241958 and parameters: {'x': 4.563413469793624, 'y': 3.4032906035864277}. Best is trial 76 with value: -0.9000577182498739.\u001b[0m\n",
      "\u001b[32m[I 2022-10-29 13:39:10,836]\u001b[0m Trial 99 finished with value: 5.972480047999429e-31 and parameters: {'x': 1.9897326928597945, 'y': -4.986032701983988}. Best is trial 76 with value: -0.9000577182498739.\u001b[0m\n"
     ]
    }
   ],
   "source": [
    "study = optuna.create_study()\n",
    "study.optimize(objective, n_trials=100)"
   ]
  },
  {
   "cell_type": "code",
   "execution_count": 19,
   "id": "8814fdf1",
   "metadata": {},
   "outputs": [
    {
     "name": "stdout",
     "output_type": "stream",
     "text": [
      "found x: 3.2085666468947873, found y 3.0662763199917586, -np.cos(x) * np.cos(y) * np.exp(-(x - np.pi)**2 -(y - np.pi)**2): -0.9848741001952717\n"
     ]
    }
   ],
   "source": [
    "best_params = study.best_params\n",
    "found_x = best_params['x']\n",
    "found_y = best_params['y']\n",
    "print('found x: {}, found y {}, -np.cos(x) * np.cos(y) * np.exp(-(x - np.pi)**2 -(y - np.pi)**2): {}'.format(found_x, found_y, -np.cos(found_x) * np.cos(found_y) * np.exp(-(found_x - np.pi)**2 -(found_y - np.pi)**2)))"
   ]
  },
  {
   "cell_type": "code",
   "execution_count": 31,
   "id": "0ce34225",
   "metadata": {},
   "outputs": [
    {
     "ename": "SyntaxError",
     "evalue": "unexpected EOF while parsing (<ipython-input-31-9dc769c27346>, line 1)",
     "output_type": "error",
     "traceback": [
      "\u001b[1;36m  File \u001b[1;32m\"<ipython-input-31-9dc769c27346>\"\u001b[1;36m, line \u001b[1;32m1\u001b[0m\n\u001b[1;33m    print(f'found x: {found_x}, found y: {found_y}, -np.cos(x) * np.cos(y) * np.exp(-(x - np.pi)**2 -(y - np.pi)**2): {f(found_x, found_y)}'\u001b[0m\n\u001b[1;37m                                                                                                                                            ^\u001b[0m\n\u001b[1;31mSyntaxError\u001b[0m\u001b[1;31m:\u001b[0m unexpected EOF while parsing\n"
     ]
    }
   ],
   "source": [
    "print(f'found x: {found_x}, found y: {found_y}, -np.cos(x) * np.cos(y) * np.exp(-(x - np.pi)**2 -(y - np.pi)**2): {f(found_x, found_y)}'"
   ]
  },
  {
   "cell_type": "code",
   "execution_count": 23,
   "id": "5d1197c0",
   "metadata": {},
   "outputs": [
    {
     "data": {
      "text/plain": [
       "-0.9848741001952717"
      ]
     },
     "execution_count": 23,
     "metadata": {},
     "output_type": "execute_result"
    }
   ],
   "source": [
    "study.best_value"
   ]
  },
  {
   "cell_type": "code",
   "execution_count": 25,
   "id": "99295beb",
   "metadata": {},
   "outputs": [
    {
     "data": {
      "text/plain": [
       "FrozenTrial(number=97, values=[-0.9848741001952717], datetime_start=datetime.datetime(2022, 10, 29, 13, 25, 1, 899024), datetime_complete=datetime.datetime(2022, 10, 29, 13, 25, 1, 916977), params={'x': 3.2085666468947873, 'y': 3.0662763199917586}, distributions={'x': FloatDistribution(high=10.0, log=False, low=-10.0, step=None), 'y': FloatDistribution(high=10.0, log=False, low=-10.0, step=None)}, user_attrs={}, system_attrs={}, intermediate_values={}, trial_id=97, state=TrialState.COMPLETE, value=None)"
      ]
     },
     "execution_count": 25,
     "metadata": {},
     "output_type": "execute_result"
    }
   ],
   "source": [
    "study.best_trial"
   ]
  },
  {
   "cell_type": "code",
   "execution_count": null,
   "id": "e93a85f4",
   "metadata": {},
   "outputs": [],
   "source": []
  },
  {
   "cell_type": "code",
   "execution_count": null,
   "id": "12a9021f",
   "metadata": {},
   "outputs": [],
   "source": [
    "learning_rate = trial.suggest_float(\"learning_rate\", 1e-5, 1e-2, log=True) # !!!!!!!!!!!!!"
   ]
  },
  {
   "cell_type": "code",
   "execution_count": null,
   "id": "ff1018bf",
   "metadata": {},
   "outputs": [],
   "source": []
  },
  {
   "cell_type": "markdown",
   "id": "855e5df0",
   "metadata": {},
   "source": [
    "### Использование в классическом машинном обучении"
   ]
  },
  {
   "cell_type": "markdown",
   "id": "a7fd6226",
   "metadata": {},
   "source": [
    "ветки vs циклы\n"
   ]
  },
  {
   "cell_type": "code",
   "execution_count": null,
   "id": "47da4fa4",
   "metadata": {},
   "outputs": [],
   "source": [
    "def objective(trial):\n",
    "    classifier_name = trial.suggest_categorical(\"classifier\", [\"SVC\", \"RandomForest\"])\n",
    "    if classifier_name == \"SVC\":\n",
    "        svc_c = trial.suggest_float(\"svc_c\", 1e-10, 1e10, log=True)\n",
    "        classifier_obj = sklearn.svm.SVC(C=svc_c)\n",
    "    else:\n",
    "        rf_max_depth = trial.suggest_int(\"rf_max_depth\", 2, 32, log=True)\n",
    "        classifier_obj = sklearn.ensemble.RandomForestClassifier(max_depth=rf_max_depth)\n",
    "        \n",
    "    classifier_obj.learn()"
   ]
  },
  {
   "cell_type": "code",
   "execution_count": null,
   "id": "997396a0",
   "metadata": {},
   "outputs": [],
   "source": []
  },
  {
   "cell_type": "code",
   "execution_count": 35,
   "id": "d5f90928",
   "metadata": {},
   "outputs": [],
   "source": [
    "import logging\n",
    "import sys\n",
    "\n",
    "import sklearn.datasets\n",
    "import sklearn.linear_model\n",
    "import sklearn.model_selection\n",
    "\n",
    "\n",
    "def objective(trial):\n",
    "    iris = sklearn.datasets.load_iris()\n",
    "    classes = list(set(iris.target))\n",
    "    train_x, valid_x, train_y, valid_y = sklearn.model_selection.train_test_split(\n",
    "        iris.data, iris.target, test_size=0.25, random_state=0\n",
    "    )\n",
    "\n",
    "    alpha = trial.suggest_float(\"alpha\", 1e-5, 1e-1, log=True)\n",
    "    clf = sklearn.linear_model.SGDClassifier(alpha=alpha)\n",
    "\n",
    "    for step in range(100):\n",
    "        clf.partial_fit(train_x, train_y, classes=classes)\n",
    "\n",
    "        # Report intermediate objective value.\n",
    "        intermediate_value = 1.0 - clf.score(valid_x, valid_y)\n",
    "        trial.report(intermediate_value, step)\n",
    "\n",
    "        # Handle pruning based on the intermediate value.\n",
    "        if trial.should_prune():\n",
    "            raise optuna.TrialPruned()\n",
    "\n",
    "    return 1.0 - clf.score(valid_x, valid_y)"
   ]
  },
  {
   "cell_type": "code",
   "execution_count": 36,
   "id": "509bf995",
   "metadata": {},
   "outputs": [
    {
     "name": "stderr",
     "output_type": "stream",
     "text": [
      "\u001b[32m[I 2022-10-29 14:05:28,588]\u001b[0m A new study created in memory with name: no-name-1b290f62-2696-40a8-82a1-3374c5360b44\u001b[0m\n"
     ]
    },
    {
     "name": "stdout",
     "output_type": "stream",
     "text": [
      "A new study created in memory with name: no-name-1b290f62-2696-40a8-82a1-3374c5360b44\n"
     ]
    },
    {
     "name": "stderr",
     "output_type": "stream",
     "text": [
      "\u001b[32m[I 2022-10-29 14:05:28,785]\u001b[0m Trial 0 finished with value: 0.368421052631579 and parameters: {'alpha': 0.0013693742997242483}. Best is trial 0 with value: 0.368421052631579.\u001b[0m\n"
     ]
    },
    {
     "name": "stdout",
     "output_type": "stream",
     "text": [
      "Trial 0 finished with value: 0.368421052631579 and parameters: {'alpha': 0.0013693742997242483}. Best is trial 0 with value: 0.368421052631579.\n"
     ]
    },
    {
     "name": "stderr",
     "output_type": "stream",
     "text": [
      "\u001b[32m[I 2022-10-29 14:05:28,935]\u001b[0m Trial 1 finished with value: 0.07894736842105265 and parameters: {'alpha': 1.6758474706782856e-05}. Best is trial 1 with value: 0.07894736842105265.\u001b[0m\n"
     ]
    },
    {
     "name": "stdout",
     "output_type": "stream",
     "text": [
      "Trial 1 finished with value: 0.07894736842105265 and parameters: {'alpha': 1.6758474706782856e-05}. Best is trial 1 with value: 0.07894736842105265.\n"
     ]
    },
    {
     "name": "stderr",
     "output_type": "stream",
     "text": [
      "\u001b[32m[I 2022-10-29 14:05:29,083]\u001b[0m Trial 2 finished with value: 0.26315789473684215 and parameters: {'alpha': 0.00794379910276896}. Best is trial 1 with value: 0.07894736842105265.\u001b[0m\n"
     ]
    },
    {
     "name": "stdout",
     "output_type": "stream",
     "text": [
      "Trial 2 finished with value: 0.26315789473684215 and parameters: {'alpha': 0.00794379910276896}. Best is trial 1 with value: 0.07894736842105265.\n"
     ]
    },
    {
     "name": "stderr",
     "output_type": "stream",
     "text": [
      "\u001b[32m[I 2022-10-29 14:05:29,237]\u001b[0m Trial 3 finished with value: 0.3421052631578947 and parameters: {'alpha': 0.00038508585692417524}. Best is trial 1 with value: 0.07894736842105265.\u001b[0m\n"
     ]
    },
    {
     "name": "stdout",
     "output_type": "stream",
     "text": [
      "Trial 3 finished with value: 0.3421052631578947 and parameters: {'alpha': 0.00038508585692417524}. Best is trial 1 with value: 0.07894736842105265.\n"
     ]
    },
    {
     "name": "stderr",
     "output_type": "stream",
     "text": [
      "\u001b[32m[I 2022-10-29 14:05:29,391]\u001b[0m Trial 4 finished with value: 0.26315789473684215 and parameters: {'alpha': 0.045705677800594674}. Best is trial 1 with value: 0.07894736842105265.\u001b[0m\n"
     ]
    },
    {
     "name": "stdout",
     "output_type": "stream",
     "text": [
      "Trial 4 finished with value: 0.26315789473684215 and parameters: {'alpha': 0.045705677800594674}. Best is trial 1 with value: 0.07894736842105265.\n"
     ]
    },
    {
     "name": "stderr",
     "output_type": "stream",
     "text": [
      "\u001b[32m[I 2022-10-29 14:05:29,471]\u001b[0m Trial 5 pruned. \u001b[0m\n"
     ]
    },
    {
     "name": "stdout",
     "output_type": "stream",
     "text": [
      "Trial 5 pruned. \n"
     ]
    },
    {
     "name": "stderr",
     "output_type": "stream",
     "text": [
      "\u001b[32m[I 2022-10-29 14:05:29,706]\u001b[0m Trial 6 finished with value: 0.2894736842105263 and parameters: {'alpha': 0.00021176985911813145}. Best is trial 1 with value: 0.07894736842105265.\u001b[0m\n"
     ]
    },
    {
     "name": "stdout",
     "output_type": "stream",
     "text": [
      "Trial 6 finished with value: 0.2894736842105263 and parameters: {'alpha': 0.00021176985911813145}. Best is trial 1 with value: 0.07894736842105265.\n"
     ]
    },
    {
     "name": "stderr",
     "output_type": "stream",
     "text": [
      "\u001b[32m[I 2022-10-29 14:05:29,725]\u001b[0m Trial 7 pruned. \u001b[0m\n"
     ]
    },
    {
     "name": "stdout",
     "output_type": "stream",
     "text": [
      "Trial 7 pruned. \n"
     ]
    },
    {
     "name": "stderr",
     "output_type": "stream",
     "text": [
      "\u001b[32m[I 2022-10-29 14:05:29,934]\u001b[0m Trial 8 finished with value: 0.1842105263157895 and parameters: {'alpha': 0.029131861520028352}. Best is trial 1 with value: 0.07894736842105265.\u001b[0m\n"
     ]
    },
    {
     "name": "stdout",
     "output_type": "stream",
     "text": [
      "Trial 8 finished with value: 0.1842105263157895 and parameters: {'alpha': 0.029131861520028352}. Best is trial 1 with value: 0.07894736842105265.\n"
     ]
    },
    {
     "name": "stderr",
     "output_type": "stream",
     "text": [
      "\u001b[32m[I 2022-10-29 14:05:30,124]\u001b[0m Trial 9 finished with value: 0.10526315789473684 and parameters: {'alpha': 1.9454758639495873e-05}. Best is trial 1 with value: 0.07894736842105265.\u001b[0m\n"
     ]
    },
    {
     "name": "stdout",
     "output_type": "stream",
     "text": [
      "Trial 9 finished with value: 0.10526315789473684 and parameters: {'alpha': 1.9454758639495873e-05}. Best is trial 1 with value: 0.07894736842105265.\n"
     ]
    },
    {
     "name": "stderr",
     "output_type": "stream",
     "text": [
      "\u001b[32m[I 2022-10-29 14:05:30,300]\u001b[0m Trial 10 finished with value: 0.10526315789473684 and parameters: {'alpha': 5.849197057680647e-05}. Best is trial 1 with value: 0.07894736842105265.\u001b[0m\n"
     ]
    },
    {
     "name": "stdout",
     "output_type": "stream",
     "text": [
      "Trial 10 finished with value: 0.10526315789473684 and parameters: {'alpha': 5.849197057680647e-05}. Best is trial 1 with value: 0.07894736842105265.\n"
     ]
    },
    {
     "name": "stderr",
     "output_type": "stream",
     "text": [
      "\u001b[32m[I 2022-10-29 14:05:30,469]\u001b[0m Trial 11 finished with value: 0.10526315789473684 and parameters: {'alpha': 1.042200475307867e-05}. Best is trial 1 with value: 0.07894736842105265.\u001b[0m\n"
     ]
    },
    {
     "name": "stdout",
     "output_type": "stream",
     "text": [
      "Trial 11 finished with value: 0.10526315789473684 and parameters: {'alpha': 1.042200475307867e-05}. Best is trial 1 with value: 0.07894736842105265.\n"
     ]
    },
    {
     "name": "stderr",
     "output_type": "stream",
     "text": [
      "\u001b[32m[I 2022-10-29 14:05:30,481]\u001b[0m Trial 12 pruned. \u001b[0m\n"
     ]
    },
    {
     "name": "stdout",
     "output_type": "stream",
     "text": [
      "Trial 12 pruned. \n"
     ]
    },
    {
     "name": "stderr",
     "output_type": "stream",
     "text": [
      "\u001b[32m[I 2022-10-29 14:05:30,655]\u001b[0m Trial 13 finished with value: 0.368421052631579 and parameters: {'alpha': 1.2816551986163904e-05}. Best is trial 1 with value: 0.07894736842105265.\u001b[0m\n"
     ]
    },
    {
     "name": "stdout",
     "output_type": "stream",
     "text": [
      "Trial 13 finished with value: 0.368421052631579 and parameters: {'alpha': 1.2816551986163904e-05}. Best is trial 1 with value: 0.07894736842105265.\n"
     ]
    },
    {
     "name": "stderr",
     "output_type": "stream",
     "text": [
      "\u001b[32m[I 2022-10-29 14:05:30,664]\u001b[0m Trial 14 pruned. \u001b[0m\n"
     ]
    },
    {
     "name": "stdout",
     "output_type": "stream",
     "text": [
      "Trial 14 pruned. \n"
     ]
    },
    {
     "name": "stderr",
     "output_type": "stream",
     "text": [
      "\u001b[32m[I 2022-10-29 14:05:30,673]\u001b[0m Trial 15 pruned. \u001b[0m\n"
     ]
    },
    {
     "name": "stdout",
     "output_type": "stream",
     "text": [
      "Trial 15 pruned. \n"
     ]
    },
    {
     "name": "stderr",
     "output_type": "stream",
     "text": [
      "\u001b[32m[I 2022-10-29 14:05:30,931]\u001b[0m Trial 16 finished with value: 0.02631578947368418 and parameters: {'alpha': 0.0014791195339197954}. Best is trial 16 with value: 0.02631578947368418.\u001b[0m\n"
     ]
    },
    {
     "name": "stdout",
     "output_type": "stream",
     "text": [
      "Trial 16 finished with value: 0.02631578947368418 and parameters: {'alpha': 0.0014791195339197954}. Best is trial 16 with value: 0.02631578947368418.\n"
     ]
    },
    {
     "name": "stderr",
     "output_type": "stream",
     "text": [
      "\u001b[32m[I 2022-10-29 14:05:30,949]\u001b[0m Trial 17 pruned. \u001b[0m\n"
     ]
    },
    {
     "name": "stdout",
     "output_type": "stream",
     "text": [
      "Trial 17 pruned. \n"
     ]
    },
    {
     "name": "stderr",
     "output_type": "stream",
     "text": [
      "\u001b[32m[I 2022-10-29 14:05:31,195]\u001b[0m Trial 18 finished with value: 0.07894736842105265 and parameters: {'alpha': 0.0013315643743530355}. Best is trial 16 with value: 0.02631578947368418.\u001b[0m\n"
     ]
    },
    {
     "name": "stdout",
     "output_type": "stream",
     "text": [
      "Trial 18 finished with value: 0.07894736842105265 and parameters: {'alpha': 0.0013315643743530355}. Best is trial 16 with value: 0.02631578947368418.\n"
     ]
    },
    {
     "name": "stderr",
     "output_type": "stream",
     "text": [
      "\u001b[32m[I 2022-10-29 14:05:31,212]\u001b[0m Trial 19 pruned. \u001b[0m\n"
     ]
    },
    {
     "name": "stdout",
     "output_type": "stream",
     "text": [
      "Trial 19 pruned. \n"
     ]
    }
   ],
   "source": [
    "# Add stream handler of stdout to show the messages\n",
    "optuna.logging.get_logger(\"optuna\").addHandler(logging.StreamHandler(sys.stdout))\n",
    "study = optuna.create_study(pruner=optuna.pruners.MedianPruner())\n",
    "study.optimize(objective, n_trials=20)"
   ]
  },
  {
   "cell_type": "code",
   "execution_count": null,
   "id": "89adce14",
   "metadata": {},
   "outputs": [],
   "source": []
  }
 ],
 "metadata": {
  "kernelspec": {
   "display_name": "Python 3 (ipykernel)",
   "language": "python",
   "name": "python3"
  },
  "language_info": {
   "codemirror_mode": {
    "name": "ipython",
    "version": 3
   },
   "file_extension": ".py",
   "mimetype": "text/x-python",
   "name": "python",
   "nbconvert_exporter": "python",
   "pygments_lexer": "ipython3",
   "version": "3.7.4"
  }
 },
 "nbformat": 4,
 "nbformat_minor": 5
}
