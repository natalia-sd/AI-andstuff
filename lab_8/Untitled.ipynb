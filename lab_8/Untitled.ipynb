{
 "cells": [
  {
   "cell_type": "code",
   "execution_count": 1,
   "id": "4ea92ad5",
   "metadata": {},
   "outputs": [],
   "source": [
    "import pandas as pd\n",
    "import numpy as np\n",
    "import random as rd\n",
    "from sklearn.decomposition import PCA\n",
    "from sklearn import preprocessing\n",
    "import matplotlib.pyplot as plt"
   ]
  },
  {
   "cell_type": "code",
   "execution_count": 7,
   "id": "d799d12c",
   "metadata": {},
   "outputs": [],
   "source": [
    "genes = ['gene' + str(i) for i in range(1, 101)]\n",
    "wt = ['wt' + str(i) for i in range(1, 6)]\n",
    "ko = ['ko' + str(i) for i in range(1, 6)]\n",
    "\n",
    "data = pd.DataFrame(columns=[*wt, *ko], index=genes)"
   ]
  },
  {
   "cell_type": "code",
   "execution_count": 3,
   "id": "66def432",
   "metadata": {},
   "outputs": [
    {
     "data": {
      "text/plain": [
       "[['wt1', 'wt2', 'wt3', 'wt4', 'wt5'], ['ko1', 'ko2', 'ko3', 'ko4', 'ko5']]"
      ]
     },
     "execution_count": 3,
     "metadata": {},
     "output_type": "execute_result"
    }
   ],
   "source": [
    "[wt, ko]"
   ]
  },
  {
   "cell_type": "code",
   "execution_count": 6,
   "id": "5adb948e",
   "metadata": {},
   "outputs": [
    {
     "data": {
      "text/plain": [
       "['wt1', 'wt2', 'wt3', 'wt4', 'wt5', 'ko1', 'ko2', 'ko3', 'ko4', 'ko5']"
      ]
     },
     "execution_count": 6,
     "metadata": {},
     "output_type": "execute_result"
    }
   ],
   "source": [
    "[*wt, *ko]"
   ]
  },
  {
   "cell_type": "code",
   "execution_count": 9,
   "id": "b7ee9e34",
   "metadata": {},
   "outputs": [],
   "source": [
    "for gene in data.index:\n",
    "    data.loc[gene, 'wt1': 'wt5'] = np.random.poisson(lam=rd.randrange(10, 1000), size=5)\n",
    "    data.loc[gene, 'ko1': 'ko5'] = np.random.poisson(lam=rd.randrange(10, 1000), size=5) "
   ]
  },
  {
   "cell_type": "code",
   "execution_count": 11,
   "id": "3b362647",
   "metadata": {},
   "outputs": [
    {
     "data": {
      "text/html": [
       "<div>\n",
       "<style scoped>\n",
       "    .dataframe tbody tr th:only-of-type {\n",
       "        vertical-align: middle;\n",
       "    }\n",
       "\n",
       "    .dataframe tbody tr th {\n",
       "        vertical-align: top;\n",
       "    }\n",
       "\n",
       "    .dataframe thead th {\n",
       "        text-align: right;\n",
       "    }\n",
       "</style>\n",
       "<table border=\"1\" class=\"dataframe\">\n",
       "  <thead>\n",
       "    <tr style=\"text-align: right;\">\n",
       "      <th></th>\n",
       "      <th>wt1</th>\n",
       "      <th>wt2</th>\n",
       "      <th>wt3</th>\n",
       "      <th>wt4</th>\n",
       "      <th>wt5</th>\n",
       "      <th>ko1</th>\n",
       "      <th>ko2</th>\n",
       "      <th>ko3</th>\n",
       "      <th>ko4</th>\n",
       "      <th>ko5</th>\n",
       "    </tr>\n",
       "  </thead>\n",
       "  <tbody>\n",
       "    <tr>\n",
       "      <th>gene1</th>\n",
       "      <td>536</td>\n",
       "      <td>553</td>\n",
       "      <td>524</td>\n",
       "      <td>563</td>\n",
       "      <td>534</td>\n",
       "      <td>663</td>\n",
       "      <td>683</td>\n",
       "      <td>662</td>\n",
       "      <td>658</td>\n",
       "      <td>640</td>\n",
       "    </tr>\n",
       "    <tr>\n",
       "      <th>gene2</th>\n",
       "      <td>671</td>\n",
       "      <td>654</td>\n",
       "      <td>698</td>\n",
       "      <td>652</td>\n",
       "      <td>672</td>\n",
       "      <td>753</td>\n",
       "      <td>736</td>\n",
       "      <td>774</td>\n",
       "      <td>755</td>\n",
       "      <td>755</td>\n",
       "    </tr>\n",
       "    <tr>\n",
       "      <th>gene3</th>\n",
       "      <td>505</td>\n",
       "      <td>490</td>\n",
       "      <td>424</td>\n",
       "      <td>412</td>\n",
       "      <td>432</td>\n",
       "      <td>24</td>\n",
       "      <td>27</td>\n",
       "      <td>23</td>\n",
       "      <td>24</td>\n",
       "      <td>21</td>\n",
       "    </tr>\n",
       "    <tr>\n",
       "      <th>gene4</th>\n",
       "      <td>193</td>\n",
       "      <td>198</td>\n",
       "      <td>204</td>\n",
       "      <td>174</td>\n",
       "      <td>189</td>\n",
       "      <td>801</td>\n",
       "      <td>785</td>\n",
       "      <td>873</td>\n",
       "      <td>847</td>\n",
       "      <td>822</td>\n",
       "    </tr>\n",
       "    <tr>\n",
       "      <th>gene5</th>\n",
       "      <td>121</td>\n",
       "      <td>125</td>\n",
       "      <td>134</td>\n",
       "      <td>133</td>\n",
       "      <td>123</td>\n",
       "      <td>438</td>\n",
       "      <td>469</td>\n",
       "      <td>484</td>\n",
       "      <td>456</td>\n",
       "      <td>458</td>\n",
       "    </tr>\n",
       "  </tbody>\n",
       "</table>\n",
       "</div>"
      ],
      "text/plain": [
       "       wt1  wt2  wt3  wt4  wt5  ko1  ko2  ko3  ko4  ko5\n",
       "gene1  536  553  524  563  534  663  683  662  658  640\n",
       "gene2  671  654  698  652  672  753  736  774  755  755\n",
       "gene3  505  490  424  412  432   24   27   23   24   21\n",
       "gene4  193  198  204  174  189  801  785  873  847  822\n",
       "gene5  121  125  134  133  123  438  469  484  456  458"
      ]
     },
     "execution_count": 11,
     "metadata": {},
     "output_type": "execute_result"
    }
   ],
   "source": [
    "data.head()"
   ]
  },
  {
   "cell_type": "code",
   "execution_count": null,
   "id": "50d05b5c",
   "metadata": {},
   "outputs": [],
   "source": []
  },
  {
   "cell_type": "code",
   "execution_count": null,
   "id": "d180e5b1",
   "metadata": {},
   "outputs": [],
   "source": []
  }
 ],
 "metadata": {
  "kernelspec": {
   "display_name": "Python 3 (ipykernel)",
   "language": "python",
   "name": "python3"
  },
  "language_info": {
   "codemirror_mode": {
    "name": "ipython",
    "version": 3
   },
   "file_extension": ".py",
   "mimetype": "text/x-python",
   "name": "python",
   "nbconvert_exporter": "python",
   "pygments_lexer": "ipython3",
   "version": "3.7.4"
  }
 },
 "nbformat": 4,
 "nbformat_minor": 5
}
