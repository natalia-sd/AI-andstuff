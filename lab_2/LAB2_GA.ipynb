{
 "cells": [
  {
   "cell_type": "markdown",
   "id": "7a114933",
   "metadata": {},
   "source": [
    "# LAB 2: Genetic Algorithms. \n",
    "### Pygmo Optimization for Himmelblau, Rastrigin and Rosenbrock Functions\n",
    "### AI and Machine Learning // Suchkova Natalia М8О-114М-22\n",
    "30.10.2022 @ MAI IT-Center"
   ]
  },
  {
   "cell_type": "markdown",
   "id": "f1f149a8",
   "metadata": {},
   "source": [
    "## Table of Contents\n",
    "\n",
    "1. [**Self-adaptive Differential Evolution (sade)**](#gen1)\n",
    "\n",
    "\n",
    "\n",
    "2. [**Grey Wolf Optimizer (gwo)**](#gen2)\n",
    "\n",
    "\n",
    "\n",
    "3. [**Extended Ant Colony Optimization algorithm (gaco)**](#gen3)\n",
    "\n",
    "\n",
    "4. [**Own Defined Optimization Problem**](#gen4)\n",
    "\n"
   ]
  },
  {
   "cell_type": "code",
   "execution_count": 1,
   "id": "8e335e09",
   "metadata": {},
   "outputs": [],
   "source": [
    "import pygmo as pg\n",
    "from pygmo import *\n",
    "from IPython.display import Image\n",
    "from IPython.core.display import HTML "
   ]
  },
  {
   "cell_type": "code",
   "execution_count": 2,
   "id": "60611a60",
   "metadata": {},
   "outputs": [
    {
     "data": {
      "text/plain": [
       "'2.13.0'"
      ]
     },
     "execution_count": 2,
     "metadata": {},
     "output_type": "execute_result"
    }
   ],
   "source": [
    "pg.__version__"
   ]
  },
  {
   "cell_type": "markdown",
   "id": "bf1b4554",
   "metadata": {},
   "source": [
    "<a id='gen1'></a>"
   ]
  },
  {
   "cell_type": "markdown",
   "id": "a29bb996",
   "metadata": {},
   "source": [
    "## Self-adaptive Differential Evolution (SADE)"
   ]
  },
  {
   "cell_type": "markdown",
   "id": "6704dd1d",
   "metadata": {},
   "source": [
    "### Himmelblau"
   ]
  },
  {
   "cell_type": "markdown",
   "id": "b51172e2",
   "metadata": {},
   "source": [
    "**Функция Химмельблау**\t$f(x,y) = (x^2 + y - 11)^2 + (x + y^2 - 7)^2 $"
   ]
  },
  {
   "cell_type": "code",
   "execution_count": 3,
   "id": "d4d9fb3f",
   "metadata": {},
   "outputs": [
    {
     "data": {
      "text/html": [
       "<img src=\"https://wikimedia.org/api/rest_v1/media/math/render/svg/3b6d888196974f862467cfe02748f3ae2ffdf476\"/>"
      ],
      "text/plain": [
       "<IPython.core.display.Image object>"
      ]
     },
     "execution_count": 3,
     "metadata": {},
     "output_type": "execute_result"
    }
   ],
   "source": [
    "Image(url= \"https://wikimedia.org/api/rest_v1/media/math/render/svg/3b6d888196974f862467cfe02748f3ae2ffdf476\")"
   ]
  },
  {
   "cell_type": "code",
   "execution_count": 4,
   "id": "f407def3",
   "metadata": {},
   "outputs": [],
   "source": [
    "class HimmelblauOptimization: \n",
    "    \"\"\"\n",
    "    Задаем проблему Химмельблау, так как не нашла ее в pygmo почему-то :/\n",
    "    This class defines a PyGMO-compatible User-Defined Optimization Problem.\n",
    "    Конструктор  класса\n",
    "    \"\"\"\n",
    "\n",
    "    def __init__(self,\n",
    "                 x_min: float,\n",
    "                 x_max: float,\n",
    "                 y_min: float,\n",
    "                 y_max: float): \n",
    "        \n",
    "        # задаем границы определения функции\n",
    "\n",
    "        self.x_min = x_min\n",
    "        self.x_max = x_max\n",
    "        self.y_min = y_min\n",
    "        self.y_max = y_max\n",
    "\n",
    "    def get_bounds(self):\n",
    "        return ([self.x_min, self.y_min], [self.x_max, self.y_max])\n",
    "\n",
    "    def fitness(self, x: list): # вычисляем значение функции\n",
    "        \n",
    "        function_value = (x[0] * x[0] + x[1] - 11.0) ** 2 + (x[0] + x[1] * x[1] - 7.0) ** 2\n",
    "        return [function_value]"
   ]
  },
  {
   "cell_type": "code",
   "execution_count": 141,
   "id": "f3f05eca",
   "metadata": {},
   "outputs": [
    {
     "name": "stdout",
     "output_type": "stream",
     "text": [
      "Problem name: <class '__main__.HimmelblauOptimization'>\n",
      "\tGlobal dimension:\t\t\t2\n",
      "\tInteger dimension:\t\t\t0\n",
      "\tFitness dimension:\t\t\t1\n",
      "\tNumber of objectives:\t\t\t1\n",
      "\tEquality constraints dimension:\t\t0\n",
      "\tInequality constraints dimension:\t0\n",
      "\tLower bounds: [-5.12, -5.12]\n",
      "\tUpper bounds: [5.12, 5.12]\n",
      "\tHas batch fitness evaluation: false\n",
      "\n",
      "\tHas gradient: false\n",
      "\tUser implemented gradient sparsity: false\n",
      "\tHas hessians: false\n",
      "\tUser implemented hessians sparsity: false\n",
      "\n",
      "\tFitness evaluations: 0\n",
      "\n",
      "\tThread safety: none\n",
      "\n"
     ]
    }
   ],
   "source": [
    "print(problem(HimmelblauOptimization(-5.12, 5.12, -5.12, 5.12)))"
   ]
  },
  {
   "cell_type": "code",
   "execution_count": 5,
   "id": "c9500603",
   "metadata": {},
   "outputs": [],
   "source": [
    "problem_Him = problem(HimmelblauOptimization(-5.12, 5.12, -5.12, 5.12))"
   ]
  },
  {
   "cell_type": "code",
   "execution_count": 7,
   "id": "4b1cab5e",
   "metadata": {},
   "outputs": [],
   "source": [
    "pop_size = 100  # зададим внешние переменные ака характеристики популяции,\n",
    "current_seed = 23 # чтобы условия у всех адгоритмов были одинаковые\n",
    "number_of_evolutions = 10"
   ]
  },
  {
   "cell_type": "code",
   "execution_count": 8,
   "id": "0febab03",
   "metadata": {},
   "outputs": [],
   "source": [
    "def few_evols(algo, pop, gens=10, \n",
    "              number_of_evols=10):\n",
    "    \"\"\"\n",
    "    algo (pygmo obj) - алгоритм для оптимизации\n",
    "    pop (pygmo obj) - популяция\n",
    "    number_of_evols (int) - количество раз эволюции\n",
    "    \"\"\"\n",
    "    cur_algo = algorithm(algo(gen=gens)) # задаем параметры алгоритма\n",
    "    cur_algo.set_verbosity(2)  # частота лагирования\n",
    "    individuals_list = []\n",
    "    fitness_list = []\n",
    "    # Заставляем популяцию эволюционировать\n",
    "    for i in range(number_of_evols):\n",
    "        pop = cur_algo.evolve(pop)  # запускаем эволюцию  начальной популяции\n",
    "        individuals_list.append(pop.get_x()[pop.best_idx()])\n",
    "        fitness_list.append(pop.get_f()[pop.best_idx()])\n",
    "    \n",
    "    log = cur_algo.extract(algo).get_log() # можно высети лог (историю лагирования) каждые n итераций из set_verbosity()\n",
    "    return pop, individuals_list, fitness_list, log\n",
    "\n",
    "\n",
    "\n",
    "'''\n",
    "\n",
    "1/ добавить норм вывод\n",
    "2. добавить визуализацию\n",
    "\n",
    "3. доавить датафрейм с результатами\n",
    "# Вытащим лучших индивидов из всех поколений\n",
    "best_x = [ind[0] for ind in individuals_list]\n",
    "best_y = [ind[1] for ind in individuals_list]\n",
    "\n",
    "# Выразим границы задачи\n",
    "(x_min, y_min), (x_max, y_max) = udp.get_bounds()\n",
    "\n",
    "# Изобразим минимизацию за все поколения\n",
    "fig, ax = plt.subplots(figsize=(9, 5))\n",
    "ax.plot(np.arange(0, number_of_evolutions), fitness_list, label='Значение функции')\n",
    "\n",
    "# Выведем лучший образец\n",
    "champion_n = np.argmin(np.array(fitness_list))\n",
    "ax.scatter(champion_n, np.min(fitness_list), marker='x', color='r', label='Чемпион за всё время')\n",
    "\n",
    "# Оформление\n",
    "ax.set_xlim((0, number_of_evolutions))\n",
    "ax.grid('major')\n",
    "ax.set_title('Лучший представитель для каждого поколения', fontweight='bold')\n",
    "ax.set_xlabel('Номер поколения')\n",
    "ax.set_ylabel(r'Значение функции Химмельблау $f(x,y)$')\n",
    "ax.legend(loc='upper right')\n",
    "ax.set_yscale('log')\n",
    "plt.tight_layout()\n",
    "\n",
    "# Показ\n",
    "plt.show()\n",
    "\n",
    "\n",
    "# Изобразим функцию Химмельблау\n",
    "grid_points = 100\n",
    "x_vector = np.linspace(x_min, x_max, grid_points)\n",
    "y_vector = np.linspace(y_min, y_max, grid_points)\n",
    "x_grid, y_grid = np.meshgrid(x_vector, y_vector)\n",
    "z_grid = np.zeros((grid_points, grid_points))\n",
    "for i in range(x_grid.shape[1]):\n",
    "    for j in range(x_grid.shape[0]):\n",
    "        z_grid[i, j] = udp.fitness([x_grid[i, j], y_grid[i, j]])[0]\n",
    "\n",
    "# Create figure\n",
    "fig, ax = plt.subplots(figsize=(9,5))\n",
    "cs = ax.contour(x_grid, y_grid, z_grid, 50)\n",
    "\n",
    "# Показываем лучших представителей за каждое поколение\n",
    "ax.scatter(best_x, best_y, marker='x', color='r')\n",
    "\n",
    "# Оформление\n",
    "ax.set_xlim((x_min, x_max))\n",
    "ax.set_ylim((y_min, y_max))\n",
    "ax.set_title('Функция Химмельблау', fontweight='bold')\n",
    "ax.set_xlabel('X')\n",
    "ax.set_ylabel('Y')\n",
    "cbar = fig.colorbar(cs)\n",
    "cbar.ax.set_ylabel(r'Значение функции Химмельблау $f(x,y)$')\n",
    "plt.tight_layout()\n",
    "\n",
    "# Показ\n",
    "plt.show()\n",
    "'''"
   ]
  },
  {
   "cell_type": "code",
   "execution_count": 150,
   "id": "5ace7e08",
   "metadata": {},
   "outputs": [
    {
     "name": "stdout",
     "output_type": "stream",
     "text": [
      "Algorithm name: saDE: Self-adaptive Differential Evolution [stochastic]\n",
      "\tThread safety: basic\n",
      "\n",
      "Extra info:\n",
      "\tGenerations: 10\n",
      "\tVariant: 2\n",
      "\tSelf adaptation variant: 1\n",
      "\tStopping xtol: 1e-06\n",
      "\tStopping ftol: 1e-06\n",
      "\tMemory: false\n",
      "\tVerbosity: 0\n",
      "\tSeed: 2053364609\n"
     ]
    }
   ],
   "source": [
    "# можно еще посмотреть информацию обалгоритмах\n",
    "algo1 = algorithm(sade(gen=10))\n",
    "print(algo1)"
   ]
  },
  {
   "cell_type": "code",
   "execution_count": 16,
   "id": "7065ef2a",
   "metadata": {
    "scrolled": false
   },
   "outputs": [
    {
     "data": {
      "text/plain": [
       "[array([0.01574637]),\n",
       " array([0.01479609]),\n",
       " array([0.01479609]),\n",
       " array([0.00696351]),\n",
       " array([0.00156061]),\n",
       " array([0.00042323]),\n",
       " array([0.00042323]),\n",
       " array([1.77233755e-05]),\n",
       " array([1.08741282e-05]),\n",
       " array([3.84186758e-08])]"
      ]
     },
     "execution_count": 16,
     "metadata": {},
     "output_type": "execute_result"
    }
   ],
   "source": [
    "pop_him = population(problem_Him, size=pop_size, seed=current_seed)\n",
    "\n",
    "pop_him = few_evols(sade, pop_him)\n",
    "pop_him[1]  # individuals_list \n",
    "pop_him[2]  # fitness_list"
   ]
  },
  {
   "cell_type": "code",
   "execution_count": 17,
   "id": "f827fb0b",
   "metadata": {},
   "outputs": [
    {
     "data": {
      "text/plain": [
       "array([3.00001464, 1.99994817])"
      ]
     },
     "execution_count": 17,
     "metadata": {},
     "output_type": "execute_result"
    }
   ],
   "source": [
    "pop_him[0].champion_x"
   ]
  },
  {
   "cell_type": "code",
   "execution_count": 18,
   "id": "d30b8480",
   "metadata": {},
   "outputs": [
    {
     "data": {
      "text/plain": [
       "array([3.84186758e-08])"
      ]
     },
     "execution_count": 18,
     "metadata": {},
     "output_type": "execute_result"
    }
   ],
   "source": [
    "pop_him[0].champion_f"
   ]
  },
  {
   "cell_type": "code",
   "execution_count": 19,
   "id": "bb338ea2",
   "metadata": {},
   "outputs": [
    {
     "data": {
      "text/plain": [
       "[(1,\n",
       "  100,\n",
       "  1.0874128164929134e-05,\n",
       "  0.22188336266088843,\n",
       "  0.4802374716656514,\n",
       "  4.493621180730514,\n",
       "  0.039150086887246485),\n",
       " (3,\n",
       "  300,\n",
       "  1.2479699082784465e-06,\n",
       "  0.7296741165126628,\n",
       "  0.34761425424494585,\n",
       "  0.021369314632310177,\n",
       "  0.006311542497788462),\n",
       " (5,\n",
       "  500,\n",
       "  1.2479699082784465e-06,\n",
       "  0.7296741165126628,\n",
       "  0.34761425424494585,\n",
       "  0.021369314632310177,\n",
       "  0.006311542497788462),\n",
       " (7,\n",
       "  700,\n",
       "  1.2479699082784465e-06,\n",
       "  0.7296741165126628,\n",
       "  0.34761425424494585,\n",
       "  0.021369314632310177,\n",
       "  0.006311542497788462),\n",
       " (9,\n",
       "  900,\n",
       "  9.637053337038284e-07,\n",
       "  0.16467530915871262,\n",
       "  0.9252918256657917,\n",
       "  12.071178376275899,\n",
       "  0.0013476604922223142)]"
      ]
     },
     "execution_count": 19,
     "metadata": {},
     "output_type": "execute_result"
    }
   ],
   "source": [
    "pop_him[3] # выводим лог"
   ]
  },
  {
   "cell_type": "markdown",
   "id": "3eeeaad4",
   "metadata": {},
   "source": [
    "### Rastrigin"
   ]
  },
  {
   "cell_type": "markdown",
   "id": "c90844ae",
   "metadata": {},
   "source": [
    "**Функция Растригина** $f(x) = An + \\displaystyle\\sum_{i=1}^{n} \\big\\lbrack  x_i^2 - Acos(2pix_i) \\big\\rbrack$, where $A = 10$"
   ]
  },
  {
   "cell_type": "code",
   "execution_count": 20,
   "id": "e5c4b967",
   "metadata": {},
   "outputs": [
    {
     "data": {
      "text/html": [
       "<img src=\"https://wikimedia.org/api/rest_v1/media/math/render/svg/0ef36b9a7230888e739f302e1a5d67e36c152de8\"/>"
      ],
      "text/plain": [
       "<IPython.core.display.Image object>"
      ]
     },
     "execution_count": 20,
     "metadata": {},
     "output_type": "execute_result"
    }
   ],
   "source": [
    "Image(url= \"https://wikimedia.org/api/rest_v1/media/math/render/svg/0ef36b9a7230888e739f302e1a5d67e36c152de8\")"
   ]
  },
  {
   "cell_type": "code",
   "execution_count": 46,
   "id": "43d3b3ef",
   "metadata": {},
   "outputs": [
    {
     "data": {
      "text/plain": [
       "array([0.01091344, 0.00698779])"
      ]
     },
     "execution_count": 46,
     "metadata": {},
     "output_type": "execute_result"
    }
   ],
   "source": [
    "# classics\n",
    "sade_algo = algorithm(sade(gen=10))\n",
    "problem_Rast = problem(rastrigin(dim=2)) \n",
    "pop = population(problem_Rast, size=pop_size, seed=current_seed)\n",
    "pop = sade_algo.evolve(pop)\n",
    "pop.champion_x"
   ]
  },
  {
   "cell_type": "code",
   "execution_count": 47,
   "id": "698a57ff",
   "metadata": {},
   "outputs": [],
   "source": [
    "problem_Rast = problem(rastrigin(dim=2))  # задаем параметры оптимизируемой функции \"проблемы\" Растиригина"
   ]
  },
  {
   "cell_type": "code",
   "execution_count": 142,
   "id": "57daaf3c",
   "metadata": {},
   "outputs": [
    {
     "name": "stdout",
     "output_type": "stream",
     "text": [
      "Problem name: Rastrigin Function\n",
      "\tGlobal dimension:\t\t\t2\n",
      "\tInteger dimension:\t\t\t0\n",
      "\tFitness dimension:\t\t\t1\n",
      "\tNumber of objectives:\t\t\t1\n",
      "\tEquality constraints dimension:\t\t0\n",
      "\tInequality constraints dimension:\t0\n",
      "\tLower bounds: [-5.12, -5.12]\n",
      "\tUpper bounds: [5.12, 5.12]\n",
      "\tHas batch fitness evaluation: false\n",
      "\n",
      "\tHas gradient: true\n",
      "\tUser implemented gradient sparsity: false\n",
      "\tExpected gradients: 2\n",
      "\tHas hessians: true\n",
      "\tUser implemented hessians sparsity: true\n",
      "\tExpected hessian components: [2]\n",
      "\n",
      "\tFitness evaluations: 0\n",
      "\tGradient evaluations: 0\n",
      "\tHessians evaluations: 0\n",
      "\n",
      "\tThread safety: basic\n",
      "\n"
     ]
    }
   ],
   "source": [
    "print(problem_Rast)"
   ]
  },
  {
   "cell_type": "code",
   "execution_count": 55,
   "id": "0f8f181c",
   "metadata": {},
   "outputs": [],
   "source": [
    "pop_rast = population(problem_Rast, size=pop_size, seed=current_seed)  # задаем параметры начальной популяции\n",
    "\n",
    "pop_rast = few_evols(sade, pop_rast, 10, 3)"
   ]
  },
  {
   "cell_type": "code",
   "execution_count": 56,
   "id": "d2d6006c",
   "metadata": {},
   "outputs": [
    {
     "data": {
      "text/plain": [
       "array([ 0.00284147, -0.00429281])"
      ]
     },
     "execution_count": 56,
     "metadata": {},
     "output_type": "execute_result"
    }
   ],
   "source": [
    "pop_rast[0].champion_x  # лучший результат - индивид"
   ]
  },
  {
   "cell_type": "code",
   "execution_count": 57,
   "id": "05c8c4b1",
   "metadata": {},
   "outputs": [
    {
     "data": {
      "text/plain": [
       "array([0.00525756])"
      ]
     },
     "execution_count": 57,
     "metadata": {},
     "output_type": "execute_result"
    }
   ],
   "source": [
    "pop_rast[0].champion_f  # лучший результат - значение функции"
   ]
  },
  {
   "cell_type": "code",
   "execution_count": 58,
   "id": "c638e90e",
   "metadata": {},
   "outputs": [
    {
     "data": {
      "text/plain": [
       "[(1,\n",
       "  100,\n",
       "  0.6353954428006752,\n",
       "  0.4426384244115158,\n",
       "  0.9896920417573147,\n",
       "  2.3361709090625173,\n",
       "  14.53085389177109),\n",
       " (3,\n",
       "  300,\n",
       "  0.09709159338132167,\n",
       "  0.8603567536901959,\n",
       "  0.20701206331410818,\n",
       "  2.287379395799285,\n",
       "  15.069157741190443),\n",
       " (5,\n",
       "  500,\n",
       "  0.09709159338132167,\n",
       "  0.8603567536901959,\n",
       "  0.20701206331410818,\n",
       "  2.287379395799285,\n",
       "  15.069157741190443),\n",
       " (7,\n",
       "  700,\n",
       "  0.0052575554680522885,\n",
       "  0.42970094146564,\n",
       "  0.8297445196486171,\n",
       "  2.2548602522774632,\n",
       "  15.160991779103712),\n",
       " (9,\n",
       "  900,\n",
       "  0.0052575554680522885,\n",
       "  0.42970094146564,\n",
       "  0.8297445196486171,\n",
       "  2.2548602522774632,\n",
       "  15.160991779103712)]"
      ]
     },
     "execution_count": 58,
     "metadata": {},
     "output_type": "execute_result"
    }
   ],
   "source": [
    "pop_rast[3]"
   ]
  },
  {
   "cell_type": "code",
   "execution_count": null,
   "id": "5ad9e189",
   "metadata": {},
   "outputs": [],
   "source": []
  },
  {
   "cell_type": "markdown",
   "id": "c2d1e30b",
   "metadata": {},
   "source": [
    "### Rosenbrock"
   ]
  },
  {
   "cell_type": "markdown",
   "id": "d77a2046",
   "metadata": {},
   "source": [
    "**Функция Розенброка**\t$f(x) = \\displaystyle\\sum_{i=1}^{n-1} \\big\\lbrack 100(x_{i+1} - x_i^2)^2 +(x_i - 1)^2 \\big\\rbrack$"
   ]
  },
  {
   "cell_type": "code",
   "execution_count": 59,
   "id": "0d1c68d9",
   "metadata": {},
   "outputs": [
    {
     "data": {
      "text/html": [
       "<img src=\"https://wikimedia.org/api/rest_v1/media/math/render/svg/53f008f82897059e3591d0a9a0aa27b60a1745b4\"/>"
      ],
      "text/plain": [
       "<IPython.core.display.Image object>"
      ]
     },
     "execution_count": 59,
     "metadata": {},
     "output_type": "execute_result"
    }
   ],
   "source": [
    "Image(url= \"https://wikimedia.org/api/rest_v1/media/math/render/svg/53f008f82897059e3591d0a9a0aa27b60a1745b4\")"
   ]
  },
  {
   "cell_type": "code",
   "execution_count": 60,
   "id": "41f94383",
   "metadata": {},
   "outputs": [],
   "source": [
    "problem_Rosen = problem(rosenbrock(dim=2)) # задаем проблему Розенброка"
   ]
  },
  {
   "cell_type": "code",
   "execution_count": 61,
   "id": "80ed2eb6",
   "metadata": {},
   "outputs": [],
   "source": [
    "pop_rosen = population(problem_Rosen, size=pop_size, seed=current_seed)\n",
    "pop_rosen = few_evols(sade, pop_rosen)"
   ]
  },
  {
   "cell_type": "code",
   "execution_count": 62,
   "id": "e5be0b2e",
   "metadata": {},
   "outputs": [
    {
     "data": {
      "text/plain": [
       "Problem name: Multidimensional Rosenbrock Function\n",
       "\tGlobal dimension:\t\t\t2\n",
       "\tInteger dimension:\t\t\t0\n",
       "\tFitness dimension:\t\t\t1\n",
       "\tNumber of objectives:\t\t\t1\n",
       "\tEquality constraints dimension:\t\t0\n",
       "\tInequality constraints dimension:\t0\n",
       "\tLower bounds: [-5, -5]\n",
       "\tUpper bounds: [10, 10]\n",
       "\tHas batch fitness evaluation: false\n",
       "\n",
       "\tHas gradient: true\n",
       "\tUser implemented gradient sparsity: false\n",
       "\tExpected gradients: 2\n",
       "\tHas hessians: false\n",
       "\tUser implemented hessians sparsity: false\n",
       "\n",
       "\tFitness evaluations: 10100\n",
       "\tGradient evaluations: 0\n",
       "\n",
       "\tThread safety: constant\n",
       "\n",
       "Population size: 100\n",
       "\n",
       "List of individuals: \n",
       "#0:\n",
       "\tID:\t\t\t1251045422705684049\n",
       "\tDecision vector:\t[1.00003, 1.00008]\n",
       "\tFitness vector:\t\t[2.71005e-08]\n",
       "#1:\n",
       "\tID:\t\t\t13306745122587129611\n",
       "\tDecision vector:\t[1.00158, 1.00307]\n",
       "\tFitness vector:\t\t[3.45565e-06]\n",
       "#2:\n",
       "\tID:\t\t\t2243283290487074856\n",
       "\tDecision vector:\t[1.00102, 1.00199]\n",
       "\tFitness vector:\t\t[1.26185e-06]\n",
       "#3:\n",
       "\tID:\t\t\t14933863474924020957\n",
       "\tDecision vector:\t[1.00027, 1.0008]\n",
       "\tFitness vector:\t\t[7.25206e-06]\n",
       "#4:\n",
       "\tID:\t\t\t17243872877975578934\n",
       "\tDecision vector:\t[1.00024, 1.00048]\n",
       "\tFitness vector:\t\t[5.79635e-08]\n",
       "#5:\n",
       "\tID:\t\t\t6317367564258785355\n",
       "\tDecision vector:\t[1.00134, 1.00274]\n",
       "\tFitness vector:\t\t[2.0926e-06]\n",
       "#6:\n",
       "\tID:\t\t\t5767095581384527037\n",
       "\tDecision vector:\t[1.00016, 1.0003]\n",
       "\tFitness vector:\t\t[8.66739e-08]\n",
       "#7:\n",
       "\tID:\t\t\t11073527033557064662\n",
       "\tDecision vector:\t[1.00115, 1.00226]\n",
       "\tFitness vector:\t\t[1.39935e-06]\n",
       "#8:\n",
       "\tID:\t\t\t12812026609316485676\n",
       "\tDecision vector:\t[1.00003, 1.00002]\n",
       "\tFitness vector:\t\t[1.46415e-07]\n",
       "#9:\n",
       "\tID:\t\t\t833260879212254718\n",
       "\tDecision vector:\t[1.00072, 1.00152]\n",
       "\tFitness vector:\t\t[1.21173e-06]\n",
       "#10:\n",
       "\tID:\t\t\t11561232637769216869\n",
       "\tDecision vector:\t[0.999693, 0.999366]\n",
       "\tFitness vector:\t\t[1.34135e-07]\n",
       "#11:\n",
       "\tID:\t\t\t3237343097608846505\n",
       "\tDecision vector:\t[1.00015, 1.00031]\n",
       "\tFitness vector:\t\t[4.19117e-08]\n",
       "#12:\n",
       "\tID:\t\t\t1493560049471955677\n",
       "\tDecision vector:\t[0.999959, 0.999999]\n",
       "\tFitness vector:\t\t[6.50908e-07]\n",
       "#13:\n",
       "\tID:\t\t\t5786762611976884509\n",
       "\tDecision vector:\t[0.999797, 0.999615]\n",
       "\tFitness vector:\t\t[8.41378e-08]\n",
       "#14:\n",
       "\tID:\t\t\t7639233320059363870\n",
       "\tDecision vector:\t[1.00061, 1.00118]\n",
       "\tFitness vector:\t\t[4.66414e-07]\n",
       "#15:\n",
       "\tID:\t\t\t7282624395788394193\n",
       "\tDecision vector:\t[0.99949, 0.999042]\n",
       "\tFitness vector:\t\t[6.45088e-07]\n",
       "#16:\n",
       "\tID:\t\t\t13337743603274878396\n",
       "\tDecision vector:\t[0.999923, 0.999814]\n",
       "\tFitness vector:\t\t[1.12675e-07]\n",
       "#17:\n",
       "\tID:\t\t\t9437810700771673774\n",
       "\tDecision vector:\t[1.00027, 1.00055]\n",
       "\tFitness vector:\t\t[1.05031e-07]\n",
       "#18:\n",
       "\tID:\t\t\t6339142993910244939\n",
       "\tDecision vector:\t[0.998816, 0.997668]\n",
       "\tFitness vector:\t\t[1.52403e-06]\n",
       "#19:\n",
       "\tID:\t\t\t8649830960307122186\n",
       "\tDecision vector:\t[0.999991, 1.00006]\n",
       "\tFitness vector:\t\t[5.79941e-07]\n",
       "#20:\n",
       "\tID:\t\t\t10085550129271458343\n",
       "\tDecision vector:\t[0.999699, 0.999337]\n",
       "\tFitness vector:\t\t[4.53981e-07]\n",
       "#21:\n",
       "\tID:\t\t\t15400720284873602448\n",
       "\tDecision vector:\t[1.00008, 1.00015]\n",
       "\tFitness vector:\t\t[8.72376e-09]\n",
       "#22:\n",
       "\tID:\t\t\t6421162328777384527\n",
       "\tDecision vector:\t[0.998443, 0.996904]\n",
       "\tFitness vector:\t\t[2.44659e-06]\n",
       "#23:\n",
       "\tID:\t\t\t14447232942589257380\n",
       "\tDecision vector:\t[1.00017, 1.00032]\n",
       "\tFitness vector:\t\t[7.79388e-08]\n",
       "#24:\n",
       "\tID:\t\t\t12009041140382375363\n",
       "\tDecision vector:\t[1.0011, 1.00226]\n",
       "\tFitness vector:\t\t[1.59001e-06]\n",
       "#25:\n",
       "\tID:\t\t\t16104482632050039807\n",
       "\tDecision vector:\t[1.00322, 1.00656]\n",
       "\tFitness vector:\t\t[1.14891e-05]\n",
       "#26:\n",
       "\tID:\t\t\t7575173218475417183\n",
       "\tDecision vector:\t[0.999879, 0.999625]\n",
       "\tFitness vector:\t\t[1.76359e-06]\n",
       "#27:\n",
       "\tID:\t\t\t3397139832381249544\n",
       "\tDecision vector:\t[0.998883, 0.997945]\n",
       "\tFitness vector:\t\t[4.44522e-06]\n",
       "#28:\n",
       "\tID:\t\t\t1718836477742309153\n",
       "\tDecision vector:\t[1.00053, 1.00106]\n",
       "\tFitness vector:\t\t[2.79119e-07]\n",
       "#29:\n",
       "\tID:\t\t\t10281461559782717617\n",
       "\tDecision vector:\t[1.00103, 1.00214]\n",
       "\tFitness vector:\t\t[1.50615e-06]\n",
       "#30:\n",
       "\tID:\t\t\t18019364056057569899\n",
       "\tDecision vector:\t[1.00034, 1.00076]\n",
       "\tFitness vector:\t\t[7.72536e-07]\n",
       "#31:\n",
       "\tID:\t\t\t5455110804170315819\n",
       "\tDecision vector:\t[0.999436, 0.998944]\n",
       "\tFitness vector:\t\t[8.41304e-07]\n",
       "#32:\n",
       "\tID:\t\t\t7252505274711861049\n",
       "\tDecision vector:\t[0.999727, 0.999373]\n",
       "\tFitness vector:\t\t[7.19862e-07]\n",
       "#33:\n",
       "\tID:\t\t\t15104173583108019228\n",
       "\tDecision vector:\t[1.00037, 1.00082]\n",
       "\tFitness vector:\t\t[6.66761e-07]\n",
       "#34:\n",
       "\tID:\t\t\t7268231045904028443\n",
       "\tDecision vector:\t[1.00026, 1.00043]\n",
       "\tFitness vector:\t\t[7.24399e-07]\n",
       "#35:\n",
       "\tID:\t\t\t16432822988885431091\n",
       "\tDecision vector:\t[1.00021, 1.00042]\n",
       "\tFitness vector:\t\t[4.72036e-08]\n",
       "#36:\n",
       "\tID:\t\t\t555722181771916988\n",
       "\tDecision vector:\t[0.999804, 0.99957]\n",
       "\tFitness vector:\t\t[1.88897e-07]\n",
       "#37:\n",
       "\tID:\t\t\t16598597020739597623\n",
       "\tDecision vector:\t[1.00025, 1.00057]\n",
       "\tFitness vector:\t\t[5.94746e-07]\n",
       "#38:\n",
       "\tID:\t\t\t5369950823060511684\n",
       "\tDecision vector:\t[1.00031, 1.0006]\n",
       "\tFitness vector:\t\t[1.14734e-07]\n",
       "#39:\n",
       "\tID:\t\t\t18090940414178391071\n",
       "\tDecision vector:\t[1.00008, 1.00032]\n",
       "\tFitness vector:\t\t[2.818e-06]\n",
       "#40:\n",
       "\tID:\t\t\t14252035989901203085\n",
       "\tDecision vector:\t[1.00031, 1.00059]\n",
       "\tFitness vector:\t\t[1.53366e-07]\n",
       "#41:\n",
       "\tID:\t\t\t14986937231927871885\n",
       "\tDecision vector:\t[1.00281, 1.0056]\n",
       "\tFitness vector:\t\t[7.99104e-06]\n",
       "#42:\n",
       "\tID:\t\t\t8757059723595161180\n",
       "\tDecision vector:\t[1.00005, 1.00012]\n",
       "\tFitness vector:\t\t[1.53872e-08]\n",
       "#43:\n",
       "\tID:\t\t\t5579902396453259269\n",
       "\tDecision vector:\t[1.00051, 1.00095]\n",
       "\tFitness vector:\t\t[7.34351e-07]\n",
       "#44:\n",
       "\tID:\t\t\t5979024114906185547\n",
       "\tDecision vector:\t[0.999804, 0.999583]\n",
       "\tFitness vector:\t\t[1.01613e-07]\n",
       "#45:\n",
       "\tID:\t\t\t16352366715774896642\n",
       "\tDecision vector:\t[1.00021, 1.0004]\n",
       "\tFitness vector:\t\t[1.46138e-07]\n",
       "#46:\n",
       "\tID:\t\t\t7923656245360582326\n",
       "\tDecision vector:\t[1.00117, 1.00227]\n",
       "\tFitness vector:\t\t[1.95695e-06]\n",
       "#47:\n",
       "\tID:\t\t\t56790861320005441\n",
       "\tDecision vector:\t[0.999519, 0.998958]\n",
       "\tFitness vector:\t\t[8.80384e-07]\n",
       "#48:\n",
       "\tID:\t\t\t11418474414981513897\n",
       "\tDecision vector:\t[1.0003, 1.00059]\n",
       "\tFitness vector:\t\t[1.1883e-07]\n",
       "#49:\n",
       "\tID:\t\t\t11776671038837028290\n",
       "\tDecision vector:\t[0.999944, 0.999921]\n",
       "\tFitness vector:\t\t[1.18656e-07]\n",
       "#50:\n",
       "\tID:\t\t\t11107408415616544811\n",
       "\tDecision vector:\t[1.00013, 1.00029]\n",
       "\tFitness vector:\t\t[9.90948e-08]\n",
       "#51:\n",
       "\tID:\t\t\t1566085489339561191\n",
       "\tDecision vector:\t[0.99967, 0.999338]\n",
       "\tFitness vector:\t\t[1.09466e-07]\n",
       "#52:\n",
       "\tID:\t\t\t3482554069501026497\n",
       "\tDecision vector:\t[0.999392, 0.998672]\n",
       "\tFitness vector:\t\t[1.63447e-06]\n",
       "#53:\n",
       "\tID:\t\t\t14260913417514336727\n",
       "\tDecision vector:\t[1.00037, 1.00086]\n",
       "\tFitness vector:\t\t[1.38609e-06]\n",
       "#54:\n",
       "\tID:\t\t\t10889186707573297996\n",
       "\tDecision vector:\t[1.00079, 1.00159]\n",
       "\tFitness vector:\t\t[6.2612e-07]\n",
       "#55:\n",
       "\tID:\t\t\t12655133944716802697\n",
       "\tDecision vector:\t[1.00249, 1.00497]\n",
       "\tFitness vector:\t\t[6.23407e-06]\n",
       "#56:\n",
       "\tID:\t\t\t1348293095547690317\n",
       "\tDecision vector:\t[0.99971, 0.999428]\n",
       "\tFitness vector:\t\t[9.14906e-08]\n",
       "#57:\n",
       "\tID:\t\t\t10357247843320647920\n",
       "\tDecision vector:\t[1.00042, 1.00089]\n",
       "\tFitness vector:\t\t[3.98496e-07]\n",
       "#58:\n",
       "\tID:\t\t\t4770872430786725668\n",
       "\tDecision vector:\t[0.999623, 0.999273]\n",
       "\tFitness vector:\t\t[2.1542e-07]\n",
       "#59:\n",
       "\tID:\t\t\t4080116852701051492\n",
       "\tDecision vector:\t[1.00002, 1.00011]\n",
       "\tFitness vector:\t\t[5.29417e-07]\n",
       "#60:\n",
       "\tID:\t\t\t2123230456092929506\n",
       "\tDecision vector:\t[1.00066, 1.00137]\n",
       "\tFitness vector:\t\t[7.64124e-07]\n",
       "#61:\n",
       "\tID:\t\t\t1827259505337045102\n",
       "\tDecision vector:\t[0.999799, 0.999516]\n",
       "\tFitness vector:\t\t[6.97746e-07]\n",
       "#62:\n",
       "\tID:\t\t\t4498569842041495355\n",
       "\tDecision vector:\t[0.999682, 0.999444]\n",
       "\tFitness vector:\t\t[7.50847e-07]\n",
       "#63:\n",
       "\tID:\t\t\t13762056892306013522\n",
       "\tDecision vector:\t[0.999816, 0.9996]\n",
       "\tFitness vector:\t\t[1.38765e-07]\n",
       "#64:\n",
       "\tID:\t\t\t10964422453348071939\n",
       "\tDecision vector:\t[0.999649, 0.999265]\n",
       "\tFitness vector:\t\t[2.32701e-07]\n",
       "#65:\n",
       "\tID:\t\t\t9901655082978567328\n",
       "\tDecision vector:\t[0.999151, 0.998314]\n",
       "\tFitness vector:\t\t[7.349e-07]\n",
       "#66:\n",
       "\tID:\t\t\t6928199331860439658\n",
       "\tDecision vector:\t[1.00026, 1.00058]\n",
       "\tFitness vector:\t\t[2.94729e-07]\n",
       "#67:\n",
       "\tID:\t\t\t4335178117327608557\n",
       "\tDecision vector:\t[1.00089, 1.00184]\n",
       "\tFitness vector:\t\t[1.13842e-06]\n",
       "#68:\n",
       "\tID:\t\t\t10898607909577865434\n",
       "\tDecision vector:\t[1.00021, 1.00038]\n",
       "\tFitness vector:\t\t[2.09054e-07]\n",
       "#69:\n",
       "\tID:\t\t\t15525459386547006313\n",
       "\tDecision vector:\t[1.00243, 1.00485]\n",
       "\tFitness vector:\t\t[5.97411e-06]\n",
       "#70:\n",
       "\tID:\t\t\t8804518294443752374\n",
       "\tDecision vector:\t[1.00061, 1.00118]\n",
       "\tFitness vector:\t\t[5.81313e-07]\n",
       "#71:\n",
       "\tID:\t\t\t1544769756573396925\n",
       "\tDecision vector:\t[1.00008, 1.00013]\n",
       "\tFitness vector:\t\t[1.3712e-07]\n",
       "#72:\n",
       "\tID:\t\t\t17215277337663244045\n",
       "\tDecision vector:\t[1.00039, 1.00077]\n",
       "\tFitness vector:\t\t[1.53257e-07]\n",
       "#73:\n",
       "\tID:\t\t\t8966567697882271707\n",
       "\tDecision vector:\t[0.99913, 0.998152]\n",
       "\tFitness vector:\t\t[1.93337e-06]\n",
       "#74:\n",
       "\tID:\t\t\t2312497592050510608\n",
       "\tDecision vector:\t[0.998554, 0.997079]\n",
       "\tFitness vector:\t\t[2.18675e-06]\n",
       "#75:\n",
       "\tID:\t\t\t15483079761747996995\n",
       "\tDecision vector:\t[1.00024, 1.00048]\n",
       "\tFitness vector:\t\t[5.76356e-08]\n",
       "#76:\n",
       "\tID:\t\t\t7054120651797810135\n",
       "\tDecision vector:\t[0.999802, 0.999625]\n",
       "\tFitness vector:\t\t[8.27734e-08]\n",
       "#77:\n",
       "\tID:\t\t\t2005054917284423186\n",
       "\tDecision vector:\t[0.999704, 0.999419]\n",
       "\tFitness vector:\t\t[9.95714e-08]\n",
       "#78:\n",
       "\tID:\t\t\t17624142894656024433\n",
       "\tDecision vector:\t[1.00184, 1.00378]\n",
       "\tFitness vector:\t\t[4.41828e-06]\n",
       "#79:\n",
       "\tID:\t\t\t6339230956363130937\n",
       "\tDecision vector:\t[1.0002, 1.00038]\n",
       "\tFitness vector:\t\t[6.25252e-08]\n",
       "#80:\n",
       "\tID:\t\t\t3946860675051063081\n",
       "\tDecision vector:\t[0.999695, 0.999369]\n",
       "\tFitness vector:\t\t[1.39707e-07]\n",
       "#81:\n",
       "\tID:\t\t\t8460774354138544100\n",
       "\tDecision vector:\t[0.999687, 0.999381]\n",
       "\tFitness vector:\t\t[1.01638e-07]\n",
       "#82:\n",
       "\tID:\t\t\t459237382884374416\n",
       "\tDecision vector:\t[1.00035, 1.00075]\n",
       "\tFitness vector:\t\t[4.28342e-07]\n",
       "#83:\n",
       "\tID:\t\t\t4523530400395399803\n",
       "\tDecision vector:\t[0.999877, 0.999734]\n",
       "\tFitness vector:\t\t[5.18545e-08]\n",
       "#84:\n",
       "\tID:\t\t\t12051468203408101324\n",
       "\tDecision vector:\t[1.00019, 1.0004]\n",
       "\tFitness vector:\t\t[5.01568e-08]\n",
       "#85:\n",
       "\tID:\t\t\t6223503400744349375\n",
       "\tDecision vector:\t[0.995937, 0.99206]\n",
       "\tFitness vector:\t\t[1.93664e-05]\n",
       "#86:\n",
       "\tID:\t\t\t397704971183693025\n",
       "\tDecision vector:\t[1.00006, 1.0002]\n",
       "\tFitness vector:\t\t[5.23036e-07]\n",
       "#87:\n",
       "\tID:\t\t\t5025097827683351117\n",
       "\tDecision vector:\t[1.00063, 1.00135]\n",
       "\tFitness vector:\t\t[1.18019e-06]\n",
       "#88:\n",
       "\tID:\t\t\t17736344091763247393\n",
       "\tDecision vector:\t[1.00025, 1.00051]\n",
       "\tFitness vector:\t\t[6.45355e-08]\n",
       "#89:\n",
       "\tID:\t\t\t13143780143580170534\n",
       "\tDecision vector:\t[0.999958, 0.999888]\n",
       "\tFitness vector:\t\t[8.53261e-08]\n",
       "#90:\n",
       "\tID:\t\t\t11312704168777721616\n",
       "\tDecision vector:\t[1.00042, 1.00087]\n",
       "\tFitness vector:\t\t[2.89512e-07]\n",
       "#91:\n",
       "\tID:\t\t\t785718120196505116\n",
       "\tDecision vector:\t[0.999899, 0.999771]\n",
       "\tFitness vector:\t\t[8.00587e-08]\n",
       "#92:\n",
       "\tID:\t\t\t18055394368483603905\n",
       "\tDecision vector:\t[0.999842, 0.999694]\n",
       "\tFitness vector:\t\t[3.5687e-08]\n",
       "#93:\n",
       "\tID:\t\t\t10105756015355935779\n",
       "\tDecision vector:\t[1.00037, 1.00067]\n",
       "\tFitness vector:\t\t[6.9479e-07]\n",
       "#94:\n",
       "\tID:\t\t\t9444456556214811969\n",
       "\tDecision vector:\t[1.00026, 1.00055]\n",
       "\tFitness vector:\t\t[2.0149e-07]\n",
       "#95:\n",
       "\tID:\t\t\t14960565121114444993\n",
       "\tDecision vector:\t[1.00442, 1.00889]\n",
       "\tFitness vector:\t\t[1.96099e-05]\n",
       "#96:\n",
       "\tID:\t\t\t13210592338659723352\n",
       "\tDecision vector:\t[1.00078, 1.0016]\n",
       "\tFitness vector:\t\t[7.61149e-07]\n",
       "#97:\n",
       "\tID:\t\t\t15327125903161815289\n",
       "\tDecision vector:\t[1.00022, 1.00042]\n",
       "\tFitness vector:\t\t[9.23274e-08]\n",
       "#98:\n",
       "\tID:\t\t\t2710934813496980636\n",
       "\tDecision vector:\t[0.999337, 0.998548]\n",
       "\tFitness vector:\t\t[2.0214e-06]\n",
       "#99:\n",
       "\tID:\t\t\t10888205333614501837\n",
       "\tDecision vector:\t[1.00079, 1.00166]\n",
       "\tFitness vector:\t\t[1.30291e-06]\n",
       "\n",
       "Champion decision vector: [1.00008, 1.00015]\n",
       "Champion fitness: [8.72376e-09]"
      ]
     },
     "execution_count": 62,
     "metadata": {},
     "output_type": "execute_result"
    }
   ],
   "source": [
    "pop_rosen[0]"
   ]
  },
  {
   "cell_type": "code",
   "execution_count": 63,
   "id": "0e88c8aa",
   "metadata": {},
   "outputs": [
    {
     "data": {
      "text/plain": [
       "array([1.00007685, 1.00014839])"
      ]
     },
     "execution_count": 63,
     "metadata": {},
     "output_type": "execute_result"
    }
   ],
   "source": [
    "pop_rosen[0].champion_x"
   ]
  },
  {
   "cell_type": "code",
   "execution_count": 64,
   "id": "b201ff5b",
   "metadata": {},
   "outputs": [
    {
     "data": {
      "text/plain": [
       "array([8.72375668e-09])"
      ]
     },
     "execution_count": 64,
     "metadata": {},
     "output_type": "execute_result"
    }
   ],
   "source": [
    "pop_rosen[0].champion_f"
   ]
  },
  {
   "cell_type": "markdown",
   "id": "0b6c75dd",
   "metadata": {},
   "source": [
    "<a id='gen2'></a>"
   ]
  },
  {
   "cell_type": "markdown",
   "id": "ddada8d0",
   "metadata": {},
   "source": [
    "## Grey Wolf Optimizer (gwo)"
   ]
  },
  {
   "cell_type": "markdown",
   "id": "6d91acb8",
   "metadata": {},
   "source": [
    "### Himmelblau"
   ]
  },
  {
   "cell_type": "code",
   "execution_count": 65,
   "id": "80b53464",
   "metadata": {},
   "outputs": [],
   "source": [
    "pop_him = population(problem_Him, size=pop_size, seed=current_seed)  # задаем параметры начальной популяции\n",
    "\n",
    "pop_him = few_evols(gwo, pop_him)"
   ]
  },
  {
   "cell_type": "code",
   "execution_count": 66,
   "id": "c4d32e5b",
   "metadata": {},
   "outputs": [
    {
     "data": {
      "text/plain": [
       "array([-2.80264294,  3.12996135])"
      ]
     },
     "execution_count": 66,
     "metadata": {},
     "output_type": "execute_result"
    }
   ],
   "source": [
    "pop_him[0].champion_x "
   ]
  },
  {
   "cell_type": "code",
   "execution_count": 67,
   "id": "b5e2a944",
   "metadata": {},
   "outputs": [
    {
     "data": {
      "text/plain": [
       "array([0.00026781])"
      ]
     },
     "execution_count": 67,
     "metadata": {},
     "output_type": "execute_result"
    }
   ],
   "source": [
    "pop_him[0].champion_f"
   ]
  },
  {
   "cell_type": "markdown",
   "id": "0d68b465",
   "metadata": {},
   "source": [
    "### Rastrigin"
   ]
  },
  {
   "cell_type": "code",
   "execution_count": 116,
   "id": "ad4f20a5",
   "metadata": {},
   "outputs": [],
   "source": [
    "pop_rast = population(problem_Rast, size=pop_size, seed=current_seed)\n",
    "\n",
    "pop_rast = few_evols(gwo, pop_rast, 5, 2)"
   ]
  },
  {
   "cell_type": "code",
   "execution_count": 117,
   "id": "dfef2b3f",
   "metadata": {},
   "outputs": [
    {
     "data": {
      "text/plain": [
       "(Problem name: Rastrigin Function\n",
       " \tGlobal dimension:\t\t\t2\n",
       " \tInteger dimension:\t\t\t0\n",
       " \tFitness dimension:\t\t\t1\n",
       " \tNumber of objectives:\t\t\t1\n",
       " \tEquality constraints dimension:\t\t0\n",
       " \tInequality constraints dimension:\t0\n",
       " \tLower bounds: [-5.12, -5.12]\n",
       " \tUpper bounds: [5.12, 5.12]\n",
       " \tHas batch fitness evaluation: false\n",
       " \n",
       " \tHas gradient: true\n",
       " \tUser implemented gradient sparsity: false\n",
       " \tExpected gradients: 2\n",
       " \tHas hessians: true\n",
       " \tUser implemented hessians sparsity: true\n",
       " \tExpected hessian components: [2]\n",
       " \n",
       " \tFitness evaluations: 1100\n",
       " \tGradient evaluations: 0\n",
       " \tHessians evaluations: 0\n",
       " \n",
       " \tThread safety: basic\n",
       " \n",
       " Population size: 100\n",
       " \n",
       " List of individuals: \n",
       " #0:\n",
       " \tID:\t\t\t1251045422705684049\n",
       " \tDecision vector:\t[4.55588e-08, -7.08233e-08]\n",
       " \tFitness vector:\t\t[1.40687e-12]\n",
       " #1:\n",
       " \tID:\t\t\t13306745122587129611\n",
       " \tDecision vector:\t[7.72134e-08, -7.15263e-08]\n",
       " \tFitness vector:\t\t[2.19558e-12]\n",
       " #2:\n",
       " \tID:\t\t\t2243283290487074856\n",
       " \tDecision vector:\t[5.98136e-08, -9.39822e-08]\n",
       " \tFitness vector:\t\t[2.46203e-12]\n",
       " #3:\n",
       " \tID:\t\t\t14933863474924020957\n",
       " \tDecision vector:\t[6.0862e-08, -7.87773e-08]\n",
       " \tFitness vector:\t\t[1.96465e-12]\n",
       " #4:\n",
       " \tID:\t\t\t17243872877975578934\n",
       " \tDecision vector:\t[5.54115e-08, -8.11943e-08]\n",
       " \tFitness vector:\t\t[1.91847e-12]\n",
       " #5:\n",
       " \tID:\t\t\t6317367564258785355\n",
       " \tDecision vector:\t[5.35947e-08, -8.19999e-08]\n",
       " \tFitness vector:\t\t[1.90425e-12]\n",
       " #6:\n",
       " \tID:\t\t\t5767095581384527037\n",
       " \tDecision vector:\t[5.2989e-08, -8.22685e-08]\n",
       " \tFitness vector:\t\t[1.9007e-12]\n",
       " #7:\n",
       " \tID:\t\t\t11073527033557064662\n",
       " \tDecision vector:\t[5.27872e-08, -8.2358e-08]\n",
       " \tFitness vector:\t\t[1.89715e-12]\n",
       " #8:\n",
       " \tID:\t\t\t12812026609316485676\n",
       " \tDecision vector:\t[5.27199e-08, -8.23878e-08]\n",
       " \tFitness vector:\t\t[1.89715e-12]\n",
       " #9:\n",
       " \tID:\t\t\t833260879212254718\n",
       " \tDecision vector:\t[5.27199e-08, -8.23878e-08]\n",
       " \tFitness vector:\t\t[1.89715e-12]\n",
       " #10:\n",
       " \tID:\t\t\t11561232637769216869\n",
       " \tDecision vector:\t[5.27199e-08, -8.23878e-08]\n",
       " \tFitness vector:\t\t[1.89715e-12]\n",
       " #11:\n",
       " \tID:\t\t\t3237343097608846505\n",
       " \tDecision vector:\t[5.27199e-08, -8.23878e-08]\n",
       " \tFitness vector:\t\t[1.89715e-12]\n",
       " #12:\n",
       " \tID:\t\t\t1493560049471955677\n",
       " \tDecision vector:\t[5.27199e-08, -8.23878e-08]\n",
       " \tFitness vector:\t\t[1.89715e-12]\n",
       " #13:\n",
       " \tID:\t\t\t5786762611976884509\n",
       " \tDecision vector:\t[5.27199e-08, -8.23878e-08]\n",
       " \tFitness vector:\t\t[1.89715e-12]\n",
       " #14:\n",
       " \tID:\t\t\t7639233320059363870\n",
       " \tDecision vector:\t[5.27199e-08, -8.23878e-08]\n",
       " \tFitness vector:\t\t[1.89715e-12]\n",
       " #15:\n",
       " \tID:\t\t\t7282624395788394193\n",
       " \tDecision vector:\t[5.27199e-08, -8.23878e-08]\n",
       " \tFitness vector:\t\t[1.89715e-12]\n",
       " #16:\n",
       " \tID:\t\t\t13337743603274878396\n",
       " \tDecision vector:\t[5.27199e-08, -8.23878e-08]\n",
       " \tFitness vector:\t\t[1.89715e-12]\n",
       " #17:\n",
       " \tID:\t\t\t9437810700771673774\n",
       " \tDecision vector:\t[5.27199e-08, -8.23878e-08]\n",
       " \tFitness vector:\t\t[1.89715e-12]\n",
       " #18:\n",
       " \tID:\t\t\t6339142993910244939\n",
       " \tDecision vector:\t[5.27199e-08, -8.23878e-08]\n",
       " \tFitness vector:\t\t[1.89715e-12]\n",
       " #19:\n",
       " \tID:\t\t\t8649830960307122186\n",
       " \tDecision vector:\t[5.27199e-08, -8.23878e-08]\n",
       " \tFitness vector:\t\t[1.89715e-12]\n",
       " #20:\n",
       " \tID:\t\t\t10085550129271458343\n",
       " \tDecision vector:\t[5.27199e-08, -8.23878e-08]\n",
       " \tFitness vector:\t\t[1.89715e-12]\n",
       " #21:\n",
       " \tID:\t\t\t15400720284873602448\n",
       " \tDecision vector:\t[5.27199e-08, -8.23878e-08]\n",
       " \tFitness vector:\t\t[1.89715e-12]\n",
       " #22:\n",
       " \tID:\t\t\t6421162328777384527\n",
       " \tDecision vector:\t[5.27199e-08, -8.23878e-08]\n",
       " \tFitness vector:\t\t[1.89715e-12]\n",
       " #23:\n",
       " \tID:\t\t\t14447232942589257380\n",
       " \tDecision vector:\t[5.27199e-08, -8.23878e-08]\n",
       " \tFitness vector:\t\t[1.89715e-12]\n",
       " #24:\n",
       " \tID:\t\t\t12009041140382375363\n",
       " \tDecision vector:\t[5.27199e-08, -8.23878e-08]\n",
       " \tFitness vector:\t\t[1.89715e-12]\n",
       " #25:\n",
       " \tID:\t\t\t16104482632050039807\n",
       " \tDecision vector:\t[5.27199e-08, -8.23878e-08]\n",
       " \tFitness vector:\t\t[1.89715e-12]\n",
       " #26:\n",
       " \tID:\t\t\t7575173218475417183\n",
       " \tDecision vector:\t[5.27199e-08, -8.23878e-08]\n",
       " \tFitness vector:\t\t[1.89715e-12]\n",
       " #27:\n",
       " \tID:\t\t\t3397139832381249544\n",
       " \tDecision vector:\t[5.27199e-08, -8.23878e-08]\n",
       " \tFitness vector:\t\t[1.89715e-12]\n",
       " #28:\n",
       " \tID:\t\t\t1718836477742309153\n",
       " \tDecision vector:\t[5.27199e-08, -8.23878e-08]\n",
       " \tFitness vector:\t\t[1.89715e-12]\n",
       " #29:\n",
       " \tID:\t\t\t10281461559782717617\n",
       " \tDecision vector:\t[5.27199e-08, -8.23878e-08]\n",
       " \tFitness vector:\t\t[1.89715e-12]\n",
       " #30:\n",
       " \tID:\t\t\t18019364056057569899\n",
       " \tDecision vector:\t[5.27199e-08, -8.23878e-08]\n",
       " \tFitness vector:\t\t[1.89715e-12]\n",
       " #31:\n",
       " \tID:\t\t\t5455110804170315819\n",
       " \tDecision vector:\t[5.27199e-08, -8.23878e-08]\n",
       " \tFitness vector:\t\t[1.89715e-12]\n",
       " #32:\n",
       " \tID:\t\t\t7252505274711861049\n",
       " \tDecision vector:\t[5.27199e-08, -8.23878e-08]\n",
       " \tFitness vector:\t\t[1.89715e-12]\n",
       " #33:\n",
       " \tID:\t\t\t15104173583108019228\n",
       " \tDecision vector:\t[5.27199e-08, -8.23878e-08]\n",
       " \tFitness vector:\t\t[1.89715e-12]\n",
       " #34:\n",
       " \tID:\t\t\t7268231045904028443\n",
       " \tDecision vector:\t[5.27199e-08, -8.23878e-08]\n",
       " \tFitness vector:\t\t[1.89715e-12]\n",
       " #35:\n",
       " \tID:\t\t\t16432822988885431091\n",
       " \tDecision vector:\t[5.27199e-08, -8.23878e-08]\n",
       " \tFitness vector:\t\t[1.89715e-12]\n",
       " #36:\n",
       " \tID:\t\t\t555722181771916988\n",
       " \tDecision vector:\t[5.27199e-08, -8.23878e-08]\n",
       " \tFitness vector:\t\t[1.89715e-12]\n",
       " #37:\n",
       " \tID:\t\t\t16598597020739597623\n",
       " \tDecision vector:\t[5.27199e-08, -8.23878e-08]\n",
       " \tFitness vector:\t\t[1.89715e-12]\n",
       " #38:\n",
       " \tID:\t\t\t5369950823060511684\n",
       " \tDecision vector:\t[5.27199e-08, -8.23878e-08]\n",
       " \tFitness vector:\t\t[1.89715e-12]\n",
       " #39:\n",
       " \tID:\t\t\t18090940414178391071\n",
       " \tDecision vector:\t[5.27199e-08, -8.23878e-08]\n",
       " \tFitness vector:\t\t[1.89715e-12]\n",
       " #40:\n",
       " \tID:\t\t\t14252035989901203085\n",
       " \tDecision vector:\t[5.27199e-08, -8.23878e-08]\n",
       " \tFitness vector:\t\t[1.89715e-12]\n",
       " #41:\n",
       " \tID:\t\t\t14986937231927871885\n",
       " \tDecision vector:\t[5.27199e-08, -8.23878e-08]\n",
       " \tFitness vector:\t\t[1.89715e-12]\n",
       " #42:\n",
       " \tID:\t\t\t8757059723595161180\n",
       " \tDecision vector:\t[5.27199e-08, -8.23878e-08]\n",
       " \tFitness vector:\t\t[1.89715e-12]\n",
       " #43:\n",
       " \tID:\t\t\t5579902396453259269\n",
       " \tDecision vector:\t[5.27199e-08, -8.23878e-08]\n",
       " \tFitness vector:\t\t[1.89715e-12]\n",
       " #44:\n",
       " \tID:\t\t\t5979024114906185547\n",
       " \tDecision vector:\t[5.27199e-08, -8.23878e-08]\n",
       " \tFitness vector:\t\t[1.89715e-12]\n",
       " #45:\n",
       " \tID:\t\t\t16352366715774896642\n",
       " \tDecision vector:\t[5.27199e-08, -8.23878e-08]\n",
       " \tFitness vector:\t\t[1.89715e-12]\n",
       " #46:\n",
       " \tID:\t\t\t7923656245360582326\n",
       " \tDecision vector:\t[5.27199e-08, -8.23878e-08]\n",
       " \tFitness vector:\t\t[1.89715e-12]\n",
       " #47:\n",
       " \tID:\t\t\t56790861320005441\n",
       " \tDecision vector:\t[5.27199e-08, -8.23878e-08]\n",
       " \tFitness vector:\t\t[1.89715e-12]\n",
       " #48:\n",
       " \tID:\t\t\t11418474414981513897\n",
       " \tDecision vector:\t[5.27199e-08, -8.23878e-08]\n",
       " \tFitness vector:\t\t[1.89715e-12]\n",
       " #49:\n",
       " \tID:\t\t\t11776671038837028290\n",
       " \tDecision vector:\t[5.27199e-08, -8.23878e-08]\n",
       " \tFitness vector:\t\t[1.89715e-12]\n",
       " #50:\n",
       " \tID:\t\t\t11107408415616544811\n",
       " \tDecision vector:\t[5.27199e-08, -8.23878e-08]\n",
       " \tFitness vector:\t\t[1.89715e-12]\n",
       " #51:\n",
       " \tID:\t\t\t1566085489339561191\n",
       " \tDecision vector:\t[5.27199e-08, -8.23878e-08]\n",
       " \tFitness vector:\t\t[1.89715e-12]\n",
       " #52:\n",
       " \tID:\t\t\t3482554069501026497\n",
       " \tDecision vector:\t[5.27199e-08, -8.23878e-08]\n",
       " \tFitness vector:\t\t[1.89715e-12]\n",
       " #53:\n",
       " \tID:\t\t\t14260913417514336727\n",
       " \tDecision vector:\t[5.27199e-08, -8.23878e-08]\n",
       " \tFitness vector:\t\t[1.89715e-12]\n",
       " #54:\n",
       " \tID:\t\t\t10889186707573297996\n",
       " \tDecision vector:\t[5.27199e-08, -8.23878e-08]\n",
       " \tFitness vector:\t\t[1.89715e-12]\n",
       " #55:\n",
       " \tID:\t\t\t12655133944716802697\n",
       " \tDecision vector:\t[5.27199e-08, -8.23878e-08]\n",
       " \tFitness vector:\t\t[1.89715e-12]\n",
       " #56:\n",
       " \tID:\t\t\t1348293095547690317\n",
       " \tDecision vector:\t[5.27199e-08, -8.23878e-08]\n",
       " \tFitness vector:\t\t[1.89715e-12]\n",
       " #57:\n",
       " \tID:\t\t\t10357247843320647920\n",
       " \tDecision vector:\t[5.27199e-08, -8.23878e-08]\n",
       " \tFitness vector:\t\t[1.89715e-12]\n",
       " #58:\n",
       " \tID:\t\t\t4770872430786725668\n",
       " \tDecision vector:\t[5.27199e-08, -8.23878e-08]\n",
       " \tFitness vector:\t\t[1.89715e-12]\n",
       " #59:\n",
       " \tID:\t\t\t4080116852701051492\n",
       " \tDecision vector:\t[5.27199e-08, -8.23878e-08]\n",
       " \tFitness vector:\t\t[1.89715e-12]\n",
       " #60:\n",
       " \tID:\t\t\t2123230456092929506\n",
       " \tDecision vector:\t[5.27199e-08, -8.23878e-08]\n",
       " \tFitness vector:\t\t[1.89715e-12]\n",
       " #61:\n",
       " \tID:\t\t\t1827259505337045102\n",
       " \tDecision vector:\t[5.27199e-08, -8.23878e-08]\n",
       " \tFitness vector:\t\t[1.89715e-12]\n",
       " #62:\n",
       " \tID:\t\t\t4498569842041495355\n",
       " \tDecision vector:\t[5.27199e-08, -8.23878e-08]\n",
       " \tFitness vector:\t\t[1.89715e-12]\n",
       " #63:\n",
       " \tID:\t\t\t13762056892306013522\n",
       " \tDecision vector:\t[5.27199e-08, -8.23878e-08]\n",
       " \tFitness vector:\t\t[1.89715e-12]\n",
       " #64:\n",
       " \tID:\t\t\t10964422453348071939\n",
       " \tDecision vector:\t[5.27199e-08, -8.23878e-08]\n",
       " \tFitness vector:\t\t[1.89715e-12]\n",
       " #65:\n",
       " \tID:\t\t\t9901655082978567328\n",
       " \tDecision vector:\t[5.27199e-08, -8.23878e-08]\n",
       " \tFitness vector:\t\t[1.89715e-12]\n",
       " #66:\n",
       " \tID:\t\t\t6928199331860439658\n",
       " \tDecision vector:\t[5.27199e-08, -8.23878e-08]\n",
       " \tFitness vector:\t\t[1.89715e-12]\n",
       " #67:\n",
       " \tID:\t\t\t4335178117327608557\n",
       " \tDecision vector:\t[5.27199e-08, -8.23878e-08]\n",
       " \tFitness vector:\t\t[1.89715e-12]\n",
       " #68:\n",
       " \tID:\t\t\t10898607909577865434\n",
       " \tDecision vector:\t[5.27199e-08, -8.23878e-08]\n",
       " \tFitness vector:\t\t[1.89715e-12]\n",
       " #69:\n",
       " \tID:\t\t\t15525459386547006313\n",
       " \tDecision vector:\t[5.27199e-08, -8.23878e-08]\n",
       " \tFitness vector:\t\t[1.89715e-12]\n",
       " #70:\n",
       " \tID:\t\t\t8804518294443752374\n",
       " \tDecision vector:\t[5.27199e-08, -8.23878e-08]\n",
       " \tFitness vector:\t\t[1.89715e-12]\n",
       " #71:\n",
       " \tID:\t\t\t1544769756573396925\n",
       " \tDecision vector:\t[5.27199e-08, -8.23878e-08]\n",
       " \tFitness vector:\t\t[1.89715e-12]\n",
       " #72:\n",
       " \tID:\t\t\t17215277337663244045\n",
       " \tDecision vector:\t[5.27199e-08, -8.23878e-08]\n",
       " \tFitness vector:\t\t[1.89715e-12]\n",
       " #73:\n",
       " \tID:\t\t\t8966567697882271707\n",
       " \tDecision vector:\t[5.27199e-08, -8.23878e-08]\n",
       " \tFitness vector:\t\t[1.89715e-12]\n",
       " #74:\n",
       " \tID:\t\t\t2312497592050510608\n",
       " \tDecision vector:\t[5.27199e-08, -8.23878e-08]\n",
       " \tFitness vector:\t\t[1.89715e-12]\n",
       " #75:\n",
       " \tID:\t\t\t15483079761747996995\n",
       " \tDecision vector:\t[5.27199e-08, -8.23878e-08]\n",
       " \tFitness vector:\t\t[1.89715e-12]\n",
       " #76:\n",
       " \tID:\t\t\t7054120651797810135\n",
       " \tDecision vector:\t[5.27199e-08, -8.23878e-08]\n",
       " \tFitness vector:\t\t[1.89715e-12]\n",
       " #77:\n",
       " \tID:\t\t\t2005054917284423186\n",
       " \tDecision vector:\t[5.27199e-08, -8.23878e-08]\n",
       " \tFitness vector:\t\t[1.89715e-12]\n",
       " #78:\n",
       " \tID:\t\t\t17624142894656024433\n",
       " \tDecision vector:\t[5.27199e-08, -8.23878e-08]\n",
       " \tFitness vector:\t\t[1.89715e-12]\n",
       " #79:\n",
       " \tID:\t\t\t6339230956363130937\n",
       " \tDecision vector:\t[5.27199e-08, -8.23878e-08]\n",
       " \tFitness vector:\t\t[1.89715e-12]\n",
       " #80:\n",
       " \tID:\t\t\t3946860675051063081\n",
       " \tDecision vector:\t[5.27199e-08, -8.23878e-08]\n",
       " \tFitness vector:\t\t[1.89715e-12]\n",
       " #81:\n",
       " \tID:\t\t\t8460774354138544100\n",
       " \tDecision vector:\t[5.27199e-08, -8.23878e-08]\n",
       " \tFitness vector:\t\t[1.89715e-12]\n",
       " #82:\n",
       " \tID:\t\t\t459237382884374416\n",
       " \tDecision vector:\t[5.27199e-08, -8.23878e-08]\n",
       " \tFitness vector:\t\t[1.89715e-12]\n",
       " #83:\n",
       " \tID:\t\t\t4523530400395399803\n",
       " \tDecision vector:\t[5.27199e-08, -8.23878e-08]\n",
       " \tFitness vector:\t\t[1.89715e-12]\n",
       " #84:\n",
       " \tID:\t\t\t12051468203408101324\n",
       " \tDecision vector:\t[5.27199e-08, -8.23878e-08]\n",
       " \tFitness vector:\t\t[1.89715e-12]\n",
       " #85:\n",
       " \tID:\t\t\t6223503400744349375\n",
       " \tDecision vector:\t[5.27199e-08, -8.23878e-08]\n",
       " \tFitness vector:\t\t[1.89715e-12]\n",
       " #86:\n",
       " \tID:\t\t\t397704971183693025\n",
       " \tDecision vector:\t[5.27199e-08, -8.23878e-08]\n",
       " \tFitness vector:\t\t[1.89715e-12]\n",
       " #87:\n",
       " \tID:\t\t\t5025097827683351117\n",
       " \tDecision vector:\t[5.27199e-08, -8.23878e-08]\n",
       " \tFitness vector:\t\t[1.89715e-12]\n",
       " #88:\n",
       " \tID:\t\t\t17736344091763247393\n",
       " \tDecision vector:\t[5.27199e-08, -8.23878e-08]\n",
       " \tFitness vector:\t\t[1.89715e-12]\n",
       " #89:\n",
       " \tID:\t\t\t13143780143580170534\n",
       " \tDecision vector:\t[5.27199e-08, -8.23878e-08]\n",
       " \tFitness vector:\t\t[1.89715e-12]\n",
       " #90:\n",
       " \tID:\t\t\t11312704168777721616\n",
       " \tDecision vector:\t[5.27199e-08, -8.23878e-08]\n",
       " \tFitness vector:\t\t[1.89715e-12]\n",
       " #91:\n",
       " \tID:\t\t\t785718120196505116\n",
       " \tDecision vector:\t[5.27199e-08, -8.23878e-08]\n",
       " \tFitness vector:\t\t[1.89715e-12]\n",
       " #92:\n",
       " \tID:\t\t\t18055394368483603905\n",
       " \tDecision vector:\t[5.27199e-08, -8.23878e-08]\n",
       " \tFitness vector:\t\t[1.89715e-12]\n",
       " #93:\n",
       " \tID:\t\t\t10105756015355935779\n",
       " \tDecision vector:\t[5.27199e-08, -8.23878e-08]\n",
       " \tFitness vector:\t\t[1.89715e-12]\n",
       " #94:\n",
       " \tID:\t\t\t9444456556214811969\n",
       " \tDecision vector:\t[5.27199e-08, -8.23878e-08]\n",
       " \tFitness vector:\t\t[1.89715e-12]\n",
       " #95:\n",
       " \tID:\t\t\t14960565121114444993\n",
       " \tDecision vector:\t[5.27199e-08, -8.23878e-08]\n",
       " \tFitness vector:\t\t[1.89715e-12]\n",
       " #96:\n",
       " \tID:\t\t\t13210592338659723352\n",
       " \tDecision vector:\t[5.27199e-08, -8.23878e-08]\n",
       " \tFitness vector:\t\t[1.89715e-12]\n",
       " #97:\n",
       " \tID:\t\t\t15327125903161815289\n",
       " \tDecision vector:\t[5.27199e-08, -8.23878e-08]\n",
       " \tFitness vector:\t\t[1.89715e-12]\n",
       " #98:\n",
       " \tID:\t\t\t2710934813496980636\n",
       " \tDecision vector:\t[5.27199e-08, -8.23878e-08]\n",
       " \tFitness vector:\t\t[1.89715e-12]\n",
       " #99:\n",
       " \tID:\t\t\t10888205333614501837\n",
       " \tDecision vector:\t[5.27199e-08, -8.23878e-08]\n",
       " \tFitness vector:\t\t[1.89715e-12]\n",
       " \n",
       " Champion decision vector: [4.55588e-08, -7.08233e-08]\n",
       " Champion fitness: [1.40687e-12],\n",
       " [array([0.00055766, 0.00012297]), array([ 4.55588446e-08, -7.08233009e-08])],\n",
       " [array([6.46975512e-05]), array([1.40687462e-12])],\n",
       " [(1, 3.661604210947189e-07, 2.4559213009922587e-06, 2.6788484035478177e-06),\n",
       "  (3, 2.2104984509496717e-11, 3.658726654975908e-10, 4.656932617308485e-10),\n",
       "  (5, 1.4068746168049984e-12, 1.8971491044794675e-12, 2.462030579408747e-12)])"
      ]
     },
     "execution_count": 117,
     "metadata": {},
     "output_type": "execute_result"
    }
   ],
   "source": [
    "pop_rast"
   ]
  },
  {
   "cell_type": "code",
   "execution_count": 118,
   "id": "f2dd83b1",
   "metadata": {},
   "outputs": [
    {
     "data": {
      "text/plain": [
       "array([ 4.55588446e-08, -7.08233009e-08])"
      ]
     },
     "execution_count": 118,
     "metadata": {},
     "output_type": "execute_result"
    }
   ],
   "source": [
    "pop_rast[0].champion_x"
   ]
  },
  {
   "cell_type": "code",
   "execution_count": 119,
   "id": "bc430356",
   "metadata": {},
   "outputs": [
    {
     "data": {
      "text/plain": [
       "array([1.40687462e-12])"
      ]
     },
     "execution_count": 119,
     "metadata": {},
     "output_type": "execute_result"
    }
   ],
   "source": [
    "pop_rast[0].champion_f"
   ]
  },
  {
   "cell_type": "code",
   "execution_count": null,
   "id": "b7086b76",
   "metadata": {},
   "outputs": [],
   "source": []
  },
  {
   "cell_type": "markdown",
   "id": "790dc896",
   "metadata": {},
   "source": [
    "### Rosenbrock"
   ]
  },
  {
   "cell_type": "code",
   "execution_count": 120,
   "id": "83674807",
   "metadata": {},
   "outputs": [],
   "source": [
    "pop_rosen = population(problem_Rosen, size=pop_size, seed=current_seed)\n",
    "\n",
    "pop_rosen = few_evols(gwo, pop_rosen)"
   ]
  },
  {
   "cell_type": "code",
   "execution_count": 121,
   "id": "a41b600c",
   "metadata": {},
   "outputs": [
    {
     "data": {
      "text/plain": [
       "array([1.20365663e-05])"
      ]
     },
     "execution_count": 121,
     "metadata": {},
     "output_type": "execute_result"
    }
   ],
   "source": [
    "pop_rosen[0].champion_f"
   ]
  },
  {
   "cell_type": "code",
   "execution_count": 122,
   "id": "a66edc76",
   "metadata": {},
   "outputs": [
    {
     "data": {
      "text/plain": [
       "array([1.00345807, 1.00690011])"
      ]
     },
     "execution_count": 122,
     "metadata": {},
     "output_type": "execute_result"
    }
   ],
   "source": [
    "pop_rosen[0].champion_x"
   ]
  },
  {
   "cell_type": "code",
   "execution_count": 123,
   "id": "d5802cd9",
   "metadata": {},
   "outputs": [
    {
     "data": {
      "text/plain": [
       "[(1, 9.736981953246515e-05, 9.667586289746562e-05, 9.644561310497547e-05),\n",
       " (3, 9.736981953246515e-05, 9.667586289746562e-05, 9.644561310497547e-05),\n",
       " (5, 9.736981953246515e-05, 9.667586289746562e-05, 9.644561310497547e-05),\n",
       " (7, 9.736981953246515e-05, 9.667586289746562e-05, 9.644561310497547e-05),\n",
       " (9, 1.3262246923776149e-05, 4.52959606194109e-05, 9.644561310497547e-05)]"
      ]
     },
     "execution_count": 123,
     "metadata": {},
     "output_type": "execute_result"
    }
   ],
   "source": [
    "pop_rosen[3]"
   ]
  },
  {
   "cell_type": "markdown",
   "id": "3a2264a7",
   "metadata": {},
   "source": [
    "<a id='gen3'></a>"
   ]
  },
  {
   "cell_type": "markdown",
   "id": "38f62b91",
   "metadata": {},
   "source": [
    "## Extended Ant Colony Optimization algorithm (gaco)\n",
    "сделаю третий, так как интересно как работает, почему бы и нет (:\n",
    "\n",
    "без вспомогательной функции просто посмотрим на результаты"
   ]
  },
  {
   "cell_type": "markdown",
   "id": "1224eda7",
   "metadata": {},
   "source": [
    "### Himmelblau"
   ]
  },
  {
   "cell_type": "code",
   "execution_count": 126,
   "id": "d777db07",
   "metadata": {},
   "outputs": [],
   "source": [
    "gaco_algo = algorithm(gaco(10, 13, 1.0, 1e9, 0.0, 1, 7, 100000, 100000, 0.0, False, 23))\n",
    "gaco_algo.set_verbosity(3)"
   ]
  },
  {
   "cell_type": "code",
   "execution_count": 127,
   "id": "8a725783",
   "metadata": {},
   "outputs": [],
   "source": [
    "number_of_evolutions = 2\n",
    "pop = population(problem_Him, size=pop_size, seed=current_seed)\n",
    "for i in range(number_of_evolutions):\n",
    "    pop = gaco_algo.evolve(pop)"
   ]
  },
  {
   "cell_type": "code",
   "execution_count": 128,
   "id": "c1b82587",
   "metadata": {},
   "outputs": [
    {
     "data": {
      "text/plain": [
       "array([2.99999988, 2.00000004])"
      ]
     },
     "execution_count": 128,
     "metadata": {},
     "output_type": "execute_result"
    }
   ],
   "source": [
    "pop.champion_x"
   ]
  },
  {
   "cell_type": "code",
   "execution_count": 129,
   "id": "5d706620",
   "metadata": {},
   "outputs": [
    {
     "data": {
      "text/plain": [
       "array([4.87947353e-13])"
      ]
     },
     "execution_count": 129,
     "metadata": {},
     "output_type": "execute_result"
    }
   ],
   "source": [
    "pop.champion_f"
   ]
  },
  {
   "cell_type": "markdown",
   "id": "2ae8a949",
   "metadata": {},
   "source": [
    "### Rastrigin"
   ]
  },
  {
   "cell_type": "code",
   "execution_count": 130,
   "id": "8ad456ef",
   "metadata": {},
   "outputs": [],
   "source": [
    "pop = population(problem_Rast, size=pop_size, seed=current_seed)\n",
    "pop = gaco_algo.evolve(pop)"
   ]
  },
  {
   "cell_type": "code",
   "execution_count": 131,
   "id": "b1fabf29",
   "metadata": {},
   "outputs": [
    {
     "data": {
      "text/plain": [
       "array([0.0048657 , 0.00990002])"
      ]
     },
     "execution_count": 131,
     "metadata": {},
     "output_type": "execute_result"
    }
   ],
   "source": [
    "pop.champion_x # хорошо справился и за 1 круг эволюции"
   ]
  },
  {
   "cell_type": "code",
   "execution_count": 132,
   "id": "cb06473a",
   "metadata": {},
   "outputs": [
    {
     "data": {
      "text/plain": [
       "array([0.02413484])"
      ]
     },
     "execution_count": 132,
     "metadata": {},
     "output_type": "execute_result"
    }
   ],
   "source": [
    "pop.champion_f"
   ]
  },
  {
   "cell_type": "markdown",
   "id": "35c3c305",
   "metadata": {},
   "source": [
    "### Rosenbrock"
   ]
  },
  {
   "cell_type": "code",
   "execution_count": 136,
   "id": "1e7f08e7",
   "metadata": {},
   "outputs": [],
   "source": [
    "pop = population(problem_Rosen, size=pop_size, seed=current_seed)\n",
    "for i in range(number_of_evolutions): # 1 цикла эволюции не хватило, 2 достаточно\n",
    "    pop = gaco_algo.evolve(pop)"
   ]
  },
  {
   "cell_type": "code",
   "execution_count": 137,
   "id": "d8020f47",
   "metadata": {},
   "outputs": [
    {
     "data": {
      "text/plain": [
       "array([1.00047668, 1.00123554])"
      ]
     },
     "execution_count": 137,
     "metadata": {},
     "output_type": "execute_result"
    }
   ],
   "source": [
    "pop.champion_x"
   ]
  },
  {
   "cell_type": "code",
   "execution_count": 138,
   "id": "30993874",
   "metadata": {},
   "outputs": [
    {
     "data": {
      "text/plain": [
       "array([8.1768731e-06])"
      ]
     },
     "execution_count": 138,
     "metadata": {},
     "output_type": "execute_result"
    }
   ],
   "source": [
    "pop.champion_f"
   ]
  },
  {
   "cell_type": "code",
   "execution_count": null,
   "id": "6be44c6f",
   "metadata": {},
   "outputs": [],
   "source": []
  },
  {
   "cell_type": "markdown",
   "id": "e2faf76b",
   "metadata": {},
   "source": [
    "<a id='gen4m'></a>"
   ]
  },
  {
   "cell_type": "markdown",
   "id": "f14c1a40",
   "metadata": {},
   "source": [
    "## Special Task - Own Defined Optimization Problem"
   ]
  },
  {
   "cell_type": "code",
   "execution_count": null,
   "id": "6a370cc8",
   "metadata": {},
   "outputs": [],
   "source": []
  },
  {
   "cell_type": "code",
   "execution_count": null,
   "id": "542a02ec",
   "metadata": {},
   "outputs": [],
   "source": []
  },
  {
   "cell_type": "code",
   "execution_count": null,
   "id": "94c16e4d",
   "metadata": {},
   "outputs": [],
   "source": []
  }
 ],
 "metadata": {
  "kernelspec": {
   "display_name": "Python 3 (ipykernel)",
   "language": "python",
   "name": "python3"
  },
  "language_info": {
   "codemirror_mode": {
    "name": "ipython",
    "version": 3
   },
   "file_extension": ".py",
   "mimetype": "text/x-python",
   "name": "python",
   "nbconvert_exporter": "python",
   "pygments_lexer": "ipython3",
   "version": "3.7.4"
  },
  "vscode": {
   "interpreter": {
    "hash": "f544ce1a915a9875fad91c894e2c0bcad4b7a79945aa6027ef3ad27810072aa6"
   }
  }
 },
 "nbformat": 4,
 "nbformat_minor": 5
}
