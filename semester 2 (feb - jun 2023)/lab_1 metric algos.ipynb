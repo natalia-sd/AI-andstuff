{
 "cells": [
  {
   "cell_type": "markdown",
   "id": "d0f1ca80",
   "metadata": {},
   "source": [
    "# LAB 1: Metric Algorithms\n",
    "### AI and Machine Learning // Suchkova Natalia М8О - 114М - 22\n",
    "17.03.23 @ MAI IT-Center"
   ]
  },
  {
   "cell_type": "markdown",
   "id": "62c03567",
   "metadata": {},
   "source": [
    "## The Task\n",
    "1. Применить метод K ближайших соседей  (KNN ядерный), взвешенный алгоритмом STOLP для пяти классов, сгенерированных с помощью MakeClassification\n",
    "\n",
    "2. (*) Для сгенерированного датасета создать профиль компактности\n",
    "\n",
    "3. Для сгенерированного датасета, произвести оптимизацию по выбору ширины окна (или метод меняющегося окна)\n",
    "\n",
    "4. Найти датасет с картинками (2-3 класса) небольшой (100 картинок достаточно, классифицированных). Найти метод\\библиотеку для построения embedding (векторизации) изображений. Применить этот метод на картинки. Применить КNN (без оптимизации) для полученного датасета из векторизованных картинок.\n",
    "\n",
    "5. (*) Задание 4 со своими фотографиями."
   ]
  },
  {
   "cell_type": "markdown",
   "id": "d53e4909",
   "metadata": {},
   "source": [
    "## Table of Contents\n",
    "\n",
    "\n",
    "1. [**KNN**](#g1)\n",
    "\n",
    "\n",
    "2. [**STOLP**](#g2)\n",
    "\n",
    "\n",
    "3. [**Метод окна Парзена для KNN**](#g3)\n",
    "\n",
    "    - [](#g4)\n",
    "    \n",
    "    - [](#g3)\n",
    "    \n",
    "    - [](#g2)\n",
    "\n",
    "\n",
    "4. [**Профиль компактности**](#g4)\n",
    "\n",
    "    - [](#g6)\n",
    "    \n",
    "    - [](#g7)\n",
    "    \n",
    "    - [](#g8)\n",
    "    \n",
    "    \n",
    "5. [**KNN для векторизованных картинок**](#g5)\n",
    "    \n",
    "    - [](#g10)\n",
    "\n",
    "\n",
    "6. [**Свои картинки**](#g6)\n",
    "    \n",
    "    - [](#g11)\n",
    "    \n",
    "    - [](#g90)\n",
    "    "
   ]
  },
  {
   "cell_type": "code",
   "execution_count": null,
   "id": "72f7d92c",
   "metadata": {},
   "outputs": [],
   "source": []
  },
  {
   "cell_type": "markdown",
   "id": "dbdf8bf2",
   "metadata": {},
   "source": [
    "## Задание 1."
   ]
  },
  {
   "cell_type": "code",
   "execution_count": 163,
   "id": "41ada75e",
   "metadata": {},
   "outputs": [],
   "source": [
    "import numpy as np\n",
    "import pandas as pd\n",
    "import matplotlib.pyplot as plt\n",
    "\n",
    "import plotly.express as px\n",
    "from mlxtend.plotting import plot_decision_regions\n",
    "\n",
    "from typing import Mapping\n",
    "import math\n",
    "\n",
    "from sklearn.datasets import make_classification\n",
    "from sklearn.model_selection import train_test_split\n",
    "from sklearn.metrics import classification_report\n",
    "\n",
    "from sklearn.neighbors import KNeighborsClassifier, NearestNeighbors\n",
    "\n",
    "\n",
    "from scipy.spatial import KDTree"
   ]
  },
  {
   "cell_type": "code",
   "execution_count": 2,
   "id": "72dd2869",
   "metadata": {},
   "outputs": [],
   "source": [
    "seed = np.random.seed(11)"
   ]
  },
  {
   "cell_type": "markdown",
   "id": "ae9e5bef",
   "metadata": {},
   "source": [
    "#### Генерим данные"
   ]
  },
  {
   "cell_type": "code",
   "execution_count": 159,
   "id": "9cb4bd1c",
   "metadata": {},
   "outputs": [],
   "source": [
    "X, Y = make_classification(n_samples=1000, n_features=3, \n",
    "                           n_informative=3, n_classes=5, \n",
    "                           n_redundant=0,\n",
    "                           n_clusters_per_class=1,\n",
    "                           random_state=seed)\n",
    "\n",
    "X_train, X_test, Y_train, Y_test = train_test_split(X, Y, \n",
    "                                                    test_size=0.2, \n",
    "                                                    random_state=seed)"
   ]
  },
  {
   "cell_type": "markdown",
   "id": "f7b3995b",
   "metadata": {},
   "source": [
    "### KNN"
   ]
  },
  {
   "cell_type": "code",
   "execution_count": 305,
   "id": "34f9ccc1",
   "metadata": {},
   "outputs": [
    {
     "data": {
      "text/plain": [
       "KNeighborsClassifier(n_neighbors=6)"
      ]
     },
     "execution_count": 305,
     "metadata": {},
     "output_type": "execute_result"
    }
   ],
   "source": [
    "model = KNeighborsClassifier(n_neighbors=6)\n",
    "model.fit(X_train, Y_train)"
   ]
  },
  {
   "cell_type": "code",
   "execution_count": 306,
   "id": "a87574e5",
   "metadata": {},
   "outputs": [],
   "source": [
    "predictions = model.predict(X_test)"
   ]
  },
  {
   "cell_type": "code",
   "execution_count": 282,
   "id": "148ec7bc",
   "metadata": {},
   "outputs": [
    {
     "data": {
      "text/plain": [
       "array([[575, 756, 204, 515, 552, 725],\n",
       "       [772, 428, 422, 496, 571, 704],\n",
       "       [222, 473, 419, 128, 390, 314],\n",
       "       ...,\n",
       "       [650, 795, 121, 151, 438,  31],\n",
       "       [141, 777, 155, 438, 634, 693],\n",
       "       [357, 707, 706, 678, 165, 418]], dtype=int64)"
      ]
     },
     "execution_count": 282,
     "metadata": {},
     "output_type": "execute_result"
    }
   ],
   "source": [
    "model.kneighbors(X_test, return_distance=False)"
   ]
  },
  {
   "cell_type": "code",
   "execution_count": 307,
   "id": "f1cf39ae",
   "metadata": {},
   "outputs": [
    {
     "data": {
      "text/plain": [
       "array([[162, 685, 389, 289, 210,  27]], dtype=int64)"
      ]
     },
     "execution_count": 307,
     "metadata": {},
     "output_type": "execute_result"
    }
   ],
   "source": [
    "model.kneighbors(X_test[5].reshape(1, -1), return_distance=False)"
   ]
  },
  {
   "cell_type": "code",
   "execution_count": 98,
   "id": "67743e74",
   "metadata": {},
   "outputs": [],
   "source": [
    "def plot(data, preds, title, marker='o', size=30):\n",
    "    colors = ['#FF5733', '#BFFF4B', '#5966DA', '#FFC300', '#D859DA']\n",
    "    c = [colors[i] for i in preds]\n",
    "    fig = plt.figure()\n",
    "    ax = fig.add_subplot(111, \n",
    "                         projection='3d'\n",
    "                        )\n",
    "    ax.set_title(title)\n",
    "    ax.scatter(data[ : , 0], \n",
    "               data[ : , 1], \n",
    "               data[ : , 2], \n",
    "               c=c, marker=marker,\n",
    "               s=size)\n",
    "    plt.show()\n",
    "    \n",
    "    \n",
    "def plot_compare(data, labels, lbl_preds, size=60, title=''):\n",
    "    \n",
    "    colors = ['#FF5733', '#BFFF4B', '#5966DA', '#FFC300', \n",
    "              '#D859DA', '#DAF7A6', '#4BFCFF', '#581845']\n",
    "    \n",
    "    fig = plt.figure(figsize=plt.figaspect(0.3))\n",
    "    \n",
    "    ax1 = fig.add_subplot(1, 2, 1, projection='3d')\n",
    "    ax1.set_title('Реальные значения')\n",
    "    c = [colors[i] for i in labels]\n",
    "    ax1.scatter(data[ : , 0], \n",
    "                data[ : , 1], \n",
    "                data[ : , 2], \n",
    "                c=c, s=size)\n",
    "\n",
    "    ax2 = fig.add_subplot(1, 2, 2, projection='3d')\n",
    "    ax2.set_title(f'Наши предсказания {title}')\n",
    "    c = [colors[i] for i in lbl_preds]\n",
    "    ax2.scatter(data[ : , 0], \n",
    "                data[ : , 1], \n",
    "                data[ : , 2], \n",
    "                c=c, s=size)\n",
    "    \n",
    "    plt.show()"
   ]
  },
  {
   "cell_type": "code",
   "execution_count": 99,
   "id": "ab44c749",
   "metadata": {},
   "outputs": [
    {
     "data": {
      "image/png": "[encoded data removed]",
      "text/plain": [
       "<Figure size 1600x480 with 2 Axes>"
      ]
     },
     "metadata": {},
     "output_type": "display_data"
    }
   ],
   "source": [
    "plot_compare(X_test, Y_test, predictions)"
   ]
  },
  {
   "cell_type": "code",
   "execution_count": 100,
   "id": "9486ed91",
   "metadata": {},
   "outputs": [
    {
     "name": "stdout",
     "output_type": "stream",
     "text": [
      "              precision    recall  f1-score   support\n",
      "\n",
      "           0       0.84      0.96      0.90        45\n",
      "           1       0.81      0.85      0.83        41\n",
      "           2       0.65      0.76      0.70        34\n",
      "           3       0.86      0.72      0.78        43\n",
      "           4       0.90      0.73      0.81        37\n",
      "\n",
      "    accuracy                           0.81       200\n",
      "   macro avg       0.81      0.80      0.80       200\n",
      "weighted avg       0.82      0.81      0.81       200\n",
      "\n"
     ]
    }
   ],
   "source": [
    "print(classification_report(Y_test, predictions))"
   ]
  },
  {
   "cell_type": "markdown",
   "id": "862ec017",
   "metadata": {},
   "source": [
    "### STOLP  \n",
    "— алгоритм отбора эталонных объектов для метрического классификатора."
   ]
  },
  {
   "cell_type": "markdown",
   "id": "90041a6f",
   "metadata": {},
   "source": [
    "Пусть дана обучающая выборка $X^l=(x_i, y_i)_{i=1}^l$, где $x_i$ — объекты, $y_i=y^*(x_i)$ — классы, которым принадлежат эти объекты. \n",
    "\n",
    "Кроме того, задана метрика $\\rho \\: X \\times X \\rightarrow \\mathbb{R}$, такая, что выполняется гипотеза компактности. \n",
    "\n",
    "При классификации объектов метрическим классификатором $$a(u, X^l) = \\mathrm{arg}\\max_{y\\in Y} \\Gamma_y (u, X^l) = \\mathrm{arg}\\max_{y\\in Y} \\sum_{i=1}^l[y_u^(i)=y]w(i, u),$$ например, `методом ближайших соседей` необходимо вычислять расстояния от классифицируемого объекта до всех объектов обучающей выборки. \n",
    "\n",
    "Минусы: Время, затрачиваемое на это для каждого классифицируемого объекта, пропорционально размеру обучающей выборки. Кроме того, оказывается необходимым хранить большой объем данных.\n",
    "\n",
    "Но не все объекты обучающей выборки равноценны. \n",
    "\n",
    "Среди них есть\n",
    "- наиболее типичные представители классов, то есть **эталоны**; \n",
    "- **неинформативные объекты**, при удалении которых из обучающей выборки качество классификации не изменится;\n",
    "- **выбросы, или шумовые объекты** — объекты, находящиеся в гуще «чужого» класса, только ухудшающие качество классификации.\n",
    "\n",
    "Поэтому необходимо уменьшить объем обучающей выборки, оставив в ней только эталонные объекты для каждого класса."
   ]
  },
  {
   "cell_type": "markdown",
   "id": "941ab423",
   "metadata": {},
   "source": [
    "**Oтступ (margin)** показывает насколько истинный класс далеко от другого класса. Отступ объекта показывает нам, насколько глубоко текущий объект лежит в пределах своего класса. Например, если почти все ближайшие соседи некоторого объекта x_i принадлежат к тому же классу, что и сам x_i, мы можем сказать, что у него очень положительный отступ. С другой стороны, если почти все ближайшие соседи принадлежат к другому классу, чем x_i, отступ должен быть отрицательным. Мы можем вычислить маржу таким образом: в случае, если отступ положительный, то предсказание является верным. В случае, если отступ отрицательный, то предсказание является ошибочным.\n",
    "\n",
    "Но для начала нужно сделать несколько шагов:\n",
    "\n",
    "1. Для каждого элемента выборки найти сумму евклидового расстояния до ближайших n соседей;\n",
    "\n",
    "2. Отсортировать элементы выборки по сумме расстояний;\n",
    "\n",
    "3. Взять первые N элементов - они и будут эталонными объектами."
   ]
  },
  {
   "cell_type": "markdown",
   "id": "f7e8123f",
   "metadata": {},
   "source": [
    "https://jet1black.wordpress.com/2015/10/03/stolp-algorithm-implementation/"
   ]
  },
  {
   "cell_type": "code",
   "execution_count": 338,
   "id": "7ecf7107",
   "metadata": {},
   "outputs": [],
   "source": [
    "def compute_margins(xkd, x, y, u, u_ans, n_neigh):\n",
    "    result = []\n",
    "    bound = min(n_neigh, y.shape[0]) # задаем количество ближайших соседей для исследования\n",
    "    \n",
    "    for cur_u_idx, cur_u_coord in enumerate(u):  # задаем индекс каждой точке в u\n",
    "        idx = xkd.kneighbors(cur_u_coord.reshape(1, -1), return_distance=False)\n",
    "        idx = idx.tolist()[0]  # сохраняем индексы ближайших соседей\n",
    "        maj = {}\n",
    "        \n",
    "        for i in idx:\n",
    "            y_cur = y[i]  # перебираем все класс в ближайших соседях по их индексу\n",
    "            di = np.linalg.norm(cur_u_coord - x[i])  # расстояние от текущей точки до каждой точки в данных\n",
    "            dn = np.linalg.norm(cur_u_coord - x[idx[bound - 1]])  # расстояние от текущей точки до предыдущей из n соседей\n",
    "            w = 0.0\n",
    "            \n",
    "            if di != 0.0 and dn > di:\n",
    "                w = dn / di\n",
    "                \n",
    "            maj[y_cur] = maj.get(y_cur, 0) + w  # обновляем в словаре по индексу точки ее вес, \n",
    "                                                # если новая точка, то ее вес 0 сначала\n",
    "            \n",
    "        cur_u_ans = u_ans[cur_u_idx] # находим в Y_train по текущему индексу класс [u_ans[cur_u_idx]][0]\n",
    "        correct_score = maj.get(cur_u_ans, 0)  # достаем из словаря вес точки\n",
    "        del maj[cur_u_ans]\n",
    "        \n",
    "        max_wrong = 0\n",
    "        if len(maj) > 0:\n",
    "            max_wrong = sorted(maj.items(), key=lambda x: x[1])[-1][1] # находим максимально отдаленный элемент (точку)\n",
    "            \n",
    "        result.append(correct_score - max_wrong)  # для рассчета конечной удаленности вычитаем самый большой отступ\n",
    "        \n",
    "    return np.array(result)"
   ]
  },
  {
   "cell_type": "markdown",
   "id": "705fc304",
   "metadata": {},
   "source": [
    "def compute_margins(xkd, x, y, u, u_ans, n):\n",
    "    result = []\n",
    "    bound = min(n, y.shape[0]) # задаем количество ближайших соседей для исследования\n",
    "    \n",
    "    for cur_u_idx, cur_u_coord in enumerate(u):  # задаем индекс каждой точке в u\n",
    "        idx = xkd.query(cur_u_coord, bound)[1]  # сохраняем индексы ближайших соседей\n",
    "        maj = {}\n",
    "        \n",
    "        for i in idx:\n",
    "            y_cur = y[i]  # перебираем все класс в ближайших соседях по их индексу\n",
    "            di = np.linalg.norm(cur_u_coord - x[i])  # расстояние от текущей точки до каждой точки в данных\n",
    "            dn = np.linalg.norm(cur_u_coord - x[idx[bound - 1]])  # расстояние от текущей точки до предыдущей из n соседей\n",
    "            w = 0.0\n",
    "            \n",
    "            if di != 0.0 and dn > di:\n",
    "                w = dn / di\n",
    "                \n",
    "            maj[y_cur] = maj.get(y_cur, 0) + w  # обновляем в словаре по индексу точки ее вес, \n",
    "                                                # если новая точка, то ее вес 0 сначала\n",
    "            \n",
    "        cur_u_ans = u_ans[cur_u_idx] # находим в Y_train по текущему индексу класс [u_ans[cur_u_idx]][0]\n",
    "        correct_score = maj.get(cur_u_ans, 0)  # достаем из словаря вес точки\n",
    "        del maj[cur_u_ans]\n",
    "        \n",
    "        max_wrong = 0\n",
    "        if len(maj) > 0:\n",
    "            max_wrong = sorted(maj.items(), key=lambda x: x[1])[-1][1] # находим максимально отдаленный элемент (точку)\n",
    "            \n",
    "        result.append(correct_score - max_wrong)  # для рассчета конечной удаленности вычитаем самый большой отступ\n",
    "        \n",
    "    return np.array(result)"
   ]
  },
  {
   "cell_type": "code",
   "execution_count": 376,
   "id": "edf4d80a",
   "metadata": {},
   "outputs": [],
   "source": [
    "model = KNeighborsClassifier(n_neighbors=7).fit(X_test, Y_test)"
   ]
  },
  {
   "cell_type": "code",
   "execution_count": 377,
   "id": "be0d0745",
   "metadata": {},
   "outputs": [],
   "source": [
    "margins = compute_margins(model, X_test, Y_test, X_test, Y_test, 7)"
   ]
  },
  {
   "cell_type": "markdown",
   "id": "edfceffc",
   "metadata": {},
   "source": [
    "# def compute_margins(xkd, x, y, u, u_ans, n):  мы считаем отступ для всех точек, поэтому у нас х и и это одно и то же\n",
    "margins = compute_margins(KDTree(X_test), X_test, Y_test, X_test, Y_test, 5)"
   ]
  },
  {
   "cell_type": "code",
   "execution_count": 341,
   "id": "c864fd1c",
   "metadata": {
    "scrolled": true
   },
   "outputs": [
    {
     "data": {
      "text/plain": [
       "200"
      ]
     },
     "execution_count": 341,
     "metadata": {},
     "output_type": "execute_result"
    }
   ],
   "source": [
    "len(margins)"
   ]
  },
  {
   "cell_type": "code",
   "execution_count": 385,
   "id": "a66e445a",
   "metadata": {},
   "outputs": [],
   "source": [
    "def stolp(src_x, src_y, err_num, depth_limit, n):\n",
    "\n",
    "    support_x = []\n",
    "    support_y = []\n",
    "    src_xkd = KNeighborsClassifier(n_neighbors=n).fit(src_x, src_y)\n",
    "    print(src_xkd)\n",
    "    margins = np.array([compute_margins(src_xkd, src_x, src_y, src_x, src_y, n)]).transpose()\n",
    "    \n",
    "    x = src_x[margins[:, 0] > depth_limit]\n",
    "    y = src_y[margins[:, 0] > depth_limit]\n",
    "    margins = margins[margins[:, 0] > depth_limit]\n",
    "    sorted_margs = np.argsort(margins[:, 0])\n",
    "\n",
    "    for ans in np.unique(y):\n",
    "        for m in sorted_margs:\n",
    "\n",
    "            if y[m] == ans:\n",
    "\n",
    "                support_x.append(x[m])\n",
    "                support_y.append(y[m])\n",
    "                x = np.delete(x, (m), axis=0)\n",
    "                y = np.delete(y, (m), axis=0)\n",
    "                break\n",
    "                \n",
    "    errors = x.shape[0]\n",
    "#     print(support_x, support_y)\n",
    "    while errors > err_num:\n",
    "        xkd = KNeighborsClassifier(n_neighbors=n).fit(np.array(support_x), np.array(support_y))\n",
    "        margins = compute_margins(xkd, np.array(support_x), np.array(support_y), x, y, n)\n",
    "        KNN_preds = model.predict(support_x)\n",
    "\n",
    "        errors = len(KNN_preds[KNN_preds == src_y[:len(KNN_preds)]])\n",
    "        sorted_margs = np.argsort(margins)  # выводим индексы отсортированных отступов\n",
    "        to_delete = []\n",
    "        min = sorted_margs[0]\n",
    "        support_x.append(x[min])\n",
    "        support_y.append(y[min])\n",
    "        to_delete.append(min)\n",
    "        \n",
    "        x = np.delete(x, to_delete, axis=0)\n",
    "        y = np.delete(y, to_delete, axis=0)\n",
    "        \n",
    "    return np.array(support_x), np.array(support_y)"
   ]
  },
  {
   "cell_type": "markdown",
   "id": "6516a249",
   "metadata": {},
   "source": [
    "def stolp(src_x, src_y, err_num, depth_limit, n):\n",
    "\n",
    "    support_x = []\n",
    "    support_y = []\n",
    "    src_xkd = KDTree(src_x)\n",
    "    print(src_xkd)\n",
    "    margins = np.array([compute_margins(src_xkd, src_x, src_y, src_x, src_y, n)]).transpose()\n",
    "    \n",
    "    x = src_x[margins[:, 0] > depth_limit]\n",
    "    y = src_y[margins[:, 0] > depth_limit]\n",
    "    margins = margins[margins[:, 0] > depth_limit]\n",
    "    sorted_margs = np.argsort(margins[:, 0])\n",
    "\n",
    "    for ans in np.unique(y):\n",
    "        for m in sorted_margs:\n",
    "\n",
    "            if y[m] == ans:\n",
    "\n",
    "                support_x.append(x[m])\n",
    "                support_y.append(y[m])\n",
    "                x = np.delete(x, (m), axis=0)\n",
    "                y = np.delete(y, (m), axis=0)\n",
    "                break\n",
    "                \n",
    "    errors = x.shape[0]\n",
    "    \n",
    "    while errors > err_num:\n",
    "        xkd = KDTree(np.array(support_x))\n",
    "        margins = compute_margins(xkd, np.array(support_x), np.array(support_y), x, y, n)\n",
    "        KNN_preds = model.predict(support_x)\n",
    "\n",
    "        errors = len(KNN_preds[KNN_preds == src_y[:len(KNN_preds)]])\n",
    "        sorted_margs = np.argsort(margins)  # выводим индексы отсортированных отступов\n",
    "        to_delete = []\n",
    "        min = sorted_margs[0]\n",
    "        support_x.append(x[min])\n",
    "        support_y.append(y[min])\n",
    "        to_delete.append(min)\n",
    "        \n",
    "        x = np.delete(x, to_delete, axis=0)\n",
    "        y = np.delete(y, to_delete, axis=0)\n",
    "        \n",
    "    return np.array(support_x), np.array(support_y)"
   ]
  },
  {
   "cell_type": "code",
   "execution_count": 382,
   "id": "08ad0bee",
   "metadata": {},
   "outputs": [
    {
     "name": "stdout",
     "output_type": "stream",
     "text": [
      "KNeighborsClassifier()\n"
     ]
    }
   ],
   "source": [
    "stolp_prx, stolp_pry = stolp(X_test, Y_test, err_num=60, depth_limit=0.0001, n=5)"
   ]
  },
  {
   "cell_type": "code",
   "execution_count": 383,
   "id": "ff2a46dc",
   "metadata": {},
   "outputs": [
    {
     "data": {
      "text/plain": [
       "array([[ 0.16234674,  0.46846048, -0.7784959 ],\n",
       "       [ 1.3015293 ,  1.30024013,  1.0617255 ],\n",
       "       [ 1.72208996, -1.08737766, -2.31885603],\n",
       "       [-0.9403541 ,  0.21330502,  1.14653194],\n",
       "       [-1.33225733, -1.9046816 , -0.76541665],\n",
       "       [-0.36746711,  0.25132244, -0.78868313]])"
      ]
     },
     "execution_count": 383,
     "metadata": {},
     "output_type": "execute_result"
    }
   ],
   "source": [
    "stolp_prx"
   ]
  },
  {
   "cell_type": "code",
   "execution_count": 384,
   "id": "4983dc3c",
   "metadata": {},
   "outputs": [
    {
     "data": {
      "image/png": "[encoded data removed]",
      "text/plain": [
       "<Figure size 640x480 with 1 Axes>"
      ]
     },
     "metadata": {},
     "output_type": "display_data"
    }
   ],
   "source": [
    "plot(stolp_prx, stolp_pry, 'STOLP эталонные точки', '*', 700)"
   ]
  },
  {
   "cell_type": "code",
   "execution_count": null,
   "id": "4d633f16",
   "metadata": {},
   "outputs": [],
   "source": []
  },
  {
   "cell_type": "markdown",
   "id": "2f71c30b",
   "metadata": {},
   "source": [
    "### Профиль компактности\n",
    "\n",
    "Профиль компактности выборки в метрических алгоритмах классификации — функция R(j), выражающая долю объектов выборки, для которых правильный ответ не совпадает с правильным ответом на j-м соседе."
   ]
  },
  {
   "attachments": {
    "image.png": {
     "image/png": "[encoded data removed]"
    }
   },
   "cell_type": "markdown",
   "id": "a9d7d453",
   "metadata": {},
   "source": [
    "Рассматривается задача классификации. Имеется множество объектов X и множество имён классов Y. Задана обучающая выборка пар «объект—ответ» $X^m = \\{(x_1,y_1),\\ldots,(x_m,y_m)\\} \\in X\\times Y$.\n",
    "\n",
    "Пусть на множестве объектов задана функция расстояния $\\rho(x,x')$. Эта функция должна быть достаточно адекватной моделью сходства объектов. Чем меньше значение этой функции, тем более схожи объекты $x,x'$.\n",
    "\n",
    "Для произвольного объекта $u$ расположим объекты обучающей выборки $x_i$ в порядке возрастания расстояний до $u$:\n",
    "\n",
    "$$\\rho(u,x_{1; u}) \\leq  \\rho(u,x_{2; u}) \\leq \\cdots \\leq \\rho(u,x_{m; u}),$$\n",
    "где через $x_{i; u}$ обозначается элемент обучающей выборки, который является i-м соседом объекта $u$. Аналогичное обозначение введём и для ответа на i-м соседе: $y_{i; u}$. Каждый объект $u\\in X$ порождает свою перенумерацию выборки.\n",
    "\n",
    "Рассматривается метод ближайшего соседа, который относит классифицируемый объект $u$ к тому классу, которому принадлежит ближайший к $u$ объект обучающей выборки:\n",
    "\n",
    "$a(u,X^m) = y_{1;u}$.\n",
    "\n",
    "Профиль компактности выборки $X^m$ есть функция\n",
    "\n",
    "$$R(j,X^m) = \\frac1m \\sum_{i=1}^m \\left[ y_i \\neq y_{j;x_i} \\right]$$\n",
    "Иными словами, профиль компактности R(j) — это доля объектов выборки, для которых j-й сосед лежит в другом классе.\n",
    "\n",
    "\n",
    "Профиль компактности является формальным выражением гипотезы компактности — предположения о том, что схожие объекты гораздо чаще лежат в одном классе, чем в разных. *Чем проще задача, то есть чем чаще близкие объекты оказываются в одном классе, тем сильнее «прижимается к нулю» начальный участок профиля. В сложных задачах или при неудачном выборе функции расстояния ближайшие объекты практически не несут информации о классах, и профиль вырождается в константу, близкую к 0.5.*\n",
    "\n",
    "На рисунке показаны профили компактности для серии плоских модельных задач классификации с двумя классами. Чем ниже проходит начальный участок профиля, тем выше обобщающая способность метода ближайшего соседа.\n",
    "\n",
    "![image.png](attachment:image.png)"
   ]
  },
  {
   "cell_type": "code",
   "execution_count": 160,
   "id": "fb35c599",
   "metadata": {},
   "outputs": [],
   "source": [
    "def compactness_profile(index:int, X, y, metric='euclidean'):\n",
    "    \"\"\"\n",
    "    index: индекс\n",
    "    X: матрица объект-признак, для которой хотим посчитать профиль компактности\n",
    "    y: вектор таргетов для этих объектов\n",
    "    metric: ['euclidean', 'cosine', ...]\n",
    "    \"\"\"\n",
    "    assert 0 <= index <= X.shape[0]\n",
    "    neigh = NearestNeighbors(n_neighbors=X.shape[0], metric=metric)\n",
    "    neigh.fit(X, y)\n",
    "    distances, indexes = neigh.kneighbors(X)\n",
    "    return (y != y[indexes[:, index]]).mean() # возвращаем значения для профиля компактности"
   ]
  },
  {
   "cell_type": "code",
   "execution_count": 238,
   "id": "1b51b137",
   "metadata": {},
   "outputs": [
    {
     "data": {
      "application/vnd.plotly.v1+json": {
       "config": {
        "plotlyServerURL": "https://plot.ly"
       },
       "data": [
        {
         "hovertemplate": "x=%{x}<br>y=%{y}<extra></extra>",
         "legendgroup": "",
         "line": {
          "color": "#636efa",
          "dash": "solid"
         },
         "marker": {
          "symbol": "circle"
         },
         "mode": "lines",
         "name": "",
         "orientation": "v",
         "showlegend": false,
         "type": "scatter",
         "x": [
          1,
          2,
          3,
          4,
          5,
          6,
          7,
          8,
          9,
          10,
          11,
          12,
          13,
          14,
          15,
          16,
          17,
          18,
          19,
          20,
          21,
          22,
          23,
          24,
          25,
          26,
          27,
          28,
          29,
          30,
          31,
          32,
          33,
          34,
          35,
          36,
          37,
          38,
          39,
          40,
          41,
          42,
          43,
          44,
          45,
          46,
          47,
          48,
          49,
          50,
          51,
          52,
          53,
          54,
          55,
          56,
          57,
          58,
          59,
          60,
          61,
          62,
          63,
          64,
          65,
          66,
          67,
          68,
          69,
          70,
          71,
          72,
          73,
          74,
          75,
          76,
          77,
          78,
          79,
          80,
          81,
          82,
          83,
          84,
          85,
          86,
          87,
          88,
          89,
          90,
          91,
          92,
          93,
          94,
          95,
          96,
          97,
          98,
          99,
          100,
          101,
          102,
          103,
          104,
          105,
          106,
          107,
          108,
          109,
          110,
          111,
          112,
          113,
          114,
          115,
          116,
          117,
          118,
          119,
          120,
          121,
          122,
          123,
          124,
          125,
          126,
          127,
          128,
          129,
          130,
          131,
          132,
          133,
          134,
          135,
          136,
          137,
          138,
          139,
          140,
          141,
          142,
          143,
          144,
          145,
          146,
          147,
          148,
          149,
          150,
          151,
          152,
          153,
          154,
          155,
          156,
          157,
          158,
          159,
          160,
          161,
          162,
          163,
          164,
          165,
          166,
          167,
          168,
          169,
          170,
          171,
          172,
          173,
          174,
          175,
          176,
          177,
          178,
          179,
          180,
          181,
          182,
          183,
          184,
          185,
          186,
          187,
          188,
          189,
          190,
          191,
          192,
          193,
          194,
          195,
          196,
          197,
          198,
          199,
          200,
          201,
          202,
          203,
          204,
          205,
          206,
          207,
          208,
          209,
          210,
          211,
          212,
          213,
          214,
          215,
          216,
          217,
          218,
          219,
          220,
          221,
          222,
          223,
          224,
          225,
          226,
          227,
          228,
          229,
          230,
          231,
          232,
          233,
          234,
          235,
          236,
          237,
          238,
          239,
          240,
          241,
          242,
          243,
          244,
          245,
          246,
          247,
          248,
          249,
          250,
          251,
          252,
          253,
          254,
          255,
          256,
          257,
          258,
          259,
          260,
          261,
          262,
          263,
          264,
          265,
          266,
          267,
          268,
          269,
          270,
          271,
          272,
          273,
          274,
          275,
          276,
          277,
          278,
          279,
          280,
          281,
          282,
          283,
          284,
          285,
          286,
          287,
          288,
          289,
          290,
          291,
          292,
          293,
          294,
          295,
          296,
          297,
          298,
          299,
          300,
          301,
          302,
          303,
          304,
          305,
          306,
          307,
          308,
          309,
          310,
          311,
          312,
          313,
          314,
          315,
          316,
          317,
          318,
          319,
          320,
          321,
          322,
          323,
          324,
          325,
          326,
          327,
          328,
          329,
          330,
          331,
          332,
          333,
          334,
          335,
          336,
          337,
          338,
          339,
          340,
          341,
          342,
          343,
          344,
          345,
          346,
          347,
          348,
          349,
          350,
          351,
          352,
          353,
          354,
          355,
          356,
          357,
          358,
          359,
          360,
          361,
          362,
          363,
          364,
          365,
          366,
          367,
          368,
          369,
          370,
          371,
          372,
          373,
          374,
          375,
          376,
          377,
          378,
          379,
          380,
          381,
          382,
          383,
          384,
          385,
          386,
          387,
          388,
          389,
          390,
          391,
          392,
          393,
          394,
          395,
          396,
          397,
          398,
          399,
          400,
          401,
          402,
          403,
          404,
          405,
          406,
          407,
          408,
          409,
          410,
          411,
          412,
          413,
          414,
          415,
          416,
          417,
          418,
          419,
          420,
          421,
          422,
          423,
          424,
          425,
          426,
          427,
          428,
          429,
          430,
          431,
          432,
          433,
          434,
          435,
          436,
          437,
          438,
          439,
          440,
          441,
          442,
          443,
          444,
          445,
          446,
          447,
          448,
          449,
          450,
          451,
          452,
          453,
          454,
          455,
          456,
          457,
          458,
          459,
          460,
          461,
          462,
          463,
          464,
          465,
          466,
          467,
          468,
          469,
          470,
          471,
          472,
          473,
          474,
          475,
          476,
          477,
          478,
          479,
          480,
          481,
          482,
          483,
          484,
          485,
          486,
          487,
          488,
          489,
          490,
          491,
          492,
          493,
          494,
          495,
          496,
          497,
          498,
          499,
          500,
          501,
          502,
          503,
          504,
          505,
          506,
          507,
          508,
          509,
          510,
          511,
          512,
          513,
          514,
          515,
          516,
          517,
          518,
          519,
          520,
          521,
          522,
          523,
          524,
          525,
          526,
          527,
          528,
          529,
          530,
          531,
          532,
          533,
          534,
          535,
          536,
          537,
          538,
          539,
          540,
          541,
          542,
          543,
          544,
          545,
          546,
          547,
          548,
          549,
          550,
          551,
          552,
          553,
          554,
          555,
          556,
          557,
          558,
          559,
          560,
          561,
          562,
          563,
          564,
          565,
          566,
          567,
          568,
          569,
          570,
          571,
          572,
          573,
          574,
          575,
          576,
          577,
          578,
          579,
          580,
          581,
          582,
          583,
          584,
          585,
          586,
          587,
          588,
          589,
          590,
          591,
          592,
          593,
          594,
          595,
          596,
          597,
          598,
          599,
          600,
          601,
          602,
          603,
          604,
          605,
          606,
          607,
          608,
          609,
          610,
          611,
          612,
          613,
          614,
          615,
          616,
          617,
          618,
          619,
          620,
          621,
          622,
          623,
          624,
          625,
          626,
          627,
          628,
          629,
          630,
          631,
          632,
          633,
          634,
          635,
          636,
          637,
          638,
          639,
          640,
          641,
          642,
          643,
          644,
          645,
          646,
          647,
          648,
          649,
          650,
          651,
          652,
          653,
          654,
          655,
          656,
          657,
          658,
          659,
          660,
          661,
          662,
          663,
          664,
          665,
          666,
          667,
          668,
          669,
          670,
          671,
          672,
          673,
          674,
          675,
          676,
          677,
          678,
          679,
          680,
          681,
          682,
          683,
          684,
          685,
          686,
          687,
          688,
          689,
          690,
          691,
          692,
          693,
          694,
          695,
          696,
          697,
          698,
          699,
          700,
          701,
          702,
          703,
          704,
          705,
          706,
          707,
          708,
          709,
          710,
          711,
          712,
          713,
          714,
          715,
          716,
          717,
          718,
          719,
          720,
          721,
          722,
          723,
          724,
          725,
          726,
          727,
          728,
          729,
          730,
          731,
          732,
          733,
          734,
          735,
          736,
          737,
          738,
          739,
          740,
          741,
          742,
          743,
          744,
          745,
          746,
          747,
          748,
          749,
          750,
          751,
          752,
          753,
          754,
          755,
          756,
          757,
          758,
          759,
          760,
          761,
          762,
          763,
          764,
          765,
          766,
          767,
          768,
          769,
          770,
          771,
          772,
          773,
          774,
          775,
          776,
          777,
          778,
          779,
          780,
          781,
          782,
          783,
          784,
          785,
          786,
          787,
          788,
          789,
          790,
          791,
          792,
          793,
          794,
          795,
          796,
          797,
          798,
          799
         ],
         "xaxis": "x",
         "y": [
          0.195,
          0.18,
          0.2275,
          0.2175,
          0.22625,
          0.2375,
          0.22875,
          0.26,
          0.25625,
          0.25,
          0.27875,
          0.2725,
          0.26,
          0.2475,
          0.27375,
          0.29375,
          0.3,
          0.29625,
          0.3,
          0.31375,
          0.315,
          0.28375,
          0.3025,
          0.31875,
          0.30375,
          0.2925,
          0.34875,
          0.30125,
          0.35,
          0.33375,
          0.3525,
          0.33875,
          0.34375,
          0.3675,
          0.32,
          0.35875,
          0.34125,
          0.355,
          0.3725,
          0.3675,
          0.375,
          0.355,
          0.33625,
          0.3675,
          0.395,
          0.38,
          0.37625,
          0.41125,
          0.385,
          0.415,
          0.39375,
          0.41875,
          0.4025,
          0.385,
          0.3925,
          0.39,
          0.40625,
          0.4125,
          0.41125,
          0.42,
          0.4125,
          0.4,
          0.4075,
          0.3825,
          0.43625,
          0.42375,
          0.45,
          0.44875,
          0.4125,
          0.46,
          0.455,
          0.47375,
          0.46125,
          0.45,
          0.4775,
          0.46875,
          0.47125,
          0.495,
          0.46875,
          0.46375,
          0.50625,
          0.48625,
          0.48875,
          0.49875,
          0.50375,
          0.5075,
          0.505,
          0.525,
          0.515,
          0.52,
          0.49875,
          0.52375,
          0.52,
          0.54125,
          0.565,
          0.56625,
          0.54625,
          0.5475,
          0.58125,
          0.5575,
          0.585,
          0.555,
          0.5625,
          0.55,
          0.5775,
          0.57125,
          0.5525,
          0.555,
          0.58125,
          0.54375,
          0.58625,
          0.57625,
          0.58875,
          0.57375,
          0.58375,
          0.60625,
          0.57625,
          0.5625,
          0.59625,
          0.57375,
          0.58125,
          0.62125,
          0.60375,
          0.6225,
          0.6,
          0.605,
          0.63125,
          0.6175,
          0.645,
          0.6275,
          0.6175,
          0.65125,
          0.6125,
          0.63125,
          0.63625,
          0.6,
          0.66,
          0.67,
          0.66875,
          0.65,
          0.6525,
          0.66,
          0.65375,
          0.66,
          0.63375,
          0.68625,
          0.6575,
          0.6625,
          0.68,
          0.665,
          0.66875,
          0.68,
          0.67375,
          0.6925,
          0.705,
          0.715,
          0.70375,
          0.7125,
          0.70375,
          0.69375,
          0.7025,
          0.70625,
          0.705,
          0.7025,
          0.705,
          0.71375,
          0.695,
          0.7275,
          0.72,
          0.70875,
          0.72625,
          0.7325,
          0.73125,
          0.73625,
          0.73875,
          0.74375,
          0.72625,
          0.7375,
          0.74625,
          0.71875,
          0.7575,
          0.73125,
          0.745,
          0.7625,
          0.75625,
          0.72125,
          0.755,
          0.7725,
          0.7275,
          0.7425,
          0.75125,
          0.76375,
          0.75625,
          0.7325,
          0.75,
          0.76375,
          0.76375,
          0.7475,
          0.76625,
          0.75375,
          0.76,
          0.76125,
          0.79125,
          0.76625,
          0.76,
          0.79125,
          0.7775,
          0.78125,
          0.7825,
          0.76125,
          0.7975,
          0.7675,
          0.7825,
          0.76625,
          0.805,
          0.76875,
          0.76875,
          0.78625,
          0.74875,
          0.7925,
          0.8,
          0.82625,
          0.77625,
          0.795,
          0.8,
          0.8025,
          0.77375,
          0.795,
          0.795,
          0.82,
          0.805,
          0.8175,
          0.80875,
          0.8225,
          0.8375,
          0.81,
          0.7925,
          0.79,
          0.81625,
          0.80125,
          0.82,
          0.81125,
          0.82125,
          0.8225,
          0.825,
          0.805,
          0.825,
          0.84125,
          0.81875,
          0.81875,
          0.805,
          0.8275,
          0.82375,
          0.8375,
          0.81625,
          0.81625,
          0.8175,
          0.82,
          0.82125,
          0.81,
          0.815,
          0.81375,
          0.845,
          0.835,
          0.8125,
          0.85625,
          0.845,
          0.83,
          0.83375,
          0.82875,
          0.86125,
          0.83875,
          0.83875,
          0.8225,
          0.825,
          0.8475,
          0.8525,
          0.8525,
          0.83,
          0.84125,
          0.83625,
          0.82625,
          0.8525,
          0.83875,
          0.8375,
          0.835,
          0.85,
          0.84625,
          0.83625,
          0.85125,
          0.83625,
          0.8375,
          0.81875,
          0.84375,
          0.87625,
          0.8475,
          0.84625,
          0.8675,
          0.85,
          0.83875,
          0.85875,
          0.865,
          0.85875,
          0.83625,
          0.85625,
          0.835,
          0.84,
          0.8575,
          0.86375,
          0.86375,
          0.83,
          0.84,
          0.82875,
          0.85875,
          0.8425,
          0.8425,
          0.87125,
          0.84,
          0.8475,
          0.8625,
          0.85625,
          0.835,
          0.855,
          0.845,
          0.87125,
          0.87,
          0.85625,
          0.85125,
          0.86375,
          0.855,
          0.85375,
          0.8575,
          0.85375,
          0.845,
          0.86125,
          0.86375,
          0.84375,
          0.8575,
          0.83,
          0.865,
          0.865,
          0.8525,
          0.85625,
          0.8875,
          0.85875,
          0.8425,
          0.8575,
          0.8625,
          0.85375,
          0.855,
          0.87875,
          0.8625,
          0.875,
          0.85125,
          0.855,
          0.8475,
          0.88,
          0.855,
          0.87,
          0.86,
          0.855,
          0.88125,
          0.8225,
          0.86625,
          0.8675,
          0.8675,
          0.8675,
          0.86375,
          0.89875,
          0.87875,
          0.8675,
          0.87125,
          0.87875,
          0.86125,
          0.87125,
          0.8725,
          0.86375,
          0.89375,
          0.875,
          0.88875,
          0.87,
          0.865,
          0.8525,
          0.85875,
          0.87625,
          0.8775,
          0.87875,
          0.8825,
          0.87,
          0.8675,
          0.86875,
          0.88375,
          0.87875,
          0.86,
          0.8725,
          0.8625,
          0.8975,
          0.89125,
          0.885,
          0.8625,
          0.87375,
          0.885,
          0.87625,
          0.88875,
          0.86875,
          0.875,
          0.895,
          0.88,
          0.8675,
          0.87125,
          0.895,
          0.8775,
          0.9025,
          0.8725,
          0.86,
          0.8825,
          0.87125,
          0.875,
          0.8875,
          0.87625,
          0.87625,
          0.89375,
          0.885,
          0.87875,
          0.89875,
          0.88875,
          0.905,
          0.9,
          0.88125,
          0.885,
          0.87875,
          0.8975,
          0.9025,
          0.90125,
          0.86125,
          0.89875,
          0.87125,
          0.905,
          0.895,
          0.8975,
          0.8925,
          0.905,
          0.89125,
          0.89625,
          0.8975,
          0.89375,
          0.91125,
          0.88875,
          0.90875,
          0.9,
          0.91125,
          0.9175,
          0.90125,
          0.89375,
          0.89625,
          0.89,
          0.8975,
          0.90625,
          0.9075,
          0.92,
          0.9075,
          0.8975,
          0.90375,
          0.88125,
          0.89625,
          0.90125,
          0.89875,
          0.8975,
          0.8775,
          0.9,
          0.90375,
          0.91875,
          0.9025,
          0.9075,
          0.905,
          0.89125,
          0.91375,
          0.9275,
          0.895,
          0.905,
          0.9075,
          0.89875,
          0.8975,
          0.90875,
          0.895,
          0.9,
          0.90875,
          0.9,
          0.89875,
          0.88875,
          0.88375,
          0.9175,
          0.9075,
          0.91375,
          0.90625,
          0.89625,
          0.8975,
          0.9,
          0.91375,
          0.8925,
          0.8925,
          0.91,
          0.90375,
          0.89625,
          0.9125,
          0.92375,
          0.8875,
          0.9125,
          0.92625,
          0.91,
          0.895,
          0.91,
          0.91875,
          0.905,
          0.92,
          0.915,
          0.92,
          0.9175,
          0.9075,
          0.915,
          0.90875,
          0.91875,
          0.90875,
          0.9225,
          0.91375,
          0.9125,
          0.92625,
          0.91875,
          0.92,
          0.915,
          0.92875,
          0.90625,
          0.90375,
          0.92,
          0.91,
          0.90875,
          0.89875,
          0.92,
          0.90125,
          0.92375,
          0.925,
          0.90875,
          0.91625,
          0.9275,
          0.8925,
          0.91875,
          0.9175,
          0.93875,
          0.92875,
          0.9375,
          0.9275,
          0.9125,
          0.92375,
          0.92375,
          0.92875,
          0.93625,
          0.91,
          0.90125,
          0.92875,
          0.9175,
          0.8975,
          0.93125,
          0.925,
          0.925,
          0.90875,
          0.925,
          0.9275,
          0.92875,
          0.93875,
          0.95,
          0.92375,
          0.9425,
          0.935,
          0.94125,
          0.92375,
          0.935,
          0.92625,
          0.92375,
          0.91375,
          0.93375,
          0.91875,
          0.93625,
          0.9225,
          0.92,
          0.91,
          0.92,
          0.91625,
          0.93625,
          0.92375,
          0.92625,
          0.92625,
          0.905,
          0.94,
          0.93125,
          0.94125,
          0.91375,
          0.93875,
          0.91125,
          0.9175,
          0.92875,
          0.92125,
          0.92375,
          0.93875,
          0.91625,
          0.93,
          0.92625,
          0.93625,
          0.91625,
          0.9325,
          0.91375,
          0.90125,
          0.90375,
          0.9275,
          0.94125,
          0.92375,
          0.935,
          0.9375,
          0.92125,
          0.92875,
          0.92625,
          0.91,
          0.93,
          0.93875,
          0.93875,
          0.91375,
          0.9325,
          0.91875,
          0.915,
          0.9175,
          0.935,
          0.925,
          0.925,
          0.9325,
          0.9125,
          0.92875,
          0.92,
          0.93625,
          0.91875,
          0.935,
          0.91,
          0.91375,
          0.92625,
          0.92625,
          0.93375,
          0.92875,
          0.94125,
          0.9125,
          0.935,
          0.9325,
          0.92625,
          0.9175,
          0.93625,
          0.92875,
          0.92875,
          0.93875,
          0.95,
          0.94125,
          0.925,
          0.92875,
          0.9375,
          0.93625,
          0.94,
          0.92375,
          0.94125,
          0.9325,
          0.93,
          0.91375,
          0.93125,
          0.9175,
          0.94,
          0.92375,
          0.94125,
          0.925,
          0.9125,
          0.93,
          0.915,
          0.9325,
          0.935,
          0.93375,
          0.935,
          0.9175,
          0.94,
          0.945,
          0.92125,
          0.9375,
          0.915,
          0.9075,
          0.9275,
          0.9175,
          0.93125,
          0.92625,
          0.92,
          0.92625,
          0.9275,
          0.93,
          0.9325,
          0.9425,
          0.92,
          0.91875,
          0.91375,
          0.9325,
          0.92625,
          0.92625,
          0.92875,
          0.92125,
          0.93875,
          0.92375,
          0.91,
          0.92875,
          0.9275,
          0.93,
          0.94,
          0.9275,
          0.93,
          0.9325,
          0.94625,
          0.93375,
          0.92,
          0.935,
          0.95125,
          0.935,
          0.9175,
          0.92875,
          0.93625,
          0.9325,
          0.92375,
          0.93875,
          0.93625,
          0.93375,
          0.93375,
          0.9225,
          0.94875,
          0.9175,
          0.9275,
          0.9275,
          0.94875,
          0.9325,
          0.93,
          0.94,
          0.9325,
          0.92375,
          0.9275,
          0.93625,
          0.915,
          0.9175,
          0.91125,
          0.92875,
          0.94625,
          0.91375,
          0.93875,
          0.93625,
          0.9375,
          0.935,
          0.9425,
          0.92875,
          0.9375,
          0.925,
          0.93375,
          0.94125,
          0.92375,
          0.9425,
          0.94375,
          0.92875,
          0.9225,
          0.91875,
          0.93,
          0.92125,
          0.9425,
          0.93375,
          0.94,
          0.91875,
          0.92875,
          0.93,
          0.93125,
          0.9125,
          0.92875,
          0.9325,
          0.9275,
          0.92875,
          0.93375,
          0.9425,
          0.92625,
          0.93125,
          0.92,
          0.93,
          0.915,
          0.93,
          0.9225,
          0.93125,
          0.9375,
          0.915,
          0.9325,
          0.935,
          0.93625,
          0.92,
          0.9275,
          0.895,
          0.865,
          0.88875
         ],
         "yaxis": "y"
        }
       ],
       "layout": {
        "legend": {
         "tracegroupgap": 0
        },
        "margin": {
         "t": 60
        },
        "template": {
         "data": {
          "bar": [
           {
            "error_x": {
             "color": "#2a3f5f"
            },
            "error_y": {
             "color": "#2a3f5f"
            },
            "marker": {
             "line": {
              "color": "#E5ECF6",
              "width": 0.5
             },
             "pattern": {
              "fillmode": "overlay",
              "size": 10,
              "solidity": 0.2
             }
            },
            "type": "bar"
           }
          ],
          "barpolar": [
           {
            "marker": {
             "line": {
              "color": "#E5ECF6",
              "width": 0.5
             },
             "pattern": {
              "fillmode": "overlay",
              "size": 10,
              "solidity": 0.2
             }
            },
            "type": "barpolar"
           }
          ],
          "carpet": [
           {
            "aaxis": {
             "endlinecolor": "#2a3f5f",
             "gridcolor": "white",
             "linecolor": "white",
             "minorgridcolor": "white",
             "startlinecolor": "#2a3f5f"
            },
            "baxis": {
             "endlinecolor": "#2a3f5f",
             "gridcolor": "white",
             "linecolor": "white",
             "minorgridcolor": "white",
             "startlinecolor": "#2a3f5f"
            },
            "type": "carpet"
           }
          ],
          "choropleth": [
           {
            "colorbar": {
             "outlinewidth": 0,
             "ticks": ""
            },
            "type": "choropleth"
           }
          ],
          "contour": [
           {
            "colorbar": {
             "outlinewidth": 0,
             "ticks": ""
            },
            "colorscale": [
             [
              0,
              "#0d0887"
             ],
             [
              0.1111111111111111,
              "#46039f"
             ],
             [
              0.2222222222222222,
              "#7201a8"
             ],
             [
              0.3333333333333333,
              "#9c179e"
             ],
             [
              0.4444444444444444,
              "#bd3786"
             ],
             [
              0.5555555555555556,
              "#d8576b"
             ],
             [
              0.6666666666666666,
              "#ed7953"
             ],
             [
              0.7777777777777778,
              "#fb9f3a"
             ],
             [
              0.8888888888888888,
              "#fdca26"
             ],
             [
              1,
              "#f0f921"
             ]
            ],
            "type": "contour"
           }
          ],
          "contourcarpet": [
           {
            "colorbar": {
             "outlinewidth": 0,
             "ticks": ""
            },
            "type": "contourcarpet"
           }
          ],
          "heatmap": [
           {
            "colorbar": {
             "outlinewidth": 0,
             "ticks": ""
            },
            "colorscale": [
             [
              0,
              "#0d0887"
             ],
             [
              0.1111111111111111,
              "#46039f"
             ],
             [
              0.2222222222222222,
              "#7201a8"
             ],
             [
              0.3333333333333333,
              "#9c179e"
             ],
             [
              0.4444444444444444,
              "#bd3786"
             ],
             [
              0.5555555555555556,
              "#d8576b"
             ],
             [
              0.6666666666666666,
              "#ed7953"
             ],
             [
              0.7777777777777778,
              "#fb9f3a"
             ],
             [
              0.8888888888888888,
              "#fdca26"
             ],
             [
              1,
              "#f0f921"
             ]
            ],
            "type": "heatmap"
           }
          ],
          "heatmapgl": [
           {
            "colorbar": {
             "outlinewidth": 0,
             "ticks": ""
            },
            "colorscale": [
             [
              0,
              "#0d0887"
             ],
             [
              0.1111111111111111,
              "#46039f"
             ],
             [
              0.2222222222222222,
              "#7201a8"
             ],
             [
              0.3333333333333333,
              "#9c179e"
             ],
             [
              0.4444444444444444,
              "#bd3786"
             ],
             [
              0.5555555555555556,
              "#d8576b"
             ],
             [
              0.6666666666666666,
              "#ed7953"
             ],
             [
              0.7777777777777778,
              "#fb9f3a"
             ],
             [
              0.8888888888888888,
              "#fdca26"
             ],
             [
              1,
              "#f0f921"
             ]
            ],
            "type": "heatmapgl"
           }
          ],
          "histogram": [
           {
            "marker": {
             "pattern": {
              "fillmode": "overlay",
              "size": 10,
              "solidity": 0.2
             }
            },
            "type": "histogram"
           }
          ],
          "histogram2d": [
           {
            "colorbar": {
             "outlinewidth": 0,
             "ticks": ""
            },
            "colorscale": [
             [
              0,
              "#0d0887"
             ],
             [
              0.1111111111111111,
              "#46039f"
             ],
             [
              0.2222222222222222,
              "#7201a8"
             ],
             [
              0.3333333333333333,
              "#9c179e"
             ],
             [
              0.4444444444444444,
              "#bd3786"
             ],
             [
              0.5555555555555556,
              "#d8576b"
             ],
             [
              0.6666666666666666,
              "#ed7953"
             ],
             [
              0.7777777777777778,
              "#fb9f3a"
             ],
             [
              0.8888888888888888,
              "#fdca26"
             ],
             [
              1,
              "#f0f921"
             ]
            ],
            "type": "histogram2d"
           }
          ],
          "histogram2dcontour": [
           {
            "colorbar": {
             "outlinewidth": 0,
             "ticks": ""
            },
            "colorscale": [
             [
              0,
              "#0d0887"
             ],
             [
              0.1111111111111111,
              "#46039f"
             ],
             [
              0.2222222222222222,
              "#7201a8"
             ],
             [
              0.3333333333333333,
              "#9c179e"
             ],
             [
              0.4444444444444444,
              "#bd3786"
             ],
             [
              0.5555555555555556,
              "#d8576b"
             ],
             [
              0.6666666666666666,
              "#ed7953"
             ],
             [
              0.7777777777777778,
              "#fb9f3a"
             ],
             [
              0.8888888888888888,
              "#fdca26"
             ],
             [
              1,
              "#f0f921"
             ]
            ],
            "type": "histogram2dcontour"
           }
          ],
          "mesh3d": [
           {
            "colorbar": {
             "outlinewidth": 0,
             "ticks": ""
            },
            "type": "mesh3d"
           }
          ],
          "parcoords": [
           {
            "line": {
             "colorbar": {
              "outlinewidth": 0,
              "ticks": ""
             }
            },
            "type": "parcoords"
           }
          ],
          "pie": [
           {
            "automargin": true,
            "type": "pie"
           }
          ],
          "scatter": [
           {
            "fillpattern": {
             "fillmode": "overlay",
             "size": 10,
             "solidity": 0.2
            },
            "type": "scatter"
           }
          ],
          "scatter3d": [
           {
            "line": {
             "colorbar": {
              "outlinewidth": 0,
              "ticks": ""
             }
            },
            "marker": {
             "colorbar": {
              "outlinewidth": 0,
              "ticks": ""
             }
            },
            "type": "scatter3d"
           }
          ],
          "scattercarpet": [
           {
            "marker": {
             "colorbar": {
              "outlinewidth": 0,
              "ticks": ""
             }
            },
            "type": "scattercarpet"
           }
          ],
          "scattergeo": [
           {
            "marker": {
             "colorbar": {
              "outlinewidth": 0,
              "ticks": ""
             }
            },
            "type": "scattergeo"
           }
          ],
          "scattergl": [
           {
            "marker": {
             "colorbar": {
              "outlinewidth": 0,
              "ticks": ""
             }
            },
            "type": "scattergl"
           }
          ],
          "scattermapbox": [
           {
            "marker": {
             "colorbar": {
              "outlinewidth": 0,
              "ticks": ""
             }
            },
            "type": "scattermapbox"
           }
          ],
          "scatterpolar": [
           {
            "marker": {
             "colorbar": {
              "outlinewidth": 0,
              "ticks": ""
             }
            },
            "type": "scatterpolar"
           }
          ],
          "scatterpolargl": [
           {
            "marker": {
             "colorbar": {
              "outlinewidth": 0,
              "ticks": ""
             }
            },
            "type": "scatterpolargl"
           }
          ],
          "scatterternary": [
           {
            "marker": {
             "colorbar": {
              "outlinewidth": 0,
              "ticks": ""
             }
            },
            "type": "scatterternary"
           }
          ],
          "surface": [
           {
            "colorbar": {
             "outlinewidth": 0,
             "ticks": ""
            },
            "colorscale": [
             [
              0,
              "#0d0887"
             ],
             [
              0.1111111111111111,
              "#46039f"
             ],
             [
              0.2222222222222222,
              "#7201a8"
             ],
             [
              0.3333333333333333,
              "#9c179e"
             ],
             [
              0.4444444444444444,
              "#bd3786"
             ],
             [
              0.5555555555555556,
              "#d8576b"
             ],
             [
              0.6666666666666666,
              "#ed7953"
             ],
             [
              0.7777777777777778,
              "#fb9f3a"
             ],
             [
              0.8888888888888888,
              "#fdca26"
             ],
             [
              1,
              "#f0f921"
             ]
            ],
            "type": "surface"
           }
          ],
          "table": [
           {
            "cells": {
             "fill": {
              "color": "#EBF0F8"
             },
             "line": {
              "color": "white"
             }
            },
            "header": {
             "fill": {
              "color": "#C8D4E3"
             },
             "line": {
              "color": "white"
             }
            },
            "type": "table"
           }
          ]
         },
         "layout": {
          "annotationdefaults": {
           "arrowcolor": "#2a3f5f",
           "arrowhead": 0,
           "arrowwidth": 1
          },
          "autotypenumbers": "strict",
          "coloraxis": {
           "colorbar": {
            "outlinewidth": 0,
            "ticks": ""
           }
          },
          "colorscale": {
           "diverging": [
            [
             0,
             "#8e0152"
            ],
            [
             0.1,
             "#c51b7d"
            ],
            [
             0.2,
             "#de77ae"
            ],
            [
             0.3,
             "#f1b6da"
            ],
            [
             0.4,
             "#fde0ef"
            ],
            [
             0.5,
             "#f7f7f7"
            ],
            [
             0.6,
             "#e6f5d0"
            ],
            [
             0.7,
             "#b8e186"
            ],
            [
             0.8,
             "#7fbc41"
            ],
            [
             0.9,
             "#4d9221"
            ],
            [
             1,
             "#276419"
            ]
           ],
           "sequential": [
            [
             0,
             "#0d0887"
            ],
            [
             0.1111111111111111,
             "#46039f"
            ],
            [
             0.2222222222222222,
             "#7201a8"
            ],
            [
             0.3333333333333333,
             "#9c179e"
            ],
            [
             0.4444444444444444,
             "#bd3786"
            ],
            [
             0.5555555555555556,
             "#d8576b"
            ],
            [
             0.6666666666666666,
             "#ed7953"
            ],
            [
             0.7777777777777778,
             "#fb9f3a"
            ],
            [
             0.8888888888888888,
             "#fdca26"
            ],
            [
             1,
             "#f0f921"
            ]
           ],
           "sequentialminus": [
            [
             0,
             "#0d0887"
            ],
            [
             0.1111111111111111,
             "#46039f"
            ],
            [
             0.2222222222222222,
             "#7201a8"
            ],
            [
             0.3333333333333333,
             "#9c179e"
            ],
            [
             0.4444444444444444,
             "#bd3786"
            ],
            [
             0.5555555555555556,
             "#d8576b"
            ],
            [
             0.6666666666666666,
             "#ed7953"
            ],
            [
             0.7777777777777778,
             "#fb9f3a"
            ],
            [
             0.8888888888888888,
             "#fdca26"
            ],
            [
             1,
             "#f0f921"
            ]
           ]
          },
          "colorway": [
           "#636efa",
           "#EF553B",
           "#00cc96",
           "#ab63fa",
           "#FFA15A",
           "#19d3f3",
           "#FF6692",
           "#B6E880",
           "#FF97FF",
           "#FECB52"
          ],
          "font": {
           "color": "#2a3f5f"
          },
          "geo": {
           "bgcolor": "white",
           "lakecolor": "white",
           "landcolor": "#E5ECF6",
           "showlakes": true,
           "showland": true,
           "subunitcolor": "white"
          },
          "hoverlabel": {
           "align": "left"
          },
          "hovermode": "closest",
          "mapbox": {
           "style": "light"
          },
          "paper_bgcolor": "white",
          "plot_bgcolor": "#E5ECF6",
          "polar": {
           "angularaxis": {
            "gridcolor": "white",
            "linecolor": "white",
            "ticks": ""
           },
           "bgcolor": "#E5ECF6",
           "radialaxis": {
            "gridcolor": "white",
            "linecolor": "white",
            "ticks": ""
           }
          },
          "scene": {
           "xaxis": {
            "backgroundcolor": "#E5ECF6",
            "gridcolor": "white",
            "gridwidth": 2,
            "linecolor": "white",
            "showbackground": true,
            "ticks": "",
            "zerolinecolor": "white"
           },
           "yaxis": {
            "backgroundcolor": "#E5ECF6",
            "gridcolor": "white",
            "gridwidth": 2,
            "linecolor": "white",
            "showbackground": true,
            "ticks": "",
            "zerolinecolor": "white"
           },
           "zaxis": {
            "backgroundcolor": "#E5ECF6",
            "gridcolor": "white",
            "gridwidth": 2,
            "linecolor": "white",
            "showbackground": true,
            "ticks": "",
            "zerolinecolor": "white"
           }
          },
          "shapedefaults": {
           "line": {
            "color": "#2a3f5f"
           }
          },
          "ternary": {
           "aaxis": {
            "gridcolor": "white",
            "linecolor": "white",
            "ticks": ""
           },
           "baxis": {
            "gridcolor": "white",
            "linecolor": "white",
            "ticks": ""
           },
           "bgcolor": "#E5ECF6",
           "caxis": {
            "gridcolor": "white",
            "linecolor": "white",
            "ticks": ""
           }
          },
          "title": {
           "x": 0.05
          },
          "xaxis": {
           "automargin": true,
           "gridcolor": "white",
           "linecolor": "white",
           "ticks": "",
           "title": {
            "standoff": 15
           },
           "zerolinecolor": "white",
           "zerolinewidth": 2
          },
          "yaxis": {
           "automargin": true,
           "gridcolor": "white",
           "linecolor": "white",
           "ticks": "",
           "title": {
            "standoff": 15
           },
           "zerolinecolor": "white",
           "zerolinewidth": 2
          }
         }
        },
        "xaxis": {
         "anchor": "y",
         "domain": [
          0,
          1
         ],
         "title": {
          "text": "x"
         }
        },
        "yaxis": {
         "anchor": "x",
         "domain": [
          0,
          1
         ],
         "title": {
          "text": "y"
         }
        }
       }
      },
      "text/html": [
       "<div>                            <div id=\"ee9c226e-1dfb-4d46-8631-5d0f88c0c484\" class=\"plotly-graph-div\" style=\"height:525px; width:100%;\"></div>            <script type=\"text/javascript\">                require([\"plotly\"], function(Plotly) {                    window.PLOTLYENV=window.PLOTLYENV || {};                                    if (document.getElementById(\"ee9c226e-1dfb-4d46-8631-5d0f88c0c484\")) {                    Plotly.newPlot(                        \"ee9c226e-1dfb-4d46-8631-5d0f88c0c484\",                        [{\"hovertemplate\":\"x=%{x}<br>y=%{y}<extra></extra>\",\"legendgroup\":\"\",\"line\":{\"color\":\"#636efa\",\"dash\":\"solid\"},\"marker\":{\"symbol\":\"circle\"},\"mode\":\"lines\",\"name\":\"\",\"orientation\":\"v\",\"showlegend\":false,\"x\":[1,2,3,4,5,6,7,8,9,10,11,12,13,14,15,16,17,18,19,20,21,22,23,24,25,26,27,28,29,30,31,32,33,34,35,36,37,38,39,40,41,42,43,44,45,46,47,48,49,50,51,52,53,54,55,56,57,58,59,60,61,62,63,64,65,66,67,68,69,70,71,72,73,74,75,76,77,78,79,80,81,82,83,84,85,86,87,88,89,90,91,92,93,94,95,96,97,98,99,100,101,102,103,104,105,106,107,108,109,110,111,112,113,114,115,116,117,118,119,120,121,122,123,124,125,126,127,128,129,130,131,132,133,134,135,136,137,138,139,140,141,142,143,144,145,146,147,148,149,150,151,152,153,154,155,156,157,158,159,160,161,162,163,164,165,166,167,168,169,170,171,172,173,174,175,176,177,178,179,180,181,182,183,184,185,186,187,188,189,190,191,192,193,194,195,196,197,198,199,200,201,202,203,204,205,206,207,208,209,210,211,212,213,214,215,216,217,218,219,220,221,222,223,224,225,226,227,228,229,230,231,232,233,234,235,236,237,238,239,240,241,242,243,244,245,246,247,248,249,250,251,252,253,254,255,256,257,258,259,260,261,262,263,264,265,266,267,268,269,270,271,272,273,274,275,276,277,278,279,280,281,282,283,284,285,286,287,288,289,290,291,292,293,294,295,296,297,298,299,300,301,302,303,304,305,306,307,308,309,310,311,312,313,314,315,316,317,318,319,320,321,322,323,324,325,326,327,328,329,330,331,332,333,334,335,336,337,338,339,340,341,342,343,344,345,346,347,348,349,350,351,352,353,354,355,356,357,358,359,360,361,362,363,364,365,366,367,368,369,370,371,372,373,374,375,376,377,378,379,380,381,382,383,384,385,386,387,388,389,390,391,392,393,394,395,396,397,398,399,400,401,402,403,404,405,406,407,408,409,410,411,412,413,414,415,416,417,418,419,420,421,422,423,424,425,426,427,428,429,430,431,432,433,434,435,436,437,438,439,440,441,442,443,444,445,446,447,448,449,450,451,452,453,454,455,456,457,458,459,460,461,462,463,464,465,466,467,468,469,470,471,472,473,474,475,476,477,478,479,480,481,482,483,484,485,486,487,488,489,490,491,492,493,494,495,496,497,498,499,500,501,502,503,504,505,506,507,508,509,510,511,512,513,514,515,516,517,518,519,520,521,522,523,524,525,526,527,528,529,530,531,532,533,534,535,536,537,538,539,540,541,542,543,544,545,546,547,548,549,550,551,552,553,554,555,556,557,558,559,560,561,562,563,564,565,566,567,568,569,570,571,572,573,574,575,576,577,578,579,580,581,582,583,584,585,586,587,588,589,590,591,592,593,594,595,596,597,598,599,600,601,602,603,604,605,606,607,608,609,610,611,612,613,614,615,616,617,618,619,620,621,622,623,624,625,626,627,628,629,630,631,632,633,634,635,636,637,638,639,640,641,642,643,644,645,646,647,648,649,650,651,652,653,654,655,656,657,658,659,660,661,662,663,664,665,666,667,668,669,670,671,672,673,674,675,676,677,678,679,680,681,682,683,684,685,686,687,688,689,690,691,692,693,694,695,696,697,698,699,700,701,702,703,704,705,706,707,708,709,710,711,712,713,714,715,716,717,718,719,720,721,722,723,724,725,726,727,728,729,730,731,732,733,734,735,736,737,738,739,740,741,742,743,744,745,746,747,748,749,750,751,752,753,754,755,756,757,758,759,760,761,762,763,764,765,766,767,768,769,770,771,772,773,774,775,776,777,778,779,780,781,782,783,784,785,786,787,788,789,790,791,792,793,794,795,796,797,798,799],\"xaxis\":\"x\",\"y\":[0.195,0.18,0.2275,0.2175,0.22625,0.2375,0.22875,0.26,0.25625,0.25,0.27875,0.2725,0.26,0.2475,0.27375,0.29375,0.3,0.29625,0.3,0.31375,0.315,0.28375,0.3025,0.31875,0.30375,0.2925,0.34875,0.30125,0.35,0.33375,0.3525,0.33875,0.34375,0.3675,0.32,0.35875,0.34125,0.355,0.3725,0.3675,0.375,0.355,0.33625,0.3675,0.395,0.38,0.37625,0.41125,0.385,0.415,0.39375,0.41875,0.4025,0.385,0.3925,0.39,0.40625,0.4125,0.41125,0.42,0.4125,0.4,0.4075,0.3825,0.43625,0.42375,0.45,0.44875,0.4125,0.46,0.455,0.47375,0.46125,0.45,0.4775,0.46875,0.47125,0.495,0.46875,0.46375,0.50625,0.48625,0.48875,0.49875,0.50375,0.5075,0.505,0.525,0.515,0.52,0.49875,0.52375,0.52,0.54125,0.565,0.56625,0.54625,0.5475,0.58125,0.5575,0.585,0.555,0.5625,0.55,0.5775,0.57125,0.5525,0.555,0.58125,0.54375,0.58625,0.57625,0.58875,0.57375,0.58375,0.60625,0.57625,0.5625,0.59625,0.57375,0.58125,0.62125,0.60375,0.6225,0.6,0.605,0.63125,0.6175,0.645,0.6275,0.6175,0.65125,0.6125,0.63125,0.63625,0.6,0.66,0.67,0.66875,0.65,0.6525,0.66,0.65375,0.66,0.63375,0.68625,0.6575,0.6625,0.68,0.665,0.66875,0.68,0.67375,0.6925,0.705,0.715,0.70375,0.7125,0.70375,0.69375,0.7025,0.70625,0.705,0.7025,0.705,0.71375,0.695,0.7275,0.72,0.70875,0.72625,0.7325,0.73125,0.73625,0.73875,0.74375,0.72625,0.7375,0.74625,0.71875,0.7575,0.73125,0.745,0.7625,0.75625,0.72125,0.755,0.7725,0.7275,0.7425,0.75125,0.76375,0.75625,0.7325,0.75,0.76375,0.76375,0.7475,0.76625,0.75375,0.76,0.76125,0.79125,0.76625,0.76,0.79125,0.7775,0.78125,0.7825,0.76125,0.7975,0.7675,0.7825,0.76625,0.805,0.76875,0.76875,0.78625,0.74875,0.7925,0.8,0.82625,0.77625,0.795,0.8,0.8025,0.77375,0.795,0.795,0.82,0.805,0.8175,0.80875,0.8225,0.8375,0.81,0.7925,0.79,0.81625,0.80125,0.82,0.81125,0.82125,0.8225,0.825,0.805,0.825,0.84125,0.81875,0.81875,0.805,0.8275,0.82375,0.8375,0.81625,0.81625,0.8175,0.82,0.82125,0.81,0.815,0.81375,0.845,0.835,0.8125,0.85625,0.845,0.83,0.83375,0.82875,0.86125,0.83875,0.83875,0.8225,0.825,0.8475,0.8525,0.8525,0.83,0.84125,0.83625,0.82625,0.8525,0.83875,0.8375,0.835,0.85,0.84625,0.83625,0.85125,0.83625,0.8375,0.81875,0.84375,0.87625,0.8475,0.84625,0.8675,0.85,0.83875,0.85875,0.865,0.85875,0.83625,0.85625,0.835,0.84,0.8575,0.86375,0.86375,0.83,0.84,0.82875,0.85875,0.8425,0.8425,0.87125,0.84,0.8475,0.8625,0.85625,0.835,0.855,0.845,0.87125,0.87,0.85625,0.85125,0.86375,0.855,0.85375,0.8575,0.85375,0.845,0.86125,0.86375,0.84375,0.8575,0.83,0.865,0.865,0.8525,0.85625,0.8875,0.85875,0.8425,0.8575,0.8625,0.85375,0.855,0.87875,0.8625,0.875,0.85125,0.855,0.8475,0.88,0.855,0.87,0.86,0.855,0.88125,0.8225,0.86625,0.8675,0.8675,0.8675,0.86375,0.89875,0.87875,0.8675,0.87125,0.87875,0.86125,0.87125,0.8725,0.86375,0.89375,0.875,0.88875,0.87,0.865,0.8525,0.85875,0.87625,0.8775,0.87875,0.8825,0.87,0.8675,0.86875,0.88375,0.87875,0.86,0.8725,0.8625,0.8975,0.89125,0.885,0.8625,0.87375,0.885,0.87625,0.88875,0.86875,0.875,0.895,0.88,0.8675,0.87125,0.895,0.8775,0.9025,0.8725,0.86,0.8825,0.87125,0.875,0.8875,0.87625,0.87625,0.89375,0.885,0.87875,0.89875,0.88875,0.905,0.9,0.88125,0.885,0.87875,0.8975,0.9025,0.90125,0.86125,0.89875,0.87125,0.905,0.895,0.8975,0.8925,0.905,0.89125,0.89625,0.8975,0.89375,0.91125,0.88875,0.90875,0.9,0.91125,0.9175,0.90125,0.89375,0.89625,0.89,0.8975,0.90625,0.9075,0.92,0.9075,0.8975,0.90375,0.88125,0.89625,0.90125,0.89875,0.8975,0.8775,0.9,0.90375,0.91875,0.9025,0.9075,0.905,0.89125,0.91375,0.9275,0.895,0.905,0.9075,0.89875,0.8975,0.90875,0.895,0.9,0.90875,0.9,0.89875,0.88875,0.88375,0.9175,0.9075,0.91375,0.90625,0.89625,0.8975,0.9,0.91375,0.8925,0.8925,0.91,0.90375,0.89625,0.9125,0.92375,0.8875,0.9125,0.92625,0.91,0.895,0.91,0.91875,0.905,0.92,0.915,0.92,0.9175,0.9075,0.915,0.90875,0.91875,0.90875,0.9225,0.91375,0.9125,0.92625,0.91875,0.92,0.915,0.92875,0.90625,0.90375,0.92,0.91,0.90875,0.89875,0.92,0.90125,0.92375,0.925,0.90875,0.91625,0.9275,0.8925,0.91875,0.9175,0.93875,0.92875,0.9375,0.9275,0.9125,0.92375,0.92375,0.92875,0.93625,0.91,0.90125,0.92875,0.9175,0.8975,0.93125,0.925,0.925,0.90875,0.925,0.9275,0.92875,0.93875,0.95,0.92375,0.9425,0.935,0.94125,0.92375,0.935,0.92625,0.92375,0.91375,0.93375,0.91875,0.93625,0.9225,0.92,0.91,0.92,0.91625,0.93625,0.92375,0.92625,0.92625,0.905,0.94,0.93125,0.94125,0.91375,0.93875,0.91125,0.9175,0.92875,0.92125,0.92375,0.93875,0.91625,0.93,0.92625,0.93625,0.91625,0.9325,0.91375,0.90125,0.90375,0.9275,0.94125,0.92375,0.935,0.9375,0.92125,0.92875,0.92625,0.91,0.93,0.93875,0.93875,0.91375,0.9325,0.91875,0.915,0.9175,0.935,0.925,0.925,0.9325,0.9125,0.92875,0.92,0.93625,0.91875,0.935,0.91,0.91375,0.92625,0.92625,0.93375,0.92875,0.94125,0.9125,0.935,0.9325,0.92625,0.9175,0.93625,0.92875,0.92875,0.93875,0.95,0.94125,0.925,0.92875,0.9375,0.93625,0.94,0.92375,0.94125,0.9325,0.93,0.91375,0.93125,0.9175,0.94,0.92375,0.94125,0.925,0.9125,0.93,0.915,0.9325,0.935,0.93375,0.935,0.9175,0.94,0.945,0.92125,0.9375,0.915,0.9075,0.9275,0.9175,0.93125,0.92625,0.92,0.92625,0.9275,0.93,0.9325,0.9425,0.92,0.91875,0.91375,0.9325,0.92625,0.92625,0.92875,0.92125,0.93875,0.92375,0.91,0.92875,0.9275,0.93,0.94,0.9275,0.93,0.9325,0.94625,0.93375,0.92,0.935,0.95125,0.935,0.9175,0.92875,0.93625,0.9325,0.92375,0.93875,0.93625,0.93375,0.93375,0.9225,0.94875,0.9175,0.9275,0.9275,0.94875,0.9325,0.93,0.94,0.9325,0.92375,0.9275,0.93625,0.915,0.9175,0.91125,0.92875,0.94625,0.91375,0.93875,0.93625,0.9375,0.935,0.9425,0.92875,0.9375,0.925,0.93375,0.94125,0.92375,0.9425,0.94375,0.92875,0.9225,0.91875,0.93,0.92125,0.9425,0.93375,0.94,0.91875,0.92875,0.93,0.93125,0.9125,0.92875,0.9325,0.9275,0.92875,0.93375,0.9425,0.92625,0.93125,0.92,0.93,0.915,0.93,0.9225,0.93125,0.9375,0.915,0.9325,0.935,0.93625,0.92,0.9275,0.895,0.865,0.88875],\"yaxis\":\"y\",\"type\":\"scatter\"}],                        {\"template\":{\"data\":{\"histogram2dcontour\":[{\"type\":\"histogram2dcontour\",\"colorbar\":{\"outlinewidth\":0,\"ticks\":\"\"},\"colorscale\":[[0.0,\"#0d0887\"],[0.1111111111111111,\"#46039f\"],[0.2222222222222222,\"#7201a8\"],[0.3333333333333333,\"#9c179e\"],[0.4444444444444444,\"#bd3786\"],[0.5555555555555556,\"#d8576b\"],[0.6666666666666666,\"#ed7953\"],[0.7777777777777778,\"#fb9f3a\"],[0.8888888888888888,\"#fdca26\"],[1.0,\"#f0f921\"]]}],\"choropleth\":[{\"type\":\"choropleth\",\"colorbar\":{\"outlinewidth\":0,\"ticks\":\"\"}}],\"histogram2d\":[{\"type\":\"histogram2d\",\"colorbar\":{\"outlinewidth\":0,\"ticks\":\"\"},\"colorscale\":[[0.0,\"#0d0887\"],[0.1111111111111111,\"#46039f\"],[0.2222222222222222,\"#7201a8\"],[0.3333333333333333,\"#9c179e\"],[0.4444444444444444,\"#bd3786\"],[0.5555555555555556,\"#d8576b\"],[0.6666666666666666,\"#ed7953\"],[0.7777777777777778,\"#fb9f3a\"],[0.8888888888888888,\"#fdca26\"],[1.0,\"#f0f921\"]]}],\"heatmap\":[{\"type\":\"heatmap\",\"colorbar\":{\"outlinewidth\":0,\"ticks\":\"\"},\"colorscale\":[[0.0,\"#0d0887\"],[0.1111111111111111,\"#46039f\"],[0.2222222222222222,\"#7201a8\"],[0.3333333333333333,\"#9c179e\"],[0.4444444444444444,\"#bd3786\"],[0.5555555555555556,\"#d8576b\"],[0.6666666666666666,\"#ed7953\"],[0.7777777777777778,\"#fb9f3a\"],[0.8888888888888888,\"#fdca26\"],[1.0,\"#f0f921\"]]}],\"heatmapgl\":[{\"type\":\"heatmapgl\",\"colorbar\":{\"outlinewidth\":0,\"ticks\":\"\"},\"colorscale\":[[0.0,\"#0d0887\"],[0.1111111111111111,\"#46039f\"],[0.2222222222222222,\"#7201a8\"],[0.3333333333333333,\"#9c179e\"],[0.4444444444444444,\"#bd3786\"],[0.5555555555555556,\"#d8576b\"],[0.6666666666666666,\"#ed7953\"],[0.7777777777777778,\"#fb9f3a\"],[0.8888888888888888,\"#fdca26\"],[1.0,\"#f0f921\"]]}],\"contourcarpet\":[{\"type\":\"contourcarpet\",\"colorbar\":{\"outlinewidth\":0,\"ticks\":\"\"}}],\"contour\":[{\"type\":\"contour\",\"colorbar\":{\"outlinewidth\":0,\"ticks\":\"\"},\"colorscale\":[[0.0,\"#0d0887\"],[0.1111111111111111,\"#46039f\"],[0.2222222222222222,\"#7201a8\"],[0.3333333333333333,\"#9c179e\"],[0.4444444444444444,\"#bd3786\"],[0.5555555555555556,\"#d8576b\"],[0.6666666666666666,\"#ed7953\"],[0.7777777777777778,\"#fb9f3a\"],[0.8888888888888888,\"#fdca26\"],[1.0,\"#f0f921\"]]}],\"surface\":[{\"type\":\"surface\",\"colorbar\":{\"outlinewidth\":0,\"ticks\":\"\"},\"colorscale\":[[0.0,\"#0d0887\"],[0.1111111111111111,\"#46039f\"],[0.2222222222222222,\"#7201a8\"],[0.3333333333333333,\"#9c179e\"],[0.4444444444444444,\"#bd3786\"],[0.5555555555555556,\"#d8576b\"],[0.6666666666666666,\"#ed7953\"],[0.7777777777777778,\"#fb9f3a\"],[0.8888888888888888,\"#fdca26\"],[1.0,\"#f0f921\"]]}],\"mesh3d\":[{\"type\":\"mesh3d\",\"colorbar\":{\"outlinewidth\":0,\"ticks\":\"\"}}],\"scatter\":[{\"fillpattern\":{\"fillmode\":\"overlay\",\"size\":10,\"solidity\":0.2},\"type\":\"scatter\"}],\"parcoords\":[{\"type\":\"parcoords\",\"line\":{\"colorbar\":{\"outlinewidth\":0,\"ticks\":\"\"}}}],\"scatterpolargl\":[{\"type\":\"scatterpolargl\",\"marker\":{\"colorbar\":{\"outlinewidth\":0,\"ticks\":\"\"}}}],\"bar\":[{\"error_x\":{\"color\":\"#2a3f5f\"},\"error_y\":{\"color\":\"#2a3f5f\"},\"marker\":{\"line\":{\"color\":\"#E5ECF6\",\"width\":0.5},\"pattern\":{\"fillmode\":\"overlay\",\"size\":10,\"solidity\":0.2}},\"type\":\"bar\"}],\"scattergeo\":[{\"type\":\"scattergeo\",\"marker\":{\"colorbar\":{\"outlinewidth\":0,\"ticks\":\"\"}}}],\"scatterpolar\":[{\"type\":\"scatterpolar\",\"marker\":{\"colorbar\":{\"outlinewidth\":0,\"ticks\":\"\"}}}],\"histogram\":[{\"marker\":{\"pattern\":{\"fillmode\":\"overlay\",\"size\":10,\"solidity\":0.2}},\"type\":\"histogram\"}],\"scattergl\":[{\"type\":\"scattergl\",\"marker\":{\"colorbar\":{\"outlinewidth\":0,\"ticks\":\"\"}}}],\"scatter3d\":[{\"type\":\"scatter3d\",\"line\":{\"colorbar\":{\"outlinewidth\":0,\"ticks\":\"\"}},\"marker\":{\"colorbar\":{\"outlinewidth\":0,\"ticks\":\"\"}}}],\"scattermapbox\":[{\"type\":\"scattermapbox\",\"marker\":{\"colorbar\":{\"outlinewidth\":0,\"ticks\":\"\"}}}],\"scatterternary\":[{\"type\":\"scatterternary\",\"marker\":{\"colorbar\":{\"outlinewidth\":0,\"ticks\":\"\"}}}],\"scattercarpet\":[{\"type\":\"scattercarpet\",\"marker\":{\"colorbar\":{\"outlinewidth\":0,\"ticks\":\"\"}}}],\"carpet\":[{\"aaxis\":{\"endlinecolor\":\"#2a3f5f\",\"gridcolor\":\"white\",\"linecolor\":\"white\",\"minorgridcolor\":\"white\",\"startlinecolor\":\"#2a3f5f\"},\"baxis\":{\"endlinecolor\":\"#2a3f5f\",\"gridcolor\":\"white\",\"linecolor\":\"white\",\"minorgridcolor\":\"white\",\"startlinecolor\":\"#2a3f5f\"},\"type\":\"carpet\"}],\"table\":[{\"cells\":{\"fill\":{\"color\":\"#EBF0F8\"},\"line\":{\"color\":\"white\"}},\"header\":{\"fill\":{\"color\":\"#C8D4E3\"},\"line\":{\"color\":\"white\"}},\"type\":\"table\"}],\"barpolar\":[{\"marker\":{\"line\":{\"color\":\"#E5ECF6\",\"width\":0.5},\"pattern\":{\"fillmode\":\"overlay\",\"size\":10,\"solidity\":0.2}},\"type\":\"barpolar\"}],\"pie\":[{\"automargin\":true,\"type\":\"pie\"}]},\"layout\":{\"autotypenumbers\":\"strict\",\"colorway\":[\"#636efa\",\"#EF553B\",\"#00cc96\",\"#ab63fa\",\"#FFA15A\",\"#19d3f3\",\"#FF6692\",\"#B6E880\",\"#FF97FF\",\"#FECB52\"],\"font\":{\"color\":\"#2a3f5f\"},\"hovermode\":\"closest\",\"hoverlabel\":{\"align\":\"left\"},\"paper_bgcolor\":\"white\",\"plot_bgcolor\":\"#E5ECF6\",\"polar\":{\"bgcolor\":\"#E5ECF6\",\"angularaxis\":{\"gridcolor\":\"white\",\"linecolor\":\"white\",\"ticks\":\"\"},\"radialaxis\":{\"gridcolor\":\"white\",\"linecolor\":\"white\",\"ticks\":\"\"}},\"ternary\":{\"bgcolor\":\"#E5ECF6\",\"aaxis\":{\"gridcolor\":\"white\",\"linecolor\":\"white\",\"ticks\":\"\"},\"baxis\":{\"gridcolor\":\"white\",\"linecolor\":\"white\",\"ticks\":\"\"},\"caxis\":{\"gridcolor\":\"white\",\"linecolor\":\"white\",\"ticks\":\"\"}},\"coloraxis\":{\"colorbar\":{\"outlinewidth\":0,\"ticks\":\"\"}},\"colorscale\":{\"sequential\":[[0.0,\"#0d0887\"],[0.1111111111111111,\"#46039f\"],[0.2222222222222222,\"#7201a8\"],[0.3333333333333333,\"#9c179e\"],[0.4444444444444444,\"#bd3786\"],[0.5555555555555556,\"#d8576b\"],[0.6666666666666666,\"#ed7953\"],[0.7777777777777778,\"#fb9f3a\"],[0.8888888888888888,\"#fdca26\"],[1.0,\"#f0f921\"]],\"sequentialminus\":[[0.0,\"#0d0887\"],[0.1111111111111111,\"#46039f\"],[0.2222222222222222,\"#7201a8\"],[0.3333333333333333,\"#9c179e\"],[0.4444444444444444,\"#bd3786\"],[0.5555555555555556,\"#d8576b\"],[0.6666666666666666,\"#ed7953\"],[0.7777777777777778,\"#fb9f3a\"],[0.8888888888888888,\"#fdca26\"],[1.0,\"#f0f921\"]],\"diverging\":[[0,\"#8e0152\"],[0.1,\"#c51b7d\"],[0.2,\"#de77ae\"],[0.3,\"#f1b6da\"],[0.4,\"#fde0ef\"],[0.5,\"#f7f7f7\"],[0.6,\"#e6f5d0\"],[0.7,\"#b8e186\"],[0.8,\"#7fbc41\"],[0.9,\"#4d9221\"],[1,\"#276419\"]]},\"xaxis\":{\"gridcolor\":\"white\",\"linecolor\":\"white\",\"ticks\":\"\",\"title\":{\"standoff\":15},\"zerolinecolor\":\"white\",\"automargin\":true,\"zerolinewidth\":2},\"yaxis\":{\"gridcolor\":\"white\",\"linecolor\":\"white\",\"ticks\":\"\",\"title\":{\"standoff\":15},\"zerolinecolor\":\"white\",\"automargin\":true,\"zerolinewidth\":2},\"scene\":{\"xaxis\":{\"backgroundcolor\":\"#E5ECF6\",\"gridcolor\":\"white\",\"linecolor\":\"white\",\"showbackground\":true,\"ticks\":\"\",\"zerolinecolor\":\"white\",\"gridwidth\":2},\"yaxis\":{\"backgroundcolor\":\"#E5ECF6\",\"gridcolor\":\"white\",\"linecolor\":\"white\",\"showbackground\":true,\"ticks\":\"\",\"zerolinecolor\":\"white\",\"gridwidth\":2},\"zaxis\":{\"backgroundcolor\":\"#E5ECF6\",\"gridcolor\":\"white\",\"linecolor\":\"white\",\"showbackground\":true,\"ticks\":\"\",\"zerolinecolor\":\"white\",\"gridwidth\":2}},\"shapedefaults\":{\"line\":{\"color\":\"#2a3f5f\"}},\"annotationdefaults\":{\"arrowcolor\":\"#2a3f5f\",\"arrowhead\":0,\"arrowwidth\":1},\"geo\":{\"bgcolor\":\"white\",\"landcolor\":\"#E5ECF6\",\"subunitcolor\":\"white\",\"showland\":true,\"showlakes\":true,\"lakecolor\":\"white\"},\"title\":{\"x\":0.05},\"mapbox\":{\"style\":\"light\"}}},\"xaxis\":{\"anchor\":\"y\",\"domain\":[0.0,1.0],\"title\":{\"text\":\"x\"}},\"yaxis\":{\"anchor\":\"x\",\"domain\":[0.0,1.0],\"title\":{\"text\":\"y\"}},\"legend\":{\"tracegroupgap\":0},\"margin\":{\"t\":60}},                        {\"responsive\": true}                    ).then(function(){\n",
       "                            \n",
       "var gd = document.getElementById('ee9c226e-1dfb-4d46-8631-5d0f88c0c484');\n",
       "var x = new MutationObserver(function (mutations, observer) {{\n",
       "        var display = window.getComputedStyle(gd).display;\n",
       "        if (!display || display === 'none') {{\n",
       "            console.log([gd, 'removed!']);\n",
       "            Plotly.purge(gd);\n",
       "            observer.disconnect();\n",
       "        }}\n",
       "}});\n",
       "\n",
       "// Listen for the removal of the full notebook cells\n",
       "var notebookContainer = gd.closest('#notebook-container');\n",
       "if (notebookContainer) {{\n",
       "    x.observe(notebookContainer, {childList: true});\n",
       "}}\n",
       "\n",
       "// Listen for the clearing of the current output cell\n",
       "var outputEl = gd.closest('.output');\n",
       "if (outputEl) {{\n",
       "    x.observe(outputEl, {childList: true});\n",
       "}}\n",
       "\n",
       "                        })                };                });            </script>        </div>"
      ]
     },
     "metadata": {},
     "output_type": "display_data"
    }
   ],
   "source": [
    "length = np.array(list(range(1, X_train.shape[0])))\n",
    "comp_vals = np.array([compactness_profile(i, X_train, Y_train) for i in length])\n",
    "\n",
    "fig = px.line(x=length, y=comp_vals)\n",
    "fig.show()"
   ]
  },
  {
   "cell_type": "markdown",
   "id": "ab77a5b4",
   "metadata": {},
   "source": [
    "### Parzen Window Method"
   ]
  },
  {
   "cell_type": "markdown",
   "id": "83fb060c",
   "metadata": {},
   "source": [
    "Восстановление плотности методом Парзена-Розенблатта\n",
    "$$p(x)= \\frac{1}{n}\\displaystyle\\sum_{i=1}^n \\frac{1}{h^2} \\phi \\big(\\frac{x_i−x_h}{h}\\big)$$ - where n is number of elements in the vector, x is a vector, p(x) is a probability density of x, h is dimension of the Parzen Window, and $\\phi$ is a window function."
   ]
  },
  {
   "cell_type": "code",
   "execution_count": 119,
   "id": "d2e5c640",
   "metadata": {},
   "outputs": [],
   "source": [
    "gauss_kernel = lambda x: ((2 * math.pi) ** (-1/2)) * np.exp(-1/2 * (x ** 2))"
   ]
  },
  {
   "cell_type": "code",
   "execution_count": 120,
   "id": "1a35b34c",
   "metadata": {},
   "outputs": [],
   "source": [
    "distance = lambda point1, point2: math.sqrt((point1[0] - point2[0]) ** 2 \\\n",
    "                                            + (point1[1] - point2[1]) ** 2 \\\n",
    "                                            + (point1[2] - point2[2]) ** 2\n",
    "                                           )"
   ]
  },
  {
   "cell_type": "code",
   "execution_count": 121,
   "id": "069cdf33",
   "metadata": {},
   "outputs": [],
   "source": [
    "def ParzRos_score(x: float, h: float, data: np.array, kernel: Mapping, distance: Mapping) -> float:\n",
    "    \"\"\"\n",
    "    Function: \n",
    "        Метод возвращает значение, найденное методом Парзена-Розенблатта для группы точек.\n",
    "\n",
    "    Args: \n",
    "        x: float - параметр функции ядра.\n",
    "        h: float - параметр метода Парзена-Розенблатта: ширина окна.\n",
    "        data: list или array - набор точек.\n",
    "        kernel: Mapping - тип ядра.\n",
    "        distance: Mapping - функция расчета расстояния между двумя точками \n",
    "                        на плоскости или в пространстве (для нелинейной задачи).\n",
    "\n",
    "    Return:\n",
    "        Значение найденное методом Парзена-Розенблатта для группы точек (float).\n",
    "    \"\"\"\n",
    "    return sum([kernel(distance(x, point) / h) for point in data]) / (len(data) * h)"
   ]
  },
  {
   "cell_type": "markdown",
   "id": "07e9c797",
   "metadata": {},
   "source": [
    "#### Функция ядра (окна)\n",
    "$K(z)$ — произвольная четная функция, называемая функцией ядра или окна. Термин окно происходит из классического вида функции:\n",
    "\n",
    "$K(z) = \\frac12 [|z| < 1]$\n",
    "\n",
    "#### Ширина окна\n",
    "Ширина окна сильно влияет на качество восстановления плотности и, как следствие, классификации. При слишком малом окне мы получаем тот же эффект, что и при использовании гистограммы значений. При слишком большом окне плотность вырождается в константу.\n",
    "\n",
    "Для нахождения оптимальной ширины окна удобно использовать принцип максимума правдоподобия с исключением объектов по одному (leave-one-out, LOO).\n",
    "\n",
    "#### Возможные проблемы\n",
    "*Проблема локальных сгущений*\n",
    "\n",
    "Возникает в тех случаях, когда распределение объектов в пространстве сильно неравномерно, и одно и то же значение ширины окна h приводит к чрезмерному сглаживанию плотности в одних местах, и недостаточному сглаживанию в других. Проблему решают окна переменной ширины.\n",
    "\n",
    "*Проблема «проклятия размерности»*\n",
    "\n",
    "Если число признаков велико и учитываются все они, то все объекты оказываются примерно на одинаковом расстоянии друг от друга. Выход заключается в понижении размерности с помощью преобразования пространства признаков, либо путём отбора информативных признаков."
   ]
  },
  {
   "cell_type": "code",
   "execution_count": 114,
   "id": "f0658df4",
   "metadata": {},
   "outputs": [],
   "source": [
    "def ParzWindow(distance: Mapping, h: float) -> float:\n",
    "    \"\"\"\n",
    "    Function: \n",
    "        Метод возвращает значение, найденное методом окна Парзена для группы точек.\n",
    "\n",
    "    Args: \n",
    "        distance: Mapping - расстояния между двумя точками \n",
    "                на плоскости или в пространстве.\n",
    "        h: float - параметр метода Парзена: ширина окна.\n",
    "\n",
    "    Return:\n",
    "        Значения найденные методом окна Парзена для группы точек (float).\n",
    "    \"\"\"\n",
    "    return (1 - (np.array(distance) / h) ** 2) * (np.abs(np.array(distance) / h) <= 1)"
   ]
  },
  {
   "cell_type": "markdown",
   "id": "085c6735",
   "metadata": {},
   "source": [
    "`def hypercube_kernel(h, x, x_i):\n",
    "    \"\"\"\n",
    "    Implementation of a hypercube kernel for Parzen-window estimation.\n",
    "\n",
    "    Keyword arguments:\n",
    "        h: window width\n",
    "        x: point x for density estimation, 'd x 1'-dimensional numpy array\n",
    "        x_i: point from training sample, 'd x 1'-dimensional numpy array\n",
    "\n",
    "    Returns a 'd x 1'-dimensional numpy array as input for a window function.\n",
    "\n",
    "    \"\"\"\n",
    "    assert (x.shape == x_i.shape), 'vectors x and x_i must have the same dimensions'\n",
    "    return (x - x_i) / (h) -->\n",
    "\n",
    "\n",
    "def parzen_window_func(x_vec, h=1):\n",
    "    \"\"\"\n",
    "    Implementation of the window function. Returns 1 if 'd x 1'-sample vector\n",
    "    lies within inside the window, 0 otherwise.\n",
    "\n",
    "    \"\"\"\n",
    "    for row in x_vec:\n",
    "        if np.abs(row) > (1/2):\n",
    "            return 0\n",
    "    return 1\n",
    "\n",
    "\n",
    "def parzen_estimation(x_samples, point_x, h, d, window_func, kernel_func):\n",
    "    \"\"\"\n",
    "    Implementation of a parzen-window estimation.\n",
    "\n",
    "    Keyword arguments:\n",
    "        x_samples: A 'n x d'-dimensional numpy array, where each sample\n",
    "            is stored in a separate row. (= training sample)\n",
    "        point_x: point x for density estimation, 'd x 1'-dimensional numpy array\n",
    "        h: window width\n",
    "        d: dimensions\n",
    "        window_func: a Parzen window function (phi)\n",
    "        kernel_function: A hypercube or Gaussian kernel functions\n",
    "\n",
    "    Returns the density estimate p(x).\n",
    "\n",
    "    \"\"\"\n",
    "    k_n = 0\n",
    "    for row in x_samples:\n",
    "        x_i = kernel_func(h=h, x=point_x, x_i=row[:, np.newaxis])\n",
    "        k_n += window_func(x_i, h=h)\n",
    "    return (k_n / len(x_samples)) / (h ** d)`"
   ]
  },
  {
   "cell_type": "code",
   "execution_count": 125,
   "id": "28b04d9c",
   "metadata": {},
   "outputs": [
    {
     "data": {
      "text/plain": [
       "KNeighborsClassifier(n_neighbors=3,\n",
       "                     weights=<function <lambda> at 0x000001934DBCEAF8>)"
      ]
     },
     "execution_count": 125,
     "metadata": {},
     "output_type": "execute_result"
    }
   ],
   "source": [
    "model_parz = KNeighborsClassifier(n_neighbors=3,\n",
    "                                 weights=lambda x: ParzWindow(x, h=0.7)\n",
    "                              #ParzRos_score(x, 0.05, X_train, gauss_kernel, distance)\n",
    "                             )\n",
    "model_parz.fit(X_train, Y_train)"
   ]
  },
  {
   "cell_type": "code",
   "execution_count": 126,
   "id": "aee731b5",
   "metadata": {},
   "outputs": [],
   "source": [
    "predictions_parz = model_parz.predict(X_test)"
   ]
  },
  {
   "cell_type": "code",
   "execution_count": 127,
   "id": "1138473a",
   "metadata": {},
   "outputs": [
    {
     "data": {
      "text/plain": [
       "array([1, 1, 0, 0, 0, 2, 3, 2, 3, 1, 1, 2, 0, 0, 1, 4, 1, 3, 0, 3, 1, 1,\n",
       "       1, 0, 0, 1, 4, 0, 3, 4, 0, 4, 2, 3, 3, 3, 4, 0, 0, 1, 4, 2, 3, 4,\n",
       "       0, 3, 3, 2, 4, 1, 2, 4, 1, 1, 2, 0, 2, 0, 0, 4, 3, 2, 1, 1, 2, 2,\n",
       "       0, 1, 2, 3, 1, 0, 3, 2, 3, 4, 1, 2, 0, 1, 2, 4, 0, 0, 2, 0, 1, 1,\n",
       "       1, 3, 1, 4, 1, 2, 2, 4, 1, 0, 4, 2, 3, 0, 2, 2, 1, 0, 2, 1, 0, 3,\n",
       "       4, 3, 4, 0, 3, 4, 0, 3, 0, 2, 2, 0, 2, 0, 3, 1, 1, 4, 0, 1, 0, 1,\n",
       "       1, 2, 1, 3, 2, 2, 2, 1, 3, 0, 2, 0, 1, 1, 0, 0, 0, 1, 4, 3, 3, 0,\n",
       "       1, 0, 3, 1, 4, 1, 0, 1, 0, 2, 2, 4, 3, 0, 0, 2, 1, 1, 0, 0, 4, 0,\n",
       "       0, 3, 1, 1, 4, 3, 0, 3, 2, 4, 4, 3, 3, 1, 0, 1, 4, 0, 4, 0, 4, 3,\n",
       "       1, 3])"
      ]
     },
     "execution_count": 127,
     "metadata": {},
     "output_type": "execute_result"
    }
   ],
   "source": [
    "predictions_parz"
   ]
  },
  {
   "cell_type": "code",
   "execution_count": 128,
   "id": "301d79cc",
   "metadata": {},
   "outputs": [
    {
     "data": {
      "image/png": "[encoded data removed]",
      "text/plain": [
       "<Figure size 1600x480 with 2 Axes>"
      ]
     },
     "metadata": {},
     "output_type": "display_data"
    }
   ],
   "source": [
    "plot_compare(X_test, Y_test, predictions_parz, title='Parzen Window')"
   ]
  },
  {
   "cell_type": "code",
   "execution_count": null,
   "id": "75425b0e",
   "metadata": {},
   "outputs": [],
   "source": []
  },
  {
   "cell_type": "markdown",
   "id": "03f26b19",
   "metadata": {},
   "source": [
    "###  KNN для векторизованных картинок"
   ]
  },
  {
   "cell_type": "code",
   "execution_count": 243,
   "id": "79134d35",
   "metadata": {},
   "outputs": [
    {
     "ename": "ImportError",
     "evalue": "cannot import name 'DecisionBoundaryDisplay' from 'sklearn.inspection' (C:\\ProgramData\\Anaconda3\\lib\\site-packages\\sklearn\\inspection\\__init__.py)",
     "output_type": "error",
     "traceback": [
      "\u001b[1;31m---------------------------------------------------------------------------\u001b[0m",
      "\u001b[1;31mImportError\u001b[0m                               Traceback (most recent call last)",
      "\u001b[1;32m<ipython-input-243-b7bfb44996ad>\u001b[0m in \u001b[0;36m<module>\u001b[1;34m\u001b[0m\n\u001b[0;32m      3\u001b[0m \u001b[1;32mfrom\u001b[0m \u001b[0mmatplotlib\u001b[0m\u001b[1;33m.\u001b[0m\u001b[0mcolors\u001b[0m \u001b[1;32mimport\u001b[0m \u001b[0mListedColormap\u001b[0m\u001b[1;33m\u001b[0m\u001b[1;33m\u001b[0m\u001b[0m\n\u001b[0;32m      4\u001b[0m \u001b[1;32mfrom\u001b[0m \u001b[0msklearn\u001b[0m \u001b[1;32mimport\u001b[0m \u001b[0mneighbors\u001b[0m\u001b[1;33m,\u001b[0m \u001b[0mdatasets\u001b[0m\u001b[1;33m\u001b[0m\u001b[1;33m\u001b[0m\u001b[0m\n\u001b[1;32m----> 5\u001b[1;33m \u001b[1;32mfrom\u001b[0m \u001b[0msklearn\u001b[0m\u001b[1;33m.\u001b[0m\u001b[0minspection\u001b[0m \u001b[1;32mimport\u001b[0m \u001b[0mDecisionBoundaryDisplay\u001b[0m\u001b[1;33m\u001b[0m\u001b[1;33m\u001b[0m\u001b[0m\n\u001b[0m\u001b[0;32m      6\u001b[0m \u001b[1;33m\u001b[0m\u001b[0m\n\u001b[0;32m      7\u001b[0m \u001b[0mn_neighbors\u001b[0m \u001b[1;33m=\u001b[0m \u001b[1;36m15\u001b[0m\u001b[1;33m\u001b[0m\u001b[1;33m\u001b[0m\u001b[0m\n",
      "\u001b[1;31mImportError\u001b[0m: cannot import name 'DecisionBoundaryDisplay' from 'sklearn.inspection' (C:\\ProgramData\\Anaconda3\\lib\\site-packages\\sklearn\\inspection\\__init__.py)"
     ]
    }
   ],
   "source": [
    "import matplotlib.pyplot as plt\n",
    "import seaborn as sns\n",
    "from matplotlib.colors import ListedColormap\n",
    "from sklearn import neighbors, datasets\n",
    "from sklearn.inspection import DecisionBoundaryDisplay\n",
    "\n",
    "n_neighbors = 15\n",
    "\n",
    "# import some data to play with\n",
    "iris = datasets.load_iris()\n",
    "\n",
    "# we only take the first two features. We could avoid this ugly\n",
    "# slicing by using a two-dim dataset\n",
    "X = iris.data[:, :2]\n",
    "y = iris.target\n",
    "\n",
    "# Create color maps\n",
    "cmap_light = ListedColormap([\"orange\", \"cyan\", \"cornflowerblue\"])\n",
    "cmap_bold = [\"darkorange\", \"c\", \"darkblue\"]\n",
    "\n",
    "for weights in [\"uniform\", \"distance\"]:\n",
    "    # we create an instance of Neighbours Classifier and fit the data.\n",
    "    clf = neighbors.KNeighborsClassifier(n_neighbors, weights=weights)\n",
    "    clf.fit(X, y)\n",
    "\n",
    "    _, ax = plt.subplots()\n",
    "    DecisionBoundaryDisplay.from_estimator(\n",
    "        clf,\n",
    "        X,\n",
    "        cmap=cmap_light,\n",
    "        ax=ax,\n",
    "        response_method=\"predict\",\n",
    "        plot_method=\"pcolormesh\",\n",
    "        xlabel=iris.feature_names[0],\n",
    "        ylabel=iris.feature_names[1],\n",
    "        shading=\"auto\",\n",
    "    )\n",
    "\n",
    "    # Plot also the training points\n",
    "    sns.scatterplot(\n",
    "        x=X[:, 0],\n",
    "        y=X[:, 1],\n",
    "        hue=iris.target_names[y],\n",
    "        palette=cmap_bold,\n",
    "        alpha=1.0,\n",
    "        edgecolor=\"black\",\n",
    "    )\n",
    "    plt.title(\n",
    "        \"3-Class classification (k = %i, weights = '%s')\" % (n_neighbors, weights)\n",
    "    )\n",
    "\n",
    "plt.show()"
   ]
  },
  {
   "cell_type": "code",
   "execution_count": 259,
   "id": "2ba7b76a",
   "metadata": {},
   "outputs": [
    {
     "name": "stdout",
     "output_type": "stream",
     "text": [
      "^C\n"
     ]
    }
   ],
   "source": [
    "!conda update scikit-learn"
   ]
  },
  {
   "cell_type": "code",
   "execution_count": 265,
   "id": "39847e4d",
   "metadata": {},
   "outputs": [
    {
     "ename": "SyntaxError",
     "evalue": "invalid syntax (<ipython-input-265-d15c67225408>, line 1)",
     "output_type": "error",
     "traceback": [
      "\u001b[1;36m  File \u001b[1;32m\"<ipython-input-265-d15c67225408>\"\u001b[1;36m, line \u001b[1;32m1\u001b[0m\n\u001b[1;33m    $ python3 -m pip install --upgrade --user scikit-learn\u001b[0m\n\u001b[1;37m    ^\u001b[0m\n\u001b[1;31mSyntaxError\u001b[0m\u001b[1;31m:\u001b[0m invalid syntax\n"
     ]
    }
   ],
   "source": [
    "!python3 -m pip install --upgrade --user scikit-learn"
   ]
  },
  {
   "cell_type": "markdown",
   "id": "6dcecc24",
   "metadata": {},
   "source": [
    "### Свои картинки"
   ]
  },
  {
   "cell_type": "code",
   "execution_count": null,
   "id": "948bdb3e",
   "metadata": {},
   "outputs": [],
   "source": []
  }
 ],
 "metadata": {
  "kernelspec": {
   "display_name": "Python 3 (ipykernel)",
   "language": "python",
   "name": "python3"
  },
  "language_info": {
   "codemirror_mode": {
    "name": "ipython",
    "version": 3
   },
   "file_extension": ".py",
   "mimetype": "text/x-python",
   "name": "python",
   "nbconvert_exporter": "python",
   "pygments_lexer": "ipython3",
   "version": "3.7.4"
  }
 },
 "nbformat": 4,
 "nbformat_minor": 5
}
