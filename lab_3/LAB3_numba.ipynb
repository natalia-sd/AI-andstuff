{
 "cells": [
  {
   "cell_type": "markdown",
   "id": "f6bc004f",
   "metadata": {},
   "source": [
    "# LAB 3: NUMBA \n",
    "### SGD Optimization with Numba\n",
    "### AI and Machine Learning // Suchkova Natalia М8О-114М-22\n",
    "09.11.2022 @ MAI IT-Center"
   ]
  },
  {
   "cell_type": "markdown",
   "id": "1335066d",
   "metadata": {},
   "source": [
    "<a id='gen0'></a>\n",
    "### The Task\n",
    "Выполнить реализацию SGD в Numba и сравнить по времени с реализацией в Лабораторной Работе №1"
   ]
  },
  {
   "cell_type": "markdown",
   "id": "8d3d978c",
   "metadata": {},
   "source": [
    "## Table of Contents\n",
    "\n",
    "1. [**Without Numba**](#gen1)\n",
    "\n",
    "    - [Classical GD](#gen11) \n",
    "        + [Himmelblau](#gen111)\n",
    "        + [Rastrigin](#gen112)\n",
    "        + [Rosenbrock](#gen113)\n",
    "\n",
    "    - [AdaGrad](#gen12)\n",
    "        + [Himmelblau](#gen121)\n",
    "        + [Rastrigin](#gen122)\n",
    "        + [Rosenbrock](#gen123)\n",
    "\n",
    "\n",
    "2. [**With Numba**](#gen2)\n",
    "\n",
    "    - [Classical GD](#gen21) \n",
    "        + [Himmelblau](#gen211)\n",
    "        + [Rastrigin](#gen212)\n",
    "        + [Rosenbrock](#gen213)\n",
    "\n",
    "    - [AdaGrad](#gen22)\n",
    "        + [Himmelblau](#gen221)\n",
    "        + [Rastrigin](#gen222)\n",
    "        + [Rosenbrock](#gen223)\n",
    "\n",
    "\n",
    "\n",
    "3. [**Result Comparison Table**](#gen3)\n",
    "\n"
   ]
  },
  {
   "cell_type": "code",
   "execution_count": 282,
   "id": "385bbd45",
   "metadata": {},
   "outputs": [],
   "source": [
    "import numpy as np\n",
    "import pandas as pd\n",
    "from numba import njit\n",
    "\n",
    "from typing import Tuple, Mapping\n",
    "\n",
    "import matplotlib.pyplot as plt\n",
    "from IPython import display"
   ]
  },
  {
   "cell_type": "code",
   "execution_count": 283,
   "id": "c9a4c6e3",
   "metadata": {},
   "outputs": [],
   "source": [
    "res_df = pd.DataFrame(columns=['Problem', 'Method', 'Time w/o Numba', 'Numba Time']) # создаем дф для учета результатов"
   ]
  },
  {
   "cell_type": "markdown",
   "id": "31c4db42",
   "metadata": {},
   "source": [
    "<a id='gen1'></a>"
   ]
  },
  {
   "cell_type": "markdown",
   "id": "a482b030",
   "metadata": {},
   "source": [
    "## Without Numba"
   ]
  },
  {
   "cell_type": "code",
   "execution_count": 284,
   "id": "8ec5f068",
   "metadata": {},
   "outputs": [],
   "source": [
    "class Himmelblau:\n",
    "    \n",
    "    def function(x: np.ndarray) -> np.float64:\n",
    "        return (x[0]**2 + x[1] - 11)**2 + (x[0] + x[1]**2 - 7)**2\n",
    "    \n",
    "    def gradient(x: np.ndarray) -> np.array:\n",
    "        return np.array([4 * x[0] * (x[0]**2 + x[1] - 11) \\\n",
    "                         + 2 * (x[0] + x[1]**2 - 7),\n",
    "                         2 * (x[0]**2 + x[1] - 11) \\\n",
    "                         + 4 * x[1] * (x[0] + x[1]**2 - 7)])\n",
    "\n",
    "class Rosenbrock: \n",
    "    \n",
    "    def function(x: np.ndarray, b: int = 100) -> np.float64:\n",
    "        return b * (x[1] - x[0]**2)**2 + (x[0] - 1)**2\n",
    "\n",
    "    def gradient(x: np.ndarray, b: int = 100) -> np.array:\n",
    "\n",
    "        return np.array([2 * (x[0] - 1) \\\n",
    "                         - 4 * b * x[0] * (x[1] - x[0]**2),\n",
    "                         2 * b * (x[1] - x[0]**2)])\n",
    "    \n",
    "class Rastrigin:\n",
    "    \n",
    "    def function(x: np.ndarray, A: int = 10) -> np.float64:\n",
    "        return list(x**2 - A * np.cos(2 * np.pi * x))[0] # + A\n",
    "    \n",
    "    def gradient(x: np.float32, A: int = 10) -> np.float64:\n",
    "            return 2 * x + A * 2 * np.pi * np.sin(2 * np.pi * x)"
   ]
  },
  {
   "cell_type": "markdown",
   "id": "aa8f1dc9",
   "metadata": {},
   "source": [
    "Упростим еще немного код, который был."
   ]
  },
  {
   "cell_type": "code",
   "execution_count": 285,
   "id": "d075f5bd",
   "metadata": {},
   "outputs": [],
   "source": [
    "# def classic_GD (\n",
    "#                 function: Mapping, gradient_of_function: Mapping,\n",
    "#                 start: np.ndarray, learning_rate: float = 0.01, \n",
    "#                 n_iter: int = 100, tolerance: float = 1e-5\n",
    "#                 ) -> Tuple [np.ndarray, np.float32]:\n",
    "    \n",
    "#     \"\"\" \n",
    "#     Args:\n",
    "#         function (Mapping): минимизруемая функция\n",
    "#         gradient_of_function (Mapping): градиент минимизируемой функции\n",
    "#         start (np.ndarray): рандомная стартовая точка\n",
    "#         learning_rate (float): шаг минимизации\n",
    "#         n_iter (int): количество итераций градиентного спуска\n",
    "#         tolerance (float): минимальное допустимое изменение \n",
    "#                     значения минимизируемой величины\n",
    "#     Return:\n",
    "#         tuple with found minimum coordinates, found minimum function value, \n",
    "#         and plotting data list with multiple np.ndarray aka dots for plotting\n",
    "    \n",
    "#    \"\"\" \n",
    "        \n",
    "#     current_point = start.copy()\n",
    "#     current_point = current_point.astype('float64')\n",
    "\n",
    "#     for iter in range(n_iter):\n",
    "#         diff = learning_rate * -gradient_of_function(current_point)\n",
    "\n",
    "#         if np.all(np.abs(diff) <= tolerance):\n",
    "#             print(f'\\033[1mEarly stopping!!\\033[0m')\n",
    "#             break\n",
    "\n",
    "#         iter_count = iter + 1    \n",
    "#         current_point += diff\n",
    "\n",
    "#     print(f' Finished in {iter_count} iterations\\n', \\\n",
    "#           f'Minimum point coordinates \\033[1m{current_point}\\033[0m,', \\\n",
    "#           f'with function value = \\033[1m{round(function(current_point), 4)}\\033[0m')\n",
    "\n",
    "\n",
    "#     return current_point, function(current_point)"
   ]
  },
  {
   "cell_type": "markdown",
   "id": "6a16df9d",
   "metadata": {},
   "source": [
    "<a id='gen11'></a>"
   ]
  },
  {
   "cell_type": "code",
   "execution_count": 286,
   "id": "da990d1c",
   "metadata": {},
   "outputs": [],
   "source": [
    "def classic_GD (\n",
    "                function: Mapping, gradient_of_function: Mapping,\n",
    "                start: np.ndarray, learning_rate: float = 0.01, \n",
    "                n_iter: int = 100,\n",
    "                ) -> Tuple [np.ndarray, np.float32]:\n",
    "    \n",
    "    \"\"\" \n",
    "    Args:\n",
    "        function (Mapping): минимизруемая функция\n",
    "        gradient_of_function (Mapping): градиент минимизируемой функции\n",
    "        start (np.ndarray): рандомная стартовая точка\n",
    "        learning_rate (float): шаг минимизации\n",
    "        n_iter (int): количество итераций градиентного спуска\n",
    "\n",
    "    Return:\n",
    "        tuple with found minimum coordinates, found minimum function value, \n",
    "        and plotting data list with multiple np.ndarray aka dots for plotting\n",
    "    \n",
    "   \"\"\"    \n",
    "    current_point = start.copy()\n",
    "    current_point = current_point.astype('float64')\n",
    "\n",
    "    for iter in range(n_iter):   \n",
    "        current_point = current_point - learning_rate * gradient_of_function(current_point)\n",
    "\n",
    "    return current_point, function(current_point)"
   ]
  },
  {
   "cell_type": "code",
   "execution_count": 287,
   "id": "1195b785",
   "metadata": {},
   "outputs": [],
   "source": [
    "# wall time"
   ]
  },
  {
   "cell_type": "markdown",
   "id": "e889d0ad",
   "metadata": {},
   "source": [
    "<a id='gen111'></a>\n",
    "#### Himmelblau"
   ]
  },
  {
   "cell_type": "code",
   "execution_count": 288,
   "id": "c595bad1",
   "metadata": {
    "scrolled": true
   },
   "outputs": [
    {
     "name": "stdout",
     "output_type": "stream",
     "text": [
      "Wall time: 71.8 ms\n"
     ]
    }
   ],
   "source": [
    "%%time \n",
    "GD_Him = classic_GD(Himmelblau.function, Himmelblau.gradient, np.array([-100, -100]), learning_rate=0.00001, n_iter=7000)"
   ]
  },
  {
   "cell_type": "code",
   "execution_count": 289,
   "id": "28a66a43",
   "metadata": {},
   "outputs": [
    {
     "name": "stdout",
     "output_type": "stream",
     "text": [
      "Minimum point coordinates \u001b[1m[-3.78698073 -3.29532809]\u001b[0m, with function value = \u001b[1m0.0073\u001b[0m\n"
     ]
    }
   ],
   "source": [
    "print(f'Minimum point coordinates \\033[1m{GD_Him[0]}\\033[0m,', \\\n",
    "      f'with function value = \\033[1m{round(GD_Him[1], 4)}\\033[0m')"
   ]
  },
  {
   "cell_type": "code",
   "execution_count": 290,
   "id": "3adce3c2",
   "metadata": {},
   "outputs": [
    {
     "name": "stdout",
     "output_type": "stream",
     "text": [
      "66.5 ms ± 306 µs per loop (mean ± std. dev. of 7 runs, 10 loops each)\n"
     ]
    }
   ],
   "source": [
    "# cpu time\n",
    "time = %timeit -o classic_GD(Himmelblau.function, Himmelblau.gradient, np.array([-100, -100]), learning_rate=0.00001, n_iter=7000)"
   ]
  },
  {
   "cell_type": "code",
   "execution_count": 291,
   "id": "f54d6e99",
   "metadata": {},
   "outputs": [],
   "source": [
    "data = ['Himmelblau', 'Classical GD', str(time)[:25], '']\n",
    "res_df.loc[len(res_df)] = data"
   ]
  },
  {
   "cell_type": "code",
   "execution_count": 292,
   "id": "88c8c294",
   "metadata": {},
   "outputs": [
    {
     "data": {
      "text/html": [
       "<div>\n",
       "<style scoped>\n",
       "    .dataframe tbody tr th:only-of-type {\n",
       "        vertical-align: middle;\n",
       "    }\n",
       "\n",
       "    .dataframe tbody tr th {\n",
       "        vertical-align: top;\n",
       "    }\n",
       "\n",
       "    .dataframe thead th {\n",
       "        text-align: right;\n",
       "    }\n",
       "</style>\n",
       "<table border=\"1\" class=\"dataframe\">\n",
       "  <thead>\n",
       "    <tr style=\"text-align: right;\">\n",
       "      <th></th>\n",
       "      <th>Problem</th>\n",
       "      <th>Method</th>\n",
       "      <th>Time w/o Numba</th>\n",
       "      <th>Numba Time</th>\n",
       "    </tr>\n",
       "  </thead>\n",
       "  <tbody>\n",
       "    <tr>\n",
       "      <th>0</th>\n",
       "      <td>Himmelblau</td>\n",
       "      <td>Classical GD</td>\n",
       "      <td>66.5 ms ± 306 µs per loop</td>\n",
       "      <td></td>\n",
       "    </tr>\n",
       "  </tbody>\n",
       "</table>\n",
       "</div>"
      ],
      "text/plain": [
       "      Problem        Method             Time w/o Numba Numba Time\n",
       "0  Himmelblau  Classical GD  66.5 ms ± 306 µs per loop           "
      ]
     },
     "execution_count": 292,
     "metadata": {},
     "output_type": "execute_result"
    }
   ],
   "source": [
    "res_df"
   ]
  },
  {
   "cell_type": "markdown",
   "id": "02b480c4",
   "metadata": {},
   "source": [
    "<a id='gen112'></a>\n",
    "#### Rastrigin"
   ]
  },
  {
   "cell_type": "code",
   "execution_count": 293,
   "id": "998e9796",
   "metadata": {},
   "outputs": [
    {
     "name": "stdout",
     "output_type": "stream",
     "text": [
      "Wall time: 71.8 ms\n"
     ]
    }
   ],
   "source": [
    "%%time\n",
    "GD_Rast = classic_GD(Rastrigin.function, Rastrigin.gradient, np.array([100, 100]), learning_rate=0.1, n_iter=9000)"
   ]
  },
  {
   "cell_type": "code",
   "execution_count": 294,
   "id": "fb763374",
   "metadata": {},
   "outputs": [
    {
     "name": "stdout",
     "output_type": "stream",
     "text": [
      "Minimum point coordinates \u001b[1m[0.76548588 0.76548588]\u001b[0m, with function value = \u001b[1m-0.3855\u001b[0m\n"
     ]
    }
   ],
   "source": [
    "print(f'Minimum point coordinates \\033[1m{GD_Rast[0]}\\033[0m,', \\\n",
    "      f'with function value = \\033[1m{round(GD_Rast[1], 4)}\\033[0m')"
   ]
  },
  {
   "cell_type": "code",
   "execution_count": 295,
   "id": "f151c410",
   "metadata": {},
   "outputs": [
    {
     "name": "stdout",
     "output_type": "stream",
     "text": [
      "58.7 ms ± 12.6 ms per loop (mean ± std. dev. of 7 runs, 10 loops each)\n"
     ]
    }
   ],
   "source": [
    "# cpu time\n",
    "time = %timeit -o classic_GD(Rastrigin.function, Rastrigin.gradient, np.array([100, 100]), learning_rate=0.1, n_iter=9000)"
   ]
  },
  {
   "cell_type": "code",
   "execution_count": 296,
   "id": "15d144f3",
   "metadata": {},
   "outputs": [],
   "source": [
    "data = ['Rastrigin', 'Classical GD', str(time)[:25], '']\n",
    "res_df.loc[len(res_df)] = data"
   ]
  },
  {
   "cell_type": "markdown",
   "id": "df2f2b56",
   "metadata": {},
   "source": [
    "<a id='gen113'></a>\n",
    "#### Rosenbrock"
   ]
  },
  {
   "cell_type": "code",
   "execution_count": 297,
   "id": "eaeea634",
   "metadata": {},
   "outputs": [
    {
     "name": "stdout",
     "output_type": "stream",
     "text": [
      "Wall time: 817 ms\n"
     ]
    }
   ],
   "source": [
    "%%time\n",
    "GD_Ros = classic_GD(Rosenbrock.function, Rosenbrock.gradient, np.array([10, 10]), \n",
    "                    learning_rate=0.00001, n_iter=200000)"
   ]
  },
  {
   "cell_type": "code",
   "execution_count": 298,
   "id": "5606e68e",
   "metadata": {},
   "outputs": [
    {
     "name": "stdout",
     "output_type": "stream",
     "text": [
      "Minimum point coordinates \u001b[1m[3.02969959 9.18234049]\u001b[0m, with function value = \u001b[1m4.1207\u001b[0m\n"
     ]
    }
   ],
   "source": [
    "print(f'Minimum point coordinates \\033[1m{GD_Ros[0]}\\033[0m,', \\\n",
    "      f'with function value = \\033[1m{round(GD_Ros[1], 4)}\\033[0m')"
   ]
  },
  {
   "cell_type": "code",
   "execution_count": 299,
   "id": "c1bc5350",
   "metadata": {},
   "outputs": [
    {
     "name": "stdout",
     "output_type": "stream",
     "text": [
      "772 ms ± 3.53 ms per loop (mean ± std. dev. of 7 runs, 1 loop each)\n"
     ]
    }
   ],
   "source": [
    "# cpu time\n",
    "time = %timeit -o classic_GD(Rosenbrock.function, Rosenbrock.gradient, np.array([10, 10]), learning_rate=0.00001, n_iter=200000)"
   ]
  },
  {
   "cell_type": "code",
   "execution_count": 300,
   "id": "d36692fc",
   "metadata": {},
   "outputs": [],
   "source": [
    "data = ['Rosenbrock', 'Classical GD', str(time)[:25], '']\n",
    "res_df.loc[len(res_df)] = data"
   ]
  },
  {
   "cell_type": "markdown",
   "id": "9c9dd788",
   "metadata": {},
   "source": [
    "<a id='gen12'></a>"
   ]
  },
  {
   "cell_type": "code",
   "execution_count": 301,
   "id": "15f15252",
   "metadata": {},
   "outputs": [],
   "source": [
    "def GD_AdaGrad(\n",
    "            function: Mapping, gradient: Mapping, start: np.ndarray,\n",
    "            gamma: np.float64 = 0.1, n_iter: int = 100, \n",
    "            learning_rate: float = 0.01, tolerance=1e-06, \n",
    "            dtype=\"float64\", rand_state: int = 12\n",
    "            ) -> Tuple [np.ndarray, np.ndarray]:\n",
    "    \"\"\" \n",
    "        function (Mapping):  минимизруемая функция\n",
    "        gradient (Mapping): градиент заданной выше функции\n",
    "        start (np.ndarray): рандомная стартовая точка/точки\n",
    "        gamma (float): скорость затухания скользащих средних ф-ии потерь\n",
    "        n_iter (int): количество итераций градиентного спуска\n",
    "        learning_rate (float): шаг минимизации\n",
    "        tolerance (float): минимальное допустимое изменение \n",
    "                           значения минимизируемой величины\n",
    "        dtype (str): тип данных\n",
    "        rand_state (int): зерно рандомайзера\n",
    "        \n",
    "    \"\"\"\n",
    "    dtype_ = np.dtype(dtype)\n",
    "\n",
    "    cur_point = start.copy()\n",
    "    cur_point = cur_point.astype('float64')\n",
    "\n",
    "    G = np.zeros(cur_point.shape, dtype=dtype_) \n",
    "   \n",
    "    for iter in range(n_iter):\n",
    "        loss = gradient(cur_point)\n",
    "        G = gamma * G + loss ** 2\n",
    "\n",
    "        if np.all(np.abs(loss/np.sqrt(G)) <= tolerance):\n",
    "            print(f'\\033[1mEarly stopping!!\\033[0m')\n",
    "            break\n",
    "\n",
    "        cur_point -= (loss/np.sqrt(G)) * learning_rate\n",
    "\n",
    "    return cur_point, function(cur_point)"
   ]
  },
  {
   "cell_type": "markdown",
   "id": "1615780a",
   "metadata": {},
   "source": [
    "<a id='gen121'></a>\n",
    "#### Himmelblau"
   ]
  },
  {
   "cell_type": "code",
   "execution_count": 302,
   "id": "bcd183b3",
   "metadata": {},
   "outputs": [
    {
     "name": "stdout",
     "output_type": "stream",
     "text": [
      "Wall time: 515 ms\n"
     ]
    }
   ],
   "source": [
    "%%time\n",
    "Him_Ada = GD_AdaGrad(Himmelblau.function, Himmelblau.gradient, np.array([100, 100]),\n",
    "                     gamma=0.8, learning_rate=0.01, n_iter=30000)"
   ]
  },
  {
   "cell_type": "code",
   "execution_count": 303,
   "id": "c54f9b7e",
   "metadata": {},
   "outputs": [
    {
     "name": "stdout",
     "output_type": "stream",
     "text": [
      "Minimum point coordinates \u001b[1m[3.00223411 2.00223281]\u001b[0m, with function value = \u001b[1m0.000369\u001b[0m\n"
     ]
    }
   ],
   "source": [
    "print(f'Minimum point coordinates \\033[1m{Him_Ada[0]}\\033[0m,', \n",
    "      f'with function value = \\033[1m{round(Him_Ada[1], 6)}\\033[0m')"
   ]
  },
  {
   "cell_type": "code",
   "execution_count": 304,
   "id": "483e3bda",
   "metadata": {},
   "outputs": [
    {
     "name": "stdout",
     "output_type": "stream",
     "text": [
      "494 ms ± 6.75 ms per loop (mean ± std. dev. of 7 runs, 1 loop each)\n"
     ]
    }
   ],
   "source": [
    "# cpu time\n",
    "time = %timeit -o GD_AdaGrad(Himmelblau.function, Himmelblau.gradient, np.array([100, 100]), gamma=0.8, learning_rate=0.01, n_iter=30000)"
   ]
  },
  {
   "cell_type": "code",
   "execution_count": 305,
   "id": "af7d3a00",
   "metadata": {},
   "outputs": [],
   "source": [
    "data = ['Himmelblau', 'AdaGrad', str(time)[:25], '']\n",
    "res_df.loc[len(res_df)] = data"
   ]
  },
  {
   "cell_type": "markdown",
   "id": "0b469420",
   "metadata": {},
   "source": [
    "<a id='gen122'></a>\n",
    "#### Rastrigin"
   ]
  },
  {
   "cell_type": "code",
   "execution_count": 306,
   "id": "fc34b81e",
   "metadata": {},
   "outputs": [
    {
     "name": "stdout",
     "output_type": "stream",
     "text": [
      "Wall time: 30.1 s\n"
     ]
    }
   ],
   "source": [
    "%%time\n",
    "Rast_Ada = GD_AdaGrad(Rastrigin.function, Rastrigin.gradient, np.array([-10, 100]), \n",
    "                      tolerance=1e-4, gamma=0.2, learning_rate=0.51, n_iter=2000000)"
   ]
  },
  {
   "cell_type": "code",
   "execution_count": 307,
   "id": "3778a8d6",
   "metadata": {},
   "outputs": [
    {
     "name": "stdout",
     "output_type": "stream",
     "text": [
      "Minimum point coordinates \u001b[1m[-5.02130232  5.0292553 ]\u001b[0m, with function value = \u001b[1m15.302918\u001b[0m\n"
     ]
    }
   ],
   "source": [
    "print(f'Minimum point coordinates \\033[1m{Rast_Ada[0]}\\033[0m,', \n",
    "      f'with function value = \\033[1m{round(Rast_Ada[1], 6)}\\033[0m')"
   ]
  },
  {
   "cell_type": "code",
   "execution_count": 308,
   "id": "35faefbc",
   "metadata": {},
   "outputs": [
    {
     "name": "stdout",
     "output_type": "stream",
     "text": [
      "30.3 s ± 379 ms per loop (mean ± std. dev. of 7 runs, 1 loop each)\n"
     ]
    }
   ],
   "source": [
    "# cpu time\n",
    "time = %timeit -o GD_AdaGrad(Rastrigin.function, Rastrigin.gradient, np.array([-10, 100]), tolerance=1e-4, gamma=0.2, learning_rate=0.51, n_iter=2000000)"
   ]
  },
  {
   "cell_type": "code",
   "execution_count": 309,
   "id": "c6407452",
   "metadata": {},
   "outputs": [],
   "source": [
    "data = ['Rastrigin', 'AdaGrad', str(time)[:25], '']\n",
    "res_df.loc[len(res_df)] = data"
   ]
  },
  {
   "cell_type": "markdown",
   "id": "6be2581b",
   "metadata": {},
   "source": [
    "<a id='gen123'></a>\n",
    "#### Rosenbrock"
   ]
  },
  {
   "cell_type": "code",
   "execution_count": 310,
   "id": "a3be3c03",
   "metadata": {},
   "outputs": [
    {
     "name": "stdout",
     "output_type": "stream",
     "text": [
      "Wall time: 463 ms\n"
     ]
    }
   ],
   "source": [
    "%%time\n",
    "Ros_Ada = GD_AdaGrad(Rosenbrock.function, Rosenbrock.gradient, np.array([-10, -10]),\n",
    "                     gamma=0.9, tolerance = 1e-3, learning_rate=0.01, n_iter=30000)"
   ]
  },
  {
   "cell_type": "code",
   "execution_count": 311,
   "id": "498afc34",
   "metadata": {},
   "outputs": [
    {
     "name": "stdout",
     "output_type": "stream",
     "text": [
      "Minimum point coordinates \u001b[1m[1.00008264 0.9954266 ]\u001b[0m, with function value = \u001b[1m0.002246\u001b[0m\n"
     ]
    }
   ],
   "source": [
    "print(f'Minimum point coordinates \\033[1m{Ros_Ada[0]}\\033[0m,', \n",
    "      f'with function value = \\033[1m{round(Ros_Ada[1], 6)}\\033[0m')"
   ]
  },
  {
   "cell_type": "code",
   "execution_count": 312,
   "id": "69d218ba",
   "metadata": {},
   "outputs": [
    {
     "name": "stdout",
     "output_type": "stream",
     "text": [
      "459 ms ± 14.8 ms per loop (mean ± std. dev. of 7 runs, 1 loop each)\n"
     ]
    }
   ],
   "source": [
    "# cpu time\n",
    "time = %timeit -o GD_AdaGrad(Rosenbrock.function, Rosenbrock.gradient, np.array([-10, -10]), gamma=0.9, tolerance = 1e-3, learning_rate=0.01, n_iter=30000)"
   ]
  },
  {
   "cell_type": "code",
   "execution_count": 313,
   "id": "4ef6aee4",
   "metadata": {},
   "outputs": [],
   "source": [
    "data = ['Rosenbrock', 'AdaGrad', str(time)[:25], '']\n",
    "res_df.loc[len(res_df)] = data"
   ]
  },
  {
   "cell_type": "code",
   "execution_count": 314,
   "id": "ff27103e",
   "metadata": {},
   "outputs": [],
   "source": [
    "res_df.set_index('Problem', drop=True, inplace=True)"
   ]
  },
  {
   "cell_type": "code",
   "execution_count": 315,
   "id": "eeba64e7",
   "metadata": {},
   "outputs": [
    {
     "data": {
      "text/html": [
       "<div>\n",
       "<style scoped>\n",
       "    .dataframe tbody tr th:only-of-type {\n",
       "        vertical-align: middle;\n",
       "    }\n",
       "\n",
       "    .dataframe tbody tr th {\n",
       "        vertical-align: top;\n",
       "    }\n",
       "\n",
       "    .dataframe thead th {\n",
       "        text-align: right;\n",
       "    }\n",
       "</style>\n",
       "<table border=\"1\" class=\"dataframe\">\n",
       "  <thead>\n",
       "    <tr style=\"text-align: right;\">\n",
       "      <th></th>\n",
       "      <th>Method</th>\n",
       "      <th>Time w/o Numba</th>\n",
       "      <th>Numba Time</th>\n",
       "    </tr>\n",
       "    <tr>\n",
       "      <th>Problem</th>\n",
       "      <th></th>\n",
       "      <th></th>\n",
       "      <th></th>\n",
       "    </tr>\n",
       "  </thead>\n",
       "  <tbody>\n",
       "    <tr>\n",
       "      <th>Himmelblau</th>\n",
       "      <td>Classical GD</td>\n",
       "      <td>66.5 ms ± 306 µs per loop</td>\n",
       "      <td></td>\n",
       "    </tr>\n",
       "    <tr>\n",
       "      <th>Rastrigin</th>\n",
       "      <td>Classical GD</td>\n",
       "      <td>58.7 ms ± 12.6 ms per loo</td>\n",
       "      <td></td>\n",
       "    </tr>\n",
       "    <tr>\n",
       "      <th>Rosenbrock</th>\n",
       "      <td>Classical GD</td>\n",
       "      <td>772 ms ± 3.53 ms per loop</td>\n",
       "      <td></td>\n",
       "    </tr>\n",
       "    <tr>\n",
       "      <th>Himmelblau</th>\n",
       "      <td>AdaGrad</td>\n",
       "      <td>494 ms ± 6.75 ms per loop</td>\n",
       "      <td></td>\n",
       "    </tr>\n",
       "    <tr>\n",
       "      <th>Rastrigin</th>\n",
       "      <td>AdaGrad</td>\n",
       "      <td>30.3 s ± 379 ms per loop</td>\n",
       "      <td></td>\n",
       "    </tr>\n",
       "    <tr>\n",
       "      <th>Rosenbrock</th>\n",
       "      <td>AdaGrad</td>\n",
       "      <td>459 ms ± 14.8 ms per loop</td>\n",
       "      <td></td>\n",
       "    </tr>\n",
       "  </tbody>\n",
       "</table>\n",
       "</div>"
      ],
      "text/plain": [
       "                  Method             Time w/o Numba Numba Time\n",
       "Problem                                                       \n",
       "Himmelblau  Classical GD  66.5 ms ± 306 µs per loop           \n",
       "Rastrigin   Classical GD  58.7 ms ± 12.6 ms per loo           \n",
       "Rosenbrock  Classical GD  772 ms ± 3.53 ms per loop           \n",
       "Himmelblau       AdaGrad  494 ms ± 6.75 ms per loop           \n",
       "Rastrigin        AdaGrad  30.3 s ± 379 ms per loop            \n",
       "Rosenbrock       AdaGrad  459 ms ± 14.8 ms per loop           "
      ]
     },
     "execution_count": 315,
     "metadata": {},
     "output_type": "execute_result"
    }
   ],
   "source": [
    "res_df"
   ]
  },
  {
   "cell_type": "markdown",
   "id": "853fa0e1",
   "metadata": {},
   "source": [
    "<a id='gen2'></a>"
   ]
  },
  {
   "cell_type": "markdown",
   "id": "fb8a0013",
   "metadata": {},
   "source": [
    "## With Numba"
   ]
  },
  {
   "cell_type": "code",
   "execution_count": 316,
   "id": "770656e4",
   "metadata": {},
   "outputs": [],
   "source": [
    "@njit(fastmath=True)\n",
    "def Himmelblau(x: np.ndarray) -> np.float64:\n",
    "    return (x[0]**2 + x[1] - 11)**2 + (x[0] + x[1]**2 - 7)**2\n",
    "@njit(fastmath=True)\n",
    "def Him_grad(x: np.ndarray) -> np.array:\n",
    "    return np.array([4 * x[0] * (x[0]**2 + x[1] - 11) \\\n",
    "                     + 2 * (x[0] + x[1]**2 - 7),\n",
    "                     2 * (x[0]**2 + x[1] - 11) \\\n",
    "                         + 4 * x[1] * (x[0] + x[1]**2 - 7)])\n",
    "@njit(fastmath=True)\n",
    "def Rosenbrock(x: np.ndarray, b: int = 100) -> np.float64:\n",
    "    return b * (x[1] - x[0]**2)**2 + (x[0] - 1)**2\n",
    "@njit(fastmath=True)\n",
    "def Rosen_grad(x: np.ndarray, b: int = 100) -> np.array:\n",
    "    return np.array([2 * (x[0] - 1) \\\n",
    "                     - 4 * b * x[0] * (x[1] - x[0]**2),\n",
    "                         2 * b * (x[1] - x[0]**2)])\n",
    "@njit(fastmath=True)\n",
    "def Rastrigin(x: np.ndarray, A: int = 10) -> np.float64:\n",
    "    return list(x**2 - A * np.cos(2 * np.pi * x))[0] # + A\n",
    "@njit(fastmath=True)\n",
    "def Rast_grad(x: np.float32, A: int = 10) -> np.float64:\n",
    "        return 2 * x + A * 2 * np.pi * np.sin(2 * np.pi * x)"
   ]
  },
  {
   "cell_type": "markdown",
   "id": "2bc4f082",
   "metadata": {},
   "source": [
    "<a id='gen21'></a>"
   ]
  },
  {
   "cell_type": "code",
   "execution_count": 317,
   "id": "34c43ca6",
   "metadata": {},
   "outputs": [],
   "source": [
    "@njit\n",
    "def classic_GD (\n",
    "                function: Mapping, gradient_of_function: Mapping,\n",
    "                start: np.ndarray, learning_rate: float = 0.01, \n",
    "                n_iter: int = 100\n",
    "                ) -> Tuple [np.ndarray, np.float32]:\n",
    "    \n",
    "    \"\"\" \n",
    "    Args:\n",
    "        function (Mapping): минимизруемая функция\n",
    "        gradient_of_function (Mapping): градиент минимизируемой функции\n",
    "        start (np.ndarray): рандомная стартовая точка\n",
    "        learning_rate (float): шаг минимизации\n",
    "        n_iter (int): количество итераций градиентного спуска\n",
    "    Return:\n",
    "        tuple with found minimum coordinates, found minimum function value, \n",
    "        and plotting data list with multiple np.ndarray aka dots for plotting\n",
    "    \n",
    "   \"\"\"   \n",
    "    current_point = start.copy()\n",
    "    current_point = current_point.astype('float64')\n",
    "    \n",
    "    for iter in range(n_iter):   \n",
    "        current_point = current_point - learning_rate * gradient_of_function(current_point)\n",
    "\n",
    "    return current_point, function(current_point)"
   ]
  },
  {
   "cell_type": "markdown",
   "id": "52208ee7",
   "metadata": {},
   "source": [
    "<a id='gen211'></a>\n",
    "#### Himmelblau"
   ]
  },
  {
   "cell_type": "code",
   "execution_count": 318,
   "id": "5809b1a2",
   "metadata": {
    "scrolled": false
   },
   "outputs": [
    {
     "name": "stdout",
     "output_type": "stream",
     "text": [
      "Wall time: 622 ms\n"
     ]
    }
   ],
   "source": [
    "%%time\n",
    "GD_Him_GPU = classic_GD(Himmelblau, Him_grad, np.array([-100, -100]), learning_rate=0.00001, n_iter=9500)"
   ]
  },
  {
   "cell_type": "code",
   "execution_count": 319,
   "id": "2e2bce50",
   "metadata": {},
   "outputs": [
    {
     "name": "stdout",
     "output_type": "stream",
     "text": [
      "Minimum point coordinates \u001b[1m[-3.78059997 -3.28525589]\u001b[0m,\n",
      "with function value = \u001b[1m0.0002\u001b[0m\n"
     ]
    }
   ],
   "source": [
    "print(f'Minimum point coordinates \\033[1m{GD_Him_GPU[0]}\\033[0m,')\n",
    "print(f'with function value = \\033[1m{round(GD_Him_GPU[1], 4)}\\033[0m')"
   ]
  },
  {
   "cell_type": "code",
   "execution_count": 320,
   "id": "70367a5f",
   "metadata": {},
   "outputs": [
    {
     "name": "stdout",
     "output_type": "stream",
     "text": [
      "1.65 ms ± 17.3 µs per loop (mean ± std. dev. of 7 runs, 1000 loops each)\n"
     ]
    }
   ],
   "source": [
    "# cpu time\n",
    "time = %timeit -o classic_GD(Himmelblau, Him_grad, np.array([-100, -100]), learning_rate=0.00001, n_iter=9500)"
   ]
  },
  {
   "cell_type": "code",
   "execution_count": 321,
   "id": "3f229cff",
   "metadata": {},
   "outputs": [],
   "source": [
    "res_df.at['Himmelblau', 'Numba Time'] = str(time)[:25]"
   ]
  },
  {
   "cell_type": "markdown",
   "id": "8e041314",
   "metadata": {},
   "source": [
    "<a id='gen212'></a>\n",
    "#### Rastrigin"
   ]
  },
  {
   "cell_type": "code",
   "execution_count": 322,
   "id": "9eb956fe",
   "metadata": {
    "scrolled": true
   },
   "outputs": [
    {
     "name": "stdout",
     "output_type": "stream",
     "text": [
      "Wall time: 771 ms\n"
     ]
    }
   ],
   "source": [
    "%%time\n",
    "GD_Rast_GPU = classic_GD(Rastrigin, Rast_grad, np.array([10, 10]), learning_rate=0.1, n_iter=200)"
   ]
  },
  {
   "cell_type": "code",
   "execution_count": 323,
   "id": "4eb35855",
   "metadata": {},
   "outputs": [
    {
     "name": "stdout",
     "output_type": "stream",
     "text": [
      "Minimum point coordinates \u001b[1m[-1.78314385 -1.78314385]\u001b[0m,\n",
      "with function value = \u001b[1m1.1121\u001b[0m\n"
     ]
    }
   ],
   "source": [
    "print(f'Minimum point coordinates \\033[1m{GD_Rast_GPU[0]}\\033[0m,')\n",
    "print(f'with function value = \\033[1m{round(GD_Rast_GPU[1], 4)}\\033[0m')"
   ]
  },
  {
   "cell_type": "code",
   "execution_count": 324,
   "id": "d83796a5",
   "metadata": {},
   "outputs": [
    {
     "name": "stdout",
     "output_type": "stream",
     "text": [
      "64.3 µs ± 873 ns per loop (mean ± std. dev. of 7 runs, 10000 loops each)\n"
     ]
    }
   ],
   "source": [
    "# cpu time\n",
    "time = %timeit -o classic_GD(Rastrigin, Rast_grad, np.array([10, 10]), learning_rate=0.1, n_iter=200)"
   ]
  },
  {
   "cell_type": "code",
   "execution_count": 325,
   "id": "7d920d8b",
   "metadata": {},
   "outputs": [],
   "source": [
    "res_df.at['Rastrigin', 'Numba Time'] = str(time)[:25]"
   ]
  },
  {
   "cell_type": "markdown",
   "id": "93acd333",
   "metadata": {},
   "source": [
    "<a id='gen213'></a>\n",
    "#### Rosenbrock"
   ]
  },
  {
   "cell_type": "code",
   "execution_count": 326,
   "id": "96bc0ebb",
   "metadata": {},
   "outputs": [
    {
     "name": "stdout",
     "output_type": "stream",
     "text": [
      "Wall time: 446 ms\n"
     ]
    }
   ],
   "source": [
    "%%time\n",
    "GD_Ros_GPU = classic_GD(Rosenbrock, Rosen_grad, np.array([10, 10]), learning_rate=0.00001, n_iter=200000)"
   ]
  },
  {
   "cell_type": "code",
   "execution_count": 327,
   "id": "96e9f1c4",
   "metadata": {},
   "outputs": [
    {
     "name": "stdout",
     "output_type": "stream",
     "text": [
      "Minimum point coordinates \u001b[1m[3.02969959 9.18234049]\u001b[0m,\n",
      "with function value = \u001b[1m4.1207\u001b[0m\n"
     ]
    }
   ],
   "source": [
    "print(f'Minimum point coordinates \\033[1m{GD_Ros_GPU[0]}\\033[0m,')\n",
    "print(f'with function value = \\033[1m{round(GD_Ros_GPU[1], 4)}\\033[0m')"
   ]
  },
  {
   "cell_type": "code",
   "execution_count": 328,
   "id": "2f2da3c5",
   "metadata": {},
   "outputs": [
    {
     "name": "stdout",
     "output_type": "stream",
     "text": [
      "34 ms ± 273 µs per loop (mean ± std. dev. of 7 runs, 10 loops each)\n"
     ]
    }
   ],
   "source": [
    "# cpu time\n",
    "time = %timeit -o classic_GD(Rosenbrock, Rosen_grad, np.array([10, 10]), learning_rate=0.00001, n_iter=200000)"
   ]
  },
  {
   "cell_type": "code",
   "execution_count": 329,
   "id": "9eaf5fd7",
   "metadata": {},
   "outputs": [],
   "source": [
    "res_df.at['Rosenbrock', 'Numba Time'] = str(time)[:25]"
   ]
  },
  {
   "cell_type": "markdown",
   "id": "605ea7d8",
   "metadata": {},
   "source": [
    "<a id='gen22'></a>"
   ]
  },
  {
   "cell_type": "code",
   "execution_count": 330,
   "id": "af19f39f",
   "metadata": {},
   "outputs": [],
   "source": [
    "@njit\n",
    "def GD_AdaGrad (\n",
    "                function: Mapping, gradient: Mapping,\n",
    "                start: np.ndarray, learning_rate: float = 0.01, \n",
    "                n_iter: int = 100, tolerance: float = 1e-5,\n",
    "                gamma: np.float64 = 0.1, dtype=\"float64\", \n",
    "                rand_state: int = 12\n",
    "                ) -> Tuple [np.ndarray, np.float64]:\n",
    "    \n",
    "    \"\"\" \n",
    "    Args:\n",
    "        function (Mapping):  минимизруемая функция\n",
    "        gradient (Mapping): градиент заданной выше функции\n",
    "        start (np.ndarray): рандомная стартовая точка/точки\n",
    "        gamma (float): скорость затухания скользащих средних ф-ии потерь\n",
    "        n_iter (int): количество итераций градиентного спуска\n",
    "        learning_rate (float): шаг минимизации\n",
    "        tolerance (float): минимальное допустимое изменение \n",
    "                           значения минимизируемой величины\n",
    "        dtype (str): тип данных\n",
    "        rand_state (int): зерно рандомайзера\n",
    "    Return: \n",
    "        tuple with found minimum point coordinates, \n",
    "        funcation value at this point\n",
    "        \n",
    "   \"\"\"  \n",
    "    cur_point = start.copy()\n",
    "    cur_point = cur_point.astype('float64')\n",
    "    \n",
    "    G = np.zeros(cur_point.shape, dtype=np.float64)\n",
    "    \n",
    "    for iter in range(n_iter):\n",
    "        loss = gradient(cur_point)\n",
    "        G = gamma * G + loss ** 2\n",
    "\n",
    "        if np.all(np.abs(loss/np.sqrt(G)) <= tolerance):\n",
    "            print(f'\\033[1mEarly stopping!!\\033[0m')\n",
    "            break\n",
    "\n",
    "        cur_point -= (loss/np.sqrt(G)) * learning_rate\n",
    "\n",
    "    return cur_point, function(cur_point)"
   ]
  },
  {
   "cell_type": "markdown",
   "id": "0e95b720",
   "metadata": {},
   "source": [
    "<a id='gen221'></a>\n",
    "#### Himmelblau"
   ]
  },
  {
   "cell_type": "code",
   "execution_count": 331,
   "id": "ed2a53ed",
   "metadata": {},
   "outputs": [
    {
     "name": "stdout",
     "output_type": "stream",
     "text": [
      "Wall time: 395 ms\n"
     ]
    }
   ],
   "source": [
    "%%time\n",
    "Him_Ada = GD_AdaGrad(Himmelblau, Him_grad, np.array([100, 100]),\n",
    "                     gamma=0.8, learning_rate=0.01, n_iter=30000)"
   ]
  },
  {
   "cell_type": "code",
   "execution_count": 332,
   "id": "f8d86766",
   "metadata": {},
   "outputs": [
    {
     "name": "stdout",
     "output_type": "stream",
     "text": [
      "Minimum point coordinates \u001b[1m[3.00223411 2.00223281]\u001b[0m, with function value = \u001b[1m0.000369\u001b[0m\n"
     ]
    }
   ],
   "source": [
    "print(f'Minimum point coordinates \\033[1m{Him_Ada[0]}\\033[0m,', \n",
    "      f'with function value = \\033[1m{round(Him_Ada[1], 6)}\\033[0m')"
   ]
  },
  {
   "cell_type": "code",
   "execution_count": 333,
   "id": "fa2ce55b",
   "metadata": {},
   "outputs": [
    {
     "name": "stdout",
     "output_type": "stream",
     "text": [
      "11.1 ms ± 158 µs per loop (mean ± std. dev. of 7 runs, 100 loops each)\n"
     ]
    }
   ],
   "source": [
    "# cpu time\n",
    "time = %timeit -o GD_AdaGrad(Himmelblau, Him_grad, np.array([100, 100]), gamma=0.8, learning_rate=0.01, n_iter=30000)"
   ]
  },
  {
   "cell_type": "code",
   "execution_count": 334,
   "id": "6f5bb009",
   "metadata": {},
   "outputs": [],
   "source": [
    "res_df.iat[3, 2] = str(time)[:25]"
   ]
  },
  {
   "cell_type": "markdown",
   "id": "ada4178d",
   "metadata": {},
   "source": [
    "<a id='gen222'></a>\n",
    "#### Rastrigin"
   ]
  },
  {
   "cell_type": "code",
   "execution_count": 335,
   "id": "6d5bb821",
   "metadata": {},
   "outputs": [
    {
     "name": "stdout",
     "output_type": "stream",
     "text": [
      "Wall time: 1.37 s\n"
     ]
    }
   ],
   "source": [
    "%%time\n",
    "Rast_Ada = GD_AdaGrad(Rastrigin, Rast_grad, np.array([-10, 100]), \n",
    "                      tolerance=1e-4, gamma=0.2, learning_rate=0.51, n_iter=2000000)"
   ]
  },
  {
   "cell_type": "code",
   "execution_count": 336,
   "id": "c9e6a6b8",
   "metadata": {},
   "outputs": [
    {
     "name": "stdout",
     "output_type": "stream",
     "text": [
      "Minimum point coordinates \u001b[1m[-4.7446343  19.65106439]\u001b[0m, with function value = \u001b[1m22.848628\u001b[0m\n"
     ]
    }
   ],
   "source": [
    "print(f'Minimum point coordinates \\033[1m{Rast_Ada[0]}\\033[0m,', \n",
    "      f'with function value = \\033[1m{round(Rast_Ada[1], 6)}\\033[0m')"
   ]
  },
  {
   "cell_type": "code",
   "execution_count": 337,
   "id": "09e14a81",
   "metadata": {},
   "outputs": [
    {
     "name": "stdout",
     "output_type": "stream",
     "text": [
      "819 ms ± 25.9 ms per loop (mean ± std. dev. of 7 runs, 1 loop each)\n"
     ]
    }
   ],
   "source": [
    "# cpu time\n",
    "time = %timeit -o GD_AdaGrad(Rastrigin, Rast_grad, np.array([-10, 100]), tolerance=1e-4, gamma=0.2, learning_rate=0.51, n_iter=2000000)"
   ]
  },
  {
   "cell_type": "code",
   "execution_count": 338,
   "id": "ccc7181a",
   "metadata": {},
   "outputs": [],
   "source": [
    "res_df.iat[4, 2] = str(time)[:25]"
   ]
  },
  {
   "cell_type": "markdown",
   "id": "5c27a27f",
   "metadata": {},
   "source": [
    "<a id='gen223'></a>\n",
    "#### Rosenbrock"
   ]
  },
  {
   "cell_type": "code",
   "execution_count": 339,
   "id": "bda2ddaa",
   "metadata": {},
   "outputs": [
    {
     "name": "stdout",
     "output_type": "stream",
     "text": [
      "Wall time: 586 ms\n"
     ]
    }
   ],
   "source": [
    "%%time\n",
    "Ros_Ada = GD_AdaGrad(Rosenbrock, Rosen_grad, np.array([-10, -10]),\n",
    "                     gamma=0.9, tolerance = 1e-3, learning_rate=0.01, n_iter=30000)"
   ]
  },
  {
   "cell_type": "code",
   "execution_count": 340,
   "id": "1aac8f60",
   "metadata": {},
   "outputs": [
    {
     "name": "stdout",
     "output_type": "stream",
     "text": [
      "Minimum point coordinates \u001b[1m[1.00008264 0.9954266 ]\u001b[0m, with function value = \u001b[1m0.002246\u001b[0m\n"
     ]
    }
   ],
   "source": [
    "print(f'Minimum point coordinates \\033[1m{Ros_Ada[0]}\\033[0m,', \n",
    "      f'with function value = \\033[1m{round(Ros_Ada[1], 6)}\\033[0m')"
   ]
  },
  {
   "cell_type": "code",
   "execution_count": 341,
   "id": "de444d6e",
   "metadata": {},
   "outputs": [
    {
     "name": "stdout",
     "output_type": "stream",
     "text": [
      "11.5 ms ± 247 µs per loop (mean ± std. dev. of 7 runs, 100 loops each)\n"
     ]
    }
   ],
   "source": [
    "# cpu time\n",
    "time = %timeit -o GD_AdaGrad(Rosenbrock, Rosen_grad, np.array([-10, -10]), gamma=0.9, tolerance = 1e-3, learning_rate=0.01, n_iter=30000)"
   ]
  },
  {
   "cell_type": "code",
   "execution_count": 342,
   "id": "91dc32ca",
   "metadata": {},
   "outputs": [],
   "source": [
    "res_df.iat[5, 2] = str(time)[:25]"
   ]
  },
  {
   "cell_type": "markdown",
   "id": "bef5f5b9",
   "metadata": {},
   "source": [
    "<a id='gen3'></a>\n",
    "## Results"
   ]
  },
  {
   "cell_type": "code",
   "execution_count": 343,
   "id": "0a5409ec",
   "metadata": {},
   "outputs": [
    {
     "data": {
      "text/html": [
       "<div>\n",
       "<style scoped>\n",
       "    .dataframe tbody tr th:only-of-type {\n",
       "        vertical-align: middle;\n",
       "    }\n",
       "\n",
       "    .dataframe tbody tr th {\n",
       "        vertical-align: top;\n",
       "    }\n",
       "\n",
       "    .dataframe thead th {\n",
       "        text-align: right;\n",
       "    }\n",
       "</style>\n",
       "<table border=\"1\" class=\"dataframe\">\n",
       "  <thead>\n",
       "    <tr style=\"text-align: right;\">\n",
       "      <th></th>\n",
       "      <th>Method</th>\n",
       "      <th>Time w/o Numba</th>\n",
       "      <th>Numba Time</th>\n",
       "    </tr>\n",
       "    <tr>\n",
       "      <th>Problem</th>\n",
       "      <th></th>\n",
       "      <th></th>\n",
       "      <th></th>\n",
       "    </tr>\n",
       "  </thead>\n",
       "  <tbody>\n",
       "    <tr>\n",
       "      <th>Himmelblau</th>\n",
       "      <td>Classical GD</td>\n",
       "      <td>66.5 ms ± 306 µs per loop</td>\n",
       "      <td>1.65 ms ± 17.3 µs per loo</td>\n",
       "    </tr>\n",
       "    <tr>\n",
       "      <th>Rastrigin</th>\n",
       "      <td>Classical GD</td>\n",
       "      <td>58.7 ms ± 12.6 ms per loo</td>\n",
       "      <td>64.3 µs ± 873 ns per loop</td>\n",
       "    </tr>\n",
       "    <tr>\n",
       "      <th>Rosenbrock</th>\n",
       "      <td>Classical GD</td>\n",
       "      <td>772 ms ± 3.53 ms per loop</td>\n",
       "      <td>34 ms ± 273 µs per loop (</td>\n",
       "    </tr>\n",
       "    <tr>\n",
       "      <th>Himmelblau</th>\n",
       "      <td>AdaGrad</td>\n",
       "      <td>494 ms ± 6.75 ms per loop</td>\n",
       "      <td>11.1 ms ± 158 µs per loop</td>\n",
       "    </tr>\n",
       "    <tr>\n",
       "      <th>Rastrigin</th>\n",
       "      <td>AdaGrad</td>\n",
       "      <td>30.3 s ± 379 ms per loop</td>\n",
       "      <td>819 ms ± 25.9 ms per loop</td>\n",
       "    </tr>\n",
       "    <tr>\n",
       "      <th>Rosenbrock</th>\n",
       "      <td>AdaGrad</td>\n",
       "      <td>459 ms ± 14.8 ms per loop</td>\n",
       "      <td>11.5 ms ± 247 µs per loop</td>\n",
       "    </tr>\n",
       "  </tbody>\n",
       "</table>\n",
       "</div>"
      ],
      "text/plain": [
       "                  Method             Time w/o Numba                 Numba Time\n",
       "Problem                                                                       \n",
       "Himmelblau  Classical GD  66.5 ms ± 306 µs per loop  1.65 ms ± 17.3 µs per loo\n",
       "Rastrigin   Classical GD  58.7 ms ± 12.6 ms per loo  64.3 µs ± 873 ns per loop\n",
       "Rosenbrock  Classical GD  772 ms ± 3.53 ms per loop  34 ms ± 273 µs per loop (\n",
       "Himmelblau       AdaGrad  494 ms ± 6.75 ms per loop  11.1 ms ± 158 µs per loop\n",
       "Rastrigin        AdaGrad  30.3 s ± 379 ms per loop   819 ms ± 25.9 ms per loop\n",
       "Rosenbrock       AdaGrad  459 ms ± 14.8 ms per loop  11.5 ms ± 247 µs per loop"
      ]
     },
     "execution_count": 343,
     "metadata": {},
     "output_type": "execute_result"
    }
   ],
   "source": [
    "res_df"
   ]
  },
  {
   "cell_type": "markdown",
   "id": "f7e22079",
   "metadata": {},
   "source": [
    "Видим, что нумба сильно ускоряет результаты. Посчитаем точно во сколько раз."
   ]
  },
  {
   "cell_type": "code",
   "execution_count": 350,
   "id": "ec517500",
   "metadata": {},
   "outputs": [],
   "source": [
    "wo_N = []\n",
    "w_N = []\n",
    "for i in res_df['Time w/o Numba']:\n",
    "    cont = i.split()[:2]\n",
    "    wo_N.append(cont)\n",
    "for t in wo_N:\n",
    "    t[0] = float(t[0])\n",
    "    if t[1] == 's':  # переводим все в микросекунды\n",
    "        t[0] = t[0] * 1e+6\n",
    "    elif t[1] == 'ms':\n",
    "        t[0] = t[0] * 1e+3\n",
    "        \n",
    "for i in res_df['Numba Time']:\n",
    "    cont = i.split()[:2]\n",
    "    w_N.append(cont)\n",
    "for t in w_N:\n",
    "    t[0] = float(t[0])\n",
    "    if t[1] == 's':  # переводим все в микросекунды\n",
    "        t[0] = t[0] * 1e+6\n",
    "    elif t[1] == 'ms':\n",
    "        t[0] = t[0] * 1e+3\n"
   ]
  },
  {
   "cell_type": "code",
   "execution_count": 351,
   "id": "98178d20",
   "metadata": {},
   "outputs": [],
   "source": [
    "# рассчитаем во сколько раз нумбa быстрее для каждого случая\n",
    "i = 0  \n",
    "boost = []\n",
    "while i < len(w_N):\n",
    "    boost.append(round(wo_N[i][0]/w_N[i][0], 2))\n",
    "    i += 1"
   ]
  },
  {
   "cell_type": "code",
   "execution_count": 352,
   "id": "00c707de",
   "metadata": {},
   "outputs": [],
   "source": [
    "res_df['Time Boost (times)'] = boost"
   ]
  },
  {
   "cell_type": "code",
   "execution_count": 353,
   "id": "b3cae5e6",
   "metadata": {},
   "outputs": [
    {
     "data": {
      "text/html": [
       "<div>\n",
       "<style scoped>\n",
       "    .dataframe tbody tr th:only-of-type {\n",
       "        vertical-align: middle;\n",
       "    }\n",
       "\n",
       "    .dataframe tbody tr th {\n",
       "        vertical-align: top;\n",
       "    }\n",
       "\n",
       "    .dataframe thead th {\n",
       "        text-align: right;\n",
       "    }\n",
       "</style>\n",
       "<table border=\"1\" class=\"dataframe\">\n",
       "  <thead>\n",
       "    <tr style=\"text-align: right;\">\n",
       "      <th></th>\n",
       "      <th>Method</th>\n",
       "      <th>Time w/o Numba</th>\n",
       "      <th>Numba Time</th>\n",
       "      <th>Time Boost (times)</th>\n",
       "    </tr>\n",
       "    <tr>\n",
       "      <th>Problem</th>\n",
       "      <th></th>\n",
       "      <th></th>\n",
       "      <th></th>\n",
       "      <th></th>\n",
       "    </tr>\n",
       "  </thead>\n",
       "  <tbody>\n",
       "    <tr>\n",
       "      <th>Himmelblau</th>\n",
       "      <td>Classical GD</td>\n",
       "      <td>66.5 ms ± 306 µs per loop</td>\n",
       "      <td>1.65 ms ± 17.3 µs per loo</td>\n",
       "      <td>40.30</td>\n",
       "    </tr>\n",
       "    <tr>\n",
       "      <th>Rastrigin</th>\n",
       "      <td>Classical GD</td>\n",
       "      <td>58.7 ms ± 12.6 ms per loo</td>\n",
       "      <td>64.3 µs ± 873 ns per loop</td>\n",
       "      <td>912.91</td>\n",
       "    </tr>\n",
       "    <tr>\n",
       "      <th>Rosenbrock</th>\n",
       "      <td>Classical GD</td>\n",
       "      <td>772 ms ± 3.53 ms per loop</td>\n",
       "      <td>34 ms ± 273 µs per loop (</td>\n",
       "      <td>22.71</td>\n",
       "    </tr>\n",
       "    <tr>\n",
       "      <th>Himmelblau</th>\n",
       "      <td>AdaGrad</td>\n",
       "      <td>494 ms ± 6.75 ms per loop</td>\n",
       "      <td>11.1 ms ± 158 µs per loop</td>\n",
       "      <td>44.50</td>\n",
       "    </tr>\n",
       "    <tr>\n",
       "      <th>Rastrigin</th>\n",
       "      <td>AdaGrad</td>\n",
       "      <td>30.3 s ± 379 ms per loop</td>\n",
       "      <td>819 ms ± 25.9 ms per loop</td>\n",
       "      <td>37.00</td>\n",
       "    </tr>\n",
       "    <tr>\n",
       "      <th>Rosenbrock</th>\n",
       "      <td>AdaGrad</td>\n",
       "      <td>459 ms ± 14.8 ms per loop</td>\n",
       "      <td>11.5 ms ± 247 µs per loop</td>\n",
       "      <td>39.91</td>\n",
       "    </tr>\n",
       "  </tbody>\n",
       "</table>\n",
       "</div>"
      ],
      "text/plain": [
       "                  Method             Time w/o Numba  \\\n",
       "Problem                                               \n",
       "Himmelblau  Classical GD  66.5 ms ± 306 µs per loop   \n",
       "Rastrigin   Classical GD  58.7 ms ± 12.6 ms per loo   \n",
       "Rosenbrock  Classical GD  772 ms ± 3.53 ms per loop   \n",
       "Himmelblau       AdaGrad  494 ms ± 6.75 ms per loop   \n",
       "Rastrigin        AdaGrad  30.3 s ± 379 ms per loop    \n",
       "Rosenbrock       AdaGrad  459 ms ± 14.8 ms per loop   \n",
       "\n",
       "                           Numba Time  Time Boost (times)  \n",
       "Problem                                                    \n",
       "Himmelblau  1.65 ms ± 17.3 µs per loo               40.30  \n",
       "Rastrigin   64.3 µs ± 873 ns per loop              912.91  \n",
       "Rosenbrock  34 ms ± 273 µs per loop (               22.71  \n",
       "Himmelblau  11.1 ms ± 158 µs per loop               44.50  \n",
       "Rastrigin   819 ms ± 25.9 ms per loop               37.00  \n",
       "Rosenbrock  11.5 ms ± 247 µs per loop               39.91  "
      ]
     },
     "execution_count": 353,
     "metadata": {},
     "output_type": "execute_result"
    }
   ],
   "source": [
    "res_df"
   ]
  },
  {
   "cell_type": "markdown",
   "id": "d874ae92",
   "metadata": {},
   "source": [
    "[Go Up](#gen0)"
   ]
  },
  {
   "cell_type": "code",
   "execution_count": null,
   "id": "712c0494",
   "metadata": {},
   "outputs": [],
   "source": []
  }
 ],
 "metadata": {
  "kernelspec": {
   "display_name": "Python 3 (ipykernel)",
   "language": "python",
   "name": "python3"
  },
  "language_info": {
   "codemirror_mode": {
    "name": "ipython",
    "version": 3
   },
   "file_extension": ".py",
   "mimetype": "text/x-python",
   "name": "python",
   "nbconvert_exporter": "python",
   "pygments_lexer": "ipython3",
   "version": "3.7.4"
  }
 },
 "nbformat": 4,
 "nbformat_minor": 5
}
