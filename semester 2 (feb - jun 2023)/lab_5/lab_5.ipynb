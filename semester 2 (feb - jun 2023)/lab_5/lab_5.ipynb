{
  "cells": [
    {
      "cell_type": "markdown",
      "metadata": {
        "id": "7t_4tH9bQbH3"
      },
      "source": [
        "# LAB 5: ONNX\n",
        "### AI and Machine Learning // Suchkova Natalia М8О - 114М - 22\n",
        "16.06.23 @ MAI IT-Center"
      ]
    },
    {
      "cell_type": "markdown",
      "source": [
        "### The Task\n",
        "1. Обучить нейросеть\n",
        "2. Pruning\n",
        "3. Конвертировать в ONNX"
      ],
      "metadata": {
        "id": "e1Ak2Bla3gB_"
      }
    },
    {
      "cell_type": "code",
      "execution_count": 109,
      "metadata": {
        "colab": {
          "base_uri": "https://localhost:8080/"
        },
        "id": "z6BM9JZkiAus",
        "outputId": "aaa390af-9142-423c-f9b1-b9cfe9c40130"
      },
      "outputs": [
        {
          "output_type": "stream",
          "name": "stdout",
          "text": [
            "Looking in indexes: https://pypi.org/simple, https://us-python.pkg.dev/colab-wheels/public/simple/\n",
            "Collecting onnx\n",
            "  Downloading onnx-1.14.0-cp310-cp310-manylinux_2_17_x86_64.manylinux2014_x86_64.whl (14.6 MB)\n",
            "\u001b[2K     \u001b[90m━━━━━━━━━━━━━━━━━━━━━━━━━━━━━━━━━━━━━━━━\u001b[0m \u001b[32m14.6/14.6 MB\u001b[0m \u001b[31m89.5 MB/s\u001b[0m eta \u001b[36m0:00:00\u001b[0m\n",
            "\u001b[?25hRequirement already satisfied: numpy in /usr/local/lib/python3.10/dist-packages (from onnx) (1.22.4)\n",
            "Requirement already satisfied: protobuf>=3.20.2 in /usr/local/lib/python3.10/dist-packages (from onnx) (3.20.3)\n",
            "Requirement already satisfied: typing-extensions>=3.6.2.1 in /usr/local/lib/python3.10/dist-packages (from onnx) (4.5.0)\n",
            "Installing collected packages: onnx\n",
            "Successfully installed onnx-1.14.0\n"
          ]
        }
      ],
      "source": [
        "!pip install onnx"
      ]
    },
    {
      "cell_type": "code",
      "execution_count": 110,
      "metadata": {
        "id": "uqgMWuqaQdfd"
      },
      "outputs": [],
      "source": [
        "from torchvision.datasets import CIFAR10\n",
        "from torchvision.transforms import transforms\n",
        "from torch.utils.data import DataLoader\n",
        "import matplotlib.pyplot as plt\n",
        "import numpy as np\n",
        "import torch.nn as nn\n",
        "import torch.nn.functional as F\n",
        "import torch\n",
        "import torch.onnx\n",
        "import torchvision\n",
        "from torch.optim import Adam\n",
        "from torch.autograd import Variable\n",
        "\n",
        "\n",
        "\n",
        "from torchvision import datasets\n",
        "from torchvision.transforms import ToTensor\n",
        "import torchvision.transforms as T"
      ]
    },
    {
      "cell_type": "code",
      "execution_count": 111,
      "metadata": {
        "id": "C9mZxiGtfXVK"
      },
      "outputs": [],
      "source": [
        "device = torch.device(\"cuda:0\" if torch.cuda.is_available() else \"cpu\")"
      ]
    },
    {
      "cell_type": "markdown",
      "source": [
        "ONNX (Open Neural Network Exchange) — открытая библиотека программного обеспечения для построения нейронных сетей глубокого обучения. С помощью ONNX ИИ-разработчики могут обмениваться моделями между различными инструментами и выбирать наилучшую комбинацию этих инструментов. ONNX разрабатывается и поддерживается совместно компаниями Microsoft, Facebook, Amazon и другими партнерами как проект с открытым исходным кодом"
      ],
      "metadata": {
        "id": "tYDdC9IO3nhy"
      }
    },
    {
      "cell_type": "markdown",
      "metadata": {
        "id": "UT4Zx-SoQpcI"
      },
      "source": [
        "### Сеть"
      ]
    },
    {
      "cell_type": "code",
      "execution_count": 112,
      "metadata": {
        "id": "_gUz00MgQ_gv"
      },
      "outputs": [],
      "source": [
        "class Network(nn.Module):\n",
        "\n",
        "    def __init__(self):\n",
        "        super(Network, self).__init__()\n",
        "\n",
        "        self.conv1 = nn.Conv2d(in_channels=3, out_channels=12, kernel_size=5, stride=1, padding=1)\n",
        "        self.bn1 = nn.BatchNorm2d(12)\n",
        "        self.conv2 = nn.Conv2d(in_channels=12, out_channels=12, kernel_size=5, stride=1, padding=1)\n",
        "        self.bn2 = nn.BatchNorm2d(12)\n",
        "        self.pool = nn.MaxPool2d(2,2)\n",
        "        self.conv4 = nn.Conv2d(in_channels=12, out_channels=24, kernel_size=5, stride=1, padding=1)\n",
        "        self.bn4 = nn.BatchNorm2d(24)\n",
        "        self.conv5 = nn.Conv2d(in_channels=24, out_channels=24, kernel_size=5, stride=1, padding=1)\n",
        "        self.bn5 = nn.BatchNorm2d(24)\n",
        "        self.fc1 = nn.Linear(24*10*10, 10)\n",
        "\n",
        "    def forward(self, input):\n",
        "        output = self.conv1(input)\n",
        "        output = self.bn1(output)\n",
        "        output = F.relu(output)\n",
        "\n",
        "        output = self.conv2(output)\n",
        "        output = self.bn2(output)\n",
        "        output = F.relu(output)\n",
        "        output = self.pool(output)\n",
        "\n",
        "        output = self.conv4(output)\n",
        "        output = self.bn4(output)\n",
        "        output = F.relu(output)\n",
        "\n",
        "        output = self.conv5(output)\n",
        "        output = self.bn5(output)\n",
        "        output = F.relu(output)\n",
        "\n",
        "        output = output.view(-1, 24*10*10)\n",
        "        output = self.fc1(output)\n",
        "\n",
        "        return output"
      ]
    },
    {
      "cell_type": "code",
      "execution_count": 113,
      "metadata": {
        "id": "aE3zpTFDRyLe"
      },
      "outputs": [],
      "source": [
        "IMG_SIZE = 32\n",
        "BATCH_SIZE = 10\n",
        "number_of_labels = 10\n",
        "\n",
        "# input_size = (3, 64, 64)\n",
        "\n",
        "# classes = ('T-shirt/top',\n",
        "#           'Trouser',\n",
        "#           'Pullover',\n",
        "#           'Dress',\n",
        "#           'Coat',\n",
        "#           'Sandal',\n",
        "#           'Shirt',\n",
        "#           'Sneaker',\n",
        "#           'Bag',\n",
        "#           'Ankle boot')\n",
        "\n",
        "batch_size = 10\n",
        "number_of_labels = 10\n",
        "\n",
        "input_size = (3, 32, 32)\n",
        "\n",
        "classes = ('plane',\n",
        "           'car',\n",
        "           'bird',\n",
        "           'cat',\n",
        "           'deer',\n",
        "           'dog',\n",
        "           'frog',\n",
        "           'horse',\n",
        "           'ship',\n",
        "           'truck')\n",
        "\n",
        "\n",
        "# Instantiate a neural network model\n",
        "model = Network()\n",
        "\n",
        "# Define the loss function with Classification Cross-Entropy loss and an optimizer with Adam optimizer\n",
        "loss_fn = nn.CrossEntropyLoss()\n",
        "optimizer = Adam(model.parameters(), lr=0.001, weight_decay=0.0001)"
      ]
    },
    {
      "cell_type": "markdown",
      "metadata": {
        "id": "SUb9lBImQo7f"
      },
      "source": [
        "### Загружаем данные"
      ]
    },
    {
      "cell_type": "code",
      "source": [
        "transformations = transforms.Compose([\n",
        "    transforms.ToTensor(),\n",
        "    transforms.Normalize((0.5, 0.5, 0.5), (0.5, 0.5, 0.5))\n",
        "])\n",
        "\n",
        "train_set =CIFAR10(root=\"./data\",train=True,transform=transformations,download=True)\n",
        "\n",
        "train_loader = DataLoader(train_set, batch_size=batch_size, shuffle=True, num_workers=0)\n",
        "print(\"The number of images in a training set is: \", len(train_loader)*batch_size)\n",
        "\n",
        "test_set = CIFAR10(root=\"./data\", train=False, transform=transformations, download=True)\n",
        "\n",
        "test_loader = DataLoader(test_set, batch_size=batch_size, shuffle=False, num_workers=0)\n",
        "print(\"The number of images in a test set is: \", len(test_loader)*batch_size)\n",
        "\n",
        "print(\"The number of batches per epoch is: \", len(train_loader))"
      ],
      "metadata": {
        "colab": {
          "base_uri": "https://localhost:8080/"
        },
        "id": "Fy3-j5Fsh2bU",
        "outputId": "49f845a1-c118-4d71-b02f-8ecc80bfc822"
      },
      "execution_count": 114,
      "outputs": [
        {
          "output_type": "stream",
          "name": "stdout",
          "text": [
            "Files already downloaded and verified\n",
            "The number of images in a training set is:  50000\n",
            "Files already downloaded and verified\n",
            "The number of images in a test set is:  10000\n",
            "The number of batches per epoch is:  5000\n"
          ]
        }
      ]
    },
    {
      "cell_type": "code",
      "source": [
        "# train_transforms = T.Compose([\n",
        "#     T.Resize(IMG_SIZE),\n",
        "#     T.RandomVerticalFlip(p=0.5),\n",
        "#     T.RandomHorizontalFlip(p=0.5),\n",
        "#     T.ToTensor(),\n",
        "# ])\n",
        "# val_transforms = T.Compose([\n",
        "#     T.Resize(IMG_SIZE),\n",
        "#     T.ToTensor(),\n",
        "# ])"
      ],
      "metadata": {
        "id": "H__Q4BVxhwQF"
      },
      "execution_count": 115,
      "outputs": []
    },
    {
      "cell_type": "code",
      "source": [
        "# train_data = datasets.FashionMNIST(root=\"../datasets\", train=True, download=True,transform=train_transforms)\n",
        "# test_data = datasets.FashionMNIST(root=\"../datasets\", train=False, download=True,transform=val_transforms)\n",
        "# train_loader = DataLoader(train_data, batch_size=BATCH_SIZE, num_workers=1, pin_memory=True, drop_last=True, shuffle=True,)\n",
        "# test_loader = DataLoader(test_data, batch_size=BATCH_SIZE, num_workers=1, pin_memory=True, drop_last=True, shuffle=True)"
      ],
      "metadata": {
        "id": "w0tBmjsShUNi"
      },
      "execution_count": 116,
      "outputs": []
    },
    {
      "cell_type": "code",
      "execution_count": 117,
      "metadata": {
        "id": "co8FXvulN-NS"
      },
      "outputs": [],
      "source": [
        "# print(\"The number of images in a test set is: \", len(test_loader) * BATCH_SIZE)\n",
        "\n",
        "# print(\"The number of batches per epoch is: \", len(train_loader))"
      ]
    },
    {
      "cell_type": "code",
      "execution_count": 118,
      "metadata": {
        "id": "mCqdsulsQl-j"
      },
      "outputs": [],
      "source": [
        "def imageshow(img):\n",
        "    img = img / 2 + 0.5     # unnormalize\n",
        "    npimg = img.numpy()\n",
        "\n",
        "    plt.imshow(np.transpose(npimg, (1, 2, 0)))\n",
        "    plt.show()"
      ]
    },
    {
      "cell_type": "code",
      "execution_count": 119,
      "metadata": {
        "id": "T43IByPjRMuC"
      },
      "outputs": [],
      "source": [
        "# Function to Convert to ONNX\n",
        "def Convert_ONNX():\n",
        "\n",
        "    # set the model to inference mode\n",
        "    model.eval()\n",
        "\n",
        "    # Let's create a dummy input tensor\n",
        "    dummy_input = torch.randn(1, *input_size, requires_grad=True)\n",
        "\n",
        "    torch.onnx.export(\n",
        "        model,                                 # model being run\n",
        "        dummy_input,                           # model input (or a tuple for multiple inputs)\n",
        "        \"ImageClassifier.onnx\",                # where to save the model\n",
        "        export_params=True,                    # store the trained parameter weights inside the model file\n",
        "        opset_version=10,                      # the ONNX version to export the model to\n",
        "        do_constant_folding=True,              # whether to execute constant folding for optimization\n",
        "        input_names = ['modelInput'],          # the model's input names\n",
        "        output_names = ['modelOutput'],        # the model's output names\n",
        "        dynamic_axes={                         # variable length axes\n",
        "            'modelInput' : {0 : 'batch_size'},\n",
        "            'modelOutput' : {0 : 'batch_size'}\n",
        "        })\n",
        "\n",
        "    print(\" \")\n",
        "    print('Model has been converted to ONNX')"
      ]
    },
    {
      "cell_type": "code",
      "execution_count": 120,
      "metadata": {
        "id": "HIaShV_DRUzG"
      },
      "outputs": [],
      "source": [
        "# Function to save the model\n",
        "def saveModel():\n",
        "    path = \"./model_cifar.pth\"\n",
        "    torch.save(model.state_dict(), path)"
      ]
    },
    {
      "cell_type": "code",
      "execution_count": 121,
      "metadata": {
        "id": "tNukBd7KRYOM"
      },
      "outputs": [],
      "source": [
        "# Function to test the model with the test dataset and print the accuracy for the test images\n",
        "def testAccuracy():\n",
        "\n",
        "    model.eval()\n",
        "    accuracy = 0.0\n",
        "    total = 0.0\n",
        "\n",
        "    with torch.no_grad():\n",
        "        for data in test_loader:\n",
        "            images, labels = data\n",
        "            images = images.to(device)\n",
        "            labels = labels.to(device)\n",
        "            outputs = model(images)\n",
        "            # the label with the highest energy will be our prediction\n",
        "            _, predicted = torch.max(outputs.data, 1)\n",
        "            total += labels.size(0)\n",
        "            accuracy += (predicted == labels).sum().item()\n",
        "\n",
        "    accuracy = (100 * accuracy / total)\n",
        "    return(accuracy)"
      ]
    },
    {
      "cell_type": "code",
      "execution_count": 122,
      "metadata": {
        "id": "Lfw2DkW3Rdgr"
      },
      "outputs": [],
      "source": [
        "# Function to test the model with a batch of images and show the labels predictions\n",
        "def testBatch():\n",
        "    images, labels = next(iter(test_loader))\n",
        "\n",
        "    imageshow(torchvision.utils.make_grid(images))\n",
        "\n",
        "    print('Real labels: ', ' '.join('%5s' % classes[labels[j]]\n",
        "                               for j in range(BATCH_SIZE)))\n",
        "\n",
        "    outputs = model(images)\n",
        "\n",
        "    # We got the probability for every 10 labels. The highest (max) probability should be correct label\n",
        "    _, predicted = torch.max(outputs, 1)\n",
        "\n",
        "    print('Predicted: ', ' '.join('%5s' % classes[predicted[j]]\n",
        "                                  for j in range(BATCH_SIZE)))"
      ]
    },
    {
      "cell_type": "code",
      "execution_count": 123,
      "metadata": {
        "id": "YSXr1jgsRkUH"
      },
      "outputs": [],
      "source": [
        "def testClassess():\n",
        "    class_correct = list(0. for i in range(number_of_labels))\n",
        "    class_total = list(0. for i in range(number_of_labels))\n",
        "\n",
        "    with torch.no_grad():\n",
        "        for data in test_loader:\n",
        "            images, labels = data\n",
        "            images = images.to(device)\n",
        "            labels = labels.to(device)\n",
        "\n",
        "            outputs = model(images)\n",
        "\n",
        "            _, predicted = torch.max(outputs, 1)\n",
        "            c = (predicted == labels).squeeze()\n",
        "\n",
        "            for i in range(BATCH_SIZE):\n",
        "                label = labels[i]\n",
        "                class_correct[label] += c[i].item()\n",
        "                class_total[label] += 1\n",
        "\n",
        "    for i in range(number_of_labels):\n",
        "        print('Accuracy of %5s : %2d %%' % (classes[i],\n",
        "                                            100 * class_correct[i] / class_total[i]))"
      ]
    },
    {
      "cell_type": "code",
      "execution_count": 124,
      "metadata": {
        "id": "gZXUNM2ARm4k"
      },
      "outputs": [],
      "source": [
        "# Training function. We simply have to loop over our data iterator and feed the inputs to the network and optimize.\n",
        "def train(num_epochs):\n",
        "    best_accuracy = 0.0\n",
        "\n",
        "    model.to(device)\n",
        "\n",
        "    for epoch in range(num_epochs):\n",
        "        running_loss = 0.0\n",
        "        running_acc = 0.0\n",
        "\n",
        "        for i, (images, labels) in enumerate(train_loader, 0):\n",
        "\n",
        "            images = Variable(images.to(device))\n",
        "            labels = Variable(labels.to(device))\n",
        "\n",
        "        for i, (images, labels) in enumerate(train_loader, 0):\n",
        "\n",
        "            # get the inputs\n",
        "            images = Variable(images.to(device))\n",
        "            labels = Variable(labels.to(device))\n",
        "\n",
        "            optimizer.zero_grad()\n",
        "            # predict classes using images from the training set\n",
        "            outputs = model(images)\n",
        "            loss = loss_fn(outputs, labels)\n",
        "            loss.backward()\n",
        "\n",
        "            optimizer.step()\n",
        "\n",
        "            running_loss += loss.item()\n",
        "\n",
        "            if i % 1000 == 999:\n",
        "                print('[%d, %5d] loss: %.3f' %\n",
        "                      (epoch + 1, i + 1, running_loss / 1000))\n",
        "                running_loss = 0.0\n",
        "\n",
        "        accuracy = testAccuracy()\n",
        "        print('For epoch', epoch+1,'the test accuracy over the whole test set is %d %%' % (accuracy))\n",
        "\n",
        "        if accuracy > best_accuracy:\n",
        "           saveModel()\n",
        "           best_accuracy = accuracy"
      ]
    },
    {
      "cell_type": "code",
      "execution_count": 125,
      "metadata": {
        "colab": {
          "base_uri": "https://localhost:8080/",
          "height": 1000
        },
        "id": "SKhxmopuSFHS",
        "outputId": "1539af25-a3b3-4fcd-c7e8-15287efa52f4"
      },
      "outputs": [
        {
          "output_type": "stream",
          "name": "stdout",
          "text": [
            "[1,  1000] loss: 1.804\n",
            "[1,  2000] loss: 1.485\n",
            "[1,  3000] loss: 1.316\n",
            "[1,  4000] loss: 1.221\n",
            "[1,  5000] loss: 1.150\n",
            "For epoch 1 the test accuracy over the whole test set is 61 %\n",
            "[2,  1000] loss: 1.089\n",
            "[2,  2000] loss: 1.017\n",
            "[2,  3000] loss: 1.012\n",
            "[2,  4000] loss: 0.989\n",
            "[2,  5000] loss: 0.968\n",
            "For epoch 2 the test accuracy over the whole test set is 66 %\n",
            "[3,  1000] loss: 0.880\n",
            "[3,  2000] loss: 0.899\n",
            "[3,  3000] loss: 0.881\n",
            "[3,  4000] loss: 0.895\n",
            "[3,  5000] loss: 0.883\n",
            "For epoch 3 the test accuracy over the whole test set is 68 %\n",
            "[4,  1000] loss: 0.789\n",
            "[4,  2000] loss: 0.815\n",
            "[4,  3000] loss: 0.809\n",
            "[4,  4000] loss: 0.822\n",
            "[4,  5000] loss: 0.824\n",
            "For epoch 4 the test accuracy over the whole test set is 69 %\n",
            "[5,  1000] loss: 0.725\n",
            "[5,  2000] loss: 0.756\n",
            "[5,  3000] loss: 0.741\n",
            "[5,  4000] loss: 0.775\n",
            "[5,  5000] loss: 0.763\n",
            "For epoch 5 the test accuracy over the whole test set is 70 %\n",
            "Finished Training\n",
            "Accuracy of plane : 76 %\n",
            "Accuracy of   car : 73 %\n",
            "Accuracy of  bird : 50 %\n",
            "Accuracy of   cat : 60 %\n",
            "Accuracy of  deer : 71 %\n",
            "Accuracy of   dog : 58 %\n",
            "Accuracy of  frog : 74 %\n",
            "Accuracy of horse : 68 %\n",
            "Accuracy of  ship : 86 %\n",
            "Accuracy of truck : 80 %\n"
          ]
        },
        {
          "output_type": "display_data",
          "data": {
            "text/plain": [
              "<Figure size 640x480 with 1 Axes>"
            ],
            "image/png": "[encoded data removed]"
          },
          "metadata": {}
        },
        {
          "output_type": "stream",
          "name": "stdout",
          "text": [
            "Real labels:    cat  ship  ship plane  frog  frog   car  frog   cat   car\n",
            "Predicted:    cat  ship  ship plane  frog  frog   dog  bird   cat   car\n",
            "============= Diagnostic Run torch.onnx.export version 2.0.1+cu118 =============\n",
            "verbose: False, log level: Level.ERROR\n",
            "======================= 0 NONE 0 NOTE 0 WARNING 0 ERROR ========================\n",
            "\n",
            " \n",
            "Model has been converted to ONNX\n"
          ]
        }
      ],
      "source": [
        "train(5)\n",
        "print('Finished Training')\n",
        "\n",
        "testAccuracy()\n",
        "testClassess()\n",
        "\n",
        "model = Network()\n",
        "path = \"model_cifar.pth\"\n",
        "model.load_state_dict(torch.load(path))\n",
        "\n",
        "testBatch()\n",
        "\n",
        "# Conversion to ONNX\n",
        "Convert_ONNX()"
      ]
    },
    {
      "cell_type": "code",
      "source": [],
      "metadata": {
        "id": "EYR0uLN7ilNp"
      },
      "execution_count": 125,
      "outputs": []
    }
  ],
  "metadata": {
    "accelerator": "GPU",
    "colab": {
      "gpuType": "T4",
      "provenance": []
    },
    "kernelspec": {
      "display_name": "Python 3 (ipykernel)",
      "language": "python",
      "name": "python3"
    },
    "language_info": {
      "codemirror_mode": {
        "name": "ipython",
        "version": 3
      },
      "file_extension": ".py",
      "mimetype": "text/x-python",
      "name": "python",
      "nbconvert_exporter": "python",
      "pygments_lexer": "ipython3",
      "version": "3.7.4"
    }
  },
  "nbformat": 4,
  "nbformat_minor": 0
}