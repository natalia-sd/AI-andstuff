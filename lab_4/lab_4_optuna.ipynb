{
 "cells": [
  {
   "cell_type": "code",
   "execution_count": 1,
   "id": "710519d5",
   "metadata": {},
   "outputs": [
    {
     "name": "stdout",
     "output_type": "stream",
     "text": [
      "Collecting optuna\n",
      "  Downloading optuna-3.0.3-py3-none-any.whl (348 kB)\n",
      "Collecting sqlalchemy>=1.3.0\n",
      "  Downloading SQLAlchemy-1.4.42-cp37-cp37m-win_amd64.whl (1.6 MB)\n",
      "Requirement already satisfied: packaging>=20.0 in c:\\programdata\\anaconda3\\lib\\site-packages (from optuna) (21.3)\n",
      "Requirement already satisfied: importlib-metadata<5.0.0 in c:\\programdata\\anaconda3\\lib\\site-packages (from optuna) (4.8.1)\n",
      "Collecting alembic>=1.5.0\n",
      "  Downloading alembic-1.8.1-py3-none-any.whl (209 kB)\n",
      "Note: you may need to restart the kernel to use updated packages.Collecting cliff\n",
      "  Downloading cliff-3.10.1-py3-none-any.whl (81 kB)\n",
      "\n",
      "Requirement already satisfied: numpy in c:\\programdata\\anaconda3\\lib\\site-packages (from optuna) (1.21.4)\n",
      "Requirement already satisfied: tqdm in c:\\programdata\\anaconda3\\lib\\site-packages (from optuna) (4.62.3)\n",
      "Collecting cmaes>=0.8.2\n",
      "  Downloading cmaes-0.8.2-py3-none-any.whl (15 kB)\n",
      "Collecting colorlog"
     ]
    },
    {
     "name": "stderr",
     "output_type": "stream",
     "text": [
      "WARNING: Ignoring invalid distribution -ytz (c:\\programdata\\anaconda3\\lib\\site-packages)\n",
      "WARNING: Ignoring invalid distribution -umpy (c:\\programdata\\anaconda3\\lib\\site-packages)\n",
      "WARNING: Ignoring invalid distribution -lotly (c:\\programdata\\anaconda3\\lib\\site-packages)\n",
      "WARNING: Ignoring invalid distribution - (c:\\programdata\\anaconda3\\lib\\site-packages)\n",
      "WARNING: Ignoring invalid distribution -eautifulsoup4 (c:\\programdata\\anaconda3\\lib\\site-packages)\n",
      "WARNING: Ignoring invalid distribution -eaborn (c:\\programdata\\anaconda3\\lib\\site-packages)\n",
      "WARNING: Ignoring invalid distribution -ytz (c:\\programdata\\anaconda3\\lib\\site-packages)\n",
      "WARNING: Ignoring invalid distribution -umpy (c:\\programdata\\anaconda3\\lib\\site-packages)\n",
      "WARNING: Ignoring invalid distribution -lotly (c:\\programdata\\anaconda3\\lib\\site-packages)\n",
      "WARNING: Ignoring invalid distribution - (c:\\programdata\\anaconda3\\lib\\site-packages)\n",
      "WARNING: Ignoring invalid distribution -eautifulsoup4 (c:\\programdata\\anaconda3\\lib\\site-packages)\n",
      "WARNING: Ignoring invalid distribution -eaborn (c:\\programdata\\anaconda3\\lib\\site-packages)\n",
      "WARNING: Ignoring invalid distribution -ytz (c:\\programdata\\anaconda3\\lib\\site-packages)\n",
      "WARNING: Ignoring invalid distribution -umpy (c:\\programdata\\anaconda3\\lib\\site-packages)\n",
      "WARNING: Ignoring invalid distribution -lotly (c:\\programdata\\anaconda3\\lib\\site-packages)\n",
      "WARNING: Ignoring invalid distribution - (c:\\programdata\\anaconda3\\lib\\site-packages)\n",
      "WARNING: Ignoring invalid distribution -eautifulsoup4 (c:\\programdata\\anaconda3\\lib\\site-packages)\n",
      "WARNING: Ignoring invalid distribution -eaborn (c:\\programdata\\anaconda3\\lib\\site-packages)\n",
      "WARNING: Ignoring invalid distribution -ytz (c:\\programdata\\anaconda3\\lib\\site-packages)\n",
      "WARNING: Ignoring invalid distribution -umpy (c:\\programdata\\anaconda3\\lib\\site-packages)\n",
      "WARNING: Ignoring invalid distribution -lotly (c:\\programdata\\anaconda3\\lib\\site-packages)\n",
      "WARNING: Ignoring invalid distribution - (c:\\programdata\\anaconda3\\lib\\site-packages)\n",
      "WARNING: Ignoring invalid distribution -eautifulsoup4 (c:\\programdata\\anaconda3\\lib\\site-packages)\n",
      "WARNING: Ignoring invalid distribution -eaborn (c:\\programdata\\anaconda3\\lib\\site-packages)\n",
      "WARNING: Ignoring invalid distribution -ytz (c:\\programdata\\anaconda3\\lib\\site-packages)\n",
      "WARNING: Ignoring invalid distribution -umpy (c:\\programdata\\anaconda3\\lib\\site-packages)\n",
      "WARNING: Ignoring invalid distribution -lotly (c:\\programdata\\anaconda3\\lib\\site-packages)\n",
      "WARNING: Ignoring invalid distribution - (c:\\programdata\\anaconda3\\lib\\site-packages)\n",
      "WARNING: Ignoring invalid distribution -eautifulsoup4 (c:\\programdata\\anaconda3\\lib\\site-packages)\n",
      "WARNING: Ignoring invalid distribution -eaborn (c:\\programdata\\anaconda3\\lib\\site-packages)\n",
      "WARNING: Ignoring invalid distribution -ytz (c:\\programdata\\anaconda3\\lib\\site-packages)\n",
      "WARNING: Ignoring invalid distribution -umpy (c:\\programdata\\anaconda3\\lib\\site-packages)\n",
      "WARNING: Ignoring invalid distribution -lotly (c:\\programdata\\anaconda3\\lib\\site-packages)\n",
      "WARNING: Ignoring invalid distribution - (c:\\programdata\\anaconda3\\lib\\site-packages)\n",
      "WARNING: Ignoring invalid distribution -eautifulsoup4 (c:\\programdata\\anaconda3\\lib\\site-packages)\n",
      "WARNING: Ignoring invalid distribution -eaborn (c:\\programdata\\anaconda3\\lib\\site-packages)\n",
      "WARNING: Ignoring invalid distribution -ytz (c:\\programdata\\anaconda3\\lib\\site-packages)\n",
      "WARNING: Ignoring invalid distribution -umpy (c:\\programdata\\anaconda3\\lib\\site-packages)\n",
      "WARNING: Ignoring invalid distribution -lotly (c:\\programdata\\anaconda3\\lib\\site-packages)\n",
      "WARNING: Ignoring invalid distribution - (c:\\programdata\\anaconda3\\lib\\site-packages)\n",
      "WARNING: Ignoring invalid distribution -eautifulsoup4 (c:\\programdata\\anaconda3\\lib\\site-packages)\n",
      "WARNING: Ignoring invalid distribution -eaborn (c:\\programdata\\anaconda3\\lib\\site-packages)\n",
      "WARNING: Ignoring invalid distribution -ytz (c:\\programdata\\anaconda3\\lib\\site-packages)\n",
      "WARNING: Ignoring invalid distribution -umpy (c:\\programdata\\anaconda3\\lib\\site-packages)\n",
      "WARNING: Ignoring invalid distribution -lotly (c:\\programdata\\anaconda3\\lib\\site-packages)\n",
      "WARNING: Ignoring invalid distribution - (c:\\programdata\\anaconda3\\lib\\site-packages)\n",
      "WARNING: Ignoring invalid distribution -eautifulsoup4 (c:\\programdata\\anaconda3\\lib\\site-packages)\n",
      "WARNING: Ignoring invalid distribution -eaborn (c:\\programdata\\anaconda3\\lib\\site-packages)\n",
      "WARNING: Ignoring invalid distribution -ytz (c:\\programdata\\anaconda3\\lib\\site-packages)\n",
      "WARNING: Ignoring invalid distribution -umpy (c:\\programdata\\anaconda3\\lib\\site-packages)\n",
      "WARNING: Ignoring invalid distribution -lotly (c:\\programdata\\anaconda3\\lib\\site-packages)\n",
      "WARNING: Ignoring invalid distribution - (c:\\programdata\\anaconda3\\lib\\site-packages)\n",
      "WARNING: Ignoring invalid distribution -eautifulsoup4 (c:\\programdata\\anaconda3\\lib\\site-packages)\n",
      "WARNING: Ignoring invalid distribution -eaborn (c:\\programdata\\anaconda3\\lib\\site-packages)\n",
      "WARNING: Ignoring invalid distribution -ytz (c:\\programdata\\anaconda3\\lib\\site-packages)\n",
      "WARNING: Ignoring invalid distribution -umpy (c:\\programdata\\anaconda3\\lib\\site-packages)\n",
      "WARNING: Ignoring invalid distribution -lotly (c:\\programdata\\anaconda3\\lib\\site-packages)\n",
      "WARNING: Ignoring invalid distribution - (c:\\programdata\\anaconda3\\lib\\site-packages)\n",
      "WARNING: Ignoring invalid distribution -eautifulsoup4 (c:\\programdata\\anaconda3\\lib\\site-packages)\n",
      "WARNING: Ignoring invalid distribution -eaborn (c:\\programdata\\anaconda3\\lib\\site-packages)\n",
      "WARNING: Ignoring invalid distribution -ytz (c:\\programdata\\anaconda3\\lib\\site-packages)\n",
      "WARNING: Ignoring invalid distribution -umpy (c:\\programdata\\anaconda3\\lib\\site-packages)\n",
      "WARNING: Ignoring invalid distribution -lotly (c:\\programdata\\anaconda3\\lib\\site-packages)\n",
      "WARNING: Ignoring invalid distribution - (c:\\programdata\\anaconda3\\lib\\site-packages)\n",
      "WARNING: Ignoring invalid distribution -eautifulsoup4 (c:\\programdata\\anaconda3\\lib\\site-packages)\n",
      "WARNING: Ignoring invalid distribution -eaborn (c:\\programdata\\anaconda3\\lib\\site-packages)\n",
      "WARNING: Ignoring invalid distribution -ytz (c:\\programdata\\anaconda3\\lib\\site-packages)\n",
      "WARNING: Ignoring invalid distribution -umpy (c:\\programdata\\anaconda3\\lib\\site-packages)\n",
      "WARNING: Ignoring invalid distribution -lotly (c:\\programdata\\anaconda3\\lib\\site-packages)\n",
      "WARNING: Ignoring invalid distribution - (c:\\programdata\\anaconda3\\lib\\site-packages)\n",
      "WARNING: Ignoring invalid distribution -eautifulsoup4 (c:\\programdata\\anaconda3\\lib\\site-packages)\n",
      "WARNING: Ignoring invalid distribution -eaborn (c:\\programdata\\anaconda3\\lib\\site-packages)\n",
      "WARNING: Ignoring invalid distribution -ytz (c:\\programdata\\anaconda3\\lib\\site-packages)\n",
      "WARNING: Ignoring invalid distribution -umpy (c:\\programdata\\anaconda3\\lib\\site-packages)\n",
      "WARNING: Ignoring invalid distribution -lotly (c:\\programdata\\anaconda3\\lib\\site-packages)\n",
      "WARNING: Ignoring invalid distribution - (c:\\programdata\\anaconda3\\lib\\site-packages)\n",
      "WARNING: Ignoring invalid distribution -eautifulsoup4 (c:\\programdata\\anaconda3\\lib\\site-packages)\n",
      "WARNING: Ignoring invalid distribution -eaborn (c:\\programdata\\anaconda3\\lib\\site-packages)\n",
      "WARNING: Ignoring invalid distribution -ytz (c:\\programdata\\anaconda3\\lib\\site-packages)\n",
      "WARNING: Ignoring invalid distribution -umpy (c:\\programdata\\anaconda3\\lib\\site-packages)\n",
      "WARNING: Ignoring invalid distribution -lotly (c:\\programdata\\anaconda3\\lib\\site-packages)\n",
      "WARNING: Ignoring invalid distribution - (c:\\programdata\\anaconda3\\lib\\site-packages)\n",
      "WARNING: Ignoring invalid distribution -eautifulsoup4 (c:\\programdata\\anaconda3\\lib\\site-packages)\n",
      "WARNING: Ignoring invalid distribution -eaborn (c:\\programdata\\anaconda3\\lib\\site-packages)\n",
      "WARNING: Ignoring invalid distribution -ytz (c:\\programdata\\anaconda3\\lib\\site-packages)\n",
      "WARNING: Ignoring invalid distribution -umpy (c:\\programdata\\anaconda3\\lib\\site-packages)\n",
      "WARNING: Ignoring invalid distribution -lotly (c:\\programdata\\anaconda3\\lib\\site-packages)\n",
      "WARNING: Ignoring invalid distribution - (c:\\programdata\\anaconda3\\lib\\site-packages)\n",
      "WARNING: Ignoring invalid distribution -eautifulsoup4 (c:\\programdata\\anaconda3\\lib\\site-packages)\n",
      "WARNING: Ignoring invalid distribution -eaborn (c:\\programdata\\anaconda3\\lib\\site-packages)\n",
      "WARNING: Ignoring invalid distribution -ytz (c:\\programdata\\anaconda3\\lib\\site-packages)"
     ]
    },
    {
     "name": "stdout",
     "output_type": "stream",
     "text": [
      "\n",
      "  Downloading colorlog-6.7.0-py2.py3-none-any.whl (11 kB)\n",
      "Requirement already satisfied: scipy<1.9.0,>=1.7.0 in c:\\programdata\\anaconda3\\lib\\site-packages (from optuna) (1.7.1)\n",
      "Requirement already satisfied: PyYAML in c:\\programdata\\anaconda3\\lib\\site-packages (from optuna) (6.0)\n",
      "Collecting Mako\n",
      "  Downloading Mako-1.2.3-py3-none-any.whl (78 kB)\n",
      "Collecting importlib-resources\n",
      "  Downloading importlib_resources-5.10.0-py3-none-any.whl (34 kB)\n",
      "Requirement already satisfied: typing-extensions>=3.6.4 in c:\\programdata\\anaconda3\\lib\\site-packages (from importlib-metadata<5.0.0->optuna) (3.10.0.2)\n",
      "Requirement already satisfied: zipp>=0.5 in c:\\programdata\\anaconda3\\lib\\site-packages (from importlib-metadata<5.0.0->optuna) (3.6.0)\n",
      "Requirement already satisfied: pyparsing!=3.0.5,>=2.0.2 in c:\\programdata\\anaconda3\\lib\\site-packages (from packaging>=20.0->optuna) (3.0.4)\n",
      "Collecting greenlet!=0.4.17\n",
      "  Downloading greenlet-1.1.3.post0-cp37-cp37m-win_amd64.whl (101 kB)\n",
      "Collecting stevedore>=2.0.1\n",
      "  Downloading stevedore-3.5.2-py3-none-any.whl (50 kB)\n",
      "Collecting cmd2>=1.0.0\n",
      "  Downloading cmd2-2.4.2-py3-none-any.whl (147 kB)\n",
      "Collecting pbr!=2.1.0,>=2.0.0\n",
      "  Downloading pbr-5.11.0-py2.py3-none-any.whl (112 kB)\n",
      "Collecting autopage>=0.4.0\n",
      "  Downloading autopage-0.5.1-py3-none-any.whl (29 kB)\n",
      "Collecting PrettyTable>=0.7.2\n",
      "  Downloading prettytable-3.5.0-py3-none-any.whl (26 kB)\n",
      "Collecting pyperclip>=1.6\n",
      "  Downloading pyperclip-1.8.2.tar.gz (20 kB)\n",
      "Requirement already satisfied: attrs>=16.3.0 in c:\\programdata\\anaconda3\\lib\\site-packages (from cmd2>=1.0.0->cliff->optuna) (21.2.0)\n",
      "Collecting pyreadline3\n",
      "  Downloading pyreadline3-3.4.1-py3-none-any.whl (95 kB)\n",
      "Requirement already satisfied: wcwidth>=0.1.7 in c:\\programdata\\anaconda3\\lib\\site-packages (from cmd2>=1.0.0->cliff->optuna) (0.2.5)\n",
      "Requirement already satisfied: colorama in c:\\programdata\\anaconda3\\lib\\site-packages (from colorlog->optuna) (0.4.4)\n",
      "Requirement already satisfied: MarkupSafe>=0.9.2 in c:\\programdata\\anaconda3\\lib\\site-packages (from Mako->alembic>=1.5.0->optuna) (2.0.1)\n",
      "Building wheels for collected packages: pyperclip\n",
      "  Building wheel for pyperclip (setup.py): started\n",
      "  Building wheel for pyperclip (setup.py): finished with status 'done'\n",
      "  Created wheel for pyperclip: filename=pyperclip-1.8.2-py3-none-any.whl size=11136 sha256=b82702fe04db0b54a993b0ca2e41c7c75a1dc9f1d75dca6a2a11fea3e9bd5bf7\n",
      "  Stored in directory: c:\\users\\user\\appdata\\local\\pip\\cache\\wheels\\9f\\18\\84\\8f69f8b08169c7bae2dde6bd7daf0c19fca8c8e500ee620a28\n",
      "Successfully built pyperclip\n",
      "Installing collected packages: pyreadline3, pyperclip, pbr, greenlet, stevedore, sqlalchemy, PrettyTable, Mako, importlib-resources, cmd2, autopage, colorlog, cmaes, cliff, alembic, optuna\n",
      "Successfully installed Mako-1.2.3 PrettyTable-3.5.0 alembic-1.8.1 autopage-0.5.1 cliff-3.10.1 cmaes-0.8.2 cmd2-2.4.2 colorlog-6.7.0 greenlet-1.1.3.post0 importlib-resources-5.10.0 optuna-3.0.3 pbr-5.11.0 pyperclip-1.8.2 pyreadline3-3.4.1 sqlalchemy-1.4.42 stevedore-3.5.2\n"
     ]
    },
    {
     "name": "stderr",
     "output_type": "stream",
     "text": [
      "\n",
      "WARNING: Ignoring invalid distribution -umpy (c:\\programdata\\anaconda3\\lib\\site-packages)\n",
      "WARNING: Ignoring invalid distribution -lotly (c:\\programdata\\anaconda3\\lib\\site-packages)\n",
      "WARNING: Ignoring invalid distribution - (c:\\programdata\\anaconda3\\lib\\site-packages)\n",
      "WARNING: Ignoring invalid distribution -eautifulsoup4 (c:\\programdata\\anaconda3\\lib\\site-packages)\n",
      "WARNING: Ignoring invalid distribution -eaborn (c:\\programdata\\anaconda3\\lib\\site-packages)\n",
      "WARNING: Ignoring invalid distribution -ytz (c:\\programdata\\anaconda3\\lib\\site-packages)\n",
      "WARNING: Ignoring invalid distribution -umpy (c:\\programdata\\anaconda3\\lib\\site-packages)\n",
      "WARNING: Ignoring invalid distribution -lotly (c:\\programdata\\anaconda3\\lib\\site-packages)\n",
      "WARNING: Ignoring invalid distribution - (c:\\programdata\\anaconda3\\lib\\site-packages)\n",
      "WARNING: Ignoring invalid distribution -eautifulsoup4 (c:\\programdata\\anaconda3\\lib\\site-packages)\n",
      "WARNING: Ignoring invalid distribution -eaborn (c:\\programdata\\anaconda3\\lib\\site-packages)\n",
      "WARNING: Ignoring invalid distribution -ytz (c:\\programdata\\anaconda3\\lib\\site-packages)\n",
      "WARNING: Ignoring invalid distribution -umpy (c:\\programdata\\anaconda3\\lib\\site-packages)\n",
      "WARNING: Ignoring invalid distribution -lotly (c:\\programdata\\anaconda3\\lib\\site-packages)\n",
      "WARNING: Ignoring invalid distribution - (c:\\programdata\\anaconda3\\lib\\site-packages)\n",
      "WARNING: Ignoring invalid distribution -eautifulsoup4 (c:\\programdata\\anaconda3\\lib\\site-packages)\n",
      "WARNING: Ignoring invalid distribution -eaborn (c:\\programdata\\anaconda3\\lib\\site-packages)\n",
      "WARNING: Ignoring invalid distribution -ytz (c:\\programdata\\anaconda3\\lib\\site-packages)\n",
      "WARNING: Ignoring invalid distribution -umpy (c:\\programdata\\anaconda3\\lib\\site-packages)\n",
      "WARNING: Ignoring invalid distribution -lotly (c:\\programdata\\anaconda3\\lib\\site-packages)\n",
      "WARNING: Ignoring invalid distribution - (c:\\programdata\\anaconda3\\lib\\site-packages)\n",
      "WARNING: Ignoring invalid distribution -eautifulsoup4 (c:\\programdata\\anaconda3\\lib\\site-packages)\n",
      "WARNING: Ignoring invalid distribution -eaborn (c:\\programdata\\anaconda3\\lib\\site-packages)\n",
      "WARNING: Ignoring invalid distribution -ytz (c:\\programdata\\anaconda3\\lib\\site-packages)\n",
      "WARNING: Ignoring invalid distribution -umpy (c:\\programdata\\anaconda3\\lib\\site-packages)\n",
      "WARNING: Ignoring invalid distribution -lotly (c:\\programdata\\anaconda3\\lib\\site-packages)\n",
      "WARNING: Ignoring invalid distribution - (c:\\programdata\\anaconda3\\lib\\site-packages)\n",
      "WARNING: Ignoring invalid distribution -eautifulsoup4 (c:\\programdata\\anaconda3\\lib\\site-packages)\n",
      "WARNING: Ignoring invalid distribution -eaborn (c:\\programdata\\anaconda3\\lib\\site-packages)\n",
      "WARNING: Ignoring invalid distribution -ytz (c:\\programdata\\anaconda3\\lib\\site-packages)\n",
      "WARNING: Ignoring invalid distribution -umpy (c:\\programdata\\anaconda3\\lib\\site-packages)\n",
      "WARNING: Ignoring invalid distribution -lotly (c:\\programdata\\anaconda3\\lib\\site-packages)\n",
      "WARNING: Ignoring invalid distribution - (c:\\programdata\\anaconda3\\lib\\site-packages)\n",
      "WARNING: Ignoring invalid distribution -eautifulsoup4 (c:\\programdata\\anaconda3\\lib\\site-packages)\n",
      "WARNING: Ignoring invalid distribution -eaborn (c:\\programdata\\anaconda3\\lib\\site-packages)\n",
      "WARNING: Ignoring invalid distribution -ytz (c:\\programdata\\anaconda3\\lib\\site-packages)\n",
      "WARNING: Ignoring invalid distribution -umpy (c:\\programdata\\anaconda3\\lib\\site-packages)\n",
      "WARNING: Ignoring invalid distribution -lotly (c:\\programdata\\anaconda3\\lib\\site-packages)\n",
      "WARNING: Ignoring invalid distribution - (c:\\programdata\\anaconda3\\lib\\site-packages)\n",
      "WARNING: Ignoring invalid distribution -eautifulsoup4 (c:\\programdata\\anaconda3\\lib\\site-packages)\n",
      "WARNING: Ignoring invalid distribution -eaborn (c:\\programdata\\anaconda3\\lib\\site-packages)\n"
     ]
    }
   ],
   "source": [
    "pip install optuna "
   ]
  },
  {
   "cell_type": "code",
   "execution_count": 8,
   "id": "c0ae577f",
   "metadata": {},
   "outputs": [],
   "source": [
    "import optuna as opt\n",
    "import numpy as np"
   ]
  },
  {
   "cell_type": "code",
   "execution_count": 15,
   "id": "13a1cb09",
   "metadata": {},
   "outputs": [],
   "source": [
    "def objective(trial):\n",
    "    x = trial.suggest_float('x', -10, 10)\n",
    "    y = trial.suggest_float('y', -10, 10)\n",
    "    return  -np.cos(x) * np.cos(y) * np.exp(-(x - np.pi)**2 -(y - np.pi)**2)\n",
    "# -np.cos(x) * np.cos(y) * np.exp(-(x - np.pi)**2 -(y - np.pi)**2)\n",
    "#  (x - 2) ** 2 "
   ]
  },
  {
   "cell_type": "code",
   "execution_count": 16,
   "id": "48b28e68",
   "metadata": {},
   "outputs": [
    {
     "name": "stderr",
     "output_type": "stream",
     "text": [
      "\u001b[32m[I 2022-10-29 13:25:00,569]\u001b[0m A new study created in memory with name: no-name-f77b5d4d-278d-489d-a425-d42e49d1fb74\u001b[0m\n",
      "\u001b[32m[I 2022-10-29 13:25:00,573]\u001b[0m Trial 0 finished with value: -4.417840794520164e-81 and parameters: {'x': 9.469114506042693, 'y': -8.893221330407545}. Best is trial 0 with value: -4.417840794520164e-81.\u001b[0m\n",
      "\u001b[32m[I 2022-10-29 13:25:00,575]\u001b[0m Trial 1 finished with value: -7.415919861274686e-129 and parameters: {'x': -9.864067689238654, 'y': -7.98132616603554}. Best is trial 0 with value: -4.417840794520164e-81.\u001b[0m\n",
      "\u001b[32m[I 2022-10-29 13:25:00,576]\u001b[0m Trial 2 finished with value: 3.498483348005951e-10 and parameters: {'x': 2.9076245555467377, 'y': 7.633043813210289}. Best is trial 0 with value: -4.417840794520164e-81.\u001b[0m\n",
      "\u001b[32m[I 2022-10-29 13:25:00,579]\u001b[0m Trial 3 finished with value: 2.983801702667995e-41 and parameters: {'x': 8.285272479570445, 'y': -4.730448229244328}. Best is trial 0 with value: -4.417840794520164e-81.\u001b[0m\n",
      "\u001b[32m[I 2022-10-29 13:25:00,581]\u001b[0m Trial 4 finished with value: -7.991863880685443e-37 and parameters: {'x': 9.713461926819871, 'y': 9.457048039400672}. Best is trial 4 with value: -7.991863880685443e-37.\u001b[0m\n",
      "\u001b[32m[I 2022-10-29 13:25:00,583]\u001b[0m Trial 5 finished with value: 1.9215870771026445e-69 and parameters: {'x': 5.112686792932742, 'y': -9.243116420965638}. Best is trial 4 with value: -7.991863880685443e-37.\u001b[0m\n",
      "\u001b[32m[I 2022-10-29 13:25:00,585]\u001b[0m Trial 6 finished with value: 0.003470077987733468 and parameters: {'x': 1.4749463522751824, 'y': 2.5483214696271066}. Best is trial 4 with value: -7.991863880685443e-37.\u001b[0m\n",
      "\u001b[32m[I 2022-10-29 13:25:00,588]\u001b[0m Trial 7 finished with value: 2.85321145018842e-16 and parameters: {'x': 8.516697327200731, 'y': 5.62829017917203}. Best is trial 4 with value: -7.991863880685443e-37.\u001b[0m\n",
      "\u001b[32m[I 2022-10-29 13:25:00,591]\u001b[0m Trial 8 finished with value: -6.525061865560778e-11 and parameters: {'x': -0.5293402797929971, 'y': 6.276850059073215}. Best is trial 8 with value: -6.525061865560778e-11.\u001b[0m\n",
      "\u001b[32m[I 2022-10-29 13:25:00,595]\u001b[0m Trial 9 finished with value: 0.00032159339224411773 and parameters: {'x': 0.9686917317929087, 'y': 1.8851818629267534}. Best is trial 8 with value: -6.525061865560778e-11.\u001b[0m\n",
      "\u001b[32m[I 2022-10-29 13:25:00,612]\u001b[0m Trial 10 finished with value: 3.7928023566873475e-37 and parameters: {'x': -4.480035196678402, 'y': -1.5046761452592194}. Best is trial 8 with value: -6.525061865560778e-11.\u001b[0m\n",
      "\u001b[32m[I 2022-10-29 13:25:00,626]\u001b[0m Trial 11 finished with value: -4.4109445888039784e-35 and parameters: {'x': -3.2008289048543888, 'y': 9.37674853137373}. Best is trial 8 with value: -6.525061865560778e-11.\u001b[0m\n",
      "\u001b[32m[I 2022-10-29 13:25:00,639]\u001b[0m Trial 12 finished with value: 2.270815392407543e-22 and parameters: {'x': -3.348027661741152, 'y': 5.903126534008225}. Best is trial 8 with value: -6.525061865560778e-11.\u001b[0m\n",
      "\u001b[32m[I 2022-10-29 13:25:00,653]\u001b[0m Trial 13 finished with value: -8.148637946447742e-39 and parameters: {'x': -3.704172606122205, 'y': 9.518635788157239}. Best is trial 8 with value: -6.525061865560778e-11.\u001b[0m\n",
      "\u001b[32m[I 2022-10-29 13:25:00,666]\u001b[0m Trial 14 finished with value: 1.028104081037913e-49 and parameters: {'x': -7.341687000802453, 'y': 4.284719537806131}. Best is trial 8 with value: -6.525061865560778e-11.\u001b[0m\n",
      "\u001b[32m[I 2022-10-29 13:25:00,682]\u001b[0m Trial 15 finished with value: -1.7908185644091935e-13 and parameters: {'x': -0.7394174387595029, 'y': -0.5747119790466915}. Best is trial 8 with value: -6.525061865560778e-11.\u001b[0m\n",
      "\u001b[32m[I 2022-10-29 13:25:00,698]\u001b[0m Trial 16 finished with value: 2.670358188689406e-19 and parameters: {'x': -1.6664297884257582, 'y': -0.9518888656579774}. Best is trial 8 with value: -6.525061865560778e-11.\u001b[0m\n",
      "\u001b[32m[I 2022-10-29 13:25:00,710]\u001b[0m Trial 17 finished with value: -1.777804182486868e-22 and parameters: {'x': 4.2695871695216105, 'y': -3.7685894600340415}. Best is trial 8 with value: -6.525061865560778e-11.\u001b[0m\n",
      "\u001b[32m[I 2022-10-29 13:25:00,722]\u001b[0m Trial 18 finished with value: 2.4909182509127874e-09 and parameters: {'x': -0.7336367566801394, 'y': 1.6686218742527217}. Best is trial 8 with value: -6.525061865560778e-11.\u001b[0m\n",
      "\u001b[32m[I 2022-10-29 13:25:00,734]\u001b[0m Trial 19 finished with value: 6.870649881421855e-60 and parameters: {'x': -6.478828849931261, 'y': -3.461734534724517}. Best is trial 8 with value: -6.525061865560778e-11.\u001b[0m\n",
      "\u001b[32m[I 2022-10-29 13:25:00,749]\u001b[0m Trial 20 finished with value: -1.1203859895172282e-08 and parameters: {'x': 6.225981498245427, 'y': 0.17919953406105263}. Best is trial 20 with value: -1.1203859895172282e-08.\u001b[0m\n",
      "\u001b[32m[I 2022-10-29 13:25:00,766]\u001b[0m Trial 21 finished with value: -2.2271559024022107e-08 and parameters: {'x': 6.293924108834107, 'y': 0.38345768495864047}. Best is trial 21 with value: -2.2271559024022107e-08.\u001b[0m\n",
      "\u001b[32m[I 2022-10-29 13:25:00,784]\u001b[0m Trial 22 finished with value: 5.089378713711623e-05 and parameters: {'x': 6.242501624208647, 'y': 3.563131371831532}. Best is trial 21 with value: -2.2271559024022107e-08.\u001b[0m\n",
      "\u001b[32m[I 2022-10-29 13:25:00,803]\u001b[0m Trial 23 finished with value: -2.1069021616535854e-45 and parameters: {'x': 6.966980095545577, 'y': -6.238271615333413}. Best is trial 21 with value: -2.2271559024022107e-08.\u001b[0m\n",
      "\u001b[32m[I 2022-10-29 13:25:00,821]\u001b[0m Trial 24 finished with value: 0.00021261079749736978 and parameters: {'x': 3.1647764024124814, 'y': 0.23875542111609754}. Best is trial 21 with value: -2.2271559024022107e-08.\u001b[0m\n",
      "\u001b[32m[I 2022-10-29 13:25:00,837]\u001b[0m Trial 25 finished with value: 8.011325998807233e-18 and parameters: {'x': 6.433315651078178, 'y': -2.1406210565054344}. Best is trial 21 with value: -2.2271559024022107e-08.\u001b[0m\n",
      "\u001b[32m[I 2022-10-29 13:25:00,854]\u001b[0m Trial 26 finished with value: 0.00045411227297958886 and parameters: {'x': 2.1065667369839733, 'y': 0.7706181637936839}. Best is trial 21 with value: -2.2271559024022107e-08.\u001b[0m\n",
      "\u001b[32m[I 2022-10-29 13:25:00,869]\u001b[0m Trial 27 finished with value: 1.970914826973298e-06 and parameters: {'x': 3.8025601961574114, 'y': 6.661576233536197}. Best is trial 21 with value: -2.2271559024022107e-08.\u001b[0m\n",
      "\u001b[32m[I 2022-10-29 13:25:00,882]\u001b[0m Trial 28 finished with value: 0.00021079909373511354 and parameters: {'x': 4.931754785671667, 'y': 4.541909577332798}. Best is trial 21 with value: -2.2271559024022107e-08.\u001b[0m\n",
      "\u001b[32m[I 2022-10-29 13:25:00,894]\u001b[0m Trial 29 finished with value: -1.7451887120815436e-12 and parameters: {'x': 0.4462749821150416, 'y': 7.469045766387516}. Best is trial 21 with value: -2.2271559024022107e-08.\u001b[0m\n",
      "\u001b[32m[I 2022-10-29 13:25:00,911]\u001b[0m Trial 30 finished with value: 1.5111716759470408e-11 and parameters: {'x': 7.806745637042743, 'y': 2.8852579551396267}. Best is trial 21 with value: -2.2271559024022107e-08.\u001b[0m\n",
      "\u001b[32m[I 2022-10-29 13:25:00,927]\u001b[0m Trial 31 finished with value: -1.2462421064621282e-10 and parameters: {'x': 0.45166670855695834, 'y': 7.034040320395914}. Best is trial 21 with value: -2.2271559024022107e-08.\u001b[0m\n",
      "\u001b[32m[I 2022-10-29 13:25:00,940]\u001b[0m Trial 32 finished with value: 8.343322180807141e-23 and parameters: {'x': -1.835065029188451, 'y': 7.803790249459155}. Best is trial 21 with value: -2.2271559024022107e-08.\u001b[0m\n",
      "\u001b[32m[I 2022-10-29 13:25:00,955]\u001b[0m Trial 33 finished with value: 6.013065406455404e-43 and parameters: {'x': 2.467378273164646, 'y': -6.678562392944558}. Best is trial 21 with value: -2.2271559024022107e-08.\u001b[0m\n",
      "\u001b[32m[I 2022-10-29 13:25:00,968]\u001b[0m Trial 34 finished with value: -1.6269297403935585e-05 and parameters: {'x': 5.602602008350258, 'y': 4.948615194696794}. Best is trial 34 with value: -1.6269297403935585e-05.\u001b[0m\n",
      "\u001b[32m[I 2022-10-29 13:25:00,981]\u001b[0m Trial 35 finished with value: 3.5413747906983816e-05 and parameters: {'x': 5.445877224414758, 'y': 4.617689706550019}. Best is trial 34 with value: -1.6269297403935585e-05.\u001b[0m\n",
      "\u001b[32m[I 2022-10-29 13:25:00,996]\u001b[0m Trial 36 finished with value: 2.3534589474537218e-23 and parameters: {'x': 9.969517754716746, 'y': 0.9561441728494208}. Best is trial 34 with value: -1.6269297403935585e-05.\u001b[0m\n",
      "\u001b[32m[I 2022-10-29 13:25:01,014]\u001b[0m Trial 37 finished with value: 8.318731751623057e-21 and parameters: {'x': 7.527065269190264, 'y': 8.077078675708801}. Best is trial 34 with value: -1.6269297403935585e-05.\u001b[0m\n",
      "\u001b[32m[I 2022-10-29 13:25:01,028]\u001b[0m Trial 38 finished with value: -2.7085084586260495e-31 and parameters: {'x': 9.080409927707224, 'y': -2.7731530395722257}. Best is trial 34 with value: -1.6269297403935585e-05.\u001b[0m\n",
      "\u001b[32m[I 2022-10-29 13:25:01,041]\u001b[0m Trial 39 finished with value: 0.00042330627951922924 and parameters: {'x': 5.915172860404733, 'y': 3.2013905155490505}. Best is trial 34 with value: -1.6269297403935585e-05.\u001b[0m\n",
      "\u001b[32m[I 2022-10-29 13:25:01,061]\u001b[0m Trial 40 finished with value: 1.0471897855240021e-30 and parameters: {'x': 4.136932410147489, 'y': -4.991185021949954}. Best is trial 34 with value: -1.6269297403935585e-05.\u001b[0m\n",
      "\u001b[32m[I 2022-10-29 13:25:01,074]\u001b[0m Trial 41 finished with value: -5.780398557468364e-06 and parameters: {'x': 1.1420409447422681, 'y': 5.799253435034253}. Best is trial 34 with value: -1.6269297403935585e-05.\u001b[0m\n",
      "\u001b[32m[I 2022-10-29 13:25:01,093]\u001b[0m Trial 42 finished with value: -4.6088643105466595e-05 and parameters: {'x': 1.2575730857338612, 'y': 5.303375057553657}. Best is trial 42 with value: -4.6088643105466595e-05.\u001b[0m\n",
      "\u001b[32m[I 2022-10-29 13:25:01,104]\u001b[0m Trial 43 finished with value: 0.00014638314444877893 and parameters: {'x': 1.753454569065149, 'y': 5.2812021068036055}. Best is trial 42 with value: -4.6088643105466595e-05.\u001b[0m\n",
      "\u001b[32m[I 2022-10-29 13:25:01,118]\u001b[0m Trial 44 finished with value: -0.02919460155526654 and parameters: {'x': 3.5569922933623284, 'y': 1.8013590104210384}. Best is trial 44 with value: -0.02919460155526654.\u001b[0m\n",
      "\u001b[32m[I 2022-10-29 13:25:01,133]\u001b[0m Trial 45 finished with value: -0.019155069315170872 and parameters: {'x': 2.562984663549219, 'y': 1.7777149890887443}. Best is trial 44 with value: -0.02919460155526654.\u001b[0m\n",
      "\u001b[32m[I 2022-10-29 13:25:01,148]\u001b[0m Trial 46 finished with value: -0.04255049402353734 and parameters: {'x': 3.0690725709431255, 'y': 1.8195880780738278}. Best is trial 46 with value: -0.04255049402353734.\u001b[0m\n",
      "\u001b[32m[I 2022-10-29 13:25:01,164]\u001b[0m Trial 47 finished with value: -0.13387836214599438 and parameters: {'x': 3.198569111723378, 'y': 2.0402961963706137}. Best is trial 47 with value: -0.13387836214599438.\u001b[0m\n",
      "\u001b[32m[I 2022-10-29 13:25:01,176]\u001b[0m Trial 48 finished with value: 0.0007844173201875525 and parameters: {'x': 2.845665062829265, 'y': 1.5598712302361337}. Best is trial 47 with value: -0.13387836214599438.\u001b[0m\n",
      "\u001b[32m[I 2022-10-29 13:25:01,193]\u001b[0m Trial 49 finished with value: -0.3913945854508488 and parameters: {'x': 3.117630102772606, 'y': 2.3664859510366467}. Best is trial 49 with value: -0.3913945854508488.\u001b[0m\n",
      "\u001b[32m[I 2022-10-29 13:25:01,204]\u001b[0m Trial 50 finished with value: -0.29045449436711973 and parameters: {'x': 3.280979324670687, 'y': 2.2676866948775087}. Best is trial 49 with value: -0.3913945854508488.\u001b[0m\n",
      "\u001b[32m[I 2022-10-29 13:25:01,218]\u001b[0m Trial 51 finished with value: -0.24940656698180327 and parameters: {'x': 3.3884772679001243, 'y': 2.237849861258753}. Best is trial 49 with value: -0.3913945854508488.\u001b[0m\n",
      "\u001b[32m[I 2022-10-29 13:25:01,237]\u001b[0m Trial 52 finished with value: -0.5410428064237733 and parameters: {'x': 3.475135845944501, 'y': 3.6823223968647136}. Best is trial 52 with value: -0.5410428064237733.\u001b[0m\n",
      "\u001b[32m[I 2022-10-29 13:25:01,258]\u001b[0m Trial 53 finished with value: -0.007062185030062728 and parameters: {'x': 4.624128982213422, 'y': 3.605085394611005}. Best is trial 52 with value: -0.5410428064237733.\u001b[0m\n",
      "\u001b[32m[I 2022-10-29 13:25:01,278]\u001b[0m Trial 54 finished with value: -0.5696082171842467 and parameters: {'x': 3.3428385763606974, 'y': 2.5688342845728505}. Best is trial 54 with value: -0.5696082171842467.\u001b[0m\n",
      "\u001b[32m[I 2022-10-29 13:25:01,295]\u001b[0m Trial 55 finished with value: -0.00017597667324487543 and parameters: {'x': 4.709219780879243, 'y': 2.6085869720961767}. Best is trial 54 with value: -0.5696082171842467.\u001b[0m\n",
      "\u001b[32m[I 2022-10-29 13:25:01,313]\u001b[0m Trial 56 finished with value: -0.029550156370309204 and parameters: {'x': 1.9191551014213601, 'y': 3.922720517749422}. Best is trial 54 with value: -0.5696082171842467.\u001b[0m\n",
      "\u001b[32m[I 2022-10-29 13:25:01,330]\u001b[0m Trial 57 finished with value: 1.2485677822795177e-07 and parameters: {'x': 3.63910925652106, 'y': -0.7571547075160119}. Best is trial 54 with value: -0.5696082171842467.\u001b[0m\n",
      "\u001b[32m[I 2022-10-29 13:25:01,346]\u001b[0m Trial 58 finished with value: 2.733551188320546e-79 and parameters: {'x': -0.4245335795186116, 'y': -9.820201174931308}. Best is trial 54 with value: -0.5696082171842467.\u001b[0m\n",
      "\u001b[32m[I 2022-10-29 13:25:01,359]\u001b[0m Trial 59 finished with value: 0.0002671865436051485 and parameters: {'x': 4.3452464344843085, 'y': 0.8250506491583165}. Best is trial 54 with value: -0.5696082171842467.\u001b[0m\n",
      "\u001b[32m[I 2022-10-29 13:25:01,371]\u001b[0m Trial 60 finished with value: 0.002093747205096793 and parameters: {'x': 0.7168050299987865, 'y': 3.0746644895224007}. Best is trial 54 with value: -0.5696082171842467.\u001b[0m\n",
      "\u001b[32m[I 2022-10-29 13:25:01,384]\u001b[0m Trial 61 finished with value: -0.5109164535022614 and parameters: {'x': 3.252025836172518, 'y': 2.490287124017866}. Best is trial 54 with value: -0.5696082171842467.\u001b[0m\n",
      "\u001b[32m[I 2022-10-29 13:25:01,398]\u001b[0m Trial 62 finished with value: -0.46420587175708755 and parameters: {'x': 3.3593528629075173, 'y': 2.4698906629258537}. Best is trial 54 with value: -0.5696082171842467.\u001b[0m\n",
      "\u001b[32m[I 2022-10-29 13:25:01,411]\u001b[0m Trial 63 finished with value: -0.15265943575963273 and parameters: {'x': 2.290723517746729, 'y': 2.450148638780188}. Best is trial 54 with value: -0.5696082171842467.\u001b[0m\n",
      "\u001b[32m[I 2022-10-29 13:25:01,423]\u001b[0m Trial 64 finished with value: -0.14483548144853708 and parameters: {'x': 3.5187199800763262, 'y': 4.169502584946705}. Best is trial 54 with value: -0.5696082171842467.\u001b[0m\n",
      "\u001b[32m[I 2022-10-29 13:25:01,435]\u001b[0m Trial 65 finished with value: 0.006464480527859276 and parameters: {'x': 5.12256687757247, 'y': 3.5033752557854285}. Best is trial 54 with value: -0.5696082171842467.\u001b[0m\n",
      "\u001b[32m[I 2022-10-29 13:25:01,448]\u001b[0m Trial 66 finished with value: 1.6636616295388626e-07 and parameters: {'x': 1.5710154382589447, 'y': 1.276002225779304}. Best is trial 54 with value: -0.5696082171842467.\u001b[0m\n",
      "\u001b[32m[I 2022-10-29 13:25:01,462]\u001b[0m Trial 67 finished with value: 1.9342814041897922e-07 and parameters: {'x': 4.05285334673115, 'y': -0.5934630466003594}. Best is trial 54 with value: -0.5696082171842467.\u001b[0m\n",
      "\u001b[32m[I 2022-10-29 13:25:01,475]\u001b[0m Trial 68 finished with value: 1.638243048803196e-07 and parameters: {'x': 6.931404210438112, 'y': 2.3288985171725023}. Best is trial 54 with value: -0.5696082171842467.\u001b[0m\n",
      "\u001b[32m[I 2022-10-29 13:25:01,491]\u001b[0m Trial 69 finished with value: -3.2721182985761496e-10 and parameters: {'x': -0.14621608158380628, 'y': -0.1757078285437088}. Best is trial 54 with value: -0.5696082171842467.\u001b[0m\n",
      "\u001b[32m[I 2022-10-29 13:25:01,504]\u001b[0m Trial 70 finished with value: -0.7084107298679203 and parameters: {'x': 2.753166014809094, 'y': 2.863584137964504}. Best is trial 70 with value: -0.7084107298679203.\u001b[0m\n",
      "\u001b[32m[I 2022-10-29 13:25:01,520]\u001b[0m Trial 71 finished with value: -0.7409531780382947 and parameters: {'x': 2.8968781866092073, 'y': 2.769193419617337}. Best is trial 71 with value: -0.7409531780382947.\u001b[0m\n",
      "\u001b[32m[I 2022-10-29 13:25:01,542]\u001b[0m Trial 72 finished with value: -0.4041700360614538 and parameters: {'x': 2.4124628411507705, 'y': 2.909664842677586}. Best is trial 71 with value: -0.7409531780382947.\u001b[0m\n",
      "\u001b[32m[I 2022-10-29 13:25:01,555]\u001b[0m Trial 73 finished with value: -0.15887411160891884 and parameters: {'x': 2.583699315329613, 'y': 4.066770401261089}. Best is trial 71 with value: -0.7409531780382947.\u001b[0m\n",
      "\u001b[32m[I 2022-10-29 13:25:01,569]\u001b[0m Trial 74 finished with value: -0.03887074545904219 and parameters: {'x': 1.8181647747095802, 'y': 2.8984734416677247}. Best is trial 71 with value: -0.7409531780382947.\u001b[0m\n",
      "\u001b[32m[I 2022-10-29 13:25:01,592]\u001b[0m Trial 75 finished with value: -3.50260268249448e-77 and parameters: {'x': -9.94252765348529, 'y': 4.629871543048786}. Best is trial 71 with value: -0.7409531780382947.\u001b[0m\n",
      "\u001b[32m[I 2022-10-29 13:25:01,603]\u001b[0m Trial 76 finished with value: 0.0033945340851700796 and parameters: {'x': 5.398851629149302, 'y': 3.4401210183161424}. Best is trial 71 with value: -0.7409531780382947.\u001b[0m\n",
      "\u001b[32m[I 2022-10-29 13:25:01,618]\u001b[0m Trial 77 finished with value: -4.634201155130293e-06 and parameters: {'x': 0.43818096399539597, 'y': 1.1428886142016268}. Best is trial 71 with value: -0.7409531780382947.\u001b[0m\n",
      "\u001b[32m[I 2022-10-29 13:25:01,632]\u001b[0m Trial 78 finished with value: 8.547883596219145e-05 and parameters: {'x': 4.047226436969273, 'y': 0.3104250770257244}. Best is trial 71 with value: -0.7409531780382947.\u001b[0m\n",
      "\u001b[32m[I 2022-10-29 13:25:01,647]\u001b[0m Trial 79 finished with value: 0.00020958258303210836 and parameters: {'x': 2.7433537557315146, 'y': 6.0035304996875105}. Best is trial 71 with value: -0.7409531780382947.\u001b[0m\n",
      "\u001b[32m[I 2022-10-29 13:25:01,661]\u001b[0m Trial 80 finished with value: -9.606445049133492e-14 and parameters: {'x': 1.1720143078191452, 'y': -1.5335814779390722}. Best is trial 71 with value: -0.7409531780382947.\u001b[0m\n",
      "\u001b[32m[I 2022-10-29 13:25:01,677]\u001b[0m Trial 81 finished with value: -0.1979666320665329 and parameters: {'x': 2.163866423007283, 'y': 2.908226529084018}. Best is trial 71 with value: -0.7409531780382947.\u001b[0m\n",
      "\u001b[32m[I 2022-10-29 13:25:01,689]\u001b[0m Trial 82 finished with value: -0.013791854329774565 and parameters: {'x': 4.517952851578162, 'y': 3.8358856437280457}. Best is trial 71 with value: -0.7409531780382947.\u001b[0m\n",
      "\u001b[32m[I 2022-10-29 13:25:01,703]\u001b[0m Trial 83 finished with value: 2.9475463227497926e-10 and parameters: {'x': -1.3077119367731656, 'y': 2.422436334841912}. Best is trial 71 with value: -0.7409531780382947.\u001b[0m\n",
      "\u001b[32m[I 2022-10-29 13:25:01,718]\u001b[0m Trial 84 finished with value: 0.008106766045479009 and parameters: {'x': 2.9648977409829187, 'y': 4.901805725519072}. Best is trial 71 with value: -0.7409531780382947.\u001b[0m\n",
      "\u001b[32m[I 2022-10-29 13:25:01,730]\u001b[0m Trial 85 finished with value: 0.004018915467612019 and parameters: {'x': 3.8475595208930145, 'y': 1.2349984148121398}. Best is trial 71 with value: -0.7409531780382947.\u001b[0m\n",
      "\u001b[32m[I 2022-10-29 13:25:01,743]\u001b[0m Trial 86 finished with value: -8.13228057089782e-06 and parameters: {'x': 5.082816703758088, 'y': 0.5370769530785915}. Best is trial 71 with value: -0.7409531780382947.\u001b[0m\n",
      "\u001b[32m[I 2022-10-29 13:25:01,759]\u001b[0m Trial 87 finished with value: -0.24341959667553542 and parameters: {'x': 2.209702349060637, 'y': 3.277089198192839}. Best is trial 71 with value: -0.7409531780382947.\u001b[0m\n",
      "\u001b[32m[I 2022-10-29 13:25:01,772]\u001b[0m Trial 88 finished with value: -3.888362983263006e-53 and parameters: {'x': -7.322813786843384, 'y': -0.09728509989707046}. Best is trial 71 with value: -0.7409531780382947.\u001b[0m\n",
      "\u001b[32m[I 2022-10-29 13:25:01,788]\u001b[0m Trial 89 finished with value: -0.6141251564405199 and parameters: {'x': 3.2967079947222104, 'y': 2.5978399586421324}. Best is trial 71 with value: -0.7409531780382947.\u001b[0m\n",
      "\u001b[32m[I 2022-10-29 13:25:01,801]\u001b[0m Trial 90 finished with value: -0.11848031917765174 and parameters: {'x': 2.878841400728649, 'y': 4.248397012816165}. Best is trial 71 with value: -0.7409531780382947.\u001b[0m\n",
      "\u001b[32m[I 2022-10-29 13:25:01,814]\u001b[0m Trial 91 finished with value: -0.7379488524105158 and parameters: {'x': 3.346098185036891, 'y': 2.7425993999964238}. Best is trial 71 with value: -0.7409531780382947.\u001b[0m\n",
      "\u001b[32m[I 2022-10-29 13:25:01,829]\u001b[0m Trial 92 finished with value: -0.34925074130463374 and parameters: {'x': 3.876379988170108, 'y': 2.7657535229189554}. Best is trial 71 with value: -0.7409531780382947.\u001b[0m\n",
      "\u001b[32m[I 2022-10-29 13:25:01,847]\u001b[0m Trial 93 finished with value: 3.4396758439155586e-07 and parameters: {'x': 1.466520040368034, 'y': 1.5714395972871438}. Best is trial 71 with value: -0.7409531780382947.\u001b[0m\n",
      "\u001b[32m[I 2022-10-29 13:25:01,862]\u001b[0m Trial 94 finished with value: -0.00918724926296436 and parameters: {'x': 4.405731329257793, 'y': 2.067688626874748}. Best is trial 71 with value: -0.7409531780382947.\u001b[0m\n",
      "\u001b[32m[I 2022-10-29 13:25:01,881]\u001b[0m Trial 95 finished with value: 0.0026409299936274214 and parameters: {'x': 2.5232724154241875, 'y': 5.334740926188573}. Best is trial 71 with value: -0.7409531780382947.\u001b[0m\n",
      "\u001b[32m[I 2022-10-29 13:25:01,898]\u001b[0m Trial 96 finished with value: 0.0005558944053116793 and parameters: {'x': 5.715982757618674, 'y': 3.813778161528442}. Best is trial 71 with value: -0.7409531780382947.\u001b[0m\n",
      "\u001b[32m[I 2022-10-29 13:25:01,917]\u001b[0m Trial 97 finished with value: -0.9848741001952717 and parameters: {'x': 3.2085666468947873, 'y': 3.0662763199917586}. Best is trial 97 with value: -0.9848741001952717.\u001b[0m\n",
      "\u001b[32m[I 2022-10-29 13:25:01,932]\u001b[0m Trial 98 finished with value: -0.7083319676191479 and parameters: {'x': 3.5790964740055053, 'y': 2.9511568017207725}. Best is trial 97 with value: -0.9848741001952717.\u001b[0m\n",
      "\u001b[32m[I 2022-10-29 13:25:01,952]\u001b[0m Trial 99 finished with value: -0.0010972197231823731 and parameters: {'x': 3.4878333634501493, 'y': 4.697583677916677}. Best is trial 97 with value: -0.9848741001952717.\u001b[0m\n"
     ]
    }
   ],
   "source": [
    "study = opt.create_study()\n",
    "study.optimize(objective, n_trials=100)"
   ]
  },
  {
   "cell_type": "code",
   "execution_count": 19,
   "id": "8b21a7fe",
   "metadata": {},
   "outputs": [
    {
     "name": "stdout",
     "output_type": "stream",
     "text": [
      "found x: 3.2085666468947873, found y 3.0662763199917586, -np.cos(x) * np.cos(y) * np.exp(-(x - np.pi)**2 -(y - np.pi)**2): -0.9848741001952717\n"
     ]
    }
   ],
   "source": [
    "best_params = study.best_params\n",
    "found_x = best_params['x']\n",
    "found_y = best_params['y']\n",
    "print('found x: {}, found y {}, -np.cos(x) * np.cos(y) * np.exp(-(x - np.pi)**2 -(y - np.pi)**2): {}'.format(found_x, found_y, -np.cos(found_x) * np.cos(found_y) * np.exp(-(found_x - np.pi)**2 -(found_y - np.pi)**2)))"
   ]
  },
  {
   "cell_type": "code",
   "execution_count": 22,
   "id": "bd77b273",
   "metadata": {},
   "outputs": [
    {
     "ename": "SyntaxError",
     "evalue": "unexpected EOF while parsing (<ipython-input-22-792aa6dd4f19>, line 1)",
     "output_type": "error",
     "traceback": [
      "\u001b[1;36m  File \u001b[1;32m\"<ipython-input-22-792aa6dd4f19>\"\u001b[1;36m, line \u001b[1;32m1\u001b[0m\n\u001b[1;33m    print(f'found x: {found_x}, found y: {found_y}, -np.cos(x) * np.cos(y) * np.exp(-(x - np.pi)**2 -(y - np.pi)**2): {-np.cos{found_x} * np.cos(found_y) * np.exp(-(found_x - np.pi)**2 -(found_y - np.pi)**2)}'\u001b[0m\n\u001b[1;37m                                                                                                                                                                                                                 ^\u001b[0m\n\u001b[1;31mSyntaxError\u001b[0m\u001b[1;31m:\u001b[0m unexpected EOF while parsing\n"
     ]
    }
   ],
   "source": [
    "print(f'found x: {found_x}, found y: {found_y}, -np.cos(x) * np.cos(y) * np.exp(-(x - np.pi)**2 -(y - np.pi)**2): {-np.cos(found_x) * np.cos(found_y) * np.exp(-(found_x - np.pi)**2 -(found_y - np.pi)**2)}'"
   ]
  },
  {
   "cell_type": "code",
   "execution_count": 23,
   "id": "f0e847d8",
   "metadata": {},
   "outputs": [
    {
     "data": {
      "text/plain": [
       "-0.9848741001952717"
      ]
     },
     "execution_count": 23,
     "metadata": {},
     "output_type": "execute_result"
    }
   ],
   "source": [
    "study.best_value"
   ]
  },
  {
   "cell_type": "code",
   "execution_count": 25,
   "id": "c314b871",
   "metadata": {},
   "outputs": [
    {
     "data": {
      "text/plain": [
       "FrozenTrial(number=97, values=[-0.9848741001952717], datetime_start=datetime.datetime(2022, 10, 29, 13, 25, 1, 899024), datetime_complete=datetime.datetime(2022, 10, 29, 13, 25, 1, 916977), params={'x': 3.2085666468947873, 'y': 3.0662763199917586}, distributions={'x': FloatDistribution(high=10.0, log=False, low=-10.0, step=None), 'y': FloatDistribution(high=10.0, log=False, low=-10.0, step=None)}, user_attrs={}, system_attrs={}, intermediate_values={}, trial_id=97, state=TrialState.COMPLETE, value=None)"
      ]
     },
     "execution_count": 25,
     "metadata": {},
     "output_type": "execute_result"
    }
   ],
   "source": [
    "study.best_trial"
   ]
  },
  {
   "cell_type": "code",
   "execution_count": null,
   "id": "c704d227",
   "metadata": {},
   "outputs": [],
   "source": []
  },
  {
   "cell_type": "code",
   "execution_count": null,
   "id": "6f37df49",
   "metadata": {},
   "outputs": [],
   "source": []
  },
  {
   "cell_type": "code",
   "execution_count": null,
   "id": "5e17d972",
   "metadata": {},
   "outputs": [],
   "source": []
  },
  {
   "cell_type": "code",
   "execution_count": null,
   "id": "2a06786f",
   "metadata": {},
   "outputs": [],
   "source": []
  }
 ],
 "metadata": {
  "kernelspec": {
   "display_name": "Python 3 (ipykernel)",
   "language": "python",
   "name": "python3"
  },
  "language_info": {
   "codemirror_mode": {
    "name": "ipython",
    "version": 3
   },
   "file_extension": ".py",
   "mimetype": "text/x-python",
   "name": "python",
   "nbconvert_exporter": "python",
   "pygments_lexer": "ipython3",
   "version": "3.7.4"
  }
 },
 "nbformat": 4,
 "nbformat_minor": 5
}
