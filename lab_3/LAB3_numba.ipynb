{
 "cells": [
  {
   "cell_type": "markdown",
   "id": "f6bc004f",
   "metadata": {},
   "source": [
    "# LAB 3: NUMBA \n",
    "### SGD Optimisation with Numba\n",
    "### AI and Machine Learning // Suchkova Natalia М8О-114М-22\n",
    "09.11.2022 @ MAI IT-Center"
   ]
  },
  {
   "cell_type": "markdown",
   "id": "cc48f344",
   "metadata": {},
   "source": [
    "## Table of Contents\n",
    "\n",
    "1. [**Without Numba**](#gen1)\n",
    "\n",
    "    - [Classical GD](#gen11) \n",
    "        + [Himmelblau](#gen111)\n",
    "        + [Rastrigin](#gen112)\n",
    "        + [Rosenbrock](#gen113)\n",
    "\n",
    "    - [AdaGrad](#gen12)\n",
    "        + [Himmelblau](#gen121)\n",
    "        + [Rastrigin](#gen122)\n",
    "        + [Rosenbrock](#gen123)\n",
    "\n",
    "\n",
    "2. [**With Numba**](#gen2)\n",
    "\n",
    "    - [Classical GD](#gen21) \n",
    "        + [Himmelblau](#gen211)\n",
    "        + [Rastrigin](#gen212)\n",
    "        + [Rosenbrock](#gen213)\n",
    "\n",
    "    - [AdaGrad](#gen22)\n",
    "        + [Himmelblau](#gen221)\n",
    "        + [Rastrigin](#gen222)\n",
    "        + [Rosenbrock](#gen223)\n",
    "\n",
    "\n",
    "\n",
    "3. [**Result Comparison Table**](#gen3)\n",
    "\n"
   ]
  },
  {
   "cell_type": "code",
   "execution_count": 190,
   "id": "385bbd45",
   "metadata": {},
   "outputs": [],
   "source": [
    "import numpy as np\n",
    "import pandas as pd\n",
    "from numba import njit\n",
    "\n",
    "from typing import Tuple, Mapping\n",
    "\n",
    "import matplotlib.pyplot as plt\n",
    "from IPython import display"
   ]
  },
  {
   "cell_type": "code",
   "execution_count": 191,
   "id": "48b8b80c",
   "metadata": {},
   "outputs": [],
   "source": [
    "res_df = pd.DataFrame(columns=['Problem', 'Method', 'Time w/o Numba', 'Numba Time']) # создаем дф для учета результатов"
   ]
  },
  {
   "cell_type": "markdown",
   "id": "21a4f24f",
   "metadata": {},
   "source": [
    "<a id='gen1'></a>"
   ]
  },
  {
   "cell_type": "markdown",
   "id": "522c5c36",
   "metadata": {},
   "source": [
    "## Without Numba"
   ]
  },
  {
   "cell_type": "code",
   "execution_count": 192,
   "id": "8ec5f068",
   "metadata": {},
   "outputs": [],
   "source": [
    "class Himmelblau:\n",
    "    \n",
    "    def function(x: np.ndarray) -> np.float64:\n",
    "        return (x[0]**2 + x[1] - 11)**2 + (x[0] + x[1]**2 - 7)**2\n",
    "    \n",
    "    def gradient(x: np.ndarray) -> np.array:\n",
    "        return np.array([4 * x[0] * (x[0]**2 + x[1] - 11) \\\n",
    "                         + 2 * (x[0] + x[1]**2 - 7),\n",
    "                         2 * (x[0]**2 + x[1] - 11) \\\n",
    "                         + 4 * x[1] * (x[0] + x[1]**2 - 7)])\n",
    "\n",
    "class Rosenbrock: \n",
    "    \n",
    "    def function(x: np.ndarray, b: int = 100) -> np.float64:\n",
    "        return b * (x[1] - x[0]**2)**2 + (x[0] - 1)**2\n",
    "\n",
    "    def gradient(x: np.ndarray, b: int = 100) -> np.array:\n",
    "\n",
    "        return np.array([2 * (x[0] - 1) \\\n",
    "                         - 4 * b * x[0] * (x[1] - x[0]**2),\n",
    "                         2 * b * (x[1] - x[0]**2)])\n",
    "    \n",
    "class Rastrigin:\n",
    "    \n",
    "    def function(x: np.ndarray, A: int = 10) -> np.float64:\n",
    "        return list(x**2 - A * np.cos(2 * np.pi * x))[0] # + A\n",
    "    \n",
    "    def gradient(x: np.float32, A: int = 10) -> np.float64:\n",
    "            return 2 * x + A * 2 * np.pi * np.sin(2 * np.pi * x)"
   ]
  },
  {
   "cell_type": "markdown",
   "id": "aa8f1dc9",
   "metadata": {},
   "source": [
    "Упростим еще немного код, который был."
   ]
  },
  {
   "cell_type": "code",
   "execution_count": 193,
   "id": "d075f5bd",
   "metadata": {},
   "outputs": [],
   "source": [
    "# def classic_GD (\n",
    "#                 function: Mapping, gradient_of_function: Mapping,\n",
    "#                 start: np.ndarray, learning_rate: float = 0.01, \n",
    "#                 n_iter: int = 100, tolerance: float = 1e-5\n",
    "#                 ) -> Tuple [np.ndarray, np.float32]:\n",
    "    \n",
    "#     \"\"\" \n",
    "#     Args:\n",
    "#         function (Mapping): минимизруемая функция\n",
    "#         gradient_of_function (Mapping): градиент минимизируемой функции\n",
    "#         start (np.ndarray): рандомная стартовая точка\n",
    "#         learning_rate (float): шаг минимизации\n",
    "#         n_iter (int): количество итераций градиентного спуска\n",
    "#         tolerance (float): минимальное допустимое изменение \n",
    "#                     значения минимизируемой величины\n",
    "#     Return:\n",
    "#         tuple with found minimum coordinates, found minimum function value, \n",
    "#         and plotting data list with multiple np.ndarray aka dots for plotting\n",
    "    \n",
    "#    \"\"\" \n",
    "        \n",
    "#     current_point = start.copy()\n",
    "#     current_point = current_point.astype('float64')\n",
    "\n",
    "#     for iter in range(n_iter):\n",
    "#         diff = learning_rate * -gradient_of_function(current_point)\n",
    "\n",
    "#         if np.all(np.abs(diff) <= tolerance):\n",
    "#             print(f'\\033[1mEarly stopping!!\\033[0m')\n",
    "#             break\n",
    "\n",
    "#         iter_count = iter + 1    \n",
    "#         current_point += diff\n",
    "\n",
    "#     print(f' Finished in {iter_count} iterations\\n', \\\n",
    "#           f'Minimum point coordinates \\033[1m{current_point}\\033[0m,', \\\n",
    "#           f'with function value = \\033[1m{round(function(current_point), 4)}\\033[0m')\n",
    "\n",
    "\n",
    "#     return current_point, function(current_point)"
   ]
  },
  {
   "cell_type": "markdown",
   "id": "0d95457a",
   "metadata": {},
   "source": [
    "<a id='gen11'></a>"
   ]
  },
  {
   "cell_type": "code",
   "execution_count": 194,
   "id": "da990d1c",
   "metadata": {},
   "outputs": [],
   "source": [
    "def classic_GD (\n",
    "                function: Mapping, gradient_of_function: Mapping,\n",
    "                start: np.ndarray, learning_rate: float = 0.01, \n",
    "                n_iter: int = 100,\n",
    "                ) -> Tuple [np.ndarray, np.float32]:\n",
    "    \n",
    "    \"\"\" \n",
    "    Args:\n",
    "        function (Mapping): минимизруемая функция\n",
    "        gradient_of_function (Mapping): градиент минимизируемой функции\n",
    "        start (np.ndarray): рандомная стартовая точка\n",
    "        learning_rate (float): шаг минимизации\n",
    "        n_iter (int): количество итераций градиентного спуска\n",
    "\n",
    "    Return:\n",
    "        tuple with found minimum coordinates, found minimum function value, \n",
    "        and plotting data list with multiple np.ndarray aka dots for plotting\n",
    "    \n",
    "   \"\"\"    \n",
    "    current_point = start.copy()\n",
    "    current_point = current_point.astype('float64')\n",
    "\n",
    "    for iter in range(n_iter):   \n",
    "        current_point = current_point - learning_rate * gradient_of_function(current_point)\n",
    "\n",
    "    return current_point, function(current_point)"
   ]
  },
  {
   "cell_type": "code",
   "execution_count": 195,
   "id": "468061dc",
   "metadata": {},
   "outputs": [],
   "source": [
    "# wall time"
   ]
  },
  {
   "cell_type": "markdown",
   "id": "89186036",
   "metadata": {},
   "source": [
    "<a id='gen111'></a>\n",
    "#### Himmelblau"
   ]
  },
  {
   "cell_type": "code",
   "execution_count": 196,
   "id": "c595bad1",
   "metadata": {
    "scrolled": true
   },
   "outputs": [
    {
     "name": "stdout",
     "output_type": "stream",
     "text": [
      "Wall time: 53.9 ms\n"
     ]
    }
   ],
   "source": [
    "%%time \n",
    "GD_Him = classic_GD(Himmelblau.function, Himmelblau.gradient, np.array([-100, -100]), learning_rate=0.00001, n_iter=7000)"
   ]
  },
  {
   "cell_type": "code",
   "execution_count": 197,
   "id": "28a66a43",
   "metadata": {},
   "outputs": [
    {
     "name": "stdout",
     "output_type": "stream",
     "text": [
      "Minimum point coordinates \u001b[1m[-3.78698073 -3.29532809]\u001b[0m, with function value = \u001b[1m0.0073\u001b[0m\n"
     ]
    }
   ],
   "source": [
    "print(f'Minimum point coordinates \\033[1m{GD_Him[0]}\\033[0m,', \\\n",
    "      f'with function value = \\033[1m{round(GD_Him[1], 4)}\\033[0m')"
   ]
  },
  {
   "cell_type": "code",
   "execution_count": 198,
   "id": "7108ba52",
   "metadata": {},
   "outputs": [
    {
     "name": "stdout",
     "output_type": "stream",
     "text": [
      "39.5 ms ± 1.01 ms per loop (mean ± std. dev. of 7 runs, 10 loops each)\n"
     ]
    }
   ],
   "source": [
    "# cpu time\n",
    "time = %timeit -o classic_GD(Himmelblau.function, Himmelblau.gradient, np.array([-100, -100]), learning_rate=0.00001, n_iter=7000)"
   ]
  },
  {
   "cell_type": "code",
   "execution_count": 199,
   "id": "4d7753b0",
   "metadata": {},
   "outputs": [],
   "source": [
    "data = ['Himmelblau', 'Classical GD', str(time)[:25], '']\n",
    "res_df.loc[len(res_df)] = data"
   ]
  },
  {
   "cell_type": "code",
   "execution_count": 200,
   "id": "0c968145",
   "metadata": {},
   "outputs": [
    {
     "data": {
      "text/html": [
       "<div>\n",
       "<style scoped>\n",
       "    .dataframe tbody tr th:only-of-type {\n",
       "        vertical-align: middle;\n",
       "    }\n",
       "\n",
       "    .dataframe tbody tr th {\n",
       "        vertical-align: top;\n",
       "    }\n",
       "\n",
       "    .dataframe thead th {\n",
       "        text-align: right;\n",
       "    }\n",
       "</style>\n",
       "<table border=\"1\" class=\"dataframe\">\n",
       "  <thead>\n",
       "    <tr style=\"text-align: right;\">\n",
       "      <th></th>\n",
       "      <th>Problem</th>\n",
       "      <th>Method</th>\n",
       "      <th>Time w/o Numba</th>\n",
       "      <th>Numba Time</th>\n",
       "    </tr>\n",
       "  </thead>\n",
       "  <tbody>\n",
       "    <tr>\n",
       "      <th>0</th>\n",
       "      <td>Himmelblau</td>\n",
       "      <td>Classical GD</td>\n",
       "      <td>39.5 ms ± 1.01 ms per loo</td>\n",
       "      <td></td>\n",
       "    </tr>\n",
       "  </tbody>\n",
       "</table>\n",
       "</div>"
      ],
      "text/plain": [
       "      Problem        Method             Time w/o Numba Numba Time\n",
       "0  Himmelblau  Classical GD  39.5 ms ± 1.01 ms per loo           "
      ]
     },
     "execution_count": 200,
     "metadata": {},
     "output_type": "execute_result"
    }
   ],
   "source": [
    "res_df"
   ]
  },
  {
   "cell_type": "markdown",
   "id": "1ae4d02f",
   "metadata": {},
   "source": [
    "<a id='gen112'></a>\n",
    "#### Rastrigin"
   ]
  },
  {
   "cell_type": "code",
   "execution_count": 201,
   "id": "998e9796",
   "metadata": {},
   "outputs": [
    {
     "name": "stdout",
     "output_type": "stream",
     "text": [
      "Wall time: 43.9 ms\n"
     ]
    }
   ],
   "source": [
    "%%time\n",
    "GD_Rast = classic_GD(Rastrigin.function, Rastrigin.gradient, np.array([100, 100]), learning_rate=0.1, n_iter=9000)"
   ]
  },
  {
   "cell_type": "code",
   "execution_count": 202,
   "id": "fb763374",
   "metadata": {},
   "outputs": [
    {
     "name": "stdout",
     "output_type": "stream",
     "text": [
      "Minimum point coordinates \u001b[1m[0.76548588 0.76548588]\u001b[0m, with function value = \u001b[1m-0.3855\u001b[0m\n"
     ]
    }
   ],
   "source": [
    "print(f'Minimum point coordinates \\033[1m{GD_Rast[0]}\\033[0m,', \\\n",
    "      f'with function value = \\033[1m{round(GD_Rast[1], 4)}\\033[0m')"
   ]
  },
  {
   "cell_type": "code",
   "execution_count": 203,
   "id": "a0b2e7b0",
   "metadata": {},
   "outputs": [
    {
     "name": "stdout",
     "output_type": "stream",
     "text": [
      "40.2 ms ± 977 µs per loop (mean ± std. dev. of 7 runs, 10 loops each)\n"
     ]
    }
   ],
   "source": [
    "# cpu time\n",
    "time = %timeit -o classic_GD(Rastrigin.function, Rastrigin.gradient, np.array([100, 100]), learning_rate=0.1, n_iter=9000)"
   ]
  },
  {
   "cell_type": "code",
   "execution_count": 204,
   "id": "84ded79e",
   "metadata": {},
   "outputs": [],
   "source": [
    "data = ['Rastrigin', 'Classical GD', str(time)[:25], '']\n",
    "res_df.loc[len(res_df)] = data"
   ]
  },
  {
   "cell_type": "markdown",
   "id": "a1e4e41b",
   "metadata": {},
   "source": [
    "<a id='gen113'></a>\n",
    "#### Rosenbrock"
   ]
  },
  {
   "cell_type": "code",
   "execution_count": 205,
   "id": "eaeea634",
   "metadata": {},
   "outputs": [
    {
     "name": "stdout",
     "output_type": "stream",
     "text": [
      "Wall time: 798 ms\n"
     ]
    }
   ],
   "source": [
    "%%time\n",
    "GD_Ros = classic_GD(Rosenbrock.function, Rosenbrock.gradient, np.array([10, 10]), \n",
    "                    learning_rate=0.00001, n_iter=200000)"
   ]
  },
  {
   "cell_type": "code",
   "execution_count": 206,
   "id": "5606e68e",
   "metadata": {},
   "outputs": [
    {
     "name": "stdout",
     "output_type": "stream",
     "text": [
      "Minimum point coordinates \u001b[1m[3.02969959 9.18234049]\u001b[0m, with function value = \u001b[1m4.1207\u001b[0m\n"
     ]
    }
   ],
   "source": [
    "print(f'Minimum point coordinates \\033[1m{GD_Ros[0]}\\033[0m,', \\\n",
    "      f'with function value = \\033[1m{round(GD_Ros[1], 4)}\\033[0m')"
   ]
  },
  {
   "cell_type": "code",
   "execution_count": 207,
   "id": "7886f42c",
   "metadata": {},
   "outputs": [
    {
     "name": "stdout",
     "output_type": "stream",
     "text": [
      "794 ms ± 9.33 ms per loop (mean ± std. dev. of 7 runs, 1 loop each)\n"
     ]
    }
   ],
   "source": [
    "# cpu time\n",
    "time = %timeit -o classic_GD(Rosenbrock.function, Rosenbrock.gradient, np.array([10, 10]), learning_rate=0.00001, n_iter=200000)"
   ]
  },
  {
   "cell_type": "code",
   "execution_count": 208,
   "id": "a2c863f3",
   "metadata": {},
   "outputs": [],
   "source": [
    "data = ['Rosenbrock', 'Classical GD', str(time)[:25], '']\n",
    "res_df.loc[len(res_df)] = data"
   ]
  },
  {
   "cell_type": "markdown",
   "id": "a384c6c8",
   "metadata": {},
   "source": [
    "<a id='gen12'></a>"
   ]
  },
  {
   "cell_type": "code",
   "execution_count": 253,
   "id": "15f15252",
   "metadata": {},
   "outputs": [],
   "source": [
    "def GD_AdaGrad(\n",
    "            function: Mapping, gradient: Mapping, start: np.ndarray,\n",
    "            gamma: np.float64 = 0.1, n_iter: int = 100, \n",
    "            learning_rate: float = 0.01, tolerance=1e-06, \n",
    "            dtype=\"float64\", rand_state: int = 12\n",
    "            ) -> Tuple [np.ndarray, np.ndarray]:\n",
    "    \"\"\" \n",
    "        function (Mapping):  минимизруемая функция\n",
    "        gradient (Mapping): градиент заданной выше функции\n",
    "        start (np.ndarray): рандомная стартовая точка/точки\n",
    "        gamma (float): скорость затухания скользащих средних ф-ии потерь\n",
    "        n_iter (int): количество итераций градиентного спуска\n",
    "        learning_rate (float): шаг минимизации\n",
    "        tolerance (float): минимальное допустимое изменение \n",
    "                           значения минимизируемой величины\n",
    "        dtype (str): тип данных\n",
    "        rand_state (int): зерно рандомайзера\n",
    "        \n",
    "    \"\"\"\n",
    "    dtype_ = np.dtype(dtype)\n",
    "\n",
    "    cur_point = start.copy()\n",
    "    cur_point = cur_point.astype('float64')\n",
    "\n",
    "    G = np.zeros(cur_point.shape, dtype=dtype_) \n",
    "   \n",
    "    for iter in range(n_iter):\n",
    "        loss = gradient(cur_point)\n",
    "        G = gamma * G + loss ** 2\n",
    "\n",
    "        if np.all(np.abs(loss/np.sqrt(G)) <= tolerance):\n",
    "            print(f'\\033[1mEarly stopping!!\\033[0m')\n",
    "            break\n",
    "\n",
    "        cur_point -= (loss/np.sqrt(G)) * learning_rate\n",
    "\n",
    "    return cur_point, function(cur_point)"
   ]
  },
  {
   "cell_type": "markdown",
   "id": "bb8dc03f",
   "metadata": {},
   "source": [
    "<a id='gen121'></a>\n",
    "#### Himmelblau"
   ]
  },
  {
   "cell_type": "code",
   "execution_count": 210,
   "id": "bcd183b3",
   "metadata": {},
   "outputs": [
    {
     "name": "stdout",
     "output_type": "stream",
     "text": [
      "Wall time: 511 ms\n"
     ]
    }
   ],
   "source": [
    "%%time\n",
    "Him_Ada = GD_AdaGrad(Himmelblau.function, Himmelblau.gradient, np.array([100, 100]),\n",
    "                     gamma=0.8, learning_rate=0.01, n_iter=30000)"
   ]
  },
  {
   "cell_type": "code",
   "execution_count": 211,
   "id": "c54f9b7e",
   "metadata": {},
   "outputs": [
    {
     "name": "stdout",
     "output_type": "stream",
     "text": [
      "Minimum point coordinates \u001b[1m[3.00223411 2.00223281]\u001b[0m, with function value = \u001b[1m0.000369\u001b[0m\n"
     ]
    }
   ],
   "source": [
    "print(f'Minimum point coordinates \\033[1m{Him_Ada[0]}\\033[0m,', \n",
    "      f'with function value = \\033[1m{round(Him_Ada[1], 6)}\\033[0m')"
   ]
  },
  {
   "cell_type": "code",
   "execution_count": 212,
   "id": "86c4d192",
   "metadata": {},
   "outputs": [
    {
     "name": "stdout",
     "output_type": "stream",
     "text": [
      "495 ms ± 3.26 ms per loop (mean ± std. dev. of 7 runs, 1 loop each)\n"
     ]
    }
   ],
   "source": [
    "# cpu time\n",
    "time = %timeit -o GD_AdaGrad(Himmelblau.function, Himmelblau.gradient, np.array([100, 100]), gamma=0.8, learning_rate=0.01, n_iter=30000)"
   ]
  },
  {
   "cell_type": "code",
   "execution_count": 213,
   "id": "66d698ac",
   "metadata": {},
   "outputs": [],
   "source": [
    "data = ['Himmelblau', 'AdaGrad', str(time)[:25], '']\n",
    "res_df.loc[len(res_df)] = data"
   ]
  },
  {
   "cell_type": "markdown",
   "id": "b88e394b",
   "metadata": {},
   "source": [
    "<a id='gen122'></a>\n",
    "#### Rastrigin"
   ]
  },
  {
   "cell_type": "code",
   "execution_count": 214,
   "id": "fc34b81e",
   "metadata": {},
   "outputs": [
    {
     "name": "stdout",
     "output_type": "stream",
     "text": [
      "Wall time: 29.3 s\n"
     ]
    }
   ],
   "source": [
    "%%time\n",
    "Rast_Ada = GD_AdaGrad(Rastrigin.function, Rastrigin.gradient, np.array([-10, 100]), \n",
    "                      tolerance=1e-4, gamma=0.2, learning_rate=0.51, n_iter=2000000)"
   ]
  },
  {
   "cell_type": "code",
   "execution_count": 215,
   "id": "3778a8d6",
   "metadata": {},
   "outputs": [
    {
     "name": "stdout",
     "output_type": "stream",
     "text": [
      "Minimum point coordinates \u001b[1m[-5.02130232  5.0292553 ]\u001b[0m, with function value = \u001b[1m15.302918\u001b[0m\n"
     ]
    }
   ],
   "source": [
    "print(f'Minimum point coordinates \\033[1m{Rast_Ada[0]}\\033[0m,', \n",
    "      f'with function value = \\033[1m{round(Rast_Ada[1], 6)}\\033[0m')"
   ]
  },
  {
   "cell_type": "code",
   "execution_count": 216,
   "id": "e146c06f",
   "metadata": {},
   "outputs": [
    {
     "name": "stdout",
     "output_type": "stream",
     "text": [
      "29.4 s ± 125 ms per loop (mean ± std. dev. of 7 runs, 1 loop each)\n"
     ]
    }
   ],
   "source": [
    "# cpu time\n",
    "time = %timeit -o GD_AdaGrad(Rastrigin.function, Rastrigin.gradient, np.array([-10, 100]), tolerance=1e-4, gamma=0.2, learning_rate=0.51, n_iter=2000000)"
   ]
  },
  {
   "cell_type": "code",
   "execution_count": 217,
   "id": "ba4c6251",
   "metadata": {},
   "outputs": [],
   "source": [
    "data = ['Rastrigin', 'AdaGrad', str(time)[:25], '']\n",
    "res_df.loc[len(res_df)] = data"
   ]
  },
  {
   "cell_type": "markdown",
   "id": "5bbd3fb8",
   "metadata": {},
   "source": [
    "<a id='gen123'></a>\n",
    "#### Rosenbrock"
   ]
  },
  {
   "cell_type": "code",
   "execution_count": 218,
   "id": "a3be3c03",
   "metadata": {},
   "outputs": [
    {
     "name": "stdout",
     "output_type": "stream",
     "text": [
      "Wall time: 459 ms\n"
     ]
    }
   ],
   "source": [
    "%%time\n",
    "Ros_Ada = GD_AdaGrad(Rosenbrock.function, Rosenbrock.gradient, np.array([-10, -10]),\n",
    "                     gamma=0.9, tolerance = 1e-3, learning_rate=0.01, n_iter=30000)"
   ]
  },
  {
   "cell_type": "code",
   "execution_count": 219,
   "id": "498afc34",
   "metadata": {},
   "outputs": [
    {
     "name": "stdout",
     "output_type": "stream",
     "text": [
      "Minimum point coordinates \u001b[1m[1.00008264 0.9954266 ]\u001b[0m, with function value = \u001b[1m0.002246\u001b[0m\n"
     ]
    }
   ],
   "source": [
    "print(f'Minimum point coordinates \\033[1m{Ros_Ada[0]}\\033[0m,', \n",
    "      f'with function value = \\033[1m{round(Ros_Ada[1], 6)}\\033[0m')"
   ]
  },
  {
   "cell_type": "code",
   "execution_count": 220,
   "id": "991736da",
   "metadata": {},
   "outputs": [
    {
     "name": "stdout",
     "output_type": "stream",
     "text": [
      "451 ms ± 1.78 ms per loop (mean ± std. dev. of 7 runs, 1 loop each)\n"
     ]
    }
   ],
   "source": [
    "# cpu time\n",
    "time = %timeit -o GD_AdaGrad(Rosenbrock.function, Rosenbrock.gradient, np.array([-10, -10]), gamma=0.9, tolerance = 1e-3, learning_rate=0.01, n_iter=30000)"
   ]
  },
  {
   "cell_type": "code",
   "execution_count": 221,
   "id": "62b7e81a",
   "metadata": {},
   "outputs": [],
   "source": [
    "data = ['Rosenbrock', 'AdaGrad', str(time)[:25], '']\n",
    "res_df.loc[len(res_df)] = data"
   ]
  },
  {
   "cell_type": "code",
   "execution_count": 222,
   "id": "e0b2c991",
   "metadata": {},
   "outputs": [],
   "source": [
    "res_df.set_index('Problem', drop=True, inplace=True)"
   ]
  },
  {
   "cell_type": "code",
   "execution_count": 223,
   "id": "3212183f",
   "metadata": {},
   "outputs": [
    {
     "data": {
      "text/html": [
       "<div>\n",
       "<style scoped>\n",
       "    .dataframe tbody tr th:only-of-type {\n",
       "        vertical-align: middle;\n",
       "    }\n",
       "\n",
       "    .dataframe tbody tr th {\n",
       "        vertical-align: top;\n",
       "    }\n",
       "\n",
       "    .dataframe thead th {\n",
       "        text-align: right;\n",
       "    }\n",
       "</style>\n",
       "<table border=\"1\" class=\"dataframe\">\n",
       "  <thead>\n",
       "    <tr style=\"text-align: right;\">\n",
       "      <th></th>\n",
       "      <th>Method</th>\n",
       "      <th>Time w/o Numba</th>\n",
       "      <th>Numba Time</th>\n",
       "    </tr>\n",
       "    <tr>\n",
       "      <th>Problem</th>\n",
       "      <th></th>\n",
       "      <th></th>\n",
       "      <th></th>\n",
       "    </tr>\n",
       "  </thead>\n",
       "  <tbody>\n",
       "    <tr>\n",
       "      <th>Himmelblau</th>\n",
       "      <td>Classical GD</td>\n",
       "      <td>39.5 ms ± 1.01 ms per loo</td>\n",
       "      <td></td>\n",
       "    </tr>\n",
       "    <tr>\n",
       "      <th>Rastrigin</th>\n",
       "      <td>Classical GD</td>\n",
       "      <td>40.2 ms ± 977 µs per loop</td>\n",
       "      <td></td>\n",
       "    </tr>\n",
       "    <tr>\n",
       "      <th>Rosenbrock</th>\n",
       "      <td>Classical GD</td>\n",
       "      <td>794 ms ± 9.33 ms per loop</td>\n",
       "      <td></td>\n",
       "    </tr>\n",
       "    <tr>\n",
       "      <th>Himmelblau</th>\n",
       "      <td>AdaGrad</td>\n",
       "      <td>495 ms ± 3.26 ms per loop</td>\n",
       "      <td></td>\n",
       "    </tr>\n",
       "    <tr>\n",
       "      <th>Rastrigin</th>\n",
       "      <td>AdaGrad</td>\n",
       "      <td>29.4 s ± 125 ms per loop</td>\n",
       "      <td></td>\n",
       "    </tr>\n",
       "    <tr>\n",
       "      <th>Rosenbrock</th>\n",
       "      <td>AdaGrad</td>\n",
       "      <td>451 ms ± 1.78 ms per loop</td>\n",
       "      <td></td>\n",
       "    </tr>\n",
       "  </tbody>\n",
       "</table>\n",
       "</div>"
      ],
      "text/plain": [
       "                  Method             Time w/o Numba Numba Time\n",
       "Problem                                                       \n",
       "Himmelblau  Classical GD  39.5 ms ± 1.01 ms per loo           \n",
       "Rastrigin   Classical GD  40.2 ms ± 977 µs per loop           \n",
       "Rosenbrock  Classical GD  794 ms ± 9.33 ms per loop           \n",
       "Himmelblau       AdaGrad  495 ms ± 3.26 ms per loop           \n",
       "Rastrigin        AdaGrad  29.4 s ± 125 ms per loop            \n",
       "Rosenbrock       AdaGrad  451 ms ± 1.78 ms per loop           "
      ]
     },
     "execution_count": 223,
     "metadata": {},
     "output_type": "execute_result"
    }
   ],
   "source": [
    "res_df"
   ]
  },
  {
   "cell_type": "markdown",
   "id": "ac020cd5",
   "metadata": {},
   "source": [
    "<a id='gen2'></a>"
   ]
  },
  {
   "cell_type": "markdown",
   "id": "fb8a0013",
   "metadata": {},
   "source": [
    "## With Numba"
   ]
  },
  {
   "cell_type": "code",
   "execution_count": 224,
   "id": "770656e4",
   "metadata": {},
   "outputs": [],
   "source": [
    "@njit(fastmath=True)\n",
    "def Himmelblau(x: np.ndarray) -> np.float64:\n",
    "    return (x[0]**2 + x[1] - 11)**2 + (x[0] + x[1]**2 - 7)**2\n",
    "@njit(fastmath=True)\n",
    "def Him_grad(x: np.ndarray) -> np.array:\n",
    "    return np.array([4 * x[0] * (x[0]**2 + x[1] - 11) \\\n",
    "                     + 2 * (x[0] + x[1]**2 - 7),\n",
    "                     2 * (x[0]**2 + x[1] - 11) \\\n",
    "                         + 4 * x[1] * (x[0] + x[1]**2 - 7)])\n",
    "@njit(fastmath=True)\n",
    "def Rosenbrock(x: np.ndarray, b: int = 100) -> np.float64:\n",
    "    return b * (x[1] - x[0]**2)**2 + (x[0] - 1)**2\n",
    "@njit(fastmath=True)\n",
    "def Rosen_grad(x: np.ndarray, b: int = 100) -> np.array:\n",
    "    return np.array([2 * (x[0] - 1) \\\n",
    "                     - 4 * b * x[0] * (x[1] - x[0]**2),\n",
    "                         2 * b * (x[1] - x[0]**2)])\n",
    "@njit(fastmath=True)\n",
    "def Rastrigin(x: np.ndarray, A: int = 10) -> np.float64:\n",
    "    return list(x**2 - A * np.cos(2 * np.pi * x))[0] # + A\n",
    "@njit(fastmath=True)\n",
    "def Rast_grad(x: np.float32, A: int = 10) -> np.float64:\n",
    "        return 2 * x + A * 2 * np.pi * np.sin(2 * np.pi * x)"
   ]
  },
  {
   "cell_type": "markdown",
   "id": "48d2b0ba",
   "metadata": {},
   "source": [
    "<a id='gen21'></a>"
   ]
  },
  {
   "cell_type": "code",
   "execution_count": 225,
   "id": "34c43ca6",
   "metadata": {},
   "outputs": [],
   "source": [
    "@njit\n",
    "def classic_GD (\n",
    "                function: Mapping, gradient_of_function: Mapping,\n",
    "                start: np.ndarray, learning_rate: float = 0.01, \n",
    "                n_iter: int = 100\n",
    "                ) -> Tuple [np.ndarray, np.float32]:\n",
    "    \n",
    "    \"\"\" \n",
    "    Args:\n",
    "        function (Mapping): минимизруемая функция\n",
    "        gradient_of_function (Mapping): градиент минимизируемой функции\n",
    "        start (np.ndarray): рандомная стартовая точка\n",
    "        learning_rate (float): шаг минимизации\n",
    "        n_iter (int): количество итераций градиентного спуска\n",
    "    Return:\n",
    "        tuple with found minimum coordinates, found minimum function value, \n",
    "        and plotting data list with multiple np.ndarray aka dots for plotting\n",
    "    \n",
    "   \"\"\"   \n",
    "    current_point = start.copy()\n",
    "    current_point = current_point.astype('float64')\n",
    "    \n",
    "    for iter in range(n_iter):   \n",
    "        current_point = current_point - learning_rate * gradient_of_function(current_point)\n",
    "\n",
    "    return current_point, function(current_point)"
   ]
  },
  {
   "cell_type": "markdown",
   "id": "fafc598e",
   "metadata": {},
   "source": [
    "<a id='gen211'></a>\n",
    "#### Himmelblau"
   ]
  },
  {
   "cell_type": "code",
   "execution_count": 226,
   "id": "5809b1a2",
   "metadata": {
    "scrolled": false
   },
   "outputs": [
    {
     "name": "stdout",
     "output_type": "stream",
     "text": [
      "Wall time: 470 ms\n"
     ]
    }
   ],
   "source": [
    "%%time\n",
    "GD_Him_GPU = classic_GD(Himmelblau, Him_grad, np.array([-100, -100]), learning_rate=0.00001, n_iter=9500)"
   ]
  },
  {
   "cell_type": "code",
   "execution_count": 227,
   "id": "2e2bce50",
   "metadata": {},
   "outputs": [
    {
     "name": "stdout",
     "output_type": "stream",
     "text": [
      "Minimum point coordinates \u001b[1m[-3.78059997 -3.28525589]\u001b[0m,\n",
      "with function value = \u001b[1m0.0002\u001b[0m\n"
     ]
    }
   ],
   "source": [
    "print(f'Minimum point coordinates \\033[1m{GD_Him_GPU[0]}\\033[0m,')\n",
    "print(f'with function value = \\033[1m{round(GD_Him_GPU[1], 4)}\\033[0m')"
   ]
  },
  {
   "cell_type": "code",
   "execution_count": 228,
   "id": "343cbf6b",
   "metadata": {},
   "outputs": [
    {
     "name": "stdout",
     "output_type": "stream",
     "text": [
      "1.63 ms ± 4.28 µs per loop (mean ± std. dev. of 7 runs, 1000 loops each)\n"
     ]
    }
   ],
   "source": [
    "# cpu time\n",
    "time = %timeit -o classic_GD(Himmelblau, Him_grad, np.array([-100, -100]), learning_rate=0.00001, n_iter=9500)"
   ]
  },
  {
   "cell_type": "code",
   "execution_count": 229,
   "id": "1faa0a18",
   "metadata": {},
   "outputs": [],
   "source": [
    "res_df.at['Himmelblau', 'Numba Time'] = str(time)[:25] # df.iat[1, 1]=22"
   ]
  },
  {
   "cell_type": "code",
   "execution_count": 230,
   "id": "d9284ad7",
   "metadata": {},
   "outputs": [
    {
     "data": {
      "text/html": [
       "<div>\n",
       "<style scoped>\n",
       "    .dataframe tbody tr th:only-of-type {\n",
       "        vertical-align: middle;\n",
       "    }\n",
       "\n",
       "    .dataframe tbody tr th {\n",
       "        vertical-align: top;\n",
       "    }\n",
       "\n",
       "    .dataframe thead th {\n",
       "        text-align: right;\n",
       "    }\n",
       "</style>\n",
       "<table border=\"1\" class=\"dataframe\">\n",
       "  <thead>\n",
       "    <tr style=\"text-align: right;\">\n",
       "      <th></th>\n",
       "      <th>Method</th>\n",
       "      <th>Time w/o Numba</th>\n",
       "      <th>Numba Time</th>\n",
       "    </tr>\n",
       "    <tr>\n",
       "      <th>Problem</th>\n",
       "      <th></th>\n",
       "      <th></th>\n",
       "      <th></th>\n",
       "    </tr>\n",
       "  </thead>\n",
       "  <tbody>\n",
       "    <tr>\n",
       "      <th>Himmelblau</th>\n",
       "      <td>Classical GD</td>\n",
       "      <td>39.5 ms ± 1.01 ms per loo</td>\n",
       "      <td>1.63 ms ± 4.28 µs per loo</td>\n",
       "    </tr>\n",
       "    <tr>\n",
       "      <th>Rastrigin</th>\n",
       "      <td>Classical GD</td>\n",
       "      <td>40.2 ms ± 977 µs per loop</td>\n",
       "      <td></td>\n",
       "    </tr>\n",
       "    <tr>\n",
       "      <th>Rosenbrock</th>\n",
       "      <td>Classical GD</td>\n",
       "      <td>794 ms ± 9.33 ms per loop</td>\n",
       "      <td></td>\n",
       "    </tr>\n",
       "    <tr>\n",
       "      <th>Himmelblau</th>\n",
       "      <td>AdaGrad</td>\n",
       "      <td>495 ms ± 3.26 ms per loop</td>\n",
       "      <td>1.63 ms ± 4.28 µs per loo</td>\n",
       "    </tr>\n",
       "    <tr>\n",
       "      <th>Rastrigin</th>\n",
       "      <td>AdaGrad</td>\n",
       "      <td>29.4 s ± 125 ms per loop</td>\n",
       "      <td></td>\n",
       "    </tr>\n",
       "    <tr>\n",
       "      <th>Rosenbrock</th>\n",
       "      <td>AdaGrad</td>\n",
       "      <td>451 ms ± 1.78 ms per loop</td>\n",
       "      <td></td>\n",
       "    </tr>\n",
       "  </tbody>\n",
       "</table>\n",
       "</div>"
      ],
      "text/plain": [
       "                  Method             Time w/o Numba                 Numba Time\n",
       "Problem                                                                       \n",
       "Himmelblau  Classical GD  39.5 ms ± 1.01 ms per loo  1.63 ms ± 4.28 µs per loo\n",
       "Rastrigin   Classical GD  40.2 ms ± 977 µs per loop                           \n",
       "Rosenbrock  Classical GD  794 ms ± 9.33 ms per loop                           \n",
       "Himmelblau       AdaGrad  495 ms ± 3.26 ms per loop  1.63 ms ± 4.28 µs per loo\n",
       "Rastrigin        AdaGrad  29.4 s ± 125 ms per loop                            \n",
       "Rosenbrock       AdaGrad  451 ms ± 1.78 ms per loop                           "
      ]
     },
     "execution_count": 230,
     "metadata": {},
     "output_type": "execute_result"
    }
   ],
   "source": [
    "res_df"
   ]
  },
  {
   "cell_type": "markdown",
   "id": "f39e7c57",
   "metadata": {},
   "source": [
    "<a id='gen212'></a>\n",
    "#### Rastrigin"
   ]
  },
  {
   "cell_type": "code",
   "execution_count": 231,
   "id": "9eb956fe",
   "metadata": {
    "scrolled": true
   },
   "outputs": [
    {
     "name": "stdout",
     "output_type": "stream",
     "text": [
      "Wall time: 597 ms\n"
     ]
    }
   ],
   "source": [
    "%%time\n",
    "GD_Rast_GPU = classic_GD(Rastrigin, Rast_grad, np.array([10, 10]), learning_rate=0.1, n_iter=200)"
   ]
  },
  {
   "cell_type": "code",
   "execution_count": 232,
   "id": "4eb35855",
   "metadata": {},
   "outputs": [
    {
     "name": "stdout",
     "output_type": "stream",
     "text": [
      "Minimum point coordinates \u001b[1m[-1.78314385 -1.78314385]\u001b[0m,\n",
      "with function value = \u001b[1m1.1121\u001b[0m\n"
     ]
    }
   ],
   "source": [
    "print(f'Minimum point coordinates \\033[1m{GD_Rast_GPU[0]}\\033[0m,')\n",
    "print(f'with function value = \\033[1m{round(GD_Rast_GPU[1], 4)}\\033[0m')"
   ]
  },
  {
   "cell_type": "code",
   "execution_count": 233,
   "id": "bbdf1e3f",
   "metadata": {},
   "outputs": [
    {
     "name": "stdout",
     "output_type": "stream",
     "text": [
      "67.2 µs ± 1.12 µs per loop (mean ± std. dev. of 7 runs, 10000 loops each)\n"
     ]
    }
   ],
   "source": [
    "# cpu time\n",
    "time = %timeit -o classic_GD(Rastrigin, Rast_grad, np.array([10, 10]), learning_rate=0.1, n_iter=200)"
   ]
  },
  {
   "cell_type": "code",
   "execution_count": 234,
   "id": "533fd353",
   "metadata": {},
   "outputs": [],
   "source": [
    "res_df.at['Rastrigin', 'Numba Time'] = str(time)[:25]"
   ]
  },
  {
   "cell_type": "markdown",
   "id": "aa4c1674",
   "metadata": {},
   "source": [
    "<a id='gen213'></a>\n",
    "#### Rosenbrock"
   ]
  },
  {
   "cell_type": "code",
   "execution_count": 235,
   "id": "96bc0ebb",
   "metadata": {},
   "outputs": [
    {
     "name": "stdout",
     "output_type": "stream",
     "text": [
      "Wall time: 427 ms\n"
     ]
    }
   ],
   "source": [
    "%%time\n",
    "GD_Ros_GPU = classic_GD(Rosenbrock, Rosen_grad, np.array([10, 10]), learning_rate=0.00001, n_iter=200000)"
   ]
  },
  {
   "cell_type": "code",
   "execution_count": 236,
   "id": "96e9f1c4",
   "metadata": {},
   "outputs": [
    {
     "name": "stdout",
     "output_type": "stream",
     "text": [
      "Minimum point coordinates \u001b[1m[3.02969959 9.18234049]\u001b[0m,\n",
      "with function value = \u001b[1m4.1207\u001b[0m\n"
     ]
    }
   ],
   "source": [
    "print(f'Minimum point coordinates \\033[1m{GD_Ros_GPU[0]}\\033[0m,')\n",
    "print(f'with function value = \\033[1m{round(GD_Ros_GPU[1], 4)}\\033[0m')"
   ]
  },
  {
   "cell_type": "code",
   "execution_count": 237,
   "id": "f687a30f",
   "metadata": {},
   "outputs": [
    {
     "name": "stdout",
     "output_type": "stream",
     "text": [
      "34.2 ms ± 629 µs per loop (mean ± std. dev. of 7 runs, 10 loops each)\n"
     ]
    }
   ],
   "source": [
    "# cpu time\n",
    "time = %timeit -o classic_GD(Rosenbrock, Rosen_grad, np.array([10, 10]), learning_rate=0.00001, n_iter=200000)"
   ]
  },
  {
   "cell_type": "code",
   "execution_count": 238,
   "id": "099140e1",
   "metadata": {},
   "outputs": [],
   "source": [
    "res_df.at['Rosenbrock', 'Numba Time'] = str(time)[:25]"
   ]
  },
  {
   "cell_type": "markdown",
   "id": "983ff15c",
   "metadata": {},
   "source": [
    "<a id='gen22'></a>"
   ]
  },
  {
   "cell_type": "code",
   "execution_count": 239,
   "id": "af19f39f",
   "metadata": {},
   "outputs": [],
   "source": [
    "@njit\n",
    "def GD_AdaGrad (\n",
    "                function: Mapping, gradient: Mapping,\n",
    "                start: np.ndarray, learning_rate: float = 0.01, \n",
    "                n_iter: int = 100, tolerance: float = 1e-5,\n",
    "                gamma: np.float64 = 0.1, dtype=\"float64\", \n",
    "                rand_state: int = 12\n",
    "                ) -> Tuple [np.ndarray, np.float64]:\n",
    "    \n",
    "    \"\"\" \n",
    "    Args:\n",
    "        function (Mapping):  минимизруемая функция\n",
    "        gradient (Mapping): градиент заданной выше функции\n",
    "        start (np.ndarray): рандомная стартовая точка/точки\n",
    "        gamma (float): скорость затухания скользащих средних ф-ии потерь\n",
    "        n_iter (int): количество итераций градиентного спуска\n",
    "        learning_rate (float): шаг минимизации\n",
    "        tolerance (float): минимальное допустимое изменение \n",
    "                           значения минимизируемой величины\n",
    "        dtype (str): тип данных\n",
    "        rand_state (int): зерно рандомайзера\n",
    "    Return: \n",
    "        tuple with found minimum point coordinates, \n",
    "        funcation value at this point\n",
    "        \n",
    "   \"\"\"  \n",
    "    cur_point = start.copy()\n",
    "    cur_point = cur_point.astype('float64')\n",
    "    \n",
    "    G = np.zeros(cur_point.shape, dtype=np.float64)\n",
    "    \n",
    "    for iter in range(n_iter):\n",
    "        loss = gradient(cur_point)\n",
    "        G = gamma * G + loss ** 2\n",
    "\n",
    "        if np.all(np.abs(loss/np.sqrt(G)) <= tolerance):\n",
    "            print(f'\\033[1mEarly stopping!!\\033[0m')\n",
    "            break\n",
    "\n",
    "        cur_point -= (loss/np.sqrt(G)) * learning_rate\n",
    "\n",
    "    return cur_point, function(cur_point)"
   ]
  },
  {
   "cell_type": "markdown",
   "id": "8784a2b1",
   "metadata": {},
   "source": [
    "<a id='gen221'></a>\n",
    "#### Himmelblau"
   ]
  },
  {
   "cell_type": "code",
   "execution_count": 240,
   "id": "ed2a53ed",
   "metadata": {},
   "outputs": [
    {
     "name": "stdout",
     "output_type": "stream",
     "text": [
      "Wall time: 461 ms\n"
     ]
    }
   ],
   "source": [
    "%%time\n",
    "Him_Ada = GD_AdaGrad(Himmelblau, Him_grad, np.array([100, 100]),\n",
    "                     gamma=0.8, learning_rate=0.01, n_iter=30000)"
   ]
  },
  {
   "cell_type": "code",
   "execution_count": 241,
   "id": "f8d86766",
   "metadata": {},
   "outputs": [
    {
     "name": "stdout",
     "output_type": "stream",
     "text": [
      "Minimum point coordinates \u001b[1m[3.00223411 2.00223281]\u001b[0m, with function value = \u001b[1m0.000369\u001b[0m\n"
     ]
    }
   ],
   "source": [
    "print(f'Minimum point coordinates \\033[1m{Him_Ada[0]}\\033[0m,', \n",
    "      f'with function value = \\033[1m{round(Him_Ada[1], 6)}\\033[0m')"
   ]
  },
  {
   "cell_type": "code",
   "execution_count": 242,
   "id": "71b51c4f",
   "metadata": {},
   "outputs": [
    {
     "name": "stdout",
     "output_type": "stream",
     "text": [
      "10.9 ms ± 61.4 µs per loop (mean ± std. dev. of 7 runs, 100 loops each)\n"
     ]
    }
   ],
   "source": [
    "# cpu time\n",
    "time = %timeit -o GD_AdaGrad(Himmelblau, Him_grad, np.array([100, 100]), gamma=0.8, learning_rate=0.01, n_iter=30000)"
   ]
  },
  {
   "cell_type": "code",
   "execution_count": 243,
   "id": "0fe36362",
   "metadata": {},
   "outputs": [],
   "source": [
    "res_df.iat[3, 2] = str(time)[:25]"
   ]
  },
  {
   "cell_type": "markdown",
   "id": "6acefff4",
   "metadata": {},
   "source": [
    "<a id='gen222'></a>\n",
    "#### Rastrigin"
   ]
  },
  {
   "cell_type": "code",
   "execution_count": 244,
   "id": "6d5bb821",
   "metadata": {},
   "outputs": [
    {
     "name": "stdout",
     "output_type": "stream",
     "text": [
      "Wall time: 1.37 s\n"
     ]
    }
   ],
   "source": [
    "%%time\n",
    "Rast_Ada = GD_AdaGrad(Rastrigin, Rast_grad, np.array([-10, 100]), \n",
    "                      tolerance=1e-4, gamma=0.2, learning_rate=0.51, n_iter=2000000)"
   ]
  },
  {
   "cell_type": "code",
   "execution_count": 245,
   "id": "c9e6a6b8",
   "metadata": {},
   "outputs": [
    {
     "name": "stdout",
     "output_type": "stream",
     "text": [
      "Minimum point coordinates \u001b[1m[-4.7446343  19.65106439]\u001b[0m, with function value = \u001b[1m22.848628\u001b[0m\n"
     ]
    }
   ],
   "source": [
    "print(f'Minimum point coordinates \\033[1m{Rast_Ada[0]}\\033[0m,', \n",
    "      f'with function value = \\033[1m{round(Rast_Ada[1], 6)}\\033[0m')"
   ]
  },
  {
   "cell_type": "code",
   "execution_count": 246,
   "id": "6687833f",
   "metadata": {},
   "outputs": [
    {
     "name": "stdout",
     "output_type": "stream",
     "text": [
      "795 ms ± 2.95 ms per loop (mean ± std. dev. of 7 runs, 1 loop each)\n"
     ]
    }
   ],
   "source": [
    "# cpu time\n",
    "time = %timeit -o GD_AdaGrad(Rastrigin, Rast_grad, np.array([-10, 100]), tolerance=1e-4, gamma=0.2, learning_rate=0.51, n_iter=2000000)"
   ]
  },
  {
   "cell_type": "code",
   "execution_count": 247,
   "id": "8c91bb2e",
   "metadata": {},
   "outputs": [],
   "source": [
    "res_df.iat[4, 2] = str(time)[:25]"
   ]
  },
  {
   "cell_type": "markdown",
   "id": "8e91773a",
   "metadata": {},
   "source": [
    "<a id='gen223'></a>\n",
    "#### Rosenbrock"
   ]
  },
  {
   "cell_type": "code",
   "execution_count": 248,
   "id": "bda2ddaa",
   "metadata": {},
   "outputs": [
    {
     "name": "stdout",
     "output_type": "stream",
     "text": [
      "Wall time: 405 ms\n"
     ]
    }
   ],
   "source": [
    "%%time\n",
    "Ros_Ada = GD_AdaGrad(Rosenbrock, Rosen_grad, np.array([-10, -10]),\n",
    "                     gamma=0.9, tolerance = 1e-3, learning_rate=0.01, n_iter=30000)"
   ]
  },
  {
   "cell_type": "code",
   "execution_count": 249,
   "id": "1aac8f60",
   "metadata": {},
   "outputs": [
    {
     "name": "stdout",
     "output_type": "stream",
     "text": [
      "Minimum point coordinates \u001b[1m[1.00008264 0.9954266 ]\u001b[0m, with function value = \u001b[1m0.002246\u001b[0m\n"
     ]
    }
   ],
   "source": [
    "print(f'Minimum point coordinates \\033[1m{Ros_Ada[0]}\\033[0m,', \n",
    "      f'with function value = \\033[1m{round(Ros_Ada[1], 6)}\\033[0m')"
   ]
  },
  {
   "cell_type": "code",
   "execution_count": 250,
   "id": "fb8ea822",
   "metadata": {},
   "outputs": [
    {
     "name": "stdout",
     "output_type": "stream",
     "text": [
      "11 ms ± 30.5 µs per loop (mean ± std. dev. of 7 runs, 100 loops each)\n"
     ]
    }
   ],
   "source": [
    "# cpu time\n",
    "time = %timeit -o GD_AdaGrad(Rosenbrock, Rosen_grad, np.array([-10, -10]), gamma=0.9, tolerance = 1e-3, learning_rate=0.01, n_iter=30000)"
   ]
  },
  {
   "cell_type": "code",
   "execution_count": 251,
   "id": "adb905cf",
   "metadata": {},
   "outputs": [],
   "source": [
    "res_df.iat[5, 2] = str(time)[:25]"
   ]
  },
  {
   "cell_type": "markdown",
   "id": "047cb863",
   "metadata": {},
   "source": [
    "<a id='gen3'></a>\n",
    "## Results"
   ]
  },
  {
   "cell_type": "code",
   "execution_count": 252,
   "id": "09d0b3e7",
   "metadata": {},
   "outputs": [
    {
     "data": {
      "text/html": [
       "<div>\n",
       "<style scoped>\n",
       "    .dataframe tbody tr th:only-of-type {\n",
       "        vertical-align: middle;\n",
       "    }\n",
       "\n",
       "    .dataframe tbody tr th {\n",
       "        vertical-align: top;\n",
       "    }\n",
       "\n",
       "    .dataframe thead th {\n",
       "        text-align: right;\n",
       "    }\n",
       "</style>\n",
       "<table border=\"1\" class=\"dataframe\">\n",
       "  <thead>\n",
       "    <tr style=\"text-align: right;\">\n",
       "      <th></th>\n",
       "      <th>Method</th>\n",
       "      <th>Time w/o Numba</th>\n",
       "      <th>Numba Time</th>\n",
       "    </tr>\n",
       "    <tr>\n",
       "      <th>Problem</th>\n",
       "      <th></th>\n",
       "      <th></th>\n",
       "      <th></th>\n",
       "    </tr>\n",
       "  </thead>\n",
       "  <tbody>\n",
       "    <tr>\n",
       "      <th>Himmelblau</th>\n",
       "      <td>Classical GD</td>\n",
       "      <td>39.5 ms ± 1.01 ms per loo</td>\n",
       "      <td>1.63 ms ± 4.28 µs per loo</td>\n",
       "    </tr>\n",
       "    <tr>\n",
       "      <th>Rastrigin</th>\n",
       "      <td>Classical GD</td>\n",
       "      <td>40.2 ms ± 977 µs per loop</td>\n",
       "      <td>67.2 µs ± 1.12 µs per loo</td>\n",
       "    </tr>\n",
       "    <tr>\n",
       "      <th>Rosenbrock</th>\n",
       "      <td>Classical GD</td>\n",
       "      <td>794 ms ± 9.33 ms per loop</td>\n",
       "      <td>34.2 ms ± 629 µs per loop</td>\n",
       "    </tr>\n",
       "    <tr>\n",
       "      <th>Himmelblau</th>\n",
       "      <td>AdaGrad</td>\n",
       "      <td>495 ms ± 3.26 ms per loop</td>\n",
       "      <td>10.9 ms ± 61.4 µs per loo</td>\n",
       "    </tr>\n",
       "    <tr>\n",
       "      <th>Rastrigin</th>\n",
       "      <td>AdaGrad</td>\n",
       "      <td>29.4 s ± 125 ms per loop</td>\n",
       "      <td>795 ms ± 2.95 ms per loop</td>\n",
       "    </tr>\n",
       "    <tr>\n",
       "      <th>Rosenbrock</th>\n",
       "      <td>AdaGrad</td>\n",
       "      <td>451 ms ± 1.78 ms per loop</td>\n",
       "      <td>11 ms ± 30.5 µs per loop (</td>\n",
       "    </tr>\n",
       "  </tbody>\n",
       "</table>\n",
       "</div>"
      ],
      "text/plain": [
       "                  Method             Time w/o Numba  \\\n",
       "Problem                                               \n",
       "Himmelblau  Classical GD  39.5 ms ± 1.01 ms per loo   \n",
       "Rastrigin   Classical GD  40.2 ms ± 977 µs per loop   \n",
       "Rosenbrock  Classical GD  794 ms ± 9.33 ms per loop   \n",
       "Himmelblau       AdaGrad  495 ms ± 3.26 ms per loop   \n",
       "Rastrigin        AdaGrad  29.4 s ± 125 ms per loop    \n",
       "Rosenbrock       AdaGrad  451 ms ± 1.78 ms per loop   \n",
       "\n",
       "                            Numba Time  \n",
       "Problem                                 \n",
       "Himmelblau   1.63 ms ± 4.28 µs per loo  \n",
       "Rastrigin    67.2 µs ± 1.12 µs per loo  \n",
       "Rosenbrock   34.2 ms ± 629 µs per loop  \n",
       "Himmelblau   10.9 ms ± 61.4 µs per loo  \n",
       "Rastrigin    795 ms ± 2.95 ms per loop  \n",
       "Rosenbrock  11 ms ± 30.5 µs per loop (  "
      ]
     },
     "execution_count": 252,
     "metadata": {},
     "output_type": "execute_result"
    }
   ],
   "source": [
    "res_df"
   ]
  },
  {
   "cell_type": "markdown",
   "id": "847d07bb",
   "metadata": {},
   "source": [
    "Видим, что нумба сильно ускоряет результаты. Посчитаем точно во сколько раз."
   ]
  },
  {
   "cell_type": "code",
   "execution_count": 274,
   "id": "1648a38b",
   "metadata": {},
   "outputs": [
    {
     "name": "stdout",
     "output_type": "stream",
     "text": [
      "[[39500.0, 'ms'], [40200.0, 'ms'], [794000.0, 'ms'], [495000.0, 'ms'], [29400000.0, 's'], [451000.0, 'ms']]\n",
      "[[1630.0, 'ms'], [67.2, 'µs'], [34200.0, 'ms'], [10900.0, 'ms'], [795000.0, 'ms'], [11000.0, 'ms']]\n"
     ]
    }
   ],
   "source": [
    "wo_N = []\n",
    "w_N = []\n",
    "for i in res_df['Time w/o Numba']:\n",
    "    cont = i.split()[:2]\n",
    "    wo_N.append(cont)\n",
    "for t in wo_N:\n",
    "    t[0] = float(t[0])\n",
    "    if t[1] == 's':  # переводим все в микросекунды\n",
    "        t[0] = t[0] * 1e+6\n",
    "    elif t[1] == 'ms':\n",
    "        t[0] = t[0] * 1e+3\n",
    "        \n",
    "for i in res_df['Numba Time']:\n",
    "    cont = i.split()[:2]\n",
    "    w_N.append(cont)\n",
    "for t in w_N:\n",
    "    t[0] = float(t[0])\n",
    "    if t[1] == 's':  # переводим все в микросекунды\n",
    "        t[0] = t[0] * 1e+6\n",
    "    elif t[1] == 'ms':\n",
    "        t[0] = t[0] * 1e+3\n",
    "\n",
    "# рассчитаем во сколько раз нумбы быстрее для каждого случая\n",
    "i = 0  \n",
    "boost = []\n",
    "while i < len(w_N):\n",
    "    boost.append(round(wo_N[i][0]/w_N[i][0], 2))\n",
    "    i += 1"
   ]
  },
  {
   "cell_type": "code",
   "execution_count": 280,
   "id": "ece328e2",
   "metadata": {},
   "outputs": [],
   "source": [
    "res_df['Time Boost (times)'] = boost"
   ]
  },
  {
   "cell_type": "code",
   "execution_count": 281,
   "id": "40565fd0",
   "metadata": {},
   "outputs": [
    {
     "data": {
      "text/html": [
       "<div>\n",
       "<style scoped>\n",
       "    .dataframe tbody tr th:only-of-type {\n",
       "        vertical-align: middle;\n",
       "    }\n",
       "\n",
       "    .dataframe tbody tr th {\n",
       "        vertical-align: top;\n",
       "    }\n",
       "\n",
       "    .dataframe thead th {\n",
       "        text-align: right;\n",
       "    }\n",
       "</style>\n",
       "<table border=\"1\" class=\"dataframe\">\n",
       "  <thead>\n",
       "    <tr style=\"text-align: right;\">\n",
       "      <th></th>\n",
       "      <th>Method</th>\n",
       "      <th>Time w/o Numba</th>\n",
       "      <th>Numba Time</th>\n",
       "      <th>Time Boost (times)</th>\n",
       "    </tr>\n",
       "    <tr>\n",
       "      <th>Problem</th>\n",
       "      <th></th>\n",
       "      <th></th>\n",
       "      <th></th>\n",
       "      <th></th>\n",
       "    </tr>\n",
       "  </thead>\n",
       "  <tbody>\n",
       "    <tr>\n",
       "      <th>Himmelblau</th>\n",
       "      <td>Classical GD</td>\n",
       "      <td>39.5 ms ± 1.01 ms per loo</td>\n",
       "      <td>1.63 ms ± 4.28 µs per loo</td>\n",
       "      <td>24.23</td>\n",
       "    </tr>\n",
       "    <tr>\n",
       "      <th>Rastrigin</th>\n",
       "      <td>Classical GD</td>\n",
       "      <td>40.2 ms ± 977 µs per loop</td>\n",
       "      <td>67.2 µs ± 1.12 µs per loo</td>\n",
       "      <td>598.21</td>\n",
       "    </tr>\n",
       "    <tr>\n",
       "      <th>Rosenbrock</th>\n",
       "      <td>Classical GD</td>\n",
       "      <td>794 ms ± 9.33 ms per loop</td>\n",
       "      <td>34.2 ms ± 629 µs per loop</td>\n",
       "      <td>23.22</td>\n",
       "    </tr>\n",
       "    <tr>\n",
       "      <th>Himmelblau</th>\n",
       "      <td>AdaGrad</td>\n",
       "      <td>495 ms ± 3.26 ms per loop</td>\n",
       "      <td>10.9 ms ± 61.4 µs per loo</td>\n",
       "      <td>45.41</td>\n",
       "    </tr>\n",
       "    <tr>\n",
       "      <th>Rastrigin</th>\n",
       "      <td>AdaGrad</td>\n",
       "      <td>29.4 s ± 125 ms per loop</td>\n",
       "      <td>795 ms ± 2.95 ms per loop</td>\n",
       "      <td>36.98</td>\n",
       "    </tr>\n",
       "    <tr>\n",
       "      <th>Rosenbrock</th>\n",
       "      <td>AdaGrad</td>\n",
       "      <td>451 ms ± 1.78 ms per loop</td>\n",
       "      <td>11 ms ± 30.5 µs per loop (</td>\n",
       "      <td>41.00</td>\n",
       "    </tr>\n",
       "  </tbody>\n",
       "</table>\n",
       "</div>"
      ],
      "text/plain": [
       "                  Method             Time w/o Numba  \\\n",
       "Problem                                               \n",
       "Himmelblau  Classical GD  39.5 ms ± 1.01 ms per loo   \n",
       "Rastrigin   Classical GD  40.2 ms ± 977 µs per loop   \n",
       "Rosenbrock  Classical GD  794 ms ± 9.33 ms per loop   \n",
       "Himmelblau       AdaGrad  495 ms ± 3.26 ms per loop   \n",
       "Rastrigin        AdaGrad  29.4 s ± 125 ms per loop    \n",
       "Rosenbrock       AdaGrad  451 ms ± 1.78 ms per loop   \n",
       "\n",
       "                            Numba Time  Time Boost (times)  \n",
       "Problem                                                     \n",
       "Himmelblau   1.63 ms ± 4.28 µs per loo               24.23  \n",
       "Rastrigin    67.2 µs ± 1.12 µs per loo              598.21  \n",
       "Rosenbrock   34.2 ms ± 629 µs per loop               23.22  \n",
       "Himmelblau   10.9 ms ± 61.4 µs per loo               45.41  \n",
       "Rastrigin    795 ms ± 2.95 ms per loop               36.98  \n",
       "Rosenbrock  11 ms ± 30.5 µs per loop (               41.00  "
      ]
     },
     "execution_count": 281,
     "metadata": {},
     "output_type": "execute_result"
    }
   ],
   "source": [
    "res_df"
   ]
  },
  {
   "cell_type": "code",
   "execution_count": null,
   "id": "ad43ce35",
   "metadata": {},
   "outputs": [],
   "source": []
  }
 ],
 "metadata": {
  "kernelspec": {
   "display_name": "Python 3 (ipykernel)",
   "language": "python",
   "name": "python3"
  },
  "language_info": {
   "codemirror_mode": {
    "name": "ipython",
    "version": 3
   },
   "file_extension": ".py",
   "mimetype": "text/x-python",
   "name": "python",
   "nbconvert_exporter": "python",
   "pygments_lexer": "ipython3",
   "version": "3.7.4"
  }
 },
 "nbformat": 4,
 "nbformat_minor": 5
}
