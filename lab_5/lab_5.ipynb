{
 "cells": [
  {
   "cell_type": "markdown",
   "id": "bce8b705",
   "metadata": {},
   "source": [
    "# LAB 5: Data Generation, Density Recenstruction\n",
    "### Parzen-Rosenblatt, LOO, EM Algorithms\n",
    "### AI and Machine Learning // Suchkova Natalia М8О-114М-22\n",
    "20.12.2022 @ MAI IT-Center"
   ]
  },
  {
   "cell_type": "markdown",
   "id": "af67e4bd",
   "metadata": {},
   "source": [
    "### Task\n",
    "+ реализовать 3 генератора данных на плоскости, прямой или в пространстве (равномерное, Гаусс.распр, ... и др)\n",
    "+ написать реализацию метода Парзена-Розенблатта\n",
    "+ восстановить плотность в виде картинки\n",
    "+ для 1 из 3 наборов данных (п.1) применить оптимизацию ширины окна методом LOO\n",
    "+ для сгенерированных данных с 2-мя и более горбами применить EM-алгоритм (Gaussian Mixture) из sckit-learn"
   ]
  },
  {
   "cell_type": "code",
   "execution_count": null,
   "id": "a30a0673",
   "metadata": {},
   "outputs": [],
   "source": []
  },
  {
   "cell_type": "code",
   "execution_count": null,
   "id": "4f4d8674",
   "metadata": {},
   "outputs": [],
   "source": []
  },
  {
   "cell_type": "code",
   "execution_count": null,
   "id": "54074d4c",
   "metadata": {},
   "outputs": [],
   "source": []
  },
  {
   "cell_type": "code",
   "execution_count": null,
   "id": "d4fe7f60",
   "metadata": {},
   "outputs": [],
   "source": []
  },
  {
   "cell_type": "code",
   "execution_count": null,
   "id": "7b793997",
   "metadata": {},
   "outputs": [],
   "source": []
  },
  {
   "cell_type": "code",
   "execution_count": null,
   "id": "7904b898",
   "metadata": {},
   "outputs": [],
   "source": []
  }
 ],
 "metadata": {
  "kernelspec": {
   "display_name": "Python 3 (ipykernel)",
   "language": "python",
   "name": "python3"
  },
  "language_info": {
   "codemirror_mode": {
    "name": "ipython",
    "version": 3
   },
   "file_extension": ".py",
   "mimetype": "text/x-python",
   "name": "python",
   "nbconvert_exporter": "python",
   "pygments_lexer": "ipython3",
   "version": "3.7.4"
  }
 },
 "nbformat": 4,
 "nbformat_minor": 5
}
