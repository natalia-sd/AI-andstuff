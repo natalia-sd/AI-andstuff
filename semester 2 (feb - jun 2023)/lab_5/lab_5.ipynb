{
 "cells": [
  {
   "cell_type": "markdown",
   "id": "198b87fa",
   "metadata": {},
   "source": [
    "# LAB 5: ONNX\n",
    "### AI and Machine Learning // Suchkova Natalia М8О - 114М - 22\n",
    "16.06.23 @ MAI IT-Center"
   ]
  },
  {
   "cell_type": "markdown",
   "id": "392d617a",
   "metadata": {},
   "source": [
    "### The Task\n",
    "1. Обучить нейросеть \n",
    "2. Pruning \n",
    "3. Конвертировать в ONNX\n",
    "4. Запустить в Unity"
   ]
  },
  {
   "cell_type": "markdown",
   "id": "cca59fd0",
   "metadata": {},
   "source": [
    "<a id='g0'></a>\n",
    "## Table of Contents\n",
    "\n",
    "\n",
    "1. [**Что такое гомография**](#g1)\n",
    "\n",
    "\n",
    "2. [**Делаем панораму**](#g2)\n",
    "\n",
    "\n",
    "3. [**Что такое триангуляция**](#g3)\n",
    "\n",
    "\n",
    "4. [**Используем триангуляцию**](#g4)\n",
    "    - [**RANSAC**](#g41)\n",
    "    - [**WARP**](#g42)\n",
    "    - [**Смотрим исходные фото**](#g43)\n",
    "    - [**применяем и смотрим результаты**](#g44)\n",
    "    "
   ]
  },
  {
   "cell_type": "markdown",
   "id": "49f42fc7",
   "metadata": {},
   "source": [
    "ONNX (Open Neural Network Exchange) — открытая библиотека программного обеспечения для построения нейронных сетей глубокого обучения. С помощью ONNX ИИ-разработчики могут обмениваться моделями между различными инструментами и выбирать наилучшую комбинацию этих инструментов. ONNX разрабатывается и поддерживается совместно компаниями Microsoft, Facebook, Amazon и другими партнерами как проект с открытым исходным кодом"
   ]
  },
  {
   "cell_type": "code",
   "execution_count": null,
   "id": "22f9a27a",
   "metadata": {},
   "outputs": [],
   "source": []
  }
 ],
 "metadata": {
  "kernelspec": {
   "display_name": "Python 3 (ipykernel)",
   "language": "python",
   "name": "python3"
  },
  "language_info": {
   "codemirror_mode": {
    "name": "ipython",
    "version": 3
   },
   "file_extension": ".py",
   "mimetype": "text/x-python",
   "name": "python",
   "nbconvert_exporter": "python",
   "pygments_lexer": "ipython3",
   "version": "3.7.4"
  }
 },
 "nbformat": 4,
 "nbformat_minor": 5
}
