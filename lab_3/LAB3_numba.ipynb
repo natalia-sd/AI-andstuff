{
 "cells": [
  {
   "cell_type": "markdown",
   "id": "f6bc004f",
   "metadata": {},
   "source": [
    "# LAB 3: NUMBA \n",
    "### SGD Optimisation with Numba\n",
    "### AI and Machine Learning // Suchkova Natalia М8О-114М-22\n",
    "09.11.2022 @ MAI IT-Center"
   ]
  },
  {
   "cell_type": "code",
   "execution_count": 98,
   "id": "385bbd45",
   "metadata": {},
   "outputs": [],
   "source": [
    "import numpy as np\n",
    "from numba import njit\n",
    "\n",
    "from typing import Tuple, Mapping\n",
    "\n",
    "import matplotlib.pyplot as plt\n",
    "from IPython import display"
   ]
  },
  {
   "cell_type": "code",
   "execution_count": 99,
   "id": "8ec5f068",
   "metadata": {},
   "outputs": [],
   "source": [
    "class Himmelblau:\n",
    "    \n",
    "    def function(x: np.ndarray) -> np.float64:\n",
    "        return (x[0]**2 + x[1] - 11)**2 + (x[0] + x[1]**2 - 7)**2\n",
    "    \n",
    "    def gradient(x: np.ndarray) -> np.array:\n",
    "        return np.array([4 * x[0] * (x[0]**2 + x[1] - 11) \\\n",
    "                         + 2 * (x[0] + x[1]**2 - 7),\n",
    "                         2 * (x[0]**2 + x[1] - 11) \\\n",
    "                         + 4 * x[1] * (x[0] + x[1]**2 - 7)])\n",
    "\n",
    "class Rosenbrock: \n",
    "    \n",
    "    def function(x: np.ndarray, b: int = 100) -> np.float64:\n",
    "        return b * (x[1] - x[0]**2)**2 + (x[0] - 1)**2\n",
    "\n",
    "    def gradient(x: np.ndarray, b: int = 100) -> np.array:\n",
    "\n",
    "        return np.array([2 * (x[0] - 1) \\\n",
    "                         - 4 * b * x[0] * (x[1] - x[0]**2),\n",
    "                         2 * b * (x[1] - x[0]**2)])\n",
    "    \n",
    "class Rastrigin:\n",
    "    \n",
    "    def function(x: np.ndarray, A: int = 10) -> np.float64:\n",
    "        return list(x**2 - A * np.cos(2 * np.pi * x))[0] # + A\n",
    "    \n",
    "    def gradient(x: np.float32, A: int = 10) -> np.float64:\n",
    "            return 2 * x + A * 2 * np.pi * np.sin(2 * np.pi * x)"
   ]
  },
  {
   "cell_type": "code",
   "execution_count": 100,
   "id": "d075f5bd",
   "metadata": {},
   "outputs": [],
   "source": [
    "def classic_GD (\n",
    "                function: Mapping, gradient_of_function: Mapping,\n",
    "                start: np.ndarray, learning_rate: float = 0.01, \n",
    "                n_iter: int = 100, tolerance: float = 1e-5\n",
    "                ) -> Tuple [np.ndarray, np.float32, list]:\n",
    "    \n",
    "    \"\"\" \n",
    "    Args:\n",
    "        function (Mapping): минимизруемая функция\n",
    "        gradient_of_function (Mapping): градиент минимизируемой функции\n",
    "        start (np.ndarray): рандомная стартовая точка\n",
    "        learning_rate (float): шаг минимизации\n",
    "        n_iter (int): количество итераций градиентного спуска\n",
    "        tolerance (float): минимальное допустимое изменение \n",
    "                    значения минимизируемой величины\n",
    "    Return:\n",
    "        tuple with found minimum coordinates, found minimum function value, \n",
    "        and plotting data list with multiple np.ndarray aka dots for plotting\n",
    "    \n",
    "   \"\"\" \n",
    "    plot = []\n",
    "        \n",
    "    current_point = start.copy()\n",
    "    current_point = current_point.astype('float64')\n",
    "\n",
    "    for iter in range(n_iter):\n",
    "        diff = learning_rate * -gradient_of_function(current_point)\n",
    "\n",
    "        if np.all(np.abs(diff) <= tolerance):\n",
    "            print(f'\\033[1mEarly stopping!!\\033[0m')\n",
    "            break\n",
    "\n",
    "        iter_count = iter + 1    \n",
    "        current_point += diff\n",
    "        plot.append(np.array(current_point))\n",
    "\n",
    "    print(f' Finished in {iter_count} iterations\\n', \\\n",
    "          f'Minimum point coordinates \\033[1m{current_point}\\033[0m,', \\\n",
    "          f'with function value = \\033[1m{round(function(current_point), 4)}\\033[0m')\n",
    "\n",
    "\n",
    "    return (current_point, function(current_point), plot)"
   ]
  },
  {
   "cell_type": "code",
   "execution_count": 101,
   "id": "c595bad1",
   "metadata": {},
   "outputs": [
    {
     "name": "stdout",
     "output_type": "stream",
     "text": [
      "\u001b[1mEarly stopping!!\u001b[0m\n",
      " Finished in 6788 iterations\n",
      " Minimum point coordinates \u001b[1m[-3.78824381 -3.29729647]\u001b[0m, with function value = \u001b[1m0.0099\u001b[0m\n",
      "Wall time: 99.9 ms\n"
     ]
    }
   ],
   "source": [
    "%%time\n",
    "GD_Him = classic_GD(Himmelblau.function, Himmelblau.gradient, np.array([-100, -100]), learning_rate=0.00001, n_iter=7000)"
   ]
  },
  {
   "cell_type": "code",
   "execution_count": 102,
   "id": "998e9796",
   "metadata": {},
   "outputs": [
    {
     "name": "stdout",
     "output_type": "stream",
     "text": [
      " Finished in 9000 iterations\n",
      " Minimum point coordinates \u001b[1m[0.76548588 0.76548588]\u001b[0m, with function value = \u001b[1m-0.3855\u001b[0m\n",
      "Wall time: 127 ms\n"
     ]
    }
   ],
   "source": [
    "%%time\n",
    "GD_Rast = classic_GD(Rastrigin.function, Rastrigin.gradient, np.array([100, 100]), learning_rate=0.1, n_iter=9000)"
   ]
  },
  {
   "cell_type": "code",
   "execution_count": 103,
   "id": "eaeea634",
   "metadata": {},
   "outputs": [
    {
     "name": "stdout",
     "output_type": "stream",
     "text": [
      " Finished in 200000 iterations\n",
      " Minimum point coordinates \u001b[1m[3.02969959 9.18234049]\u001b[0m, with function value = \u001b[1m4.1207\u001b[0m\n",
      "Wall time: 2.36 s\n"
     ]
    }
   ],
   "source": [
    "%%time\n",
    "GD_Ros = classic_GD(Rosenbrock.function, Rosenbrock.gradient, np.array([10, 10]), \n",
    "           tolerance = 1e-7, learning_rate=0.00001, n_iter=200000)"
   ]
  },
  {
   "cell_type": "code",
   "execution_count": 149,
   "id": "770656e4",
   "metadata": {},
   "outputs": [],
   "source": [
    "@njit(fastmath=True)\n",
    "def Himmelblau(x: np.ndarray) -> np.float64:\n",
    "    return (x[0]**2 + x[1] - 11)**2 + (x[0] + x[1]**2 - 7)**2\n",
    "@njit(fastmath=True)\n",
    "def Him_grad(x: np.ndarray) -> np.array:\n",
    "    return np.array([4 * x[0] * (x[0]**2 + x[1] - 11) \\\n",
    "                     + 2 * (x[0] + x[1]**2 - 7),\n",
    "                     2 * (x[0]**2 + x[1] - 11) \\\n",
    "                         + 4 * x[1] * (x[0] + x[1]**2 - 7)])\n",
    "@njit(fastmath=True)\n",
    "def Rosenbrock(x: np.ndarray, b: int = 100) -> np.float64:\n",
    "    return b * (x[1] - x[0]**2)**2 + (x[0] - 1)**2\n",
    "@njit(fastmath=True)\n",
    "def Rosen_grad(x: np.ndarray, b: int = 100) -> np.array:\n",
    "    return np.array([2 * (x[0] - 1) \\\n",
    "                     - 4 * b * x[0] * (x[1] - x[0]**2),\n",
    "                         2 * b * (x[1] - x[0]**2)])\n",
    "@njit(fastmath=True)\n",
    "def Rastrigin(x: np.ndarray, A: int = 10) -> np.float64:\n",
    "    return list(x**2 - A * np.cos(2 * np.pi * x))[0] # + A\n",
    "@njit(fastmath=True)\n",
    "def Rast_grad(x: np.float32, A: int = 10) -> np.float64:\n",
    "        return 2 * x + A * 2 * np.pi * np.sin(2 * np.pi * x)"
   ]
  },
  {
   "cell_type": "code",
   "execution_count": 82,
   "id": "3a5b07ba",
   "metadata": {},
   "outputs": [],
   "source": [
    "@njit\n",
    "def classic_GD (\n",
    "                function: Mapping, gradient_of_function: Mapping,\n",
    "                start: np.ndarray, learning_rate: float = 0.01, \n",
    "                n_iter: int = 100, tolerance: float = 1e-5\n",
    "                ) -> Tuple [np.ndarray, np.float64]:\n",
    "    \n",
    "    \"\"\" \n",
    "    Args:\n",
    "        function (Mapping): минимизруемая функция\n",
    "        gradient_of_function (Mapping): градиент минимизируемой функции\n",
    "        start (np.ndarray): рандомная стартовая точка\n",
    "        learning_rate (float): шаг минимизации\n",
    "        n_iter (int): количество итераций градиентного спуска\n",
    "        tolerance (float): минимальное допустимое изменение \n",
    "                    значения минимизируемой величины\n",
    "    Return:\n",
    "        tuple with found minimum coordinates, found minimum function value\n",
    "    \n",
    "   \"\"\" \n",
    "        \n",
    "    current_point = start.copy()\n",
    "    current_point = current_point.astype('float64')\n",
    "\n",
    "    for iter in range(n_iter):\n",
    "        diff = learning_rate * -gradient_of_function(current_point)\n",
    "\n",
    "        if np.all(np.abs(diff) <= tolerance):\n",
    "            print(f'\\033[1mEarly stopping!!\\033[0m')\n",
    "            break\n",
    "\n",
    "        iter_count = iter + 1    \n",
    "        current_point =  current_point + diff\n",
    "\n",
    "    print(f' Finished in {iter_count} iterations\\n')\n",
    "\n",
    "    return current_point, function(current_point)"
   ]
  },
  {
   "cell_type": "code",
   "execution_count": 89,
   "id": "5809b1a2",
   "metadata": {
    "scrolled": true
   },
   "outputs": [
    {
     "name": "stdout",
     "output_type": "stream",
     "text": [
      "\u001b[1mEarly stopping!!\u001b[0m\n",
      " Finished in 6788 iterations\n",
      "\n",
      "Wall time: 2.99 ms\n"
     ]
    }
   ],
   "source": [
    "%%time\n",
    "GD_Him_GPU = classic_GD(Himmelblau, Him_grad, np.array([-100, -100]), learning_rate=0.00001, n_iter=9500)"
   ]
  },
  {
   "cell_type": "code",
   "execution_count": 90,
   "id": "a57af1dd",
   "metadata": {},
   "outputs": [
    {
     "name": "stdout",
     "output_type": "stream",
     "text": [
      "Minimum point coordinates \u001b[1m[-3.78824381 -3.29729647]\u001b[0m,\n",
      "with function value = \u001b[1m0.0099\u001b[0m\n"
     ]
    }
   ],
   "source": [
    "print(f'Minimum point coordinates \\033[1m{GD_Him_GPU[0]}\\033[0m,')\n",
    "print(f'with function value = \\033[1m{round(GD_Him_GPU[1], 4)}\\033[0m')"
   ]
  },
  {
   "cell_type": "code",
   "execution_count": 91,
   "id": "9eb956fe",
   "metadata": {},
   "outputs": [
    {
     "name": "stdout",
     "output_type": "stream",
     "text": [
      " Finished in 9000 iterations\n",
      "\n",
      "Wall time: 4.99 ms\n"
     ]
    }
   ],
   "source": [
    "%%time\n",
    "GD_Rast_GPU = classic_GD(Rastrigin, Rast_grad, np.array([100, 100]), learning_rate=0.1, n_iter=9000)"
   ]
  },
  {
   "cell_type": "code",
   "execution_count": 92,
   "id": "b76f16ec",
   "metadata": {},
   "outputs": [
    {
     "name": "stdout",
     "output_type": "stream",
     "text": [
      "Minimum point coordinates \u001b[1m[0.76548588 0.76548588]\u001b[0m,\n",
      "with function value = \u001b[1m-0.3855\u001b[0m\n"
     ]
    }
   ],
   "source": [
    "print(f'Minimum point coordinates \\033[1m{GD_Rast_GPU[0]}\\033[0m,')\n",
    "print(f'with function value = \\033[1m{round(GD_Rast_GPU[1], 4)}\\033[0m')"
   ]
  },
  {
   "cell_type": "code",
   "execution_count": 87,
   "id": "96bc0ebb",
   "metadata": {},
   "outputs": [
    {
     "name": "stdout",
     "output_type": "stream",
     "text": [
      " Finished in 200000 iterations\n",
      "\n",
      "Wall time: 850 ms\n"
     ]
    }
   ],
   "source": [
    "%%time\n",
    "GD_Ros_GPU = classic_GD(Rosenbrock, Rosen_grad, np.array([10, 10]), \n",
    "           tolerance = 1e-7, learning_rate=0.00001, n_iter=200000)"
   ]
  },
  {
   "cell_type": "code",
   "execution_count": 88,
   "id": "efbbec98",
   "metadata": {},
   "outputs": [
    {
     "name": "stdout",
     "output_type": "stream",
     "text": [
      "Minimum point coordinates \u001b[1m[3.02969959 9.18234049]\u001b[0m,\n",
      "with function value = \u001b[1m4.1207\u001b[0m\n"
     ]
    }
   ],
   "source": [
    "print(f'Minimum point coordinates \\033[1m{GD_Ros_GPU[0]}\\033[0m,')\n",
    "print(f'with function value = \\033[1m{round(GD_Ros_GPU[1], 4)}\\033[0m')"
   ]
  },
  {
   "cell_type": "code",
   "execution_count": 108,
   "id": "5e9fe9e2",
   "metadata": {},
   "outputs": [],
   "source": [
    "def GD_AdaGrad(\n",
    "            function: Mapping, gradient: Mapping, start: np.ndarray,\n",
    "            gamma: np.float64 = 0.1, n_iter: int = 100, \n",
    "            learning_rate: float = 0.01, tolerance=1e-06, \n",
    "            dtype=\"float64\", rand_state: int = 12\n",
    "            ) -> Tuple [np.ndarray, np.ndarray]:\n",
    "    \"\"\" \n",
    "        function (Mapping):  минимизруемая функция\n",
    "        gradient (Mapping): градиент заданной выше функции\n",
    "        start (np.ndarray): рандомная стартовая точка/точки\n",
    "        gamma (float): скорость затухания скользащих средних ф-ии потерь\n",
    "        n_iter (int): количество итераций градиентного спуска\n",
    "        learning_rate (float): шаг минимизации\n",
    "        tolerance (float): минимальное допустимое изменение \n",
    "                           значения минимизируемой величины\n",
    "        dtype (str): тип данных\n",
    "        rand_state (int): зерно рандомайзера\n",
    "        \n",
    "    \"\"\"\n",
    "    dtype_ = np.dtype(dtype)\n",
    "\n",
    "    cur_point = start.copy()\n",
    "    cur_point = cur_point.astype('float64')\n",
    "\n",
    "    G = np.zeros(cur_point.shape, dtype=dtype_) \n",
    "   \n",
    "    for iter in range(n_iter):\n",
    "        loss = gradient(cur_point)\n",
    "        G = gamma * G + loss ** 2\n",
    "\n",
    "        if np.all(np.abs(loss/np.sqrt(G)) <= tolerance):\n",
    "            print(f'\\033[1mEarly stopping!!\\033[0m')\n",
    "            break\n",
    "\n",
    "        cur_point -= (loss/np.sqrt(G)) * learning_rate\n",
    "        iter_count = iter + 1\n",
    "        \n",
    "    print(f' Finished in {iter_count} iterations\\n')\n",
    "\n",
    "    return cur_point, function(cur_point)"
   ]
  },
  {
   "cell_type": "code",
   "execution_count": 110,
   "id": "755dba06",
   "metadata": {},
   "outputs": [
    {
     "name": "stdout",
     "output_type": "stream",
     "text": [
      " Finished in 30000 iterations\n",
      "\n",
      "Minimum point coordinates \u001b[1m[3.00223411 2.00223281]\u001b[0m, with function value = \u001b[1m0.000369\u001b[0m\n",
      "Wall time: 544 ms\n"
     ]
    }
   ],
   "source": [
    "%%time\n",
    "Him_Ada = GD_AdaGrad(Himmelblau.function, Himmelblau.gradient, np.array([100, 100]),\n",
    "                     gamma=0.8, learning_rate=0.01, n_iter=30000)\n",
    "print(f'Minimum point coordinates \\033[1m{Him_Ada[0]}\\033[0m,', \n",
    "      f'with function value = \\033[1m{round(Him_Ada[1], 6)}\\033[0m')"
   ]
  },
  {
   "cell_type": "code",
   "execution_count": 126,
   "id": "9ce7df32",
   "metadata": {},
   "outputs": [
    {
     "name": "stdout",
     "output_type": "stream",
     "text": [
      " Finished in 2000000 iterations\n",
      "\n",
      "Minimum point coordinates \u001b[1m[-5.02130232  5.0292553 ]\u001b[0m, with function value = \u001b[1m15.302918\u001b[0m\n",
      "Wall time: 1min 4s\n"
     ]
    }
   ],
   "source": [
    "%%time\n",
    "Rast_Ada = GD_AdaGrad(Rastrigin.function, Rastrigin.gradient, np.array([-10, 100]), \n",
    "                      tolerance=1e-4, gamma=0.2, learning_rate=0.51, n_iter=2000000)\n",
    "print(f'Minimum point coordinates \\033[1m{Rast_Ada[0]}\\033[0m,', \n",
    "      f'with function value = \\033[1m{round(Rast_Ada[1], 6)}\\033[0m')"
   ]
  },
  {
   "cell_type": "code",
   "execution_count": 112,
   "id": "c06db7e8",
   "metadata": {},
   "outputs": [
    {
     "name": "stdout",
     "output_type": "stream",
     "text": [
      " Finished in 30000 iterations\n",
      "\n",
      "Minimum point coordinates \u001b[1m[1.00008264 0.9954266 ]\u001b[0m, with function value = \u001b[1m0.002246\u001b[0m\n",
      "Wall time: 537 ms\n"
     ]
    }
   ],
   "source": [
    "%%time\n",
    "Ros_Ada = GD_AdaGrad(Rosenbrock.function, Rosenbrock.gradient, np.array([-10, -10]),\n",
    "                     gamma=0.9, tolerance = 1e-3, learning_rate=0.01, n_iter=30000)\n",
    "print(f'Minimum point coordinates \\033[1m{Ros_Ada[0]}\\033[0m,', \n",
    "      f'with function value = \\033[1m{round(Ros_Ada[1], 6)}\\033[0m')"
   ]
  },
  {
   "cell_type": "code",
   "execution_count": 147,
   "id": "af19f39f",
   "metadata": {},
   "outputs": [
    {
     "ename": "SyntaxError",
     "evalue": "invalid syntax (<ipython-input-147-936bd202e3cd>, line 33)",
     "output_type": "error",
     "traceback": [
      "\u001b[1;36m  File \u001b[1;32m\"<ipython-input-147-936bd202e3cd>\"\u001b[1;36m, line \u001b[1;32m33\u001b[0m\n\u001b[1;33m    for iter in range(n_iter):\u001b[0m\n\u001b[1;37m      ^\u001b[0m\n\u001b[1;31mSyntaxError\u001b[0m\u001b[1;31m:\u001b[0m invalid syntax\n"
     ]
    }
   ],
   "source": [
    "@njit\n",
    "def GD_AdaGrad (\n",
    "                function: Mapping, gradient_of_function: Mapping,\n",
    "                start: np.ndarray, learning_rate: float = 0.01, \n",
    "                n_iter: int = 100, tolerance: float = 1e-5,\n",
    "                gamma: np.float64 = 0.1, dtype=\"float64\", \n",
    "                rand_state: int = 12\n",
    "                ) -> Tuple [np.ndarray, np.float64]:\n",
    "    \n",
    "    \"\"\" \n",
    "    Args:\n",
    "        function (Mapping):  минимизруемая функция\n",
    "        gradient (Mapping): градиент заданной выше функции\n",
    "        start (np.ndarray): рандомная стартовая точка/точки\n",
    "        gamma (float): скорость затухания скользащих средних ф-ии потерь\n",
    "        n_iter (int): количество итераций градиентного спуска\n",
    "        learning_rate (float): шаг минимизации\n",
    "        tolerance (float): минимальное допустимое изменение \n",
    "                           значения минимизируемой величины\n",
    "        dtype (str): тип данных\n",
    "        rand_state (int): зерно рандомайзера\n",
    "    Return: \n",
    "        tuple with found minimum point coordinates, \n",
    "        funcation value at this point\n",
    "        \n",
    "   \"\"\" \n",
    "        \n",
    "    current_point = start.copy()\n",
    "    current_point = current_point.astype('float64')\n",
    "    \n",
    "    G = np.zeros(cur_point.shape, dtype=np.float64\n",
    "\n",
    "    for iter in range(n_iter):\n",
    "        loss = gradient(cur_point)\n",
    "        G = gamma * G + loss ** 2\n",
    "\n",
    "        if np.all(np.abs(loss/np.sqrt(G)) <= tolerance):\n",
    "            print(f'\\033[1mEarly stopping!!\\033[0m')\n",
    "            break\n",
    "\n",
    "        cur_point -= (loss/np.sqrt(G)) * learning_rate\n",
    "        iter_count = iter + 1\n",
    "        \n",
    "    print(f' Finished in {iter_count} iterations\\n')\n",
    "\n",
    "    return cur_point, function(cur_point)"
   ]
  },
  {
   "cell_type": "code",
   "execution_count": 148,
   "id": "ed2a53ed",
   "metadata": {},
   "outputs": [
    {
     "ename": "TypingError",
     "evalue": "Failed in nopython mode pipeline (step: nopython frontend)\n\u001b[1m\u001b[1mnon-precise type pyobject\u001b[0m\n\u001b[0m\u001b[1mDuring: typing of argument at <ipython-input-145-7aeab0348b1c> (21)\u001b[0m\n\u001b[1m\nFile \"<ipython-input-145-7aeab0348b1c>\", line 21:\u001b[0m\n\u001b[1mdef GD_AdaGrad(\n    <source elided>\n    \"\"\"\n\u001b[1m    cur_point = start.copy()\n\u001b[0m    \u001b[1m^\u001b[0m\u001b[0m \n\nThis error may have been caused by the following argument(s):\n- argument 0: \u001b[1mCannot determine Numba type of <class 'type'>\u001b[0m \n\nThis error may have been caused by the following argument(s):\n- argument 0: \u001b[1mCannot determine Numba type of <class 'type'>\u001b[0m\n",
     "output_type": "error",
     "traceback": [
      "\u001b[1;31m---------------------------------------------------------------------------\u001b[0m",
      "\u001b[1;31mTypingError\u001b[0m                               Traceback (most recent call last)",
      "\u001b[1;32m<timed exec>\u001b[0m in \u001b[0;36m<module>\u001b[1;34m\u001b[0m\n",
      "\u001b[1;32mC:\\ProgramData\\Anaconda3\\lib\\site-packages\\numba\\core\\dispatcher.py\u001b[0m in \u001b[0;36m_compile_for_args\u001b[1;34m(self, *args, **kws)\u001b[0m\n\u001b[0;32m    466\u001b[0m                 \u001b[0me\u001b[0m\u001b[1;33m.\u001b[0m\u001b[0mpatch_message\u001b[0m\u001b[1;33m(\u001b[0m\u001b[0mmsg\u001b[0m\u001b[1;33m)\u001b[0m\u001b[1;33m\u001b[0m\u001b[1;33m\u001b[0m\u001b[0m\n\u001b[0;32m    467\u001b[0m \u001b[1;33m\u001b[0m\u001b[0m\n\u001b[1;32m--> 468\u001b[1;33m             \u001b[0merror_rewrite\u001b[0m\u001b[1;33m(\u001b[0m\u001b[0me\u001b[0m\u001b[1;33m,\u001b[0m \u001b[1;34m'typing'\u001b[0m\u001b[1;33m)\u001b[0m\u001b[1;33m\u001b[0m\u001b[1;33m\u001b[0m\u001b[0m\n\u001b[0m\u001b[0;32m    469\u001b[0m         \u001b[1;32mexcept\u001b[0m \u001b[0merrors\u001b[0m\u001b[1;33m.\u001b[0m\u001b[0mUnsupportedError\u001b[0m \u001b[1;32mas\u001b[0m \u001b[0me\u001b[0m\u001b[1;33m:\u001b[0m\u001b[1;33m\u001b[0m\u001b[1;33m\u001b[0m\u001b[0m\n\u001b[0;32m    470\u001b[0m             \u001b[1;31m# Something unsupported is present in the user code, add help info\u001b[0m\u001b[1;33m\u001b[0m\u001b[1;33m\u001b[0m\u001b[1;33m\u001b[0m\u001b[0m\n",
      "\u001b[1;32mC:\\ProgramData\\Anaconda3\\lib\\site-packages\\numba\\core\\dispatcher.py\u001b[0m in \u001b[0;36merror_rewrite\u001b[1;34m(e, issue_type)\u001b[0m\n\u001b[0;32m    407\u001b[0m                 \u001b[1;32mraise\u001b[0m \u001b[0me\u001b[0m\u001b[1;33m\u001b[0m\u001b[1;33m\u001b[0m\u001b[0m\n\u001b[0;32m    408\u001b[0m             \u001b[1;32melse\u001b[0m\u001b[1;33m:\u001b[0m\u001b[1;33m\u001b[0m\u001b[1;33m\u001b[0m\u001b[0m\n\u001b[1;32m--> 409\u001b[1;33m                 \u001b[1;32mraise\u001b[0m \u001b[0me\u001b[0m\u001b[1;33m.\u001b[0m\u001b[0mwith_traceback\u001b[0m\u001b[1;33m(\u001b[0m\u001b[1;32mNone\u001b[0m\u001b[1;33m)\u001b[0m\u001b[1;33m\u001b[0m\u001b[1;33m\u001b[0m\u001b[0m\n\u001b[0m\u001b[0;32m    410\u001b[0m \u001b[1;33m\u001b[0m\u001b[0m\n\u001b[0;32m    411\u001b[0m         \u001b[0margtypes\u001b[0m \u001b[1;33m=\u001b[0m \u001b[1;33m[\u001b[0m\u001b[1;33m]\u001b[0m\u001b[1;33m\u001b[0m\u001b[1;33m\u001b[0m\u001b[0m\n",
      "\u001b[1;31mTypingError\u001b[0m: Failed in nopython mode pipeline (step: nopython frontend)\n\u001b[1m\u001b[1mnon-precise type pyobject\u001b[0m\n\u001b[0m\u001b[1mDuring: typing of argument at <ipython-input-145-7aeab0348b1c> (21)\u001b[0m\n\u001b[1m\nFile \"<ipython-input-145-7aeab0348b1c>\", line 21:\u001b[0m\n\u001b[1mdef GD_AdaGrad(\n    <source elided>\n    \"\"\"\n\u001b[1m    cur_point = start.copy()\n\u001b[0m    \u001b[1m^\u001b[0m\u001b[0m \n\nThis error may have been caused by the following argument(s):\n- argument 0: \u001b[1mCannot determine Numba type of <class 'type'>\u001b[0m \n\nThis error may have been caused by the following argument(s):\n- argument 0: \u001b[1mCannot determine Numba type of <class 'type'>\u001b[0m\n"
     ]
    }
   ],
   "source": [
    "%%time\n",
    "Him_Ada = GD_AdaGrad(Himmelblau, Him_grad, np.array([100, 100]),\n",
    "                     gamma=0.8, learning_rate=0.01, n_iter=30000)\n",
    "\n",
    "print(f'Minimum point coordinates \\033[1m{Him_Ada[0]}\\033[0m,', \n",
    "      f'with function value = \\033[1m{round(Him_Ada[1], 6)}\\033[0m')"
   ]
  },
  {
   "cell_type": "code",
   "execution_count": 126,
   "id": "6d5bb821",
   "metadata": {},
   "outputs": [
    {
     "name": "stdout",
     "output_type": "stream",
     "text": [
      " Finished in 2000000 iterations\n",
      "\n",
      "Minimum point coordinates \u001b[1m[-5.02130232  5.0292553 ]\u001b[0m, with function value = \u001b[1m15.302918\u001b[0m\n",
      "Wall time: 1min 4s\n"
     ]
    }
   ],
   "source": [
    "%%time\n",
    "Rast_Ada = GD_AdaGrad(Rastrigin, Rast_grad, np.array([-10, 100]), \n",
    "                      tolerance=1e-4, gamma=0.2, learning_rate=0.51, n_iter=2000000)\n",
    "print(f'Minimum point coordinates \\033[1m{Rast_Ada[0]}\\033[0m,', \n",
    "      f'with function value = \\033[1m{round(Rast_Ada[1], 6)}\\033[0m')"
   ]
  },
  {
   "cell_type": "code",
   "execution_count": 112,
   "id": "bda2ddaa",
   "metadata": {},
   "outputs": [
    {
     "name": "stdout",
     "output_type": "stream",
     "text": [
      " Finished in 30000 iterations\n",
      "\n",
      "Minimum point coordinates \u001b[1m[1.00008264 0.9954266 ]\u001b[0m, with function value = \u001b[1m0.002246\u001b[0m\n",
      "Wall time: 537 ms\n"
     ]
    }
   ],
   "source": [
    "%%time\n",
    "Ros_Ada = GD_AdaGrad(Rosenbrock, Ros_grad, np.array([-10, -10]),\n",
    "                     gamma=0.9, tolerance = 1e-3, learning_rate=0.01, n_iter=30000)\n",
    "print(f'Minimum point coordinates \\033[1m{Ros_Ada[0]}\\033[0m,', \n",
    "      f'with function value = \\033[1m{round(Ros_Ada[1], 6)}\\033[0m')"
   ]
  },
  {
   "cell_type": "code",
   "execution_count": null,
   "id": "b2a8cac8",
   "metadata": {},
   "outputs": [],
   "source": []
  },
  {
   "cell_type": "code",
   "execution_count": null,
   "id": "a2e954cb",
   "metadata": {},
   "outputs": [],
   "source": []
  },
  {
   "cell_type": "code",
   "execution_count": null,
   "id": "c5bb7bbb",
   "metadata": {},
   "outputs": [],
   "source": []
  },
  {
   "cell_type": "code",
   "execution_count": null,
   "id": "c8d9d317",
   "metadata": {},
   "outputs": [],
   "source": []
  },
  {
   "cell_type": "code",
   "execution_count": null,
   "id": "ae68bd4b",
   "metadata": {},
   "outputs": [],
   "source": []
  }
 ],
 "metadata": {
  "kernelspec": {
   "display_name": "Python 3 (ipykernel)",
   "language": "python",
   "name": "python3"
  },
  "language_info": {
   "codemirror_mode": {
    "name": "ipython",
    "version": 3
   },
   "file_extension": ".py",
   "mimetype": "text/x-python",
   "name": "python",
   "nbconvert_exporter": "python",
   "pygments_lexer": "ipython3",
   "version": "3.7.4"
  }
 },
 "nbformat": 4,
 "nbformat_minor": 5
}
