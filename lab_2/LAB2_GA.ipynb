{
 "cells": [
  {
   "cell_type": "markdown",
   "id": "7a114933",
   "metadata": {},
   "source": [
    "# LAB 2: Genetic Algorithms. \n",
    "### Pygmo Optimization for Himmelblau, Rastrigin and Rosenbrock Functions\n",
    "### AI and Machine Learning // Suchkova Natalia М8О-114М-22\n",
    "30.10.2022 @ MAI IT-Center"
   ]
  },
  {
   "cell_type": "markdown",
   "id": "f1f149a8",
   "metadata": {},
   "source": [
    "## Table of Contents\n",
    "\n",
    "1. [**Self-adaptive Differential Evolution (sade)**](#gen1)\n",
    "\n",
    "\n",
    "\n",
    "2. [**Grey Wolf Optimizer (gwo)**](#gen2)\n",
    "\n",
    "\n",
    "\n",
    "3. [**Extended Ant Colony Optimization algorithm (gaco)**](#gen3)\n",
    "\n",
    "\n",
    "4. [**Own Defined Optimization Problem**](#gen4)\n",
    "\n"
   ]
  },
  {
   "cell_type": "code",
   "execution_count": 297,
   "id": "8e335e09",
   "metadata": {},
   "outputs": [],
   "source": [
    "import pygmo as pg\n",
    "from pygmo import *\n",
    "from IPython.display import Image\n",
    "from IPython.core.display import HTML\n",
    "import pandas as pd"
   ]
  },
  {
   "cell_type": "code",
   "execution_count": 298,
   "id": "60611a60",
   "metadata": {},
   "outputs": [
    {
     "data": {
      "text/plain": [
       "'2.13.0'"
      ]
     },
     "execution_count": 298,
     "metadata": {},
     "output_type": "execute_result"
    }
   ],
   "source": [
    "pg.__version__"
   ]
  },
  {
   "cell_type": "code",
   "execution_count": 447,
   "id": "893b3712",
   "metadata": {},
   "outputs": [],
   "source": [
    "df = pd.DataFrame(columns=['Problem', 'Method', 'Pop_Size',\n",
    "                           'Num_Geners', 'Num_Evoluts', \n",
    "                           'Min_Coordinates', 'Function_Value'])"
   ]
  },
  {
   "cell_type": "markdown",
   "id": "bf1b4554",
   "metadata": {},
   "source": [
    "<a id='gen1'></a>"
   ]
  },
  {
   "cell_type": "markdown",
   "id": "a29bb996",
   "metadata": {},
   "source": [
    "## Self-adaptive Differential Evolution (SADE)"
   ]
  },
  {
   "cell_type": "markdown",
   "id": "6704dd1d",
   "metadata": {},
   "source": [
    "### Himmelblau"
   ]
  },
  {
   "cell_type": "markdown",
   "id": "b51172e2",
   "metadata": {},
   "source": [
    "**Функция Химмельблау**\t$f(x,y) = (x^2 + y - 11)^2 + (x + y^2 - 7)^2 $"
   ]
  },
  {
   "cell_type": "markdown",
   "id": "0fbe846e",
   "metadata": {},
   "source": [
    "Напомним, как должен выглядеть *оптимумальный\\ые минимум\\ы*:"
   ]
  },
  {
   "cell_type": "code",
   "execution_count": 448,
   "id": "d4d9fb3f",
   "metadata": {},
   "outputs": [
    {
     "data": {
      "text/html": [
       "<img src=\"https://wikimedia.org/api/rest_v1/media/math/render/svg/3b6d888196974f862467cfe02748f3ae2ffdf476\"/>"
      ],
      "text/plain": [
       "<IPython.core.display.Image object>"
      ]
     },
     "execution_count": 448,
     "metadata": {},
     "output_type": "execute_result"
    }
   ],
   "source": [
    "Image(url= \"https://wikimedia.org/api/rest_v1/media/math/render/svg/3b6d888196974f862467cfe02748f3ae2ffdf476\")"
   ]
  },
  {
   "cell_type": "code",
   "execution_count": 449,
   "id": "f407def3",
   "metadata": {},
   "outputs": [],
   "source": [
    "class HimmelblauOptimization: \n",
    "    \"\"\"\n",
    "    Задаем проблему Химмельблау, так как не нашла ее в pygmo почему-то :/\n",
    "    This class defines a PyGMO-compatible User-Defined Optimization Problem.\n",
    "    Конструктор  класса\n",
    "    \"\"\"\n",
    "\n",
    "    def __init__(self,\n",
    "                 x_min: float,\n",
    "                 x_max: float,\n",
    "                 y_min: float,\n",
    "                 y_max: float): \n",
    "        \n",
    "        # задаем границы определения функции\n",
    "\n",
    "        self.x_min = x_min\n",
    "        self.x_max = x_max\n",
    "        self.y_min = y_min\n",
    "        self.y_max = y_max\n",
    "\n",
    "    def get_bounds(self):\n",
    "        return ([self.x_min, self.y_min], [self.x_max, self.y_max])\n",
    "\n",
    "    def fitness(self, x: list): # вычисляем значение функции\n",
    "        \n",
    "        function_value = (x[0] * x[0] + x[1] - 11.0) ** 2 + (x[0] + x[1] * x[1] - 7.0) ** 2\n",
    "        return [function_value]"
   ]
  },
  {
   "cell_type": "code",
   "execution_count": 450,
   "id": "fdebe308",
   "metadata": {},
   "outputs": [
    {
     "name": "stdout",
     "output_type": "stream",
     "text": [
      "Problem name: <class '__main__.HimmelblauOptimization'>\n",
      "\tGlobal dimension:\t\t\t2\n",
      "\tInteger dimension:\t\t\t0\n",
      "\tFitness dimension:\t\t\t1\n",
      "\tNumber of objectives:\t\t\t1\n",
      "\tEquality constraints dimension:\t\t0\n",
      "\tInequality constraints dimension:\t0\n",
      "\tLower bounds: [-5.12, -5.12]\n",
      "\tUpper bounds: [5.12, 5.12]\n",
      "\tHas batch fitness evaluation: false\n",
      "\n",
      "\tHas gradient: false\n",
      "\tUser implemented gradient sparsity: false\n",
      "\tHas hessians: false\n",
      "\tUser implemented hessians sparsity: false\n",
      "\n",
      "\tFitness evaluations: 0\n",
      "\n",
      "\tThread safety: none\n",
      "\n"
     ]
    }
   ],
   "source": [
    "print(problem(HimmelblauOptimization(-5.12, 5.12, -5.12, 5.12)))"
   ]
  },
  {
   "cell_type": "code",
   "execution_count": 451,
   "id": "c9500603",
   "metadata": {},
   "outputs": [],
   "source": [
    "problem_Him = problem(HimmelblauOptimization(-5.12, 5.12, -5.12, 5.12))"
   ]
  },
  {
   "cell_type": "code",
   "execution_count": 452,
   "id": "4b1cab5e",
   "metadata": {},
   "outputs": [],
   "source": [
    "pop_size = 100  # зададим внешние переменные ака характеристики популяции,\n",
    "current_seed = 23 # чтобы условия у всех адгоритмов были одинаковые\n",
    "number_of_evolutions = 10"
   ]
  },
  {
   "cell_type": "code",
   "execution_count": 510,
   "id": "0febab03",
   "metadata": {},
   "outputs": [],
   "source": [
    "def few_evols(algo, pop, gens=10,\n",
    "              number_of_evols=10):\n",
    "    \n",
    "    \"\"\"\n",
    "    algo (pygmo obj) - алгоритм для оптимизации\n",
    "    pop (pygmo obj) - популяция\n",
    "    number_of_evols (int) - количество раз эволюции\n",
    "    \"\"\"\n",
    "    if algo is pg.gaco:\n",
    "        cur_algo = algorithm(algo(10, 13, 1.0, 1e9, 0.0, 1, 7, 100000, 100000, 0.0, False, 23))\n",
    "        print('я бля работаю!!!!')\n",
    "    else:\n",
    "        cur_algo = algorithm(algo(gen=gens)) # задаем параметры алгоритма\n",
    "    cur_algo.set_verbosity(2)  # частота лагирования\n",
    "    individuals_list = []\n",
    "    fitness_list = []\n",
    "    \n",
    "    # Заставляем популяцию эволюционировать\n",
    "    for i in range(number_of_evols):\n",
    "        pop = cur_algo.evolve(pop)  # запускаем эволюцию  начальной популяции\n",
    "        individuals_list.append(pop.get_x()[pop.best_idx()])\n",
    "        fitness_list.append(pop.get_f()[pop.best_idx()])\n",
    "    \n",
    "    log = cur_algo.extract(algo).get_log() # можно высети лог (историю лагирования) каждые n итераций из set_verbosity()\n",
    "    \n",
    "    # колдуем над датафреймом\n",
    "    method = str(pop)\n",
    "    if 'class' in method:\n",
    "        method = method[31:41]\n",
    "    elif 'Rastrigin' in method:\n",
    "        method = method[14:23]\n",
    "    else:\n",
    "        method = method[31:41]\n",
    "    data = [method, str(algo)[8:-2], pop_size, gens, \n",
    "            number_of_evols, pop.champion_x, pop.champion_f]\n",
    "    df.loc[len(df)] = data\n",
    "    \n",
    "    return pop, individuals_list, fitness_list, log, df\n",
    "\n",
    "    '''\n",
    "    1/ добавить норм вывод\n",
    "    2. добавить визуализацию\n",
    "\n",
    "    3. доавить датафрейм с результатами\n",
    "    # Вытащим лучших индивидов из всех поколений\n",
    "    best_x = [ind[0] for ind in individuals_list]\n",
    "    best_y = [ind[1] for ind in individuals_list]\n",
    "\n",
    "    # Выразим границы задачи\n",
    "    (x_min, y_min), (x_max, y_max) = udp.get_bounds()\n",
    "\n",
    "    # Изобразим минимизацию за все поколения\n",
    "    fig, ax = plt.subplots(figsize=(9, 5))\n",
    "    ax.plot(np.arange(0, number_of_evolutions), fitness_list, label='Значение функции')\n",
    "\n",
    "    # Выведем лучший образец\n",
    "    champion_n = np.argmin(np.array(fitness_list))\n",
    "    ax.scatter(champion_n, np.min(fitness_list), marker='x', color='r', label='Чемпион за всё время')\n",
    "\n",
    "    # Оформление\n",
    "    ax.set_xlim((0, number_of_evolutions))\n",
    "    ax.grid('major')\n",
    "    ax.set_title('Лучший представитель для каждого поколения', fontweight='bold')\n",
    "    ax.set_xlabel('Номер поколения')\n",
    "    ax.set_ylabel(r'Значение функции Химмельблау $f(x,y)$')\n",
    "    ax.legend(loc='upper right')\n",
    "    ax.set_yscale('log')\n",
    "    plt.tight_layout()\n",
    "\n",
    "    # Показ\n",
    "    plt.show()\n",
    "\n",
    "\n",
    "    # Изобразим функцию Химмельблау\n",
    "    grid_points = 100\n",
    "    x_vector = np.linspace(x_min, x_max, grid_points)\n",
    "    y_vector = np.linspace(y_min, y_max, grid_points)\n",
    "    x_grid, y_grid = np.meshgrid(x_vector, y_vector)\n",
    "    z_grid = np.zeros((grid_points, grid_points))\n",
    "    for i in range(x_grid.shape[1]):\n",
    "        for j in range(x_grid.shape[0]):\n",
    "            z_grid[i, j] = udp.fitness([x_grid[i, j], y_grid[i, j]])[0]\n",
    "\n",
    "    # Create figure\n",
    "    fig, ax = plt.subplots(figsize=(9,5))\n",
    "    cs = ax.contour(x_grid, y_grid, z_grid, 50)\n",
    "\n",
    "    # Показываем лучших представителей за каждое поколение\n",
    "    ax.scatter(best_x, best_y, marker='x', color='r')\n",
    "\n",
    "    # Оформление\n",
    "    ax.set_xlim((x_min, x_max))\n",
    "    ax.set_ylim((y_min, y_max))\n",
    "    ax.set_title('Функция Химмельблау', fontweight='bold')\n",
    "    ax.set_xlabel('X')\n",
    "    ax.set_ylabel('Y')\n",
    "    cbar = fig.colorbar(cs)\n",
    "    cbar.ax.set_ylabel(r'Значение функции Химмельблау $f(x,y)$')\n",
    "    plt.tight_layout()\n",
    "\n",
    "    # Показ\n",
    "    plt.show()\n",
    "    '''"
   ]
  },
  {
   "cell_type": "code",
   "execution_count": 454,
   "id": "a38ca7a8",
   "metadata": {},
   "outputs": [
    {
     "name": "stdout",
     "output_type": "stream",
     "text": [
      "Algorithm name: saDE: Self-adaptive Differential Evolution [stochastic]\n",
      "\tThread safety: basic\n",
      "\n",
      "Extra info:\n",
      "\tGenerations: 10\n",
      "\tVariant: 2\n",
      "\tSelf adaptation variant: 1\n",
      "\tStopping xtol: 1e-06\n",
      "\tStopping ftol: 1e-06\n",
      "\tMemory: false\n",
      "\tVerbosity: 0\n",
      "\tSeed: 1452041765\n"
     ]
    }
   ],
   "source": [
    "# можно еще посмотреть информацию обалгоритмах\n",
    "algo1 = algorithm(sade(gen=10))\n",
    "print(algo1)"
   ]
  },
  {
   "cell_type": "code",
   "execution_count": 456,
   "id": "7065ef2a",
   "metadata": {
    "scrolled": false
   },
   "outputs": [
    {
     "data": {
      "text/plain": [
       "[array([0.00956613]),\n",
       " array([0.00956613]),\n",
       " array([0.00136954]),\n",
       " array([0.00010006]),\n",
       " array([7.52380033e-05]),\n",
       " array([3.51592259e-07]),\n",
       " array([4.01355661e-10]),\n",
       " array([2.85897783e-10]),\n",
       " array([2.85897783e-10]),\n",
       " array([2.85897783e-10])]"
      ]
     },
     "execution_count": 456,
     "metadata": {},
     "output_type": "execute_result"
    }
   ],
   "source": [
    "pop_him = population(problem_Him, size=pop_size, seed=current_seed)\n",
    "\n",
    "pop_him = few_evols(sade, pop_him)\n",
    "\n",
    "pop_him[1]  # individuals_list \n",
    "pop_him[2]  # fitness_list"
   ]
  },
  {
   "cell_type": "code",
   "execution_count": 457,
   "id": "f827fb0b",
   "metadata": {},
   "outputs": [
    {
     "data": {
      "text/plain": [
       "array([3.00000302, 1.9999979 ])"
      ]
     },
     "execution_count": 457,
     "metadata": {},
     "output_type": "execute_result"
    }
   ],
   "source": [
    "pop_him[0].champion_x"
   ]
  },
  {
   "cell_type": "code",
   "execution_count": 458,
   "id": "d30b8480",
   "metadata": {},
   "outputs": [
    {
     "data": {
      "text/plain": [
       "array([2.85897783e-10])"
      ]
     },
     "execution_count": 458,
     "metadata": {},
     "output_type": "execute_result"
    }
   ],
   "source": [
    "pop_him[0].champion_f"
   ]
  },
  {
   "cell_type": "code",
   "execution_count": 459,
   "id": "bb338ea2",
   "metadata": {},
   "outputs": [
    {
     "data": {
      "text/plain": [
       "[]"
      ]
     },
     "execution_count": 459,
     "metadata": {},
     "output_type": "execute_result"
    }
   ],
   "source": [
    "pop_him[3] # выводим лог"
   ]
  },
  {
   "cell_type": "markdown",
   "id": "3eeeaad4",
   "metadata": {},
   "source": [
    "### Rastrigin"
   ]
  },
  {
   "cell_type": "markdown",
   "id": "c90844ae",
   "metadata": {},
   "source": [
    "**Функция Растригина** $f(x) = An + \\displaystyle\\sum_{i=1}^{n} \\big\\lbrack  x_i^2 - Acos(2pix_i) \\big\\rbrack$, where $A = 10$"
   ]
  },
  {
   "cell_type": "code",
   "execution_count": 460,
   "id": "e5c4b967",
   "metadata": {},
   "outputs": [
    {
     "data": {
      "text/html": [
       "<img src=\"https://wikimedia.org/api/rest_v1/media/math/render/svg/0ef36b9a7230888e739f302e1a5d67e36c152de8\"/>"
      ],
      "text/plain": [
       "<IPython.core.display.Image object>"
      ]
     },
     "execution_count": 460,
     "metadata": {},
     "output_type": "execute_result"
    }
   ],
   "source": [
    "Image(url= \"https://wikimedia.org/api/rest_v1/media/math/render/svg/0ef36b9a7230888e739f302e1a5d67e36c152de8\")"
   ]
  },
  {
   "cell_type": "code",
   "execution_count": 461,
   "id": "43d3b3ef",
   "metadata": {},
   "outputs": [
    {
     "data": {
      "text/plain": [
       "array([-0.96373681, -0.03414508])"
      ]
     },
     "execution_count": 461,
     "metadata": {},
     "output_type": "execute_result"
    }
   ],
   "source": [
    "# classics\n",
    "sade_algo = algorithm(sade(gen=10))\n",
    "problem_Rast = problem(rastrigin(dim=2)) \n",
    "pop = population(problem_Rast, size=pop_size, seed=current_seed)\n",
    "pop = sade_algo.evolve(pop)\n",
    "pop.champion_x"
   ]
  },
  {
   "cell_type": "code",
   "execution_count": 462,
   "id": "88b24f50",
   "metadata": {},
   "outputs": [],
   "source": [
    "problem_Rast = problem(rastrigin(dim=2))  # задаем параметры оптимизируемой функции \"проблемы\" Растиригина"
   ]
  },
  {
   "cell_type": "code",
   "execution_count": 463,
   "id": "4f7d497d",
   "metadata": {},
   "outputs": [
    {
     "name": "stdout",
     "output_type": "stream",
     "text": [
      "Problem name: Rastrigin Function\n",
      "\tGlobal dimension:\t\t\t2\n",
      "\tInteger dimension:\t\t\t0\n",
      "\tFitness dimension:\t\t\t1\n",
      "\tNumber of objectives:\t\t\t1\n",
      "\tEquality constraints dimension:\t\t0\n",
      "\tInequality constraints dimension:\t0\n",
      "\tLower bounds: [-5.12, -5.12]\n",
      "\tUpper bounds: [5.12, 5.12]\n",
      "\tHas batch fitness evaluation: false\n",
      "\n",
      "\tHas gradient: true\n",
      "\tUser implemented gradient sparsity: false\n",
      "\tExpected gradients: 2\n",
      "\tHas hessians: true\n",
      "\tUser implemented hessians sparsity: true\n",
      "\tExpected hessian components: [2]\n",
      "\n",
      "\tFitness evaluations: 0\n",
      "\tGradient evaluations: 0\n",
      "\tHessians evaluations: 0\n",
      "\n",
      "\tThread safety: basic\n",
      "\n"
     ]
    }
   ],
   "source": [
    "print(problem_Rast)"
   ]
  },
  {
   "cell_type": "code",
   "execution_count": 465,
   "id": "0f8f181c",
   "metadata": {},
   "outputs": [],
   "source": [
    "pop_rast = population(problem_Rast, size=pop_size, seed=current_seed)  # задаем параметры начальной популяции\n",
    "\n",
    "pop_rast = few_evols(sade, pop_rast, 10, 3)"
   ]
  },
  {
   "cell_type": "code",
   "execution_count": 466,
   "id": "d2d6006c",
   "metadata": {},
   "outputs": [
    {
     "data": {
      "text/plain": [
       "array([-0.0070276 ,  0.00469033])"
      ]
     },
     "execution_count": 466,
     "metadata": {},
     "output_type": "execute_result"
    }
   ],
   "source": [
    "pop_rast[0].champion_x  # лучший результат - индивид"
   ]
  },
  {
   "cell_type": "code",
   "execution_count": 467,
   "id": "3ee073ee",
   "metadata": {},
   "outputs": [
    {
     "data": {
      "text/plain": [
       "array([0.01416059])"
      ]
     },
     "execution_count": 467,
     "metadata": {},
     "output_type": "execute_result"
    }
   ],
   "source": [
    "pop_rast[0].champion_f  # лучший результат - значение функции"
   ]
  },
  {
   "cell_type": "code",
   "execution_count": 468,
   "id": "6ca083c6",
   "metadata": {},
   "outputs": [
    {
     "data": {
      "text/plain": [
       "[(1,\n",
       "  100,\n",
       "  0.048530379218153286,\n",
       "  0.12108423493152899,\n",
       "  0.0890437854371941,\n",
       "  1.536547397367902,\n",
       "  22.736397361776735),\n",
       " (3,\n",
       "  300,\n",
       "  0.032790263731712344,\n",
       "  0.2688310985159322,\n",
       "  0.3379952516851393,\n",
       "  1.5141863392065895,\n",
       "  22.752137477263176),\n",
       " (5,\n",
       "  500,\n",
       "  0.014160587960809323,\n",
       "  0.26443553902273154,\n",
       "  0.5506582462092615,\n",
       "  1.3572876405684007,\n",
       "  12.115942539472536),\n",
       " (7,\n",
       "  700,\n",
       "  0.014160587960809323,\n",
       "  0.26443553902273154,\n",
       "  0.5506582462092615,\n",
       "  4.140645024247915,\n",
       "  11.5330453050835),\n",
       " (9,\n",
       "  900,\n",
       "  0.014160587960809323,\n",
       "  0.26443553902273154,\n",
       "  0.5506582462092615,\n",
       "  4.140645024247915,\n",
       "  11.5330453050835)]"
      ]
     },
     "execution_count": 468,
     "metadata": {},
     "output_type": "execute_result"
    }
   ],
   "source": [
    "pop_rast[3]"
   ]
  },
  {
   "cell_type": "code",
   "execution_count": 469,
   "id": "5ad9e189",
   "metadata": {},
   "outputs": [
    {
     "data": {
      "text/html": [
       "<div>\n",
       "<style scoped>\n",
       "    .dataframe tbody tr th:only-of-type {\n",
       "        vertical-align: middle;\n",
       "    }\n",
       "\n",
       "    .dataframe tbody tr th {\n",
       "        vertical-align: top;\n",
       "    }\n",
       "\n",
       "    .dataframe thead th {\n",
       "        text-align: right;\n",
       "    }\n",
       "</style>\n",
       "<table border=\"1\" class=\"dataframe\">\n",
       "  <thead>\n",
       "    <tr style=\"text-align: right;\">\n",
       "      <th></th>\n",
       "      <th>Problem</th>\n",
       "      <th>Method</th>\n",
       "      <th>Pop_Size</th>\n",
       "      <th>Num_Geners</th>\n",
       "      <th>Num_Evoluts</th>\n",
       "      <th>Min_Coordinates</th>\n",
       "      <th>Function_Value</th>\n",
       "    </tr>\n",
       "  </thead>\n",
       "  <tbody>\n",
       "    <tr>\n",
       "      <th>0</th>\n",
       "      <td>Himmelblau</td>\n",
       "      <td>pygmo.core.sade</td>\n",
       "      <td>100</td>\n",
       "      <td>10</td>\n",
       "      <td>10</td>\n",
       "      <td>[3.0000030217028164, 1.9999978996715322]</td>\n",
       "      <td>[2.858977834867216e-10]</td>\n",
       "    </tr>\n",
       "    <tr>\n",
       "      <th>1</th>\n",
       "      <td>Rastrigin Fun</td>\n",
       "      <td>pygmo.core.sade</td>\n",
       "      <td>100</td>\n",
       "      <td>10</td>\n",
       "      <td>3</td>\n",
       "      <td>[-0.007027601822826161, 0.004690325973629637]</td>\n",
       "      <td>[0.014160587960809323]</td>\n",
       "    </tr>\n",
       "  </tbody>\n",
       "</table>\n",
       "</div>"
      ],
      "text/plain": [
       "         Problem           Method Pop_Size Num_Geners Num_Evoluts  \\\n",
       "0     Himmelblau  pygmo.core.sade      100         10          10   \n",
       "1  Rastrigin Fun  pygmo.core.sade      100         10           3   \n",
       "\n",
       "                                 Min_Coordinates           Function_Value  \n",
       "0       [3.0000030217028164, 1.9999978996715322]  [2.858977834867216e-10]  \n",
       "1  [-0.007027601822826161, 0.004690325973629637]   [0.014160587960809323]  "
      ]
     },
     "execution_count": 469,
     "metadata": {},
     "output_type": "execute_result"
    }
   ],
   "source": [
    "pop_rast[4]"
   ]
  },
  {
   "cell_type": "markdown",
   "id": "c2d1e30b",
   "metadata": {},
   "source": [
    "### Rosenbrock"
   ]
  },
  {
   "cell_type": "markdown",
   "id": "d77a2046",
   "metadata": {},
   "source": [
    "**Функция Розенброка**\t$f(x) = \\displaystyle\\sum_{i=1}^{n-1} \\big\\lbrack 100(x_{i+1} - x_i^2)^2 +(x_i - 1)^2 \\big\\rbrack$"
   ]
  },
  {
   "cell_type": "code",
   "execution_count": 471,
   "id": "0d1c68d9",
   "metadata": {},
   "outputs": [
    {
     "data": {
      "text/html": [
       "<img src=\"https://wikimedia.org/api/rest_v1/media/math/render/svg/53f008f82897059e3591d0a9a0aa27b60a1745b4\"/>"
      ],
      "text/plain": [
       "<IPython.core.display.Image object>"
      ]
     },
     "execution_count": 471,
     "metadata": {},
     "output_type": "execute_result"
    }
   ],
   "source": [
    "Image(url= \"https://wikimedia.org/api/rest_v1/media/math/render/svg/53f008f82897059e3591d0a9a0aa27b60a1745b4\")"
   ]
  },
  {
   "cell_type": "code",
   "execution_count": 472,
   "id": "41f94383",
   "metadata": {},
   "outputs": [],
   "source": [
    "problem_Rosen = problem(rosenbrock(dim=2)) # задаем проблему Розенброка"
   ]
  },
  {
   "cell_type": "code",
   "execution_count": 475,
   "id": "1ad8c6bc",
   "metadata": {},
   "outputs": [],
   "source": [
    "pop_rosen = population(problem_Rosen, size=pop_size, seed=current_seed)\n",
    "pop_rosen = few_evols(sade, pop_rosen)"
   ]
  },
  {
   "cell_type": "code",
   "execution_count": 476,
   "id": "e5be0b2e",
   "metadata": {},
   "outputs": [
    {
     "data": {
      "text/plain": [
       "Problem name: Multidimensional Rosenbrock Function\n",
       "\tGlobal dimension:\t\t\t2\n",
       "\tInteger dimension:\t\t\t0\n",
       "\tFitness dimension:\t\t\t1\n",
       "\tNumber of objectives:\t\t\t1\n",
       "\tEquality constraints dimension:\t\t0\n",
       "\tInequality constraints dimension:\t0\n",
       "\tLower bounds: [-5, -5]\n",
       "\tUpper bounds: [10, 10]\n",
       "\tHas batch fitness evaluation: false\n",
       "\n",
       "\tHas gradient: true\n",
       "\tUser implemented gradient sparsity: false\n",
       "\tExpected gradients: 2\n",
       "\tHas hessians: false\n",
       "\tUser implemented hessians sparsity: false\n",
       "\n",
       "\tFitness evaluations: 10100\n",
       "\tGradient evaluations: 0\n",
       "\n",
       "\tThread safety: constant\n",
       "\n",
       "Population size: 100\n",
       "\n",
       "List of individuals: \n",
       "#0:\n",
       "\tID:\t\t\t1251045422705684049\n",
       "\tDecision vector:\t[1.00035, 1.00069]\n",
       "\tFitness vector:\t\t[1.56896e-07]\n",
       "#1:\n",
       "\tID:\t\t\t13306745122587129611\n",
       "\tDecision vector:\t[1.00021, 1.0004]\n",
       "\tFitness vector:\t\t[5.59468e-08]\n",
       "#2:\n",
       "\tID:\t\t\t2243283290487074856\n",
       "\tDecision vector:\t[0.999945, 0.999876]\n",
       "\tFitness vector:\t\t[2.03062e-08]\n",
       "#3:\n",
       "\tID:\t\t\t14933863474924020957\n",
       "\tDecision vector:\t[0.999105, 0.998241]\n",
       "\tFitness vector:\t\t[8.93731e-07]\n",
       "#4:\n",
       "\tID:\t\t\t17243872877975578934\n",
       "\tDecision vector:\t[1.0002, 1.00044]\n",
       "\tFitness vector:\t\t[2.07456e-07]\n",
       "#5:\n",
       "\tID:\t\t\t6317367564258785355\n",
       "\tDecision vector:\t[0.999892, 0.99976]\n",
       "\tFitness vector:\t\t[7.01995e-08]\n",
       "#6:\n",
       "\tID:\t\t\t5767095581384527037\n",
       "\tDecision vector:\t[0.999749, 0.999468]\n",
       "\tFitness vector:\t\t[1.53899e-07]\n",
       "#7:\n",
       "\tID:\t\t\t11073527033557064662\n",
       "\tDecision vector:\t[1.00044, 1.00086]\n",
       "\tFitness vector:\t\t[2.54788e-07]\n",
       "#8:\n",
       "\tID:\t\t\t12812026609316485676\n",
       "\tDecision vector:\t[1.00032, 1.00064]\n",
       "\tFitness vector:\t\t[1.01592e-07]\n",
       "#9:\n",
       "\tID:\t\t\t833260879212254718\n",
       "\tDecision vector:\t[0.999768, 0.999542]\n",
       "\tFitness vector:\t\t[5.91431e-08]\n",
       "#10:\n",
       "\tID:\t\t\t11561232637769216869\n",
       "\tDecision vector:\t[1.00015, 1.00029]\n",
       "\tFitness vector:\t\t[5.89709e-08]\n",
       "#11:\n",
       "\tID:\t\t\t3237343097608846505\n",
       "\tDecision vector:\t[1.00002, 1.00001]\n",
       "\tFitness vector:\t\t[4.81669e-08]\n",
       "#12:\n",
       "\tID:\t\t\t1493560049471955677\n",
       "\tDecision vector:\t[1.00017, 1.00035]\n",
       "\tFitness vector:\t\t[5.55343e-08]\n",
       "#13:\n",
       "\tID:\t\t\t5786762611976884509\n",
       "\tDecision vector:\t[1.00025, 1.00055]\n",
       "\tFitness vector:\t\t[2.10441e-07]\n",
       "#14:\n",
       "\tID:\t\t\t7639233320059363870\n",
       "\tDecision vector:\t[0.99977, 0.999482]\n",
       "\tFitness vector:\t\t[3.93032e-07]\n",
       "#15:\n",
       "\tID:\t\t\t7282624395788394193\n",
       "\tDecision vector:\t[0.999822, 0.999628]\n",
       "\tFitness vector:\t\t[5.79115e-08]\n",
       "#16:\n",
       "\tID:\t\t\t13337743603274878396\n",
       "\tDecision vector:\t[0.999841, 0.999657]\n",
       "\tFitness vector:\t\t[8.64722e-08]\n",
       "#17:\n",
       "\tID:\t\t\t9437810700771673774\n",
       "\tDecision vector:\t[0.999932, 0.99986]\n",
       "\tFitness vector:\t\t[6.61594e-09]\n",
       "#18:\n",
       "\tID:\t\t\t6339142993910244939\n",
       "\tDecision vector:\t[1.00013, 1.00027]\n",
       "\tFitness vector:\t\t[2.43892e-08]\n",
       "#19:\n",
       "\tID:\t\t\t8649830960307122186\n",
       "\tDecision vector:\t[1.00033, 1.00065]\n",
       "\tFitness vector:\t\t[1.32334e-07]\n",
       "#20:\n",
       "\tID:\t\t\t10085550129271458343\n",
       "\tDecision vector:\t[1.00016, 1.00035]\n",
       "\tFitness vector:\t\t[7.13475e-08]\n",
       "#21:\n",
       "\tID:\t\t\t15400720284873602448\n",
       "\tDecision vector:\t[0.999603, 0.999211]\n",
       "\tFitness vector:\t\t[1.60022e-07]\n",
       "#22:\n",
       "\tID:\t\t\t6421162328777384527\n",
       "\tDecision vector:\t[0.999549, 0.99913]\n",
       "\tFitness vector:\t\t[3.07907e-07]\n",
       "#23:\n",
       "\tID:\t\t\t14447232942589257380\n",
       "\tDecision vector:\t[0.999988, 0.999958]\n",
       "\tFitness vector:\t\t[3.19527e-08]\n",
       "#24:\n",
       "\tID:\t\t\t12009041140382375363\n",
       "\tDecision vector:\t[1.00071, 1.00134]\n",
       "\tFitness vector:\t\t[1.28618e-06]\n",
       "#25:\n",
       "\tID:\t\t\t16104482632050039807\n",
       "\tDecision vector:\t[0.999909, 0.999812]\n",
       "\tFitness vector:\t\t[1.30083e-08]\n",
       "#26:\n",
       "\tID:\t\t\t7575173218475417183\n",
       "\tDecision vector:\t[1.00026, 1.0005]\n",
       "\tFitness vector:\t\t[9.04237e-08]\n",
       "#27:\n",
       "\tID:\t\t\t3397139832381249544\n",
       "\tDecision vector:\t[1.00014, 1.00027]\n",
       "\tFitness vector:\t\t[2.24941e-08]\n",
       "#28:\n",
       "\tID:\t\t\t1718836477742309153\n",
       "\tDecision vector:\t[0.999855, 0.999722]\n",
       "\tFitness vector:\t\t[3.78421e-08]\n",
       "#29:\n",
       "\tID:\t\t\t10281461559782717617\n",
       "\tDecision vector:\t[1.00029, 1.00057]\n",
       "\tFitness vector:\t\t[8.35833e-08]\n",
       "#30:\n",
       "\tID:\t\t\t18019364056057569899\n",
       "\tDecision vector:\t[1.00014, 1.00036]\n",
       "\tFitness vector:\t\t[5.06952e-07]\n",
       "#31:\n",
       "\tID:\t\t\t5455110804170315819\n",
       "\tDecision vector:\t[1.00007, 1.00019]\n",
       "\tFitness vector:\t\t[1.44588e-07]\n",
       "#32:\n",
       "\tID:\t\t\t7252505274711861049\n",
       "\tDecision vector:\t[0.999832, 0.999637]\n",
       "\tFitness vector:\t\t[9.93971e-08]\n",
       "#33:\n",
       "\tID:\t\t\t15104173583108019228\n",
       "\tDecision vector:\t[0.999336, 0.998705]\n",
       "\tFitness vector:\t\t[5.43853e-07]\n",
       "#34:\n",
       "\tID:\t\t\t7268231045904028443\n",
       "\tDecision vector:\t[1.00004, 1.00006]\n",
       "\tFitness vector:\t\t[7.35426e-08]\n",
       "#35:\n",
       "\tID:\t\t\t16432822988885431091\n",
       "\tDecision vector:\t[1.00025, 1.00051]\n",
       "\tFitness vector:\t\t[6.46444e-08]\n",
       "#36:\n",
       "\tID:\t\t\t555722181771916988\n",
       "\tDecision vector:\t[0.999937, 0.999848]\n",
       "\tFitness vector:\t\t[7.37095e-08]\n",
       "#37:\n",
       "\tID:\t\t\t16598597020739597623\n",
       "\tDecision vector:\t[1.00003, 1.00006]\n",
       "\tFitness vector:\t\t[5.21198e-09]\n",
       "#38:\n",
       "\tID:\t\t\t5369950823060511684\n",
       "\tDecision vector:\t[1.00046, 1.00092]\n",
       "\tFitness vector:\t\t[2.13593e-07]\n",
       "#39:\n",
       "\tID:\t\t\t18090940414178391071\n",
       "\tDecision vector:\t[1.00014, 1.00025]\n",
       "\tFitness vector:\t\t[7.45335e-08]\n",
       "#40:\n",
       "\tID:\t\t\t14252035989901203085\n",
       "\tDecision vector:\t[0.999986, 0.99999]\n",
       "\tFitness vector:\t\t[3.18541e-08]\n",
       "#41:\n",
       "\tID:\t\t\t14986937231927871885\n",
       "\tDecision vector:\t[0.999867, 0.999706]\n",
       "\tFitness vector:\t\t[9.41279e-08]\n",
       "#42:\n",
       "\tID:\t\t\t8757059723595161180\n",
       "\tDecision vector:\t[0.999854, 0.999699]\n",
       "\tFitness vector:\t\t[2.79668e-08]\n",
       "#43:\n",
       "\tID:\t\t\t5579902396453259269\n",
       "\tDecision vector:\t[1.00008, 1.00016]\n",
       "\tFitness vector:\t\t[1.32459e-08]\n",
       "#44:\n",
       "\tID:\t\t\t5979024114906185547\n",
       "\tDecision vector:\t[0.99995, 0.999949]\n",
       "\tFitness vector:\t\t[2.49204e-07]\n",
       "#45:\n",
       "\tID:\t\t\t16352366715774896642\n",
       "\tDecision vector:\t[0.999827, 0.999665]\n",
       "\tFitness vector:\t\t[4.103e-08]\n",
       "#46:\n",
       "\tID:\t\t\t7923656245360582326\n",
       "\tDecision vector:\t[0.999933, 0.999866]\n",
       "\tFitness vector:\t\t[4.72578e-09]\n",
       "#47:\n",
       "\tID:\t\t\t56790861320005441\n",
       "\tDecision vector:\t[1.00005, 1.00008]\n",
       "\tFitness vector:\t\t[3.78356e-08]\n",
       "#48:\n",
       "\tID:\t\t\t11418474414981513897\n",
       "\tDecision vector:\t[0.999971, 0.999976]\n",
       "\tFitness vector:\t\t[1.16759e-07]\n",
       "#49:\n",
       "\tID:\t\t\t11776671038837028290\n",
       "\tDecision vector:\t[1.00008, 1.00021]\n",
       "\tFitness vector:\t\t[2.27385e-07]\n",
       "#50:\n",
       "\tID:\t\t\t11107408415616544811\n",
       "\tDecision vector:\t[1.00021, 1.00042]\n",
       "\tFitness vector:\t\t[5.50764e-08]\n",
       "#51:\n",
       "\tID:\t\t\t1566085489339561191\n",
       "\tDecision vector:\t[1.00024, 1.00049]\n",
       "\tFitness vector:\t\t[6.59526e-08]\n",
       "#52:\n",
       "\tID:\t\t\t3482554069501026497\n",
       "\tDecision vector:\t[1.00023, 1.00045]\n",
       "\tFitness vector:\t\t[8.5313e-08]\n",
       "#53:\n",
       "\tID:\t\t\t14260913417514336727\n",
       "\tDecision vector:\t[0.999771, 0.999582]\n",
       "\tFitness vector:\t\t[2.23442e-07]\n",
       "#54:\n",
       "\tID:\t\t\t10889186707573297996\n",
       "\tDecision vector:\t[0.999558, 0.999082]\n",
       "\tFitness vector:\t\t[3.04603e-07]\n",
       "#55:\n",
       "\tID:\t\t\t12655133944716802697\n",
       "\tDecision vector:\t[1.00016, 1.00034]\n",
       "\tFitness vector:\t\t[5.38057e-08]\n",
       "#56:\n",
       "\tID:\t\t\t1348293095547690317\n",
       "\tDecision vector:\t[1.00016, 1.00032]\n",
       "\tFitness vector:\t\t[2.80711e-08]\n",
       "#57:\n",
       "\tID:\t\t\t10357247843320647920\n",
       "\tDecision vector:\t[1.0004, 1.00076]\n",
       "\tFitness vector:\t\t[2.36637e-07]\n",
       "#58:\n",
       "\tID:\t\t\t4770872430786725668\n",
       "\tDecision vector:\t[0.999888, 0.999769]\n",
       "\tFitness vector:\t\t[1.66275e-08]\n",
       "#59:\n",
       "\tID:\t\t\t4080116852701051492\n",
       "\tDecision vector:\t[1.00014, 1.00028]\n",
       "\tFitness vector:\t\t[2.40818e-08]\n",
       "#60:\n",
       "\tID:\t\t\t2123230456092929506\n",
       "\tDecision vector:\t[0.999827, 0.999669]\n",
       "\tFitness vector:\t\t[5.39451e-08]\n",
       "#61:\n",
       "\tID:\t\t\t1827259505337045102\n",
       "\tDecision vector:\t[1.00008, 1.00017]\n",
       "\tFitness vector:\t\t[1.26518e-08]\n",
       "#62:\n",
       "\tID:\t\t\t4498569842041495355\n",
       "\tDecision vector:\t[0.999913, 0.999828]\n",
       "\tFitness vector:\t\t[7.65171e-09]\n",
       "#63:\n",
       "\tID:\t\t\t13762056892306013522\n",
       "\tDecision vector:\t[0.999397, 0.998831]\n",
       "\tFitness vector:\t\t[4.9732e-07]\n",
       "#64:\n",
       "\tID:\t\t\t10964422453348071939\n",
       "\tDecision vector:\t[0.999661, 0.999301]\n",
       "\tFitness vector:\t\t[1.57613e-07]\n",
       "#65:\n",
       "\tID:\t\t\t9901655082978567328\n",
       "\tDecision vector:\t[0.999814, 0.99961]\n",
       "\tFitness vector:\t\t[6.90349e-08]\n",
       "#66:\n",
       "\tID:\t\t\t6928199331860439658\n",
       "\tDecision vector:\t[1, 0.999979]\n",
       "\tFitness vector:\t\t[8.84559e-08]\n",
       "#67:\n",
       "\tID:\t\t\t4335178117327608557\n",
       "\tDecision vector:\t[0.999556, 0.999155]\n",
       "\tFitness vector:\t\t[3.77482e-07]\n",
       "#68:\n",
       "\tID:\t\t\t10898607909577865434\n",
       "\tDecision vector:\t[0.999635, 0.999264]\n",
       "\tFitness vector:\t\t[1.37161e-07]\n",
       "#69:\n",
       "\tID:\t\t\t15525459386547006313\n",
       "\tDecision vector:\t[1.00023, 1.00045]\n",
       "\tFitness vector:\t\t[5.93609e-08]\n",
       "#70:\n",
       "\tID:\t\t\t8804518294443752374\n",
       "\tDecision vector:\t[0.999899, 0.999762]\n",
       "\tFitness vector:\t\t[1.36616e-07]\n",
       "#71:\n",
       "\tID:\t\t\t1544769756573396925\n",
       "\tDecision vector:\t[1.00011, 1.00006]\n",
       "\tFitness vector:\t\t[2.73967e-06]\n",
       "#72:\n",
       "\tID:\t\t\t17215277337663244045\n",
       "\tDecision vector:\t[1.00017, 1.00034]\n",
       "\tFitness vector:\t\t[3.75515e-08]\n",
       "#73:\n",
       "\tID:\t\t\t8966567697882271707\n",
       "\tDecision vector:\t[1.00019, 1.00041]\n",
       "\tFitness vector:\t\t[1.27213e-07]\n",
       "#74:\n",
       "\tID:\t\t\t2312497592050510608\n",
       "\tDecision vector:\t[1.00061, 1.00121]\n",
       "\tFitness vector:\t\t[3.74625e-07]\n",
       "#75:\n",
       "\tID:\t\t\t15483079761747996995\n",
       "\tDecision vector:\t[0.99967, 0.999362]\n",
       "\tFitness vector:\t\t[1.57435e-07]\n",
       "#76:\n",
       "\tID:\t\t\t7054120651797810135\n",
       "\tDecision vector:\t[0.999757, 0.999533]\n",
       "\tFitness vector:\t\t[9.28409e-08]\n",
       "#77:\n",
       "\tID:\t\t\t2005054917284423186\n",
       "\tDecision vector:\t[1.00021, 1.00042]\n",
       "\tFitness vector:\t\t[5.14031e-08]\n",
       "#78:\n",
       "\tID:\t\t\t17624142894656024433\n",
       "\tDecision vector:\t[0.999852, 0.999747]\n",
       "\tFitness vector:\t\t[1.96819e-07]\n",
       "#79:\n",
       "\tID:\t\t\t6339230956363130937\n",
       "\tDecision vector:\t[1.00013, 1.00024]\n",
       "\tFitness vector:\t\t[4.20322e-08]\n",
       "#80:\n",
       "\tID:\t\t\t3946860675051063081\n",
       "\tDecision vector:\t[1.00017, 1.00032]\n",
       "\tFitness vector:\t\t[5.53999e-08]\n",
       "#81:\n",
       "\tID:\t\t\t8460774354138544100\n",
       "\tDecision vector:\t[0.999882, 0.999768]\n",
       "\tFitness vector:\t\t[1.65595e-08]\n",
       "#82:\n",
       "\tID:\t\t\t459237382884374416\n",
       "\tDecision vector:\t[1.00024, 1.00048]\n",
       "\tFitness vector:\t\t[5.80487e-08]\n",
       "#83:\n",
       "\tID:\t\t\t4523530400395399803\n",
       "\tDecision vector:\t[0.999895, 0.999828]\n",
       "\tFitness vector:\t\t[1.57581e-07]\n",
       "#84:\n",
       "\tID:\t\t\t12051468203408101324\n",
       "\tDecision vector:\t[0.9998, 0.999625]\n",
       "\tFitness vector:\t\t[1.05647e-07]\n",
       "#85:\n",
       "\tID:\t\t\t6223503400744349375\n",
       "\tDecision vector:\t[1.00035, 1.0007]\n",
       "\tFitness vector:\t\t[1.24916e-07]\n",
       "#86:\n",
       "\tID:\t\t\t397704971183693025\n",
       "\tDecision vector:\t[1.00035, 1.00069]\n",
       "\tFitness vector:\t\t[1.21665e-07]\n",
       "#87:\n",
       "\tID:\t\t\t5025097827683351117\n",
       "\tDecision vector:\t[1.00015, 1.0003]\n",
       "\tFitness vector:\t\t[2.28113e-08]\n",
       "#88:\n",
       "\tID:\t\t\t17736344091763247393\n",
       "\tDecision vector:\t[1.00008, 1.00021]\n",
       "\tFitness vector:\t\t[2.32888e-07]\n",
       "#89:\n",
       "\tID:\t\t\t13143780143580170534\n",
       "\tDecision vector:\t[1.00004, 1.00009]\n",
       "\tFitness vector:\t\t[4.18043e-08]\n",
       "#90:\n",
       "\tID:\t\t\t11312704168777721616\n",
       "\tDecision vector:\t[1.0005, 1.00095]\n",
       "\tFitness vector:\t\t[5.02648e-07]\n",
       "#91:\n",
       "\tID:\t\t\t785718120196505116\n",
       "\tDecision vector:\t[1.00005, 1.0001]\n",
       "\tFitness vector:\t\t[3.11168e-09]\n",
       "#92:\n",
       "\tID:\t\t\t18055394368483603905\n",
       "\tDecision vector:\t[0.999822, 0.999654]\n",
       "\tFitness vector:\t\t[4.19583e-08]\n",
       "#93:\n",
       "\tID:\t\t\t10105756015355935779\n",
       "\tDecision vector:\t[0.999452, 0.998865]\n",
       "\tFitness vector:\t\t[4.51014e-07]\n",
       "#94:\n",
       "\tID:\t\t\t9444456556214811969\n",
       "\tDecision vector:\t[1.00012, 1.00025]\n",
       "\tFitness vector:\t\t[1.86348e-08]\n",
       "#95:\n",
       "\tID:\t\t\t14960565121114444993\n",
       "\tDecision vector:\t[1.00016, 1.00033]\n",
       "\tFitness vector:\t\t[4.6607e-08]\n",
       "#96:\n",
       "\tID:\t\t\t13210592338659723352\n",
       "\tDecision vector:\t[1.00018, 1.00037]\n",
       "\tFitness vector:\t\t[3.70862e-08]\n",
       "#97:\n",
       "\tID:\t\t\t15327125903161815289\n",
       "\tDecision vector:\t[0.999417, 0.99881]\n",
       "\tFitness vector:\t\t[3.98439e-07]\n",
       "#98:\n",
       "\tID:\t\t\t2710934813496980636\n",
       "\tDecision vector:\t[0.999901, 0.999823]\n",
       "\tFitness vector:\t\t[5.51394e-08]\n",
       "#99:\n",
       "\tID:\t\t\t10888205333614501837\n",
       "\tDecision vector:\t[0.999728, 0.999454]\n",
       "\tFitness vector:\t\t[7.4233e-08]\n",
       "\n",
       "Champion decision vector: [1.00005, 1.0001]\n",
       "Champion fitness: [3.11168e-09]"
      ]
     },
     "execution_count": 476,
     "metadata": {},
     "output_type": "execute_result"
    }
   ],
   "source": [
    "pop_rosen[0]"
   ]
  },
  {
   "cell_type": "code",
   "execution_count": 477,
   "id": "0e88c8aa",
   "metadata": {},
   "outputs": [
    {
     "data": {
      "text/plain": [
       "array([1.00005297, 1.00010419])"
      ]
     },
     "execution_count": 477,
     "metadata": {},
     "output_type": "execute_result"
    }
   ],
   "source": [
    "pop_rosen[0].champion_x"
   ]
  },
  {
   "cell_type": "code",
   "execution_count": 478,
   "id": "b201ff5b",
   "metadata": {},
   "outputs": [
    {
     "data": {
      "text/plain": [
       "array([3.11168036e-09])"
      ]
     },
     "execution_count": 478,
     "metadata": {},
     "output_type": "execute_result"
    }
   ],
   "source": [
    "pop_rosen[0].champion_f"
   ]
  },
  {
   "cell_type": "code",
   "execution_count": 479,
   "id": "a32981b3",
   "metadata": {},
   "outputs": [
    {
     "data": {
      "text/html": [
       "<div>\n",
       "<style scoped>\n",
       "    .dataframe tbody tr th:only-of-type {\n",
       "        vertical-align: middle;\n",
       "    }\n",
       "\n",
       "    .dataframe tbody tr th {\n",
       "        vertical-align: top;\n",
       "    }\n",
       "\n",
       "    .dataframe thead th {\n",
       "        text-align: right;\n",
       "    }\n",
       "</style>\n",
       "<table border=\"1\" class=\"dataframe\">\n",
       "  <thead>\n",
       "    <tr style=\"text-align: right;\">\n",
       "      <th></th>\n",
       "      <th>Problem</th>\n",
       "      <th>Method</th>\n",
       "      <th>Pop_Size</th>\n",
       "      <th>Num_Geners</th>\n",
       "      <th>Num_Evoluts</th>\n",
       "      <th>Min_Coordinates</th>\n",
       "      <th>Function_Value</th>\n",
       "    </tr>\n",
       "  </thead>\n",
       "  <tbody>\n",
       "    <tr>\n",
       "      <th>0</th>\n",
       "      <td>Himmelblau</td>\n",
       "      <td>pygmo.core.sade</td>\n",
       "      <td>100</td>\n",
       "      <td>10</td>\n",
       "      <td>10</td>\n",
       "      <td>[3.0000030217028164, 1.9999978996715322]</td>\n",
       "      <td>[2.858977834867216e-10]</td>\n",
       "    </tr>\n",
       "    <tr>\n",
       "      <th>1</th>\n",
       "      <td>Rastrigin Fun</td>\n",
       "      <td>pygmo.core.sade</td>\n",
       "      <td>100</td>\n",
       "      <td>10</td>\n",
       "      <td>3</td>\n",
       "      <td>[-0.007027601822826161, 0.004690325973629637]</td>\n",
       "      <td>[0.014160587960809323]</td>\n",
       "    </tr>\n",
       "    <tr>\n",
       "      <th>2</th>\n",
       "      <td>Rosenbrock</td>\n",
       "      <td>pygmo.core.sade</td>\n",
       "      <td>100</td>\n",
       "      <td>10</td>\n",
       "      <td>10</td>\n",
       "      <td>[1.000052967752323, 1.0001041887458]</td>\n",
       "      <td>[3.1116803553227313e-09]</td>\n",
       "    </tr>\n",
       "  </tbody>\n",
       "</table>\n",
       "</div>"
      ],
      "text/plain": [
       "         Problem           Method Pop_Size Num_Geners Num_Evoluts  \\\n",
       "0     Himmelblau  pygmo.core.sade      100         10          10   \n",
       "1  Rastrigin Fun  pygmo.core.sade      100         10           3   \n",
       "2     Rosenbrock  pygmo.core.sade      100         10          10   \n",
       "\n",
       "                                 Min_Coordinates            Function_Value  \n",
       "0       [3.0000030217028164, 1.9999978996715322]   [2.858977834867216e-10]  \n",
       "1  [-0.007027601822826161, 0.004690325973629637]    [0.014160587960809323]  \n",
       "2           [1.000052967752323, 1.0001041887458]  [3.1116803553227313e-09]  "
      ]
     },
     "execution_count": 479,
     "metadata": {},
     "output_type": "execute_result"
    }
   ],
   "source": [
    "pop_rosen[4]"
   ]
  },
  {
   "cell_type": "markdown",
   "id": "0b6c75dd",
   "metadata": {},
   "source": [
    "<a id='gen2'></a>"
   ]
  },
  {
   "cell_type": "markdown",
   "id": "ddada8d0",
   "metadata": {},
   "source": [
    "## Grey Wolf Optimizer (gwo)"
   ]
  },
  {
   "cell_type": "markdown",
   "id": "6d91acb8",
   "metadata": {},
   "source": [
    "### Himmelblau"
   ]
  },
  {
   "cell_type": "code",
   "execution_count": 480,
   "id": "80b53464",
   "metadata": {},
   "outputs": [],
   "source": [
    "pop_him = population(problem_Him, size=pop_size, seed=current_seed)  # задаем параметры начальной популяции\n",
    "\n",
    "pop_him = few_evols(gwo, pop_him)"
   ]
  },
  {
   "cell_type": "code",
   "execution_count": 481,
   "id": "66d4da02",
   "metadata": {},
   "outputs": [
    {
     "data": {
      "text/plain": [
       "array([2.99955458, 2.00506288])"
      ]
     },
     "execution_count": 481,
     "metadata": {},
     "output_type": "execute_result"
    }
   ],
   "source": [
    "pop_him[0].champion_x "
   ]
  },
  {
   "cell_type": "code",
   "execution_count": 482,
   "id": "17aa5ba8",
   "metadata": {},
   "outputs": [
    {
     "data": {
      "text/plain": [
       "array([0.00039901])"
      ]
     },
     "execution_count": 482,
     "metadata": {},
     "output_type": "execute_result"
    }
   ],
   "source": [
    "pop_him[0].champion_f"
   ]
  },
  {
   "cell_type": "markdown",
   "id": "0d68b465",
   "metadata": {},
   "source": [
    "### Rastrigin"
   ]
  },
  {
   "cell_type": "code",
   "execution_count": 483,
   "id": "ad4f20a5",
   "metadata": {},
   "outputs": [],
   "source": [
    "pop_rast = population(problem_Rast, size=pop_size, seed=current_seed)\n",
    "\n",
    "pop_rast = few_evols(gwo, pop_rast, 5, 2)"
   ]
  },
  {
   "cell_type": "code",
   "execution_count": 484,
   "id": "dfef2b3f",
   "metadata": {},
   "outputs": [
    {
     "data": {
      "text/plain": [
       "(Problem name: Rastrigin Function\n",
       " \tGlobal dimension:\t\t\t2\n",
       " \tInteger dimension:\t\t\t0\n",
       " \tFitness dimension:\t\t\t1\n",
       " \tNumber of objectives:\t\t\t1\n",
       " \tEquality constraints dimension:\t\t0\n",
       " \tInequality constraints dimension:\t0\n",
       " \tLower bounds: [-5.12, -5.12]\n",
       " \tUpper bounds: [5.12, 5.12]\n",
       " \tHas batch fitness evaluation: false\n",
       " \n",
       " \tHas gradient: true\n",
       " \tUser implemented gradient sparsity: false\n",
       " \tExpected gradients: 2\n",
       " \tHas hessians: true\n",
       " \tUser implemented hessians sparsity: true\n",
       " \tExpected hessian components: [2]\n",
       " \n",
       " \tFitness evaluations: 1100\n",
       " \tGradient evaluations: 0\n",
       " \tHessians evaluations: 0\n",
       " \n",
       " \tThread safety: basic\n",
       " \n",
       " Population size: 100\n",
       " \n",
       " List of individuals: \n",
       " #0:\n",
       " \tID:\t\t\t1251045422705684049\n",
       " \tDecision vector:\t[2.14502e-08, 1.72258e-08]\n",
       " \tFitness vector:\t\t[1.49214e-13]\n",
       " #1:\n",
       " \tID:\t\t\t13306745122587129611\n",
       " \tDecision vector:\t[2.1583e-08, 2.73215e-09]\n",
       " \tFitness vector:\t\t[9.23706e-14]\n",
       " #2:\n",
       " \tID:\t\t\t2243283290487074856\n",
       " \tDecision vector:\t[2.12617e-08, 3.29143e-09]\n",
       " \tFitness vector:\t\t[9.23706e-14]\n",
       " #3:\n",
       " \tID:\t\t\t14933863474924020957\n",
       " \tDecision vector:\t[2.12617e-08, 3.29143e-09]\n",
       " \tFitness vector:\t\t[9.23706e-14]\n",
       " #4:\n",
       " \tID:\t\t\t17243872877975578934\n",
       " \tDecision vector:\t[2.12617e-08, 3.29143e-09]\n",
       " \tFitness vector:\t\t[9.23706e-14]\n",
       " #5:\n",
       " \tID:\t\t\t6317367564258785355\n",
       " \tDecision vector:\t[2.12617e-08, 3.29143e-09]\n",
       " \tFitness vector:\t\t[9.23706e-14]\n",
       " #6:\n",
       " \tID:\t\t\t5767095581384527037\n",
       " \tDecision vector:\t[2.12617e-08, 3.29143e-09]\n",
       " \tFitness vector:\t\t[9.23706e-14]\n",
       " #7:\n",
       " \tID:\t\t\t11073527033557064662\n",
       " \tDecision vector:\t[2.12617e-08, 3.29143e-09]\n",
       " \tFitness vector:\t\t[9.23706e-14]\n",
       " #8:\n",
       " \tID:\t\t\t12812026609316485676\n",
       " \tDecision vector:\t[2.12617e-08, 3.29143e-09]\n",
       " \tFitness vector:\t\t[9.23706e-14]\n",
       " #9:\n",
       " \tID:\t\t\t833260879212254718\n",
       " \tDecision vector:\t[2.12617e-08, 3.29143e-09]\n",
       " \tFitness vector:\t\t[9.23706e-14]\n",
       " #10:\n",
       " \tID:\t\t\t11561232637769216869\n",
       " \tDecision vector:\t[2.12617e-08, 3.29143e-09]\n",
       " \tFitness vector:\t\t[9.23706e-14]\n",
       " #11:\n",
       " \tID:\t\t\t3237343097608846505\n",
       " \tDecision vector:\t[2.12617e-08, 3.29143e-09]\n",
       " \tFitness vector:\t\t[9.23706e-14]\n",
       " #12:\n",
       " \tID:\t\t\t1493560049471955677\n",
       " \tDecision vector:\t[2.12617e-08, 3.29143e-09]\n",
       " \tFitness vector:\t\t[9.23706e-14]\n",
       " #13:\n",
       " \tID:\t\t\t5786762611976884509\n",
       " \tDecision vector:\t[2.12617e-08, 3.29143e-09]\n",
       " \tFitness vector:\t\t[9.23706e-14]\n",
       " #14:\n",
       " \tID:\t\t\t7639233320059363870\n",
       " \tDecision vector:\t[2.12617e-08, 3.29143e-09]\n",
       " \tFitness vector:\t\t[9.23706e-14]\n",
       " #15:\n",
       " \tID:\t\t\t7282624395788394193\n",
       " \tDecision vector:\t[2.12617e-08, 3.29143e-09]\n",
       " \tFitness vector:\t\t[9.23706e-14]\n",
       " #16:\n",
       " \tID:\t\t\t13337743603274878396\n",
       " \tDecision vector:\t[2.12617e-08, 3.29143e-09]\n",
       " \tFitness vector:\t\t[9.23706e-14]\n",
       " #17:\n",
       " \tID:\t\t\t9437810700771673774\n",
       " \tDecision vector:\t[2.12617e-08, 3.29143e-09]\n",
       " \tFitness vector:\t\t[9.23706e-14]\n",
       " #18:\n",
       " \tID:\t\t\t6339142993910244939\n",
       " \tDecision vector:\t[2.12617e-08, 3.29143e-09]\n",
       " \tFitness vector:\t\t[9.23706e-14]\n",
       " #19:\n",
       " \tID:\t\t\t8649830960307122186\n",
       " \tDecision vector:\t[2.12617e-08, 3.29143e-09]\n",
       " \tFitness vector:\t\t[9.23706e-14]\n",
       " #20:\n",
       " \tID:\t\t\t10085550129271458343\n",
       " \tDecision vector:\t[2.12617e-08, 3.29143e-09]\n",
       " \tFitness vector:\t\t[9.23706e-14]\n",
       " #21:\n",
       " \tID:\t\t\t15400720284873602448\n",
       " \tDecision vector:\t[2.12617e-08, 3.29143e-09]\n",
       " \tFitness vector:\t\t[9.23706e-14]\n",
       " #22:\n",
       " \tID:\t\t\t6421162328777384527\n",
       " \tDecision vector:\t[2.12617e-08, 3.29143e-09]\n",
       " \tFitness vector:\t\t[9.23706e-14]\n",
       " #23:\n",
       " \tID:\t\t\t14447232942589257380\n",
       " \tDecision vector:\t[2.12617e-08, 3.29143e-09]\n",
       " \tFitness vector:\t\t[9.23706e-14]\n",
       " #24:\n",
       " \tID:\t\t\t12009041140382375363\n",
       " \tDecision vector:\t[2.12617e-08, 3.29143e-09]\n",
       " \tFitness vector:\t\t[9.23706e-14]\n",
       " #25:\n",
       " \tID:\t\t\t16104482632050039807\n",
       " \tDecision vector:\t[2.12617e-08, 3.29143e-09]\n",
       " \tFitness vector:\t\t[9.23706e-14]\n",
       " #26:\n",
       " \tID:\t\t\t7575173218475417183\n",
       " \tDecision vector:\t[2.12617e-08, 3.29143e-09]\n",
       " \tFitness vector:\t\t[9.23706e-14]\n",
       " #27:\n",
       " \tID:\t\t\t3397139832381249544\n",
       " \tDecision vector:\t[2.12617e-08, 3.29143e-09]\n",
       " \tFitness vector:\t\t[9.23706e-14]\n",
       " #28:\n",
       " \tID:\t\t\t1718836477742309153\n",
       " \tDecision vector:\t[2.12617e-08, 3.29143e-09]\n",
       " \tFitness vector:\t\t[9.23706e-14]\n",
       " #29:\n",
       " \tID:\t\t\t10281461559782717617\n",
       " \tDecision vector:\t[2.12617e-08, 3.29143e-09]\n",
       " \tFitness vector:\t\t[9.23706e-14]\n",
       " #30:\n",
       " \tID:\t\t\t18019364056057569899\n",
       " \tDecision vector:\t[2.12617e-08, 3.29143e-09]\n",
       " \tFitness vector:\t\t[9.23706e-14]\n",
       " #31:\n",
       " \tID:\t\t\t5455110804170315819\n",
       " \tDecision vector:\t[2.12617e-08, 3.29143e-09]\n",
       " \tFitness vector:\t\t[9.23706e-14]\n",
       " #32:\n",
       " \tID:\t\t\t7252505274711861049\n",
       " \tDecision vector:\t[2.12617e-08, 3.29143e-09]\n",
       " \tFitness vector:\t\t[9.23706e-14]\n",
       " #33:\n",
       " \tID:\t\t\t15104173583108019228\n",
       " \tDecision vector:\t[2.12617e-08, 3.29143e-09]\n",
       " \tFitness vector:\t\t[9.23706e-14]\n",
       " #34:\n",
       " \tID:\t\t\t7268231045904028443\n",
       " \tDecision vector:\t[2.12617e-08, 3.29143e-09]\n",
       " \tFitness vector:\t\t[9.23706e-14]\n",
       " #35:\n",
       " \tID:\t\t\t16432822988885431091\n",
       " \tDecision vector:\t[2.12617e-08, 3.29143e-09]\n",
       " \tFitness vector:\t\t[9.23706e-14]\n",
       " #36:\n",
       " \tID:\t\t\t555722181771916988\n",
       " \tDecision vector:\t[2.12617e-08, 3.29143e-09]\n",
       " \tFitness vector:\t\t[9.23706e-14]\n",
       " #37:\n",
       " \tID:\t\t\t16598597020739597623\n",
       " \tDecision vector:\t[2.12617e-08, 3.29143e-09]\n",
       " \tFitness vector:\t\t[9.23706e-14]\n",
       " #38:\n",
       " \tID:\t\t\t5369950823060511684\n",
       " \tDecision vector:\t[2.12617e-08, 3.29143e-09]\n",
       " \tFitness vector:\t\t[9.23706e-14]\n",
       " #39:\n",
       " \tID:\t\t\t18090940414178391071\n",
       " \tDecision vector:\t[2.12617e-08, 3.29143e-09]\n",
       " \tFitness vector:\t\t[9.23706e-14]\n",
       " #40:\n",
       " \tID:\t\t\t14252035989901203085\n",
       " \tDecision vector:\t[2.12617e-08, 3.29143e-09]\n",
       " \tFitness vector:\t\t[9.23706e-14]\n",
       " #41:\n",
       " \tID:\t\t\t14986937231927871885\n",
       " \tDecision vector:\t[2.12617e-08, 3.29143e-09]\n",
       " \tFitness vector:\t\t[9.23706e-14]\n",
       " #42:\n",
       " \tID:\t\t\t8757059723595161180\n",
       " \tDecision vector:\t[2.12617e-08, 3.29143e-09]\n",
       " \tFitness vector:\t\t[9.23706e-14]\n",
       " #43:\n",
       " \tID:\t\t\t5579902396453259269\n",
       " \tDecision vector:\t[2.12617e-08, 3.29143e-09]\n",
       " \tFitness vector:\t\t[9.23706e-14]\n",
       " #44:\n",
       " \tID:\t\t\t5979024114906185547\n",
       " \tDecision vector:\t[2.12617e-08, 3.29143e-09]\n",
       " \tFitness vector:\t\t[9.23706e-14]\n",
       " #45:\n",
       " \tID:\t\t\t16352366715774896642\n",
       " \tDecision vector:\t[2.12617e-08, 3.29143e-09]\n",
       " \tFitness vector:\t\t[9.23706e-14]\n",
       " #46:\n",
       " \tID:\t\t\t7923656245360582326\n",
       " \tDecision vector:\t[2.12617e-08, 3.29143e-09]\n",
       " \tFitness vector:\t\t[9.23706e-14]\n",
       " #47:\n",
       " \tID:\t\t\t56790861320005441\n",
       " \tDecision vector:\t[2.12617e-08, 3.29143e-09]\n",
       " \tFitness vector:\t\t[9.23706e-14]\n",
       " #48:\n",
       " \tID:\t\t\t11418474414981513897\n",
       " \tDecision vector:\t[2.12617e-08, 3.29143e-09]\n",
       " \tFitness vector:\t\t[9.23706e-14]\n",
       " #49:\n",
       " \tID:\t\t\t11776671038837028290\n",
       " \tDecision vector:\t[2.12617e-08, 3.29143e-09]\n",
       " \tFitness vector:\t\t[9.23706e-14]\n",
       " #50:\n",
       " \tID:\t\t\t11107408415616544811\n",
       " \tDecision vector:\t[2.12617e-08, 3.29143e-09]\n",
       " \tFitness vector:\t\t[9.23706e-14]\n",
       " #51:\n",
       " \tID:\t\t\t1566085489339561191\n",
       " \tDecision vector:\t[2.12617e-08, 3.29143e-09]\n",
       " \tFitness vector:\t\t[9.23706e-14]\n",
       " #52:\n",
       " \tID:\t\t\t3482554069501026497\n",
       " \tDecision vector:\t[2.12617e-08, 3.29143e-09]\n",
       " \tFitness vector:\t\t[9.23706e-14]\n",
       " #53:\n",
       " \tID:\t\t\t14260913417514336727\n",
       " \tDecision vector:\t[2.12617e-08, 3.29143e-09]\n",
       " \tFitness vector:\t\t[9.23706e-14]\n",
       " #54:\n",
       " \tID:\t\t\t10889186707573297996\n",
       " \tDecision vector:\t[2.12617e-08, 3.29143e-09]\n",
       " \tFitness vector:\t\t[9.23706e-14]\n",
       " #55:\n",
       " \tID:\t\t\t12655133944716802697\n",
       " \tDecision vector:\t[2.12617e-08, 3.29143e-09]\n",
       " \tFitness vector:\t\t[9.23706e-14]\n",
       " #56:\n",
       " \tID:\t\t\t1348293095547690317\n",
       " \tDecision vector:\t[2.12617e-08, 3.29143e-09]\n",
       " \tFitness vector:\t\t[9.23706e-14]\n",
       " #57:\n",
       " \tID:\t\t\t10357247843320647920\n",
       " \tDecision vector:\t[2.12617e-08, 3.29143e-09]\n",
       " \tFitness vector:\t\t[9.23706e-14]\n",
       " #58:\n",
       " \tID:\t\t\t4770872430786725668\n",
       " \tDecision vector:\t[2.12617e-08, 3.29143e-09]\n",
       " \tFitness vector:\t\t[9.23706e-14]\n",
       " #59:\n",
       " \tID:\t\t\t4080116852701051492\n",
       " \tDecision vector:\t[2.12617e-08, 3.29143e-09]\n",
       " \tFitness vector:\t\t[9.23706e-14]\n",
       " #60:\n",
       " \tID:\t\t\t2123230456092929506\n",
       " \tDecision vector:\t[2.12617e-08, 3.29143e-09]\n",
       " \tFitness vector:\t\t[9.23706e-14]\n",
       " #61:\n",
       " \tID:\t\t\t1827259505337045102\n",
       " \tDecision vector:\t[2.12617e-08, 3.29143e-09]\n",
       " \tFitness vector:\t\t[9.23706e-14]\n",
       " #62:\n",
       " \tID:\t\t\t4498569842041495355\n",
       " \tDecision vector:\t[2.12617e-08, 3.29143e-09]\n",
       " \tFitness vector:\t\t[9.23706e-14]\n",
       " #63:\n",
       " \tID:\t\t\t13762056892306013522\n",
       " \tDecision vector:\t[2.12617e-08, 3.29143e-09]\n",
       " \tFitness vector:\t\t[9.23706e-14]\n",
       " #64:\n",
       " \tID:\t\t\t10964422453348071939\n",
       " \tDecision vector:\t[2.12617e-08, 3.29143e-09]\n",
       " \tFitness vector:\t\t[9.23706e-14]\n",
       " #65:\n",
       " \tID:\t\t\t9901655082978567328\n",
       " \tDecision vector:\t[2.12617e-08, 3.29143e-09]\n",
       " \tFitness vector:\t\t[9.23706e-14]\n",
       " #66:\n",
       " \tID:\t\t\t6928199331860439658\n",
       " \tDecision vector:\t[2.12617e-08, 3.29143e-09]\n",
       " \tFitness vector:\t\t[9.23706e-14]\n",
       " #67:\n",
       " \tID:\t\t\t4335178117327608557\n",
       " \tDecision vector:\t[2.12617e-08, 3.29143e-09]\n",
       " \tFitness vector:\t\t[9.23706e-14]\n",
       " #68:\n",
       " \tID:\t\t\t10898607909577865434\n",
       " \tDecision vector:\t[2.12617e-08, 3.29143e-09]\n",
       " \tFitness vector:\t\t[9.23706e-14]\n",
       " #69:\n",
       " \tID:\t\t\t15525459386547006313\n",
       " \tDecision vector:\t[2.12617e-08, 3.29143e-09]\n",
       " \tFitness vector:\t\t[9.23706e-14]\n",
       " #70:\n",
       " \tID:\t\t\t8804518294443752374\n",
       " \tDecision vector:\t[2.12617e-08, 3.29143e-09]\n",
       " \tFitness vector:\t\t[9.23706e-14]\n",
       " #71:\n",
       " \tID:\t\t\t1544769756573396925\n",
       " \tDecision vector:\t[2.12617e-08, 3.29143e-09]\n",
       " \tFitness vector:\t\t[9.23706e-14]\n",
       " #72:\n",
       " \tID:\t\t\t17215277337663244045\n",
       " \tDecision vector:\t[2.12617e-08, 3.29143e-09]\n",
       " \tFitness vector:\t\t[9.23706e-14]\n",
       " #73:\n",
       " \tID:\t\t\t8966567697882271707\n",
       " \tDecision vector:\t[2.12617e-08, 3.29143e-09]\n",
       " \tFitness vector:\t\t[9.23706e-14]\n",
       " #74:\n",
       " \tID:\t\t\t2312497592050510608\n",
       " \tDecision vector:\t[2.12617e-08, 3.29143e-09]\n",
       " \tFitness vector:\t\t[9.23706e-14]\n",
       " #75:\n",
       " \tID:\t\t\t15483079761747996995\n",
       " \tDecision vector:\t[2.12617e-08, 3.29143e-09]\n",
       " \tFitness vector:\t\t[9.23706e-14]\n",
       " #76:\n",
       " \tID:\t\t\t7054120651797810135\n",
       " \tDecision vector:\t[2.12617e-08, 3.29143e-09]\n",
       " \tFitness vector:\t\t[9.23706e-14]\n",
       " #77:\n",
       " \tID:\t\t\t2005054917284423186\n",
       " \tDecision vector:\t[2.12617e-08, 3.29143e-09]\n",
       " \tFitness vector:\t\t[9.23706e-14]\n",
       " #78:\n",
       " \tID:\t\t\t17624142894656024433\n",
       " \tDecision vector:\t[2.12617e-08, 3.29143e-09]\n",
       " \tFitness vector:\t\t[9.23706e-14]\n",
       " #79:\n",
       " \tID:\t\t\t6339230956363130937\n",
       " \tDecision vector:\t[2.12617e-08, 3.29143e-09]\n",
       " \tFitness vector:\t\t[9.23706e-14]\n",
       " #80:\n",
       " \tID:\t\t\t3946860675051063081\n",
       " \tDecision vector:\t[2.12617e-08, 3.29143e-09]\n",
       " \tFitness vector:\t\t[9.23706e-14]\n",
       " #81:\n",
       " \tID:\t\t\t8460774354138544100\n",
       " \tDecision vector:\t[2.12617e-08, 3.29143e-09]\n",
       " \tFitness vector:\t\t[9.23706e-14]\n",
       " #82:\n",
       " \tID:\t\t\t459237382884374416\n",
       " \tDecision vector:\t[2.12617e-08, 3.29143e-09]\n",
       " \tFitness vector:\t\t[9.23706e-14]\n",
       " #83:\n",
       " \tID:\t\t\t4523530400395399803\n",
       " \tDecision vector:\t[2.12617e-08, 3.29143e-09]\n",
       " \tFitness vector:\t\t[9.23706e-14]\n",
       " #84:\n",
       " \tID:\t\t\t12051468203408101324\n",
       " \tDecision vector:\t[2.12617e-08, 3.29143e-09]\n",
       " \tFitness vector:\t\t[9.23706e-14]\n",
       " #85:\n",
       " \tID:\t\t\t6223503400744349375\n",
       " \tDecision vector:\t[2.12617e-08, 3.29143e-09]\n",
       " \tFitness vector:\t\t[9.23706e-14]\n",
       " #86:\n",
       " \tID:\t\t\t397704971183693025\n",
       " \tDecision vector:\t[2.12617e-08, 3.29143e-09]\n",
       " \tFitness vector:\t\t[9.23706e-14]\n",
       " #87:\n",
       " \tID:\t\t\t5025097827683351117\n",
       " \tDecision vector:\t[2.12617e-08, 3.29143e-09]\n",
       " \tFitness vector:\t\t[9.23706e-14]\n",
       " #88:\n",
       " \tID:\t\t\t17736344091763247393\n",
       " \tDecision vector:\t[2.12617e-08, 3.29143e-09]\n",
       " \tFitness vector:\t\t[9.23706e-14]\n",
       " #89:\n",
       " \tID:\t\t\t13143780143580170534\n",
       " \tDecision vector:\t[2.12617e-08, 3.29143e-09]\n",
       " \tFitness vector:\t\t[9.23706e-14]\n",
       " #90:\n",
       " \tID:\t\t\t11312704168777721616\n",
       " \tDecision vector:\t[2.12617e-08, 3.29143e-09]\n",
       " \tFitness vector:\t\t[9.23706e-14]\n",
       " #91:\n",
       " \tID:\t\t\t785718120196505116\n",
       " \tDecision vector:\t[2.12617e-08, 3.29143e-09]\n",
       " \tFitness vector:\t\t[9.23706e-14]\n",
       " #92:\n",
       " \tID:\t\t\t18055394368483603905\n",
       " \tDecision vector:\t[2.12617e-08, 3.29143e-09]\n",
       " \tFitness vector:\t\t[9.23706e-14]\n",
       " #93:\n",
       " \tID:\t\t\t10105756015355935779\n",
       " \tDecision vector:\t[2.12617e-08, 3.29143e-09]\n",
       " \tFitness vector:\t\t[9.23706e-14]\n",
       " #94:\n",
       " \tID:\t\t\t9444456556214811969\n",
       " \tDecision vector:\t[2.12617e-08, 3.29143e-09]\n",
       " \tFitness vector:\t\t[9.23706e-14]\n",
       " #95:\n",
       " \tID:\t\t\t14960565121114444993\n",
       " \tDecision vector:\t[2.12617e-08, 3.29143e-09]\n",
       " \tFitness vector:\t\t[9.23706e-14]\n",
       " #96:\n",
       " \tID:\t\t\t13210592338659723352\n",
       " \tDecision vector:\t[2.12617e-08, 3.29143e-09]\n",
       " \tFitness vector:\t\t[9.23706e-14]\n",
       " #97:\n",
       " \tID:\t\t\t15327125903161815289\n",
       " \tDecision vector:\t[2.12617e-08, 3.29143e-09]\n",
       " \tFitness vector:\t\t[9.23706e-14]\n",
       " #98:\n",
       " \tID:\t\t\t2710934813496980636\n",
       " \tDecision vector:\t[2.12617e-08, 3.29143e-09]\n",
       " \tFitness vector:\t\t[9.23706e-14]\n",
       " #99:\n",
       " \tID:\t\t\t10888205333614501837\n",
       " \tDecision vector:\t[2.12617e-08, 3.29143e-09]\n",
       " \tFitness vector:\t\t[9.23706e-14]\n",
       " \n",
       " Champion decision vector: [2.1583e-08, 2.73215e-09]\n",
       " Champion fitness: [9.23706e-14],\n",
       " [array([-2.73621214e-05,  2.26751928e-04]),\n",
       "  array([2.15829624e-08, 2.73214609e-09])],\n",
       " [array([1.03491459e-05]), array([9.23705556e-14])],\n",
       " [(1, 3.055217234759766e-08, 6.043697453606e-08, 1.3562817002821248e-07),\n",
       "  (3, 4.817479748453479e-11, 1.0632561497914139e-10, 1.2747847222271957e-10),\n",
       "  (5, 9.237055564881302e-14, 1.0658141036401503e-13, 1.4921397450962104e-13)],\n",
       "          Problem           Method Pop_Size Num_Geners Num_Evoluts  \\\n",
       " 0     Himmelblau  pygmo.core.sade      100         10          10   \n",
       " 1  Rastrigin Fun  pygmo.core.sade      100         10           3   \n",
       " 2     Rosenbrock  pygmo.core.sade      100         10          10   \n",
       " 3     Himmelblau   pygmo.core.gwo      100         10          10   \n",
       " 4      Rastrigin   pygmo.core.gwo      100          5           2   \n",
       " \n",
       "                                     Min_Coordinates            Function_Value  \n",
       " 0          [3.0000030217028164, 1.9999978996715322]   [2.858977834867216e-10]  \n",
       " 1     [-0.007027601822826161, 0.004690325973629637]    [0.014160587960809323]  \n",
       " 2              [1.000052967752323, 1.0001041887458]  [3.1116803553227313e-09]  \n",
       " 3           [2.9995545751972155, 2.005062877082653]   [0.0003990115872631824]  \n",
       " 4  [2.1582962408946802e-08, 2.7321460853878126e-09]   [9.237055564881302e-14]  )"
      ]
     },
     "execution_count": 484,
     "metadata": {},
     "output_type": "execute_result"
    }
   ],
   "source": [
    "pop_rast"
   ]
  },
  {
   "cell_type": "code",
   "execution_count": 485,
   "id": "f2dd83b1",
   "metadata": {},
   "outputs": [
    {
     "data": {
      "text/plain": [
       "array([2.15829624e-08, 2.73214609e-09])"
      ]
     },
     "execution_count": 485,
     "metadata": {},
     "output_type": "execute_result"
    }
   ],
   "source": [
    "pop_rast[0].champion_x"
   ]
  },
  {
   "cell_type": "code",
   "execution_count": 486,
   "id": "a2f2afd0",
   "metadata": {},
   "outputs": [
    {
     "data": {
      "text/plain": [
       "array([9.23705556e-14])"
      ]
     },
     "execution_count": 486,
     "metadata": {},
     "output_type": "execute_result"
    }
   ],
   "source": [
    "pop_rast[0].champion_f"
   ]
  },
  {
   "cell_type": "code",
   "execution_count": 487,
   "id": "a68c10af",
   "metadata": {},
   "outputs": [
    {
     "name": "stdout",
     "output_type": "stream",
     "text": [
      "Problem name: <class '__main__.HimmelblauOptimization'>\n",
      "\tGlobal dimension:\t\t\t2\n",
      "\tInteger dimension:\t\t\t0\n",
      "\tFitness dimension:\t\t\t1\n",
      "\tNumber of objectives:\t\t\t1\n",
      "\tEquality constraints dimension:\t\t0\n",
      "\tInequality constraints dimension:\t0\n",
      "\tLower bounds: [-5.12, -5.12]\n",
      "\tUpper bounds: [5.12, 5.12]\n",
      "\tHas batch fitness evaluation: false\n",
      "\n",
      "\tHas gradient: false\n",
      "\tUser implemented gradient sparsity: false\n",
      "\tHas hessians: false\n",
      "\tUser implemented hessians sparsity: false\n",
      "\n",
      "\tFitness evaluations: 0\n",
      "\n",
      "\tThread safety: none\n",
      "\n"
     ]
    }
   ],
   "source": [
    "print(problem_Him)"
   ]
  },
  {
   "cell_type": "markdown",
   "id": "790dc896",
   "metadata": {},
   "source": [
    "### Rosenbrock"
   ]
  },
  {
   "cell_type": "code",
   "execution_count": 488,
   "id": "83674807",
   "metadata": {},
   "outputs": [],
   "source": [
    "pop_rosen = population(problem_Rosen, size=pop_size, seed=current_seed)\n",
    "\n",
    "pop_rosen = few_evols(gwo, pop_rosen)"
   ]
  },
  {
   "cell_type": "code",
   "execution_count": 489,
   "id": "a41b600c",
   "metadata": {},
   "outputs": [
    {
     "data": {
      "text/plain": [
       "array([1.60131646e-05])"
      ]
     },
     "execution_count": 489,
     "metadata": {},
     "output_type": "execute_result"
    }
   ],
   "source": [
    "pop_rosen[0].champion_f"
   ]
  },
  {
   "cell_type": "code",
   "execution_count": 490,
   "id": "a66edc76",
   "metadata": {},
   "outputs": [
    {
     "data": {
      "text/plain": [
       "array([1.00398005, 1.00801746])"
      ]
     },
     "execution_count": 490,
     "metadata": {},
     "output_type": "execute_result"
    }
   ],
   "source": [
    "pop_rosen[0].champion_x"
   ]
  },
  {
   "cell_type": "code",
   "execution_count": 491,
   "id": "d5802cd9",
   "metadata": {},
   "outputs": [
    {
     "data": {
      "text/plain": [
       "[(1, 6.17926123544877e-05, 6.179058011154061e-05, 6.17899027894503e-05),\n",
       " (3, 6.17926123544877e-05, 6.179058011154061e-05, 6.17899027894503e-05),\n",
       " (5, 6.17926123544877e-05, 6.179058011154061e-05, 6.17899027894503e-05),\n",
       " (7, 6.17926123544877e-05, 6.179058011154061e-05, 6.17899027894503e-05),\n",
       " (9, 1.601316463772999e-05, 6.179058011154061e-05, 6.17899027894503e-05)]"
      ]
     },
     "execution_count": 491,
     "metadata": {},
     "output_type": "execute_result"
    }
   ],
   "source": [
    "pop_rosen[3]"
   ]
  },
  {
   "cell_type": "code",
   "execution_count": 492,
   "id": "5f698666",
   "metadata": {},
   "outputs": [
    {
     "data": {
      "text/html": [
       "<div>\n",
       "<style scoped>\n",
       "    .dataframe tbody tr th:only-of-type {\n",
       "        vertical-align: middle;\n",
       "    }\n",
       "\n",
       "    .dataframe tbody tr th {\n",
       "        vertical-align: top;\n",
       "    }\n",
       "\n",
       "    .dataframe thead th {\n",
       "        text-align: right;\n",
       "    }\n",
       "</style>\n",
       "<table border=\"1\" class=\"dataframe\">\n",
       "  <thead>\n",
       "    <tr style=\"text-align: right;\">\n",
       "      <th></th>\n",
       "      <th>Problem</th>\n",
       "      <th>Method</th>\n",
       "      <th>Pop_Size</th>\n",
       "      <th>Num_Geners</th>\n",
       "      <th>Num_Evoluts</th>\n",
       "      <th>Min_Coordinates</th>\n",
       "      <th>Function_Value</th>\n",
       "    </tr>\n",
       "  </thead>\n",
       "  <tbody>\n",
       "    <tr>\n",
       "      <th>0</th>\n",
       "      <td>Himmelblau</td>\n",
       "      <td>pygmo.core.sade</td>\n",
       "      <td>100</td>\n",
       "      <td>10</td>\n",
       "      <td>10</td>\n",
       "      <td>[3.0000030217028164, 1.9999978996715322]</td>\n",
       "      <td>[2.858977834867216e-10]</td>\n",
       "    </tr>\n",
       "    <tr>\n",
       "      <th>1</th>\n",
       "      <td>Rastrigin Fun</td>\n",
       "      <td>pygmo.core.sade</td>\n",
       "      <td>100</td>\n",
       "      <td>10</td>\n",
       "      <td>3</td>\n",
       "      <td>[-0.007027601822826161, 0.004690325973629637]</td>\n",
       "      <td>[0.014160587960809323]</td>\n",
       "    </tr>\n",
       "    <tr>\n",
       "      <th>2</th>\n",
       "      <td>Rosenbrock</td>\n",
       "      <td>pygmo.core.sade</td>\n",
       "      <td>100</td>\n",
       "      <td>10</td>\n",
       "      <td>10</td>\n",
       "      <td>[1.000052967752323, 1.0001041887458]</td>\n",
       "      <td>[3.1116803553227313e-09]</td>\n",
       "    </tr>\n",
       "    <tr>\n",
       "      <th>3</th>\n",
       "      <td>Himmelblau</td>\n",
       "      <td>pygmo.core.gwo</td>\n",
       "      <td>100</td>\n",
       "      <td>10</td>\n",
       "      <td>10</td>\n",
       "      <td>[2.9995545751972155, 2.005062877082653]</td>\n",
       "      <td>[0.0003990115872631824]</td>\n",
       "    </tr>\n",
       "    <tr>\n",
       "      <th>4</th>\n",
       "      <td>Rastrigin</td>\n",
       "      <td>pygmo.core.gwo</td>\n",
       "      <td>100</td>\n",
       "      <td>5</td>\n",
       "      <td>2</td>\n",
       "      <td>[2.1582962408946802e-08, 2.7321460853878126e-09]</td>\n",
       "      <td>[9.237055564881302e-14]</td>\n",
       "    </tr>\n",
       "    <tr>\n",
       "      <th>5</th>\n",
       "      <td>Rosenbrock</td>\n",
       "      <td>pygmo.core.gwo</td>\n",
       "      <td>100</td>\n",
       "      <td>10</td>\n",
       "      <td>10</td>\n",
       "      <td>[1.0039800543656012, 1.0080174624396194]</td>\n",
       "      <td>[1.601316463772999e-05]</td>\n",
       "    </tr>\n",
       "  </tbody>\n",
       "</table>\n",
       "</div>"
      ],
      "text/plain": [
       "         Problem           Method Pop_Size Num_Geners Num_Evoluts  \\\n",
       "0     Himmelblau  pygmo.core.sade      100         10          10   \n",
       "1  Rastrigin Fun  pygmo.core.sade      100         10           3   \n",
       "2     Rosenbrock  pygmo.core.sade      100         10          10   \n",
       "3     Himmelblau   pygmo.core.gwo      100         10          10   \n",
       "4      Rastrigin   pygmo.core.gwo      100          5           2   \n",
       "5     Rosenbrock   pygmo.core.gwo      100         10          10   \n",
       "\n",
       "                                    Min_Coordinates            Function_Value  \n",
       "0          [3.0000030217028164, 1.9999978996715322]   [2.858977834867216e-10]  \n",
       "1     [-0.007027601822826161, 0.004690325973629637]    [0.014160587960809323]  \n",
       "2              [1.000052967752323, 1.0001041887458]  [3.1116803553227313e-09]  \n",
       "3           [2.9995545751972155, 2.005062877082653]   [0.0003990115872631824]  \n",
       "4  [2.1582962408946802e-08, 2.7321460853878126e-09]   [9.237055564881302e-14]  \n",
       "5          [1.0039800543656012, 1.0080174624396194]   [1.601316463772999e-05]  "
      ]
     },
     "execution_count": 492,
     "metadata": {},
     "output_type": "execute_result"
    }
   ],
   "source": [
    "pop_rosen[4]"
   ]
  },
  {
   "cell_type": "markdown",
   "id": "3a2264a7",
   "metadata": {},
   "source": [
    "<a id='gen3'></a>"
   ]
  },
  {
   "cell_type": "markdown",
   "id": "38f62b91",
   "metadata": {},
   "source": [
    "## Extended Ant Colony Optimization algorithm (gaco)\n",
    "сделаю третий, так как интересно как работает, почему бы и нет (:\n",
    "\n",
    "без вспомогательной функции просто посмотрим на результаты"
   ]
  },
  {
   "cell_type": "markdown",
   "id": "1224eda7",
   "metadata": {},
   "source": [
    "### Himmelblau"
   ]
  },
  {
   "cell_type": "code",
   "execution_count": 511,
   "id": "95cbbfef",
   "metadata": {},
   "outputs": [
    {
     "name": "stdout",
     "output_type": "stream",
     "text": [
      "я бля работаю!!!!\n"
     ]
    }
   ],
   "source": [
    "pop_him = population(problem_Him, size=pop_size, seed=current_seed)\n",
    "\n",
    "pop_him = few_evols(gaco, pop_him, 10, 2)"
   ]
  },
  {
   "cell_type": "code",
   "execution_count": 512,
   "id": "3271315b",
   "metadata": {},
   "outputs": [
    {
     "data": {
      "text/plain": [
       "array([2.99999988, 2.00000004])"
      ]
     },
     "execution_count": 512,
     "metadata": {},
     "output_type": "execute_result"
    }
   ],
   "source": [
    "pop_him[0].champion_x"
   ]
  },
  {
   "cell_type": "code",
   "execution_count": 513,
   "id": "382df12e",
   "metadata": {},
   "outputs": [
    {
     "data": {
      "text/plain": [
       "array([4.87947353e-13])"
      ]
     },
     "execution_count": 513,
     "metadata": {},
     "output_type": "execute_result"
    }
   ],
   "source": [
    "pop_him[0].champion_f"
   ]
  },
  {
   "cell_type": "code",
   "execution_count": 514,
   "id": "ff462723",
   "metadata": {},
   "outputs": [
    {
     "data": {
      "text/plain": [
       "[(1,\n",
       "  1000,\n",
       "  0.0019287628954659016,\n",
       "  13,\n",
       "  0.08827037278246659,\n",
       "  0.06403696388562352,\n",
       "  0.051989068863432374),\n",
       " (3,\n",
       "  1200,\n",
       "  0.00023316126232297217,\n",
       "  13,\n",
       "  0.00023316126232297217,\n",
       "  0.011307513520496748,\n",
       "  0.0005815967713786205),\n",
       " (5,\n",
       "  1400,\n",
       "  1.3542413484468594e-06,\n",
       "  13,\n",
       "  2.594980824841773e-05,\n",
       "  0.0037979395017642137,\n",
       "  8.429163708649536e-05),\n",
       " (7,\n",
       "  1600,\n",
       "  2.0968215484494328e-08,\n",
       "  13,\n",
       "  3.5749978086843404e-07,\n",
       "  0.00016852515739418372,\n",
       "  2.1097055407861529e-07),\n",
       " (9,\n",
       "  1800,\n",
       "  7.384089993808844e-11,\n",
       "  13,\n",
       "  1.6068217309250207e-09,\n",
       "  3.451292598821709e-06,\n",
       "  5.569359054689037e-10)]"
      ]
     },
     "execution_count": 514,
     "metadata": {},
     "output_type": "execute_result"
    }
   ],
   "source": [
    "pop_him[3]"
   ]
  },
  {
   "cell_type": "code",
   "execution_count": 498,
   "id": "6e28bb10",
   "metadata": {},
   "outputs": [
    {
     "data": {
      "text/html": [
       "<div>\n",
       "<style scoped>\n",
       "    .dataframe tbody tr th:only-of-type {\n",
       "        vertical-align: middle;\n",
       "    }\n",
       "\n",
       "    .dataframe tbody tr th {\n",
       "        vertical-align: top;\n",
       "    }\n",
       "\n",
       "    .dataframe thead th {\n",
       "        text-align: right;\n",
       "    }\n",
       "</style>\n",
       "<table border=\"1\" class=\"dataframe\">\n",
       "  <thead>\n",
       "    <tr style=\"text-align: right;\">\n",
       "      <th></th>\n",
       "      <th>Problem</th>\n",
       "      <th>Method</th>\n",
       "      <th>Pop_Size</th>\n",
       "      <th>Num_Geners</th>\n",
       "      <th>Num_Evoluts</th>\n",
       "      <th>Min_Coordinates</th>\n",
       "      <th>Function_Value</th>\n",
       "    </tr>\n",
       "  </thead>\n",
       "  <tbody>\n",
       "    <tr>\n",
       "      <th>0</th>\n",
       "      <td>Himmelblau</td>\n",
       "      <td>pygmo.core.sade</td>\n",
       "      <td>100</td>\n",
       "      <td>10</td>\n",
       "      <td>10</td>\n",
       "      <td>[3.0000030217028164, 1.9999978996715322]</td>\n",
       "      <td>[2.858977834867216e-10]</td>\n",
       "    </tr>\n",
       "    <tr>\n",
       "      <th>1</th>\n",
       "      <td>Rastrigin Fun</td>\n",
       "      <td>pygmo.core.sade</td>\n",
       "      <td>100</td>\n",
       "      <td>10</td>\n",
       "      <td>3</td>\n",
       "      <td>[-0.007027601822826161, 0.004690325973629637]</td>\n",
       "      <td>[0.014160587960809323]</td>\n",
       "    </tr>\n",
       "    <tr>\n",
       "      <th>2</th>\n",
       "      <td>Rosenbrock</td>\n",
       "      <td>pygmo.core.sade</td>\n",
       "      <td>100</td>\n",
       "      <td>10</td>\n",
       "      <td>10</td>\n",
       "      <td>[1.000052967752323, 1.0001041887458]</td>\n",
       "      <td>[3.1116803553227313e-09]</td>\n",
       "    </tr>\n",
       "    <tr>\n",
       "      <th>3</th>\n",
       "      <td>Himmelblau</td>\n",
       "      <td>pygmo.core.gwo</td>\n",
       "      <td>100</td>\n",
       "      <td>10</td>\n",
       "      <td>10</td>\n",
       "      <td>[2.9995545751972155, 2.005062877082653]</td>\n",
       "      <td>[0.0003990115872631824]</td>\n",
       "    </tr>\n",
       "    <tr>\n",
       "      <th>4</th>\n",
       "      <td>Rastrigin</td>\n",
       "      <td>pygmo.core.gwo</td>\n",
       "      <td>100</td>\n",
       "      <td>5</td>\n",
       "      <td>2</td>\n",
       "      <td>[2.1582962408946802e-08, 2.7321460853878126e-09]</td>\n",
       "      <td>[9.237055564881302e-14]</td>\n",
       "    </tr>\n",
       "    <tr>\n",
       "      <th>5</th>\n",
       "      <td>Rosenbrock</td>\n",
       "      <td>pygmo.core.gwo</td>\n",
       "      <td>100</td>\n",
       "      <td>10</td>\n",
       "      <td>10</td>\n",
       "      <td>[1.0039800543656012, 1.0080174624396194]</td>\n",
       "      <td>[1.601316463772999e-05]</td>\n",
       "    </tr>\n",
       "    <tr>\n",
       "      <th>6</th>\n",
       "      <td>Himmelblau</td>\n",
       "      <td>pygmo.core.gaco</td>\n",
       "      <td>100</td>\n",
       "      <td>10</td>\n",
       "      <td>2</td>\n",
       "      <td>[2.9999998776952315, 2.0000000355835263]</td>\n",
       "      <td>[4.879473530775598e-13]</td>\n",
       "    </tr>\n",
       "  </tbody>\n",
       "</table>\n",
       "</div>"
      ],
      "text/plain": [
       "         Problem           Method Pop_Size Num_Geners Num_Evoluts  \\\n",
       "0     Himmelblau  pygmo.core.sade      100         10          10   \n",
       "1  Rastrigin Fun  pygmo.core.sade      100         10           3   \n",
       "2     Rosenbrock  pygmo.core.sade      100         10          10   \n",
       "3     Himmelblau   pygmo.core.gwo      100         10          10   \n",
       "4      Rastrigin   pygmo.core.gwo      100          5           2   \n",
       "5     Rosenbrock   pygmo.core.gwo      100         10          10   \n",
       "6     Himmelblau  pygmo.core.gaco      100         10           2   \n",
       "\n",
       "                                    Min_Coordinates            Function_Value  \n",
       "0          [3.0000030217028164, 1.9999978996715322]   [2.858977834867216e-10]  \n",
       "1     [-0.007027601822826161, 0.004690325973629637]    [0.014160587960809323]  \n",
       "2              [1.000052967752323, 1.0001041887458]  [3.1116803553227313e-09]  \n",
       "3           [2.9995545751972155, 2.005062877082653]   [0.0003990115872631824]  \n",
       "4  [2.1582962408946802e-08, 2.7321460853878126e-09]   [9.237055564881302e-14]  \n",
       "5          [1.0039800543656012, 1.0080174624396194]   [1.601316463772999e-05]  \n",
       "6          [2.9999998776952315, 2.0000000355835263]   [4.879473530775598e-13]  "
      ]
     },
     "execution_count": 498,
     "metadata": {},
     "output_type": "execute_result"
    }
   ],
   "source": [
    "pop_him[4]"
   ]
  },
  {
   "cell_type": "markdown",
   "id": "2ae8a949",
   "metadata": {},
   "source": [
    "### Rastrigin"
   ]
  },
  {
   "cell_type": "code",
   "execution_count": 536,
   "id": "8782ede8",
   "metadata": {},
   "outputs": [
    {
     "name": "stdout",
     "output_type": "stream",
     "text": [
      "я бля работаю!!!!\n"
     ]
    }
   ],
   "source": [
    "pop_rast = population(problem_Rast, size=pop_size, seed=current_seed)\n",
    "\n",
    "pop_rast = few_evols(gaco, pop_rast, 10, 2)"
   ]
  },
  {
   "cell_type": "code",
   "execution_count": 537,
   "id": "3769c793",
   "metadata": {},
   "outputs": [
    {
     "data": {
      "text/plain": [
       "array([3.85291987e-07])"
      ]
     },
     "execution_count": 537,
     "metadata": {},
     "output_type": "execute_result"
    }
   ],
   "source": [
    "pop_rast[0].champion_f"
   ]
  },
  {
   "cell_type": "code",
   "execution_count": 538,
   "id": "67e6bebd",
   "metadata": {},
   "outputs": [
    {
     "data": {
      "text/plain": [
       "array([-4.29992356e-05,  9.65085977e-06])"
      ]
     },
     "execution_count": 538,
     "metadata": {},
     "output_type": "execute_result"
    }
   ],
   "source": [
    "pop_rast[0].champion_x"
   ]
  },
  {
   "cell_type": "code",
   "execution_count": null,
   "id": "39ae3604",
   "metadata": {},
   "outputs": [],
   "source": []
  },
  {
   "cell_type": "markdown",
   "id": "35c3c305",
   "metadata": {},
   "source": [
    "### Rosenbrock"
   ]
  },
  {
   "cell_type": "code",
   "execution_count": 502,
   "id": "77ea9235",
   "metadata": {},
   "outputs": [],
   "source": [
    "pop_rosen = population(problem_Rosen, size=pop_size, seed=current_seed)\n",
    "\n",
    "pop_rosen = few_evols(gaco, pop_rosen, 10, 2)"
   ]
  },
  {
   "cell_type": "code",
   "execution_count": 503,
   "id": "19450d32",
   "metadata": {},
   "outputs": [
    {
     "data": {
      "text/plain": [
       "array([0.99952316, 0.99902588])"
      ]
     },
     "execution_count": 503,
     "metadata": {},
     "output_type": "execute_result"
    }
   ],
   "source": [
    "pop_rosen[0].champion_x"
   ]
  },
  {
   "cell_type": "code",
   "execution_count": 504,
   "id": "fc33d359",
   "metadata": {},
   "outputs": [
    {
     "data": {
      "text/plain": [
       "array([2.70071599e-07])"
      ]
     },
     "execution_count": 504,
     "metadata": {},
     "output_type": "execute_result"
    }
   ],
   "source": [
    "pop_rosen[0].champion_f"
   ]
  },
  {
   "cell_type": "code",
   "execution_count": 539,
   "id": "7f16f513",
   "metadata": {},
   "outputs": [
    {
     "data": {
      "text/html": [
       "<div>\n",
       "<style scoped>\n",
       "    .dataframe tbody tr th:only-of-type {\n",
       "        vertical-align: middle;\n",
       "    }\n",
       "\n",
       "    .dataframe tbody tr th {\n",
       "        vertical-align: top;\n",
       "    }\n",
       "\n",
       "    .dataframe thead th {\n",
       "        text-align: right;\n",
       "    }\n",
       "</style>\n",
       "<table border=\"1\" class=\"dataframe\">\n",
       "  <thead>\n",
       "    <tr style=\"text-align: right;\">\n",
       "      <th></th>\n",
       "      <th>Problem</th>\n",
       "      <th>Method</th>\n",
       "      <th>Pop_Size</th>\n",
       "      <th>Num_Geners</th>\n",
       "      <th>Num_Evoluts</th>\n",
       "      <th>Min_Coordinates</th>\n",
       "      <th>Function_Value</th>\n",
       "    </tr>\n",
       "  </thead>\n",
       "  <tbody>\n",
       "    <tr>\n",
       "      <th>0</th>\n",
       "      <td>Himmelblau</td>\n",
       "      <td>pygmo.core.sade</td>\n",
       "      <td>100</td>\n",
       "      <td>10</td>\n",
       "      <td>10</td>\n",
       "      <td>[3.0000030217028164, 1.9999978996715322]</td>\n",
       "      <td>[2.858977834867216e-10]</td>\n",
       "    </tr>\n",
       "    <tr>\n",
       "      <th>1</th>\n",
       "      <td>Rastrigin Fun</td>\n",
       "      <td>pygmo.core.sade</td>\n",
       "      <td>100</td>\n",
       "      <td>10</td>\n",
       "      <td>3</td>\n",
       "      <td>[-0.007027601822826161, 0.004690325973629637]</td>\n",
       "      <td>[0.014160587960809323]</td>\n",
       "    </tr>\n",
       "    <tr>\n",
       "      <th>2</th>\n",
       "      <td>Rosenbrock</td>\n",
       "      <td>pygmo.core.sade</td>\n",
       "      <td>100</td>\n",
       "      <td>10</td>\n",
       "      <td>10</td>\n",
       "      <td>[1.000052967752323, 1.0001041887458]</td>\n",
       "      <td>[3.1116803553227313e-09]</td>\n",
       "    </tr>\n",
       "    <tr>\n",
       "      <th>3</th>\n",
       "      <td>Himmelblau</td>\n",
       "      <td>pygmo.core.gwo</td>\n",
       "      <td>100</td>\n",
       "      <td>10</td>\n",
       "      <td>10</td>\n",
       "      <td>[2.9995545751972155, 2.005062877082653]</td>\n",
       "      <td>[0.0003990115872631824]</td>\n",
       "    </tr>\n",
       "    <tr>\n",
       "      <th>4</th>\n",
       "      <td>Rastrigin</td>\n",
       "      <td>pygmo.core.gwo</td>\n",
       "      <td>100</td>\n",
       "      <td>5</td>\n",
       "      <td>2</td>\n",
       "      <td>[2.1582962408946802e-08, 2.7321460853878126e-09]</td>\n",
       "      <td>[9.237055564881302e-14]</td>\n",
       "    </tr>\n",
       "    <tr>\n",
       "      <th>5</th>\n",
       "      <td>Rosenbrock</td>\n",
       "      <td>pygmo.core.gwo</td>\n",
       "      <td>100</td>\n",
       "      <td>10</td>\n",
       "      <td>10</td>\n",
       "      <td>[1.0039800543656012, 1.0080174624396194]</td>\n",
       "      <td>[1.601316463772999e-05]</td>\n",
       "    </tr>\n",
       "    <tr>\n",
       "      <th>6</th>\n",
       "      <td>Himmelblau</td>\n",
       "      <td>pygmo.core.gaco</td>\n",
       "      <td>100</td>\n",
       "      <td>10</td>\n",
       "      <td>2</td>\n",
       "      <td>[2.9999998776952315, 2.0000000355835263]</td>\n",
       "      <td>[4.879473530775598e-13]</td>\n",
       "    </tr>\n",
       "    <tr>\n",
       "      <th>7</th>\n",
       "      <td>Rastrigin</td>\n",
       "      <td>pygmo.core.gaco</td>\n",
       "      <td>100</td>\n",
       "      <td>10</td>\n",
       "      <td>1</td>\n",
       "      <td>[0.05023098954377425, -0.05007181550370698]</td>\n",
       "      <td>[0.9897902925446473]</td>\n",
       "    </tr>\n",
       "    <tr>\n",
       "      <th>8</th>\n",
       "      <td>Rosenbrock</td>\n",
       "      <td>pygmo.core.gaco</td>\n",
       "      <td>100</td>\n",
       "      <td>10</td>\n",
       "      <td>2</td>\n",
       "      <td>[0.9995231566008388, 0.9990258785456937]</td>\n",
       "      <td>[2.700715988836341e-07]</td>\n",
       "    </tr>\n",
       "    <tr>\n",
       "      <th>9</th>\n",
       "      <td>Rastrigin</td>\n",
       "      <td>pygmo.core.gaco</td>\n",
       "      <td>100</td>\n",
       "      <td>10</td>\n",
       "      <td>1</td>\n",
       "      <td>[0.05023098954377425, -0.05007181550370698]</td>\n",
       "      <td>[0.9897902925446473]</td>\n",
       "    </tr>\n",
       "    <tr>\n",
       "      <th>10</th>\n",
       "      <td>Himmelblau</td>\n",
       "      <td>pygmo.core.gaco</td>\n",
       "      <td>100</td>\n",
       "      <td>10</td>\n",
       "      <td>2</td>\n",
       "      <td>[2.9999998776952315, 2.0000000355835263]</td>\n",
       "      <td>[4.879473530775598e-13]</td>\n",
       "    </tr>\n",
       "    <tr>\n",
       "      <th>11</th>\n",
       "      <td>Rastrigin</td>\n",
       "      <td>pygmo.core.gaco</td>\n",
       "      <td>100</td>\n",
       "      <td>10</td>\n",
       "      <td>1</td>\n",
       "      <td>[0.05023098954377425, -0.05007181550370698]</td>\n",
       "      <td>[0.9897902925446473]</td>\n",
       "    </tr>\n",
       "    <tr>\n",
       "      <th>12</th>\n",
       "      <td>Rastrigin</td>\n",
       "      <td>pygmo.core.gaco</td>\n",
       "      <td>100</td>\n",
       "      <td>5</td>\n",
       "      <td>1</td>\n",
       "      <td>[0.05023098954377425, -0.05007181550370698]</td>\n",
       "      <td>[0.9897902925446473]</td>\n",
       "    </tr>\n",
       "    <tr>\n",
       "      <th>13</th>\n",
       "      <td>Rastrigin</td>\n",
       "      <td>pygmo.core.gaco</td>\n",
       "      <td>100</td>\n",
       "      <td>5</td>\n",
       "      <td>2</td>\n",
       "      <td>[-4.299923559240775e-05, 9.650859772201382e-06]</td>\n",
       "      <td>[3.852919867597393e-07]</td>\n",
       "    </tr>\n",
       "    <tr>\n",
       "      <th>14</th>\n",
       "      <td>Rastrigin</td>\n",
       "      <td>pygmo.core.gaco</td>\n",
       "      <td>100</td>\n",
       "      <td>5</td>\n",
       "      <td>1</td>\n",
       "      <td>[0.05023098954377425, -0.05007181550370698]</td>\n",
       "      <td>[0.9897902925446473]</td>\n",
       "    </tr>\n",
       "    <tr>\n",
       "      <th>15</th>\n",
       "      <td>Rastrigin</td>\n",
       "      <td>pygmo.core.gaco</td>\n",
       "      <td>100</td>\n",
       "      <td>10</td>\n",
       "      <td>1</td>\n",
       "      <td>[0.05023098954377425, -0.05007181550370698]</td>\n",
       "      <td>[0.9897902925446473]</td>\n",
       "    </tr>\n",
       "    <tr>\n",
       "      <th>16</th>\n",
       "      <td>Rastrigin</td>\n",
       "      <td>pygmo.core.gaco</td>\n",
       "      <td>100</td>\n",
       "      <td>20</td>\n",
       "      <td>1</td>\n",
       "      <td>[0.05023098954377425, -0.05007181550370698]</td>\n",
       "      <td>[0.9897902925446473]</td>\n",
       "    </tr>\n",
       "    <tr>\n",
       "      <th>17</th>\n",
       "      <td>Rastrigin</td>\n",
       "      <td>pygmo.core.gaco</td>\n",
       "      <td>100</td>\n",
       "      <td>100</td>\n",
       "      <td>1</td>\n",
       "      <td>[0.05023098954377425, -0.05007181550370698]</td>\n",
       "      <td>[0.9897902925446473]</td>\n",
       "    </tr>\n",
       "    <tr>\n",
       "      <th>18</th>\n",
       "      <td>Rastrigin</td>\n",
       "      <td>pygmo.core.gaco</td>\n",
       "      <td>100</td>\n",
       "      <td>10</td>\n",
       "      <td>1</td>\n",
       "      <td>[0.05023098954377425, -0.05007181550370698]</td>\n",
       "      <td>[0.9897902925446473]</td>\n",
       "    </tr>\n",
       "    <tr>\n",
       "      <th>19</th>\n",
       "      <td>Rastrigin</td>\n",
       "      <td>pygmo.core.gaco</td>\n",
       "      <td>100</td>\n",
       "      <td>10</td>\n",
       "      <td>2</td>\n",
       "      <td>[-4.299923559240775e-05, 9.650859772201382e-06]</td>\n",
       "      <td>[3.852919867597393e-07]</td>\n",
       "    </tr>\n",
       "  </tbody>\n",
       "</table>\n",
       "</div>"
      ],
      "text/plain": [
       "          Problem           Method Pop_Size Num_Geners Num_Evoluts  \\\n",
       "0      Himmelblau  pygmo.core.sade      100         10          10   \n",
       "1   Rastrigin Fun  pygmo.core.sade      100         10           3   \n",
       "2      Rosenbrock  pygmo.core.sade      100         10          10   \n",
       "3      Himmelblau   pygmo.core.gwo      100         10          10   \n",
       "4       Rastrigin   pygmo.core.gwo      100          5           2   \n",
       "5      Rosenbrock   pygmo.core.gwo      100         10          10   \n",
       "6      Himmelblau  pygmo.core.gaco      100         10           2   \n",
       "7       Rastrigin  pygmo.core.gaco      100         10           1   \n",
       "8      Rosenbrock  pygmo.core.gaco      100         10           2   \n",
       "9       Rastrigin  pygmo.core.gaco      100         10           1   \n",
       "10     Himmelblau  pygmo.core.gaco      100         10           2   \n",
       "11      Rastrigin  pygmo.core.gaco      100         10           1   \n",
       "12      Rastrigin  pygmo.core.gaco      100          5           1   \n",
       "13      Rastrigin  pygmo.core.gaco      100          5           2   \n",
       "14      Rastrigin  pygmo.core.gaco      100          5           1   \n",
       "15      Rastrigin  pygmo.core.gaco      100         10           1   \n",
       "16      Rastrigin  pygmo.core.gaco      100         20           1   \n",
       "17      Rastrigin  pygmo.core.gaco      100        100           1   \n",
       "18      Rastrigin  pygmo.core.gaco      100         10           1   \n",
       "19      Rastrigin  pygmo.core.gaco      100         10           2   \n",
       "\n",
       "                                     Min_Coordinates            Function_Value  \n",
       "0           [3.0000030217028164, 1.9999978996715322]   [2.858977834867216e-10]  \n",
       "1      [-0.007027601822826161, 0.004690325973629637]    [0.014160587960809323]  \n",
       "2               [1.000052967752323, 1.0001041887458]  [3.1116803553227313e-09]  \n",
       "3            [2.9995545751972155, 2.005062877082653]   [0.0003990115872631824]  \n",
       "4   [2.1582962408946802e-08, 2.7321460853878126e-09]   [9.237055564881302e-14]  \n",
       "5           [1.0039800543656012, 1.0080174624396194]   [1.601316463772999e-05]  \n",
       "6           [2.9999998776952315, 2.0000000355835263]   [4.879473530775598e-13]  \n",
       "7        [0.05023098954377425, -0.05007181550370698]      [0.9897902925446473]  \n",
       "8           [0.9995231566008388, 0.9990258785456937]   [2.700715988836341e-07]  \n",
       "9        [0.05023098954377425, -0.05007181550370698]      [0.9897902925446473]  \n",
       "10          [2.9999998776952315, 2.0000000355835263]   [4.879473530775598e-13]  \n",
       "11       [0.05023098954377425, -0.05007181550370698]      [0.9897902925446473]  \n",
       "12       [0.05023098954377425, -0.05007181550370698]      [0.9897902925446473]  \n",
       "13   [-4.299923559240775e-05, 9.650859772201382e-06]   [3.852919867597393e-07]  \n",
       "14       [0.05023098954377425, -0.05007181550370698]      [0.9897902925446473]  \n",
       "15       [0.05023098954377425, -0.05007181550370698]      [0.9897902925446473]  \n",
       "16       [0.05023098954377425, -0.05007181550370698]      [0.9897902925446473]  \n",
       "17       [0.05023098954377425, -0.05007181550370698]      [0.9897902925446473]  \n",
       "18       [0.05023098954377425, -0.05007181550370698]      [0.9897902925446473]  \n",
       "19   [-4.299923559240775e-05, 9.650859772201382e-06]   [3.852919867597393e-07]  "
      ]
     },
     "execution_count": 539,
     "metadata": {},
     "output_type": "execute_result"
    }
   ],
   "source": [
    "pop_rosen[4]"
   ]
  },
  {
   "cell_type": "code",
   "execution_count": null,
   "id": "6be44c6f",
   "metadata": {},
   "outputs": [],
   "source": []
  },
  {
   "cell_type": "markdown",
   "id": "da6b0fbe",
   "metadata": {},
   "source": [
    "<a id='gen4m'></a>"
   ]
  },
  {
   "cell_type": "markdown",
   "id": "dd0e8115",
   "metadata": {},
   "source": [
    "## Special Task - Own Defined Optimization Problem"
   ]
  },
  {
   "cell_type": "code",
   "execution_count": null,
   "id": "b3d9bce3",
   "metadata": {},
   "outputs": [],
   "source": []
  },
  {
   "cell_type": "code",
   "execution_count": null,
   "id": "b5d401f4",
   "metadata": {},
   "outputs": [],
   "source": []
  },
  {
   "cell_type": "code",
   "execution_count": null,
   "id": "2c9aa35c",
   "metadata": {},
   "outputs": [],
   "source": []
  }
 ],
 "metadata": {
  "kernelspec": {
   "display_name": "Python 3 (ipykernel)",
   "language": "python",
   "name": "python3"
  },
  "language_info": {
   "codemirror_mode": {
    "name": "ipython",
    "version": 3
   },
   "file_extension": ".py",
   "mimetype": "text/x-python",
   "name": "python",
   "nbconvert_exporter": "python",
   "pygments_lexer": "ipython3",
   "version": "3.7.4"
  },
  "vscode": {
   "interpreter": {
    "hash": "f544ce1a915a9875fad91c894e2c0bcad4b7a79945aa6027ef3ad27810072aa6"
   }
  }
 },
 "nbformat": 4,
 "nbformat_minor": 5
}
